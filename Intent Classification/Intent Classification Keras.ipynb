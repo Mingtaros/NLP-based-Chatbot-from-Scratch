{
 "cells": [
  {
   "cell_type": "markdown",
   "metadata": {
    "id": "cq9_ekc_QASY"
   },
   "source": [
    "# Intent Classification using Keras"
   ]
  },
  {
   "cell_type": "code",
   "execution_count": 1,
   "metadata": {
    "colab": {
     "base_uri": "https://localhost:8080/"
    },
    "id": "H7TFYlPSRMgw",
    "outputId": "7344fa2a-220e-437d-ecc0-f848b36c44fa"
   },
   "outputs": [
    {
     "name": "stderr",
     "output_type": "stream",
     "text": [
      "[nltk_data] Downloading package punkt to C:\\Users\\Leonardo\n",
      "[nltk_data]     W\\AppData\\Roaming\\nltk_data...\n",
      "[nltk_data]   Package punkt is already up-to-date!\n"
     ]
    },
    {
     "data": {
      "text/plain": [
       "True"
      ]
     },
     "execution_count": 1,
     "metadata": {},
     "output_type": "execute_result"
    }
   ],
   "source": [
    "import nltk\n",
    "nltk.download('punkt')"
   ]
  },
  {
   "cell_type": "code",
   "execution_count": 2,
   "metadata": {
    "id": "Or2ggueYLUuU"
   },
   "outputs": [],
   "source": [
    "# Data Processing - Main\n",
    "import numpy as np\n",
    "import pandas as pd\n",
    "import re\n",
    "\n",
    "# Data Processing - Tokenizer and Encoder\n",
    "from tensorflow.keras.preprocessing.text import Tokenizer\n",
    "from tensorflow.keras.preprocessing.sequence import pad_sequences\n",
    "from nltk import word_tokenize\n",
    "from sklearn.preprocessing import OneHotEncoder\n",
    "\n",
    "# Data Processing - Splitting\n",
    "from sklearn.model_selection import train_test_split\n",
    "\n",
    "# Visualization\n",
    "import matplotlib.pyplot as plt\n",
    "import seaborn\n",
    "%matplotlib inline\n",
    "\n",
    "# Machine Learning\n",
    "import tensorflow as tf\n",
    "from tensorflow.keras.models import Sequential\n",
    "from tensorflow.keras.layers import Embedding, Dense, Bidirectional, LSTM, Dropout\n",
    "from tensorflow.compat.v1.keras.layers import CuDNNLSTM\n",
    "\n",
    "# Misc.\n",
    "from datetime import datetime"
   ]
  },
  {
   "cell_type": "code",
   "execution_count": 3,
   "metadata": {
    "colab": {
     "base_uri": "https://localhost:8080/"
    },
    "id": "Oy-lflMILcGK",
    "outputId": "e5c0eadb-4073-4cdd-d632-f708aa1451c4"
   },
   "outputs": [
    {
     "data": {
      "text/plain": [
       "[PhysicalDevice(name='/physical_device:GPU:0', device_type='GPU')]"
      ]
     },
     "execution_count": 3,
     "metadata": {},
     "output_type": "execute_result"
    }
   ],
   "source": [
    "# test gpu availability\n",
    "tf.config.list_physical_devices('GPU')"
   ]
  },
  {
   "cell_type": "code",
   "execution_count": 4,
   "metadata": {
    "colab": {
     "base_uri": "https://localhost:8080/"
    },
    "id": "6_9DysW7IB6R",
    "outputId": "092bf7e6-e5dc-436c-b236-49f7a09f8b76"
   },
   "outputs": [
    {
     "name": "stdout",
     "output_type": "stream",
     "text": [
      "Sat Oct 31 19:19:03 2020       \n",
      "+-----------------------------------------------------------------------------+\n",
      "| NVIDIA-SMI 452.06       Driver Version: 452.06       CUDA Version: 11.0     |\n",
      "|-------------------------------+----------------------+----------------------+\n",
      "| GPU  Name            TCC/WDDM | Bus-Id        Disp.A | Volatile Uncorr. ECC |\n",
      "| Fan  Temp  Perf  Pwr:Usage/Cap|         Memory-Usage | GPU-Util  Compute M. |\n",
      "|===============================+======================+======================|\n",
      "|   0  GeForce GTX 166... WDDM  | 00000000:01:00.0 Off |                  N/A |\n",
      "| N/A   52C    P8     8W /  N/A |    191MiB /  6144MiB |      0%      Default |\n",
      "+-------------------------------+----------------------+----------------------+\n",
      "                                                                               \n",
      "+-----------------------------------------------------------------------------+\n",
      "| Processes:                                                                  |\n",
      "|  GPU   GI   CI        PID   Type   Process name                  GPU Memory |\n",
      "|        ID   ID                                                   Usage      |\n",
      "|=============================================================================|\n",
      "|    0   N/A  N/A      5104    C+G   ...an\\app-7.30.1\\Postman.exe    N/A      |\n",
      "+-----------------------------------------------------------------------------+\n"
     ]
    }
   ],
   "source": [
    "!nvidia-smi"
   ]
  },
  {
   "cell_type": "code",
   "execution_count": 5,
   "metadata": {
    "id": "mvT6mybCMSrR"
   },
   "outputs": [],
   "source": [
    "RANDOM_SEED = 13517048\n",
    "np.random.seed(RANDOM_SEED)"
   ]
  },
  {
   "cell_type": "markdown",
   "metadata": {
    "id": "N1MYop3XQGcX"
   },
   "source": [
    "## Data Cleaning"
   ]
  },
  {
   "cell_type": "code",
   "execution_count": 6,
   "metadata": {
    "colab": {
     "base_uri": "https://localhost:8080/",
     "height": 359
    },
    "id": "NkMo3bXBMziv",
    "outputId": "65d1342d-6b00-4231-aafd-42f0b8221ad4"
   },
   "outputs": [
    {
     "data": {
      "text/html": [
       "<div>\n",
       "<style scoped>\n",
       "    .dataframe tbody tr th:only-of-type {\n",
       "        vertical-align: middle;\n",
       "    }\n",
       "\n",
       "    .dataframe tbody tr th {\n",
       "        vertical-align: top;\n",
       "    }\n",
       "\n",
       "    .dataframe thead th {\n",
       "        text-align: right;\n",
       "    }\n",
       "</style>\n",
       "<table border=\"1\" class=\"dataframe\">\n",
       "  <thead>\n",
       "    <tr style=\"text-align: right;\">\n",
       "      <th></th>\n",
       "      <th>text</th>\n",
       "      <th>intent</th>\n",
       "    </tr>\n",
       "  </thead>\n",
       "  <tbody>\n",
       "    <tr>\n",
       "      <th>0</th>\n",
       "      <td>mau absen 11-14 februari 2020</td>\n",
       "      <td>absence</td>\n",
       "    </tr>\n",
       "    <tr>\n",
       "      <th>1</th>\n",
       "      <td>mau absen 11 - 14 februari 2020</td>\n",
       "      <td>absence</td>\n",
       "    </tr>\n",
       "    <tr>\n",
       "      <th>2</th>\n",
       "      <td>sick leave besok</td>\n",
       "      <td>absence</td>\n",
       "    </tr>\n",
       "    <tr>\n",
       "      <th>3</th>\n",
       "      <td>aku mau absence besok</td>\n",
       "      <td>absence</td>\n",
       "    </tr>\n",
       "    <tr>\n",
       "      <th>4</th>\n",
       "      <td>change working hours besok</td>\n",
       "      <td>absence</td>\n",
       "    </tr>\n",
       "    <tr>\n",
       "      <th>5</th>\n",
       "      <td>change working hour besok</td>\n",
       "      <td>absence</td>\n",
       "    </tr>\n",
       "    <tr>\n",
       "      <th>6</th>\n",
       "      <td>absen besok</td>\n",
       "      <td>absence</td>\n",
       "    </tr>\n",
       "    <tr>\n",
       "      <th>7</th>\n",
       "      <td>change working hours</td>\n",
       "      <td>absence</td>\n",
       "    </tr>\n",
       "    <tr>\n",
       "      <th>8</th>\n",
       "      <td>sick leave</td>\n",
       "      <td>absence</td>\n",
       "    </tr>\n",
       "    <tr>\n",
       "      <th>9</th>\n",
       "      <td>mau absen tanggal 10-11 januari 2012</td>\n",
       "      <td>absence</td>\n",
       "    </tr>\n",
       "  </tbody>\n",
       "</table>\n",
       "</div>"
      ],
      "text/plain": [
       "                                   text   intent\n",
       "0         mau absen 11-14 februari 2020  absence\n",
       "1       mau absen 11 - 14 februari 2020  absence\n",
       "2                      sick leave besok  absence\n",
       "3                 aku mau absence besok  absence\n",
       "4            change working hours besok  absence\n",
       "5             change working hour besok  absence\n",
       "6                           absen besok  absence\n",
       "7                  change working hours  absence\n",
       "8                            sick leave  absence\n",
       "9  mau absen tanggal 10-11 januari 2012  absence"
      ]
     },
     "execution_count": 6,
     "metadata": {},
     "output_type": "execute_result"
    }
   ],
   "source": [
    "data = pd.read_csv(\"nlu.csv\")\n",
    "data.head(10)"
   ]
  },
  {
   "cell_type": "code",
   "execution_count": 7,
   "metadata": {
    "colab": {
     "base_uri": "https://localhost:8080/"
    },
    "id": "GBdUkbOwH6nJ",
    "outputId": "9286c5a7-9f62-4844-a4a7-dd6160921fe3"
   },
   "outputs": [
    {
     "data": {
      "text/plain": [
       "approval_status                        80\n",
       "approval                               57\n",
       "leave_entry                            54\n",
       "approval_ask_parameter                 52\n",
       "absence                                46\n",
       "                                       ..\n",
       "disable_push_notification_ask_type      2\n",
       "enable_push_notification_ask_type       2\n",
       "reimburse_ask_claimed_amount            2\n",
       "default_fallback_intent                 1\n",
       "leave_entry_half_day_ask_start_time     1\n",
       "Name: intent, Length: 103, dtype: int64"
      ]
     },
     "execution_count": 7,
     "metadata": {},
     "output_type": "execute_result"
    }
   ],
   "source": [
    "data['intent'].value_counts()"
   ]
  },
  {
   "cell_type": "markdown",
   "metadata": {
    "id": "iOBrw6JjGIrn"
   },
   "source": [
    "### USE ONLY SOME DATA INTENTS\n",
    "\n",
    "<b>Intents to use:</b>\n",
    "- absence\n",
    "- thankyou\n",
    "- cancel\n",
    "- help"
   ]
  },
  {
   "cell_type": "code",
   "execution_count": 8,
   "metadata": {
    "colab": {
     "base_uri": "https://localhost:8080/",
     "height": 204
    },
    "id": "x8FuqlklGm01",
    "outputId": "f62a2802-247c-4293-8f65-ac830a90a38f"
   },
   "outputs": [
    {
     "data": {
      "text/html": [
       "<div>\n",
       "<style scoped>\n",
       "    .dataframe tbody tr th:only-of-type {\n",
       "        vertical-align: middle;\n",
       "    }\n",
       "\n",
       "    .dataframe tbody tr th {\n",
       "        vertical-align: top;\n",
       "    }\n",
       "\n",
       "    .dataframe thead th {\n",
       "        text-align: right;\n",
       "    }\n",
       "</style>\n",
       "<table border=\"1\" class=\"dataframe\">\n",
       "  <thead>\n",
       "    <tr style=\"text-align: right;\">\n",
       "      <th></th>\n",
       "      <th>text</th>\n",
       "      <th>intent</th>\n",
       "    </tr>\n",
       "  </thead>\n",
       "  <tbody>\n",
       "    <tr>\n",
       "      <th>0</th>\n",
       "      <td>mau absen 11-14 februari 2020</td>\n",
       "      <td>absence</td>\n",
       "    </tr>\n",
       "    <tr>\n",
       "      <th>1</th>\n",
       "      <td>mau absen 11 - 14 februari 2020</td>\n",
       "      <td>absence</td>\n",
       "    </tr>\n",
       "    <tr>\n",
       "      <th>2</th>\n",
       "      <td>sick leave besok</td>\n",
       "      <td>absence</td>\n",
       "    </tr>\n",
       "    <tr>\n",
       "      <th>3</th>\n",
       "      <td>aku mau absence besok</td>\n",
       "      <td>absence</td>\n",
       "    </tr>\n",
       "    <tr>\n",
       "      <th>4</th>\n",
       "      <td>change working hours besok</td>\n",
       "      <td>absence</td>\n",
       "    </tr>\n",
       "  </tbody>\n",
       "</table>\n",
       "</div>"
      ],
      "text/plain": [
       "                              text   intent\n",
       "0    mau absen 11-14 februari 2020  absence\n",
       "1  mau absen 11 - 14 februari 2020  absence\n",
       "2                 sick leave besok  absence\n",
       "3            aku mau absence besok  absence\n",
       "4       change working hours besok  absence"
      ]
     },
     "execution_count": 8,
     "metadata": {},
     "output_type": "execute_result"
    }
   ],
   "source": [
    "data = data[data['intent'].isin(['absence', 'thank_you', 'cancel', 'help', 'default_fallback_intent'])]\n",
    "data.head()"
   ]
  },
  {
   "cell_type": "code",
   "execution_count": 9,
   "metadata": {
    "colab": {
     "base_uri": "https://localhost:8080/"
    },
    "id": "8uJ4z3uIH01o",
    "outputId": "335d912b-41bd-44e5-9aa0-56d93f6f76a7"
   },
   "outputs": [
    {
     "data": {
      "text/plain": [
       "absence                    46\n",
       "cancel                     33\n",
       "thank_you                  22\n",
       "help                       18\n",
       "default_fallback_intent     1\n",
       "Name: intent, dtype: int64"
      ]
     },
     "execution_count": 9,
     "metadata": {},
     "output_type": "execute_result"
    }
   ],
   "source": [
    "data['intent'].value_counts()"
   ]
  },
  {
   "cell_type": "code",
   "execution_count": 10,
   "metadata": {
    "id": "4b23jlRLNF_j"
   },
   "outputs": [],
   "source": [
    "# Clean data:\n",
    "#   - Strip data from special characters\n",
    "#   - Tokenize words\n",
    "#   - Lowercase all word\n",
    "def clean_data(text_data):\n",
    "  words = []\n",
    "  for sentence in text_data:\n",
    "    clean = re.sub(r'[^ a-z A-Z 0-9]', \" \", sentence)\n",
    "    tokenized_words = word_tokenize(clean)\n",
    "\n",
    "    words.append([word.lower() for word in tokenized_words])\n",
    "\n",
    "  return words"
   ]
  },
  {
   "cell_type": "code",
   "execution_count": 11,
   "metadata": {
    "id": "UoEFDLchPDrS"
   },
   "outputs": [],
   "source": [
    "# Get max length of every word in words\n",
    "def get_max_length(words):\n",
    "  return len(max(words, key = len))"
   ]
  },
  {
   "cell_type": "code",
   "execution_count": 12,
   "metadata": {
    "id": "i6KvNcrcPH6S"
   },
   "outputs": [],
   "source": [
    "filters = '!\"#$%&()*+,-./:;<=>?@[\\]^_`{|}~'\n",
    "\n",
    "def create_tokenizer(words):\n",
    "  token = Tokenizer(filters = filters)\n",
    "  token.fit_on_texts(words)\n",
    "  return token"
   ]
  },
  {
   "cell_type": "code",
   "execution_count": 13,
   "metadata": {
    "id": "7m8b5hHwP-3K"
   },
   "outputs": [],
   "source": [
    "def create_train_data(text_data):\n",
    "  # Encoding document\n",
    "  token = create_tokenizer(text_data)\n",
    "  sequences = token.texts_to_sequences(text_data)\n",
    "\n",
    "  max_length = get_max_length(sequences)\n",
    "  return pad_sequences(sequences, maxlen=max_length, padding=\"post\")"
   ]
  },
  {
   "cell_type": "code",
   "execution_count": 14,
   "metadata": {
    "id": "Gice1iwHRhfD"
   },
   "outputs": [],
   "source": [
    "def onehot_encode(data):\n",
    "  encoder = OneHotEncoder(sparse=False)\n",
    "  return encoder.fit_transform(data)"
   ]
  },
  {
   "cell_type": "code",
   "execution_count": 15,
   "metadata": {
    "id": "Rl2lvxuDXOL7"
   },
   "outputs": [],
   "source": [
    "cleaned_data = clean_data(data['text'])"
   ]
  },
  {
   "cell_type": "code",
   "execution_count": 16,
   "metadata": {
    "id": "UFj_E_-qXNWW"
   },
   "outputs": [],
   "source": [
    "tokenizer = create_tokenizer(cleaned_data)\n",
    "MAX_LENGTH = get_max_length(cleaned_data)\n",
    "VOCAB_SIZE = len(tokenizer.word_index) + 1"
   ]
  },
  {
   "cell_type": "code",
   "execution_count": 17,
   "metadata": {
    "id": "D23pwDQgSWla"
   },
   "outputs": [],
   "source": [
    "train_data = create_train_data(cleaned_data)\n",
    "test_data = onehot_encode(data['intent'].values.reshape(-1, 1))\n",
    "\n",
    "x_train, x_val, y_train, y_val = train_test_split(train_data, test_data, test_size = 0.2)"
   ]
  },
  {
   "cell_type": "markdown",
   "metadata": {
    "id": "xOJUTX77S_WG"
   },
   "source": [
    "## Machine Learning Modeling"
   ]
  },
  {
   "cell_type": "code",
   "execution_count": 18,
   "metadata": {
    "id": "C6FtIWWETo5N"
   },
   "outputs": [],
   "source": [
    "model = Sequential()\n",
    "\n",
    "model.add(Embedding(VOCAB_SIZE, 512, input_length=MAX_LENGTH, trainable=False))\n",
    "model.add(Bidirectional(LSTM(512)))\n",
    "\n",
    "model.add(Dense(64, activation = \"relu\"))\n",
    "model.add(Dropout(0.3))\n",
    "\n",
    "model.add(Dense(32, activation = \"relu\"))\n",
    "model.add(Dropout(0.3))\n",
    "\n",
    "model.add(Dense(y_train.shape[1], activation = \"softmax\"))"
   ]
  },
  {
   "cell_type": "code",
   "execution_count": 19,
   "metadata": {
    "colab": {
     "base_uri": "https://localhost:8080/"
    },
    "id": "lN_VqsMkVfL3",
    "outputId": "a0764b58-49ec-4c37-fc1e-226c4e15395a"
   },
   "outputs": [
    {
     "name": "stdout",
     "output_type": "stream",
     "text": [
      "Model: \"sequential\"\n",
      "_________________________________________________________________\n",
      "Layer (type)                 Output Shape              Param #   \n",
      "=================================================================\n",
      "embedding (Embedding)        (None, 10, 512)           60928     \n",
      "_________________________________________________________________\n",
      "bidirectional (Bidirectional (None, 1024)              4198400   \n",
      "_________________________________________________________________\n",
      "dense (Dense)                (None, 64)                65600     \n",
      "_________________________________________________________________\n",
      "dropout (Dropout)            (None, 64)                0         \n",
      "_________________________________________________________________\n",
      "dense_1 (Dense)              (None, 32)                2080      \n",
      "_________________________________________________________________\n",
      "dropout_1 (Dropout)          (None, 32)                0         \n",
      "_________________________________________________________________\n",
      "dense_2 (Dense)              (None, 5)                 165       \n",
      "=================================================================\n",
      "Total params: 4,327,173\n",
      "Trainable params: 4,266,245\n",
      "Non-trainable params: 60,928\n",
      "_________________________________________________________________\n"
     ]
    }
   ],
   "source": [
    "model.compile(\n",
    "    optimizer = 'adam',\n",
    "    loss = 'categorical_crossentropy',\n",
    "    metrics = ['accuracy']\n",
    ")\n",
    "\n",
    "model.summary()"
   ]
  },
  {
   "cell_type": "markdown",
   "metadata": {
    "id": "ZP5ElhpNYq4x"
   },
   "source": [
    "### Model Train"
   ]
  },
  {
   "cell_type": "code",
   "execution_count": 20,
   "metadata": {
    "id": "G3lsazb9Yb6J"
   },
   "outputs": [],
   "source": [
    "# Fit constants\n",
    "\n",
    "EPOCHS = [100]\n",
    "BASIZE = [32]"
   ]
  },
  {
   "cell_type": "code",
   "execution_count": 21,
   "metadata": {
    "colab": {
     "base_uri": "https://localhost:8080/",
     "height": 1000
    },
    "id": "crepStCMWAI5",
    "outputId": "c22349c2-2dd6-4f0d-c810-91333b14b3c1"
   },
   "outputs": [
    {
     "name": "stdout",
     "output_type": "stream",
     "text": [
      "Train on 96 samples, validate on 24 samples\n",
      "Epoch 1/100\n",
      "96/96 [==============================] - 4s 47ms/sample - loss: 1.5697 - accuracy: 0.2917 - val_loss: 1.4446 - val_accuracy: 0.2917\n",
      "Epoch 2/100\n",
      "96/96 [==============================] - 0s 384us/sample - loss: 1.5101 - accuracy: 0.3229 - val_loss: 1.4081 - val_accuracy: 0.2917\n",
      "Epoch 3/100\n",
      "96/96 [==============================] - 0s 375us/sample - loss: 1.4652 - accuracy: 0.2708 - val_loss: 1.4163 - val_accuracy: 0.5417\n",
      "Epoch 4/100\n",
      "96/96 [==============================] - 0s 379us/sample - loss: 1.4263 - accuracy: 0.3438 - val_loss: 1.4130 - val_accuracy: 0.2917\n",
      "Epoch 5/100\n",
      "96/96 [==============================] - 0s 395us/sample - loss: 1.3930 - accuracy: 0.4062 - val_loss: 1.4368 - val_accuracy: 0.2917\n",
      "Epoch 6/100\n",
      "96/96 [==============================] - 0s 386us/sample - loss: 1.3654 - accuracy: 0.3854 - val_loss: 1.2973 - val_accuracy: 0.6250\n",
      "Epoch 7/100\n",
      "96/96 [==============================] - 0s 372us/sample - loss: 1.3268 - accuracy: 0.4375 - val_loss: 1.3019 - val_accuracy: 0.2917\n",
      "Epoch 8/100\n",
      "96/96 [==============================] - 0s 399us/sample - loss: 1.2660 - accuracy: 0.4271 - val_loss: 1.2649 - val_accuracy: 0.2917\n",
      "Epoch 9/100\n",
      "96/96 [==============================] - 0s 392us/sample - loss: 1.0864 - accuracy: 0.5312 - val_loss: 1.0903 - val_accuracy: 0.6250\n",
      "Epoch 10/100\n",
      "96/96 [==============================] - 0s 366us/sample - loss: 1.0544 - accuracy: 0.5625 - val_loss: 1.0492 - val_accuracy: 0.5417\n",
      "Epoch 11/100\n",
      "96/96 [==============================] - 0s 405us/sample - loss: 0.9960 - accuracy: 0.6458 - val_loss: 1.0605 - val_accuracy: 0.5417\n",
      "Epoch 12/100\n",
      "96/96 [==============================] - 0s 371us/sample - loss: 0.8711 - accuracy: 0.6771 - val_loss: 1.0338 - val_accuracy: 0.5417\n",
      "Epoch 13/100\n",
      "96/96 [==============================] - 0s 370us/sample - loss: 0.7633 - accuracy: 0.7396 - val_loss: 0.9483 - val_accuracy: 0.6250\n",
      "Epoch 14/100\n",
      "96/96 [==============================] - 0s 374us/sample - loss: 0.6301 - accuracy: 0.7500 - val_loss: 0.8626 - val_accuracy: 0.7917\n",
      "Epoch 15/100\n",
      "96/96 [==============================] - 0s 376us/sample - loss: 0.5867 - accuracy: 0.7812 - val_loss: 1.0861 - val_accuracy: 0.5833\n",
      "Epoch 16/100\n",
      "96/96 [==============================] - 0s 366us/sample - loss: 0.5956 - accuracy: 0.7812 - val_loss: 0.9565 - val_accuracy: 0.7083\n",
      "Epoch 17/100\n",
      "96/96 [==============================] - 0s 369us/sample - loss: 1.0518 - accuracy: 0.6771 - val_loss: 1.0705 - val_accuracy: 0.7917\n",
      "Epoch 18/100\n",
      "96/96 [==============================] - 0s 390us/sample - loss: 0.6250 - accuracy: 0.7396 - val_loss: 0.8839 - val_accuracy: 0.6667\n",
      "Epoch 19/100\n",
      "96/96 [==============================] - 0s 399us/sample - loss: 0.6545 - accuracy: 0.7188 - val_loss: 0.9897 - val_accuracy: 0.5417\n",
      "Epoch 20/100\n",
      "96/96 [==============================] - 0s 363us/sample - loss: 0.6117 - accuracy: 0.7604 - val_loss: 0.8016 - val_accuracy: 0.6667\n",
      "Epoch 21/100\n",
      "96/96 [==============================] - 0s 363us/sample - loss: 0.6146 - accuracy: 0.7083 - val_loss: 0.8101 - val_accuracy: 0.6250\n",
      "Epoch 22/100\n",
      "96/96 [==============================] - 0s 362us/sample - loss: 0.5617 - accuracy: 0.7292 - val_loss: 0.7629 - val_accuracy: 0.7917\n",
      "Epoch 23/100\n",
      "96/96 [==============================] - 0s 352us/sample - loss: 0.5763 - accuracy: 0.8229 - val_loss: 0.7279 - val_accuracy: 0.6250\n",
      "Epoch 24/100\n",
      "96/96 [==============================] - 0s 365us/sample - loss: 0.4881 - accuracy: 0.7708 - val_loss: 0.6974 - val_accuracy: 0.6250\n",
      "Epoch 25/100\n",
      "96/96 [==============================] - 0s 375us/sample - loss: 0.4924 - accuracy: 0.7604 - val_loss: 0.9496 - val_accuracy: 0.7083\n",
      "Epoch 26/100\n",
      "96/96 [==============================] - 0s 366us/sample - loss: 0.3755 - accuracy: 0.8333 - val_loss: 0.6894 - val_accuracy: 0.6667\n",
      "Epoch 27/100\n",
      "96/96 [==============================] - 0s 364us/sample - loss: 0.4431 - accuracy: 0.8438 - val_loss: 0.6644 - val_accuracy: 0.7500\n",
      "Epoch 28/100\n",
      "96/96 [==============================] - 0s 363us/sample - loss: 0.3370 - accuracy: 0.8750 - val_loss: 0.6006 - val_accuracy: 0.8333\n",
      "Epoch 29/100\n",
      "96/96 [==============================] - 0s 356us/sample - loss: 0.3301 - accuracy: 0.8750 - val_loss: 0.6333 - val_accuracy: 0.7083\n",
      "Epoch 30/100\n",
      "96/96 [==============================] - 0s 353us/sample - loss: 0.3009 - accuracy: 0.8854 - val_loss: 0.5735 - val_accuracy: 0.8333\n",
      "Epoch 31/100\n",
      "96/96 [==============================] - 0s 356us/sample - loss: 0.2258 - accuracy: 0.9479 - val_loss: 0.5603 - val_accuracy: 0.8333\n",
      "Epoch 32/100\n",
      "96/96 [==============================] - 0s 364us/sample - loss: 0.2689 - accuracy: 0.8854 - val_loss: 0.5550 - val_accuracy: 0.8750\n",
      "Epoch 33/100\n",
      "96/96 [==============================] - 0s 367us/sample - loss: 0.2376 - accuracy: 0.9062 - val_loss: 1.1787 - val_accuracy: 0.7917\n",
      "Epoch 34/100\n",
      "96/96 [==============================] - 0s 376us/sample - loss: 0.2815 - accuracy: 0.8750 - val_loss: 0.5448 - val_accuracy: 0.8750\n",
      "Epoch 35/100\n",
      "96/96 [==============================] - 0s 355us/sample - loss: 0.2981 - accuracy: 0.9062 - val_loss: 0.5339 - val_accuracy: 0.8333\n",
      "Epoch 36/100\n",
      "96/96 [==============================] - 0s 353us/sample - loss: 0.1577 - accuracy: 0.9479 - val_loss: 0.6812 - val_accuracy: 0.7917\n",
      "Epoch 37/100\n",
      "96/96 [==============================] - 0s 357us/sample - loss: 0.1135 - accuracy: 0.9792 - val_loss: 1.3582 - val_accuracy: 0.8333\n",
      "Epoch 38/100\n",
      "96/96 [==============================] - 0s 348us/sample - loss: 0.4104 - accuracy: 0.9167 - val_loss: 0.6565 - val_accuracy: 0.8333\n",
      "Epoch 39/100\n",
      "96/96 [==============================] - 0s 354us/sample - loss: 0.0937 - accuracy: 0.9896 - val_loss: 0.5575 - val_accuracy: 0.8750\n",
      "Epoch 40/100\n",
      "96/96 [==============================] - 0s 343us/sample - loss: 0.1236 - accuracy: 0.9375 - val_loss: 0.6376 - val_accuracy: 0.8750\n",
      "Epoch 41/100\n",
      "96/96 [==============================] - 0s 346us/sample - loss: 0.2142 - accuracy: 0.9271 - val_loss: 0.6321 - val_accuracy: 0.8750\n",
      "Epoch 42/100\n",
      "96/96 [==============================] - 0s 362us/sample - loss: 0.1680 - accuracy: 0.9479 - val_loss: 0.5768 - val_accuracy: 0.8750\n",
      "Epoch 43/100\n",
      "96/96 [==============================] - 0s 357us/sample - loss: 0.1277 - accuracy: 0.9479 - val_loss: 0.5849 - val_accuracy: 0.8333\n",
      "Epoch 44/100\n",
      "96/96 [==============================] - 0s 346us/sample - loss: 0.1156 - accuracy: 0.9688 - val_loss: 0.5552 - val_accuracy: 0.8333\n",
      "Epoch 45/100\n",
      "96/96 [==============================] - 0s 338us/sample - loss: 0.0885 - accuracy: 0.9792 - val_loss: 0.5930 - val_accuracy: 0.8333\n",
      "Epoch 46/100\n",
      "96/96 [==============================] - 0s 356us/sample - loss: 0.1283 - accuracy: 0.9583 - val_loss: 0.6466 - val_accuracy: 0.8333\n",
      "Epoch 47/100\n",
      "96/96 [==============================] - 0s 346us/sample - loss: 0.1445 - accuracy: 0.9479 - val_loss: 0.6539 - val_accuracy: 0.8333\n",
      "Epoch 48/100\n",
      "96/96 [==============================] - 0s 346us/sample - loss: 0.0445 - accuracy: 1.0000 - val_loss: 0.6391 - val_accuracy: 0.8333\n",
      "Epoch 49/100\n",
      "96/96 [==============================] - 0s 343us/sample - loss: 0.0554 - accuracy: 1.0000 - val_loss: 0.6616 - val_accuracy: 0.8333\n",
      "Epoch 50/100\n",
      "96/96 [==============================] - 0s 351us/sample - loss: 0.0609 - accuracy: 0.9896 - val_loss: 0.7169 - val_accuracy: 0.8333\n",
      "Epoch 51/100\n",
      "96/96 [==============================] - 0s 357us/sample - loss: 0.0674 - accuracy: 0.9792 - val_loss: 0.7703 - val_accuracy: 0.8333\n",
      "Epoch 52/100\n",
      "96/96 [==============================] - 0s 364us/sample - loss: 0.0743 - accuracy: 0.9896 - val_loss: 0.7968 - val_accuracy: 0.8333\n",
      "Epoch 53/100\n",
      "96/96 [==============================] - 0s 380us/sample - loss: 0.0316 - accuracy: 1.0000 - val_loss: 0.8199 - val_accuracy: 0.8333\n",
      "Epoch 54/100\n",
      "96/96 [==============================] - 0s 350us/sample - loss: 0.0601 - accuracy: 0.9792 - val_loss: 0.8053 - val_accuracy: 0.8333\n",
      "Epoch 55/100\n",
      "96/96 [==============================] - 0s 350us/sample - loss: 0.1151 - accuracy: 0.9688 - val_loss: 0.7610 - val_accuracy: 0.8333\n",
      "Epoch 56/100\n",
      "96/96 [==============================] - 0s 351us/sample - loss: 0.0328 - accuracy: 1.0000 - val_loss: 0.8281 - val_accuracy: 0.8333\n"
     ]
    },
    {
     "name": "stdout",
     "output_type": "stream",
     "text": [
      "Epoch 57/100\n",
      "96/96 [==============================] - 0s 349us/sample - loss: 0.0701 - accuracy: 0.9896 - val_loss: 0.8445 - val_accuracy: 0.8333\n",
      "Epoch 58/100\n",
      "96/96 [==============================] - 0s 349us/sample - loss: 0.0513 - accuracy: 0.9792 - val_loss: 0.8467 - val_accuracy: 0.8333\n",
      "Epoch 59/100\n",
      "96/96 [==============================] - 0s 338us/sample - loss: 0.0452 - accuracy: 1.0000 - val_loss: 0.8637 - val_accuracy: 0.8333\n",
      "Epoch 60/100\n",
      "96/96 [==============================] - 0s 354us/sample - loss: 0.0191 - accuracy: 1.0000 - val_loss: 0.8954 - val_accuracy: 0.8333\n",
      "Epoch 61/100\n",
      "96/96 [==============================] - 0s 338us/sample - loss: 0.0256 - accuracy: 1.0000 - val_loss: 0.9269 - val_accuracy: 0.8333\n",
      "Epoch 62/100\n",
      "96/96 [==============================] - 0s 363us/sample - loss: 0.0480 - accuracy: 0.9792 - val_loss: 0.9712 - val_accuracy: 0.8333\n",
      "Epoch 63/100\n",
      "96/96 [==============================] - 0s 351us/sample - loss: 0.0227 - accuracy: 0.9896 - val_loss: 1.0410 - val_accuracy: 0.8333\n",
      "Epoch 64/100\n",
      "96/96 [==============================] - 0s 343us/sample - loss: 0.0073 - accuracy: 1.0000 - val_loss: 1.1096 - val_accuracy: 0.8333\n",
      "Epoch 65/100\n",
      "96/96 [==============================] - 0s 353us/sample - loss: 0.0361 - accuracy: 1.0000 - val_loss: 1.1673 - val_accuracy: 0.8333\n",
      "Epoch 66/100\n",
      "96/96 [==============================] - 0s 358us/sample - loss: 0.0269 - accuracy: 1.0000 - val_loss: 1.1911 - val_accuracy: 0.8333\n",
      "Epoch 67/100\n",
      "96/96 [==============================] - 0s 360us/sample - loss: 0.0160 - accuracy: 1.0000 - val_loss: 1.1881 - val_accuracy: 0.8333\n",
      "Epoch 68/100\n",
      "96/96 [==============================] - 0s 354us/sample - loss: 0.0267 - accuracy: 0.9896 - val_loss: 1.1239 - val_accuracy: 0.8333\n",
      "Epoch 69/100\n",
      "96/96 [==============================] - 0s 338us/sample - loss: 0.0193 - accuracy: 1.0000 - val_loss: 1.1976 - val_accuracy: 0.8333\n",
      "Epoch 70/100\n",
      "96/96 [==============================] - 0s 348us/sample - loss: 0.0081 - accuracy: 1.0000 - val_loss: 1.3070 - val_accuracy: 0.8333\n",
      "Epoch 71/100\n",
      "96/96 [==============================] - 0s 353us/sample - loss: 0.0088 - accuracy: 1.0000 - val_loss: 1.4147 - val_accuracy: 0.8333\n",
      "Epoch 72/100\n",
      "96/96 [==============================] - 0s 347us/sample - loss: 0.0252 - accuracy: 1.0000 - val_loss: 1.4236 - val_accuracy: 0.8333\n",
      "Epoch 73/100\n",
      "96/96 [==============================] - 0s 355us/sample - loss: 0.0139 - accuracy: 1.0000 - val_loss: 1.3886 - val_accuracy: 0.8333\n",
      "Epoch 74/100\n",
      "96/96 [==============================] - 0s 355us/sample - loss: 0.0138 - accuracy: 1.0000 - val_loss: 1.4028 - val_accuracy: 0.8333\n",
      "Epoch 75/100\n",
      "96/96 [==============================] - 0s 345us/sample - loss: 0.0167 - accuracy: 1.0000 - val_loss: 1.2285 - val_accuracy: 0.8333\n",
      "Epoch 76/100\n",
      "96/96 [==============================] - 0s 344us/sample - loss: 0.0592 - accuracy: 0.9896 - val_loss: 1.4792 - val_accuracy: 0.8333\n",
      "Epoch 77/100\n",
      "96/96 [==============================] - 0s 345us/sample - loss: 0.0286 - accuracy: 0.9896 - val_loss: 1.4435 - val_accuracy: 0.8333\n",
      "Epoch 78/100\n",
      "96/96 [==============================] - 0s 349us/sample - loss: 0.0151 - accuracy: 1.0000 - val_loss: 1.1996 - val_accuracy: 0.8333\n",
      "Epoch 79/100\n",
      "96/96 [==============================] - 0s 353us/sample - loss: 0.0332 - accuracy: 0.9792 - val_loss: 1.1327 - val_accuracy: 0.8333\n",
      "Epoch 80/100\n",
      "96/96 [==============================] - 0s 343us/sample - loss: 0.0216 - accuracy: 1.0000 - val_loss: 1.1315 - val_accuracy: 0.8333\n",
      "Epoch 81/100\n",
      "96/96 [==============================] - 0s 351us/sample - loss: 0.0241 - accuracy: 1.0000 - val_loss: 1.1595 - val_accuracy: 0.8333\n",
      "Epoch 82/100\n",
      "96/96 [==============================] - 0s 358us/sample - loss: 0.0232 - accuracy: 0.9896 - val_loss: 1.2051 - val_accuracy: 0.8333\n",
      "Epoch 83/100\n",
      "96/96 [==============================] - 0s 355us/sample - loss: 0.0215 - accuracy: 0.9896 - val_loss: 1.2677 - val_accuracy: 0.8333\n",
      "Epoch 84/100\n",
      "96/96 [==============================] - 0s 370us/sample - loss: 0.0193 - accuracy: 1.0000 - val_loss: 1.3554 - val_accuracy: 0.8333\n",
      "Epoch 85/100\n",
      "96/96 [==============================] - 0s 350us/sample - loss: 0.0260 - accuracy: 1.0000 - val_loss: 1.4113 - val_accuracy: 0.8333\n",
      "Epoch 86/100\n",
      "96/96 [==============================] - 0s 351us/sample - loss: 0.0145 - accuracy: 1.0000 - val_loss: 1.3529 - val_accuracy: 0.8333\n",
      "Epoch 87/100\n",
      "96/96 [==============================] - 0s 344us/sample - loss: 0.0189 - accuracy: 1.0000 - val_loss: 1.3331 - val_accuracy: 0.8333\n",
      "Epoch 88/100\n",
      "96/96 [==============================] - 0s 376us/sample - loss: 0.0192 - accuracy: 0.9896 - val_loss: 1.3291 - val_accuracy: 0.8333\n",
      "Epoch 89/100\n",
      "96/96 [==============================] - 0s 361us/sample - loss: 0.0254 - accuracy: 0.9896 - val_loss: 1.3471 - val_accuracy: 0.8333\n",
      "Epoch 90/100\n",
      "96/96 [==============================] - 0s 368us/sample - loss: 0.0040 - accuracy: 1.0000 - val_loss: 1.3765 - val_accuracy: 0.8333\n",
      "Epoch 91/100\n",
      "96/96 [==============================] - 0s 368us/sample - loss: 0.0121 - accuracy: 1.0000 - val_loss: 1.4231 - val_accuracy: 0.8333\n",
      "Epoch 92/100\n",
      "96/96 [==============================] - 0s 371us/sample - loss: 0.0025 - accuracy: 1.0000 - val_loss: 1.4846 - val_accuracy: 0.8333\n",
      "Epoch 93/100\n",
      "96/96 [==============================] - 0s 351us/sample - loss: 0.0155 - accuracy: 0.9896 - val_loss: 1.5460 - val_accuracy: 0.8333\n",
      "Epoch 94/100\n",
      "96/96 [==============================] - 0s 350us/sample - loss: 0.0164 - accuracy: 0.9896 - val_loss: 1.6054 - val_accuracy: 0.8333\n",
      "Epoch 95/100\n",
      "96/96 [==============================] - 0s 341us/sample - loss: 0.0270 - accuracy: 0.9896 - val_loss: 1.6459 - val_accuracy: 0.8333\n",
      "Epoch 96/100\n",
      "96/96 [==============================] - 0s 341us/sample - loss: 0.0044 - accuracy: 1.0000 - val_loss: 1.6745 - val_accuracy: 0.8333\n",
      "Epoch 97/100\n",
      "96/96 [==============================] - 0s 355us/sample - loss: 0.0033 - accuracy: 1.0000 - val_loss: 1.6988 - val_accuracy: 0.8333\n",
      "Epoch 98/100\n",
      "96/96 [==============================] - 0s 350us/sample - loss: 0.0123 - accuracy: 1.0000 - val_loss: 1.7391 - val_accuracy: 0.8333\n",
      "Epoch 99/100\n",
      "96/96 [==============================] - 0s 352us/sample - loss: 0.0077 - accuracy: 1.0000 - val_loss: 1.7874 - val_accuracy: 0.8333\n",
      "Epoch 100/100\n",
      "96/96 [==============================] - 0s 353us/sample - loss: 0.0031 - accuracy: 1.0000 - val_loss: 1.8158 - val_accuracy: 0.8333\n"
     ]
    },
    {
     "data": {
      "image/png": "[encoded data removed]",
      "text/plain": [
       "<Figure size 432x288 with 1 Axes>"
      ]
     },
     "metadata": {
      "needs_background": "light"
     },
     "output_type": "display_data"
    }
   ],
   "source": [
    "for ep, bs in zip(EPOCHS, BASIZE):\n",
    "  history = model.fit(x_train, y_train, epochs=ep, batch_size=bs, validation_data=(x_val, y_val))\n",
    "  plt.plot(history.history['accuracy'])\n",
    "  plt.plot(history.history['val_accuracy'])\n",
    "\n",
    "  plt.legend(['accuracy', 'val_accuracy'])\n",
    "  plt.show()"
   ]
  },
  {
   "cell_type": "markdown",
   "metadata": {
    "id": "YALc_iDiXloB"
   },
   "source": [
    "### Model Predict"
   ]
  },
  {
   "cell_type": "code",
   "execution_count": 22,
   "metadata": {
    "id": "bEW5Bh7PZXh7"
   },
   "outputs": [],
   "source": [
    "def padding_doc(encoded_doc, max_length):\n",
    "  return(pad_sequences(encoded_doc, maxlen = max_length, padding = \"post\"))"
   ]
  },
  {
   "cell_type": "code",
   "execution_count": 23,
   "metadata": {
    "id": "Ptxl97vbfgZv"
   },
   "outputs": [],
   "source": [
    "intent_map = {}\n",
    "for intent, onehot_intent in zip(data['intent'].values, test_data):\n",
    "  if (intent not in intent_map):\n",
    "    intent_map[intent] = list(onehot_intent).index(1)"
   ]
  },
  {
   "cell_type": "code",
   "execution_count": 24,
   "metadata": {
    "colab": {
     "base_uri": "https://localhost:8080/"
    },
    "id": "k32WowcDaU_6",
    "outputId": "6c10d252-46fd-454d-da61-8aab61209d48"
   },
   "outputs": [
    {
     "data": {
      "text/plain": [
       "{'absence': 0,\n",
       " 'cancel': 1,\n",
       " 'help': 3,\n",
       " 'default_fallback_intent': 2,\n",
       " 'thank_you': 4}"
      ]
     },
     "execution_count": 24,
     "metadata": {},
     "output_type": "execute_result"
    }
   ],
   "source": [
    "intent_map"
   ]
  },
  {
   "cell_type": "code",
   "execution_count": 25,
   "metadata": {
    "id": "EWGcFKEFYvTC"
   },
   "outputs": [],
   "source": [
    "def predict(text):\n",
    "  # Clean the text first\n",
    "  cleaned_text = re.sub(r'[^ a-z A-Z 0-9]', \" \", text)\n",
    "  test_word = word_tokenize(cleaned_text)\n",
    "  test_word = [w.lower() for w in test_word]\n",
    "  test_ls = tokenizer.texts_to_sequences(test_word)\n",
    "\n",
    "  # Check for unknown words\n",
    "  if [] in test_ls:\n",
    "    test_ls = list(filter(None, test_ls))\n",
    "    \n",
    "  test_ls = np.array(test_ls).reshape(1, len(test_ls))\n",
    "  x = padding_doc(test_ls, MAX_LENGTH)\n",
    "  prediction_result = model.predict(x)\n",
    "  prediction_result = prediction_result[0]\n",
    "\n",
    "  # convert prediction result to intent word\n",
    "  unique_intents = intent_map.keys()\n",
    "\n",
    "  # sort value by intent ranking\n",
    "  intent_ranking = {}\n",
    "  for each_intent in unique_intents:\n",
    "    intent_ranking[each_intent] = prediction_result[intent_map[each_intent]]\n",
    "\n",
    "  sorted_intent_ranking = sorted(intent_ranking.items(), key=lambda kv: kv[1], reverse=True)\n",
    "  print(dict(sorted_intent_ranking))\n",
    "  print(\"Intent Ranking:\")\n",
    "  for each_intent in sorted_intent_ranking:\n",
    "    print(each_intent[0] + \"= \" + str(each_intent[1]) + \" confidence\")\n",
    "\n",
    "  return sorted_intent_ranking"
   ]
  },
  {
   "cell_type": "code",
   "execution_count": 26,
   "metadata": {
    "colab": {
     "base_uri": "https://localhost:8080/"
    },
    "id": "uWHeVaXvZZRP",
    "outputId": "0bbf0cad-8eca-4100-8915-f9ed36892fd6"
   },
   "outputs": [
    {
     "name": "stdout",
     "output_type": "stream",
     "text": [
      "{'cancel': 1.0, 'thank_you': 1.7024137e-08, 'absence': 6.632427e-09, 'help': 6.222023e-10, 'default_fallback_intent': 2.1792367e-11}\n",
      "Intent Ranking:\n",
      "cancel= 1.0 confidence\n",
      "thank_you= 1.7024137e-08 confidence\n",
      "absence= 6.632427e-09 confidence\n",
      "help= 6.222023e-10 confidence\n",
      "default_fallback_intent= 2.1792367e-11 confidence\n"
     ]
    },
    {
     "data": {
      "text/plain": [
       "[('cancel', 1.0),\n",
       " ('thank_you', 1.7024137e-08),\n",
       " ('absence', 6.632427e-09),\n",
       " ('help', 6.222023e-10),\n",
       " ('default_fallback_intent', 2.1792367e-11)]"
      ]
     },
     "execution_count": 26,
     "metadata": {},
     "output_type": "execute_result"
    }
   ],
   "source": [
    "predict(\"gajadi deh, mau makan\")"
   ]
  },
  {
   "cell_type": "markdown",
   "metadata": {
    "id": "Q7lRBeJYu-X8"
   },
   "source": [
    "## Save ML Model\n",
    "\n",
    "To be called in django intent app"
   ]
  },
  {
   "cell_type": "code",
   "execution_count": 35,
   "metadata": {
    "id": "erIn8BYSLNnH"
   },
   "outputs": [],
   "source": [
    "save_path = \"..\\\\Django Backend\\\\NLP\\\\Chatbot\\\\chatbot\\\\ml_helper\\\\model_best\""
   ]
  },
  {
   "cell_type": "code",
   "execution_count": 38,
   "metadata": {
    "colab": {
     "base_uri": "https://localhost:8080/"
    },
    "id": "s9lNPNY8J-Dt",
    "outputId": "6b0325a8-1dc8-4de1-faf5-ea9f0504517e",
    "scrolled": true
   },
   "outputs": [
    {
     "name": "stdout",
     "output_type": "stream",
     "text": [
      "INFO:tensorflow:Assets written to: model_best\\assets\n"
     ]
    }
   ],
   "source": [
    "model.save(\"model_best\")"
   ]
  },
  {
   "cell_type": "code",
   "execution_count": null,
   "metadata": {
    "id": "ZYSvQ697l3iV"
   },
   "outputs": [],
   "source": []
  }
 ],
 "metadata": {
  "accelerator": "GPU",
  "colab": {
   "collapsed_sections": [],
   "name": "Intent Classification Keras.ipynb",
   "provenance": []
  },
  "kernelspec": {
   "display_name": "Python 3",
   "language": "python",
   "name": "python3"
  },
  "language_info": {
   "codemirror_mode": {
    "name": "ipython",
    "version": 3
   },
   "file_extension": ".py",
   "mimetype": "text/x-python",
   "name": "python",
   "nbconvert_exporter": "python",
   "pygments_lexer": "ipython3",
   "version": "3.6.7"
  }
 },
 "nbformat": 4,
 "nbformat_minor": 1
}
