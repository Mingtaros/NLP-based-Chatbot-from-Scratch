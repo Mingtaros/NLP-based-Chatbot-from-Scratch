{
  "nbformat": 4,
  "nbformat_minor": 0,
  "metadata": {
    "colab": {
      "name": "Typo Correction NLP.ipynb",
      "provenance": [],
      "collapsed_sections": [],
      "toc_visible": true
    },
    "kernelspec": {
      "name": "python3",
      "display_name": "Python 3"
    },
    "accelerator": "GPU"
  },
  "cells": [
    {
      "cell_type": "code",
      "metadata": {
        "id": "1CRu5gu_xe8A"
      },
      "source": [
        "import pandas as pd\n",
        "import numpy as np\n",
        "import seaborn as sns\n",
        "import matplotlib.pyplot as plt\n",
        "import re\n",
        "import random"
      ],
      "execution_count": 8,
      "outputs": []
    },
    {
      "cell_type": "markdown",
      "metadata": {
        "id": "IMoy2sUGKb6P"
      },
      "source": [
        "# Dataset Loading"
      ]
    },
    {
      "cell_type": "markdown",
      "metadata": {
        "id": "d5g9rtFXKKz3"
      },
      "source": [
        "Dataset didapatkan dari - https://github.com/kirralabs/Indonesian-Word-Tagged & ditambahkan beberapa kata baru"
      ]
    },
    {
      "cell_type": "code",
      "metadata": {
        "id": "U1pEKjaSRC1p"
      },
      "source": [
        "word_slang = pd.read_csv('word-slang.txt', header=None)"
      ],
      "execution_count": 272,
      "outputs": []
    },
    {
      "cell_type": "code",
      "metadata": {
        "id": "KMisZvGhjiZX",
        "outputId": "ece982b9-a393-47ce-823d-f9691a9ba5fc",
        "colab": {
          "base_uri": "https://localhost:8080/",
          "height": 204
        }
      },
      "source": [
        "word_slang.head()"
      ],
      "execution_count": 273,
      "outputs": [
        {
          "output_type": "execute_result",
          "data": {
            "text/html": [
              "<div>\n",
              "<style scoped>\n",
              "    .dataframe tbody tr th:only-of-type {\n",
              "        vertical-align: middle;\n",
              "    }\n",
              "\n",
              "    .dataframe tbody tr th {\n",
              "        vertical-align: top;\n",
              "    }\n",
              "\n",
              "    .dataframe thead th {\n",
              "        text-align: right;\n",
              "    }\n",
              "</style>\n",
              "<table border=\"1\" class=\"dataframe\">\n",
              "  <thead>\n",
              "    <tr style=\"text-align: right;\">\n",
              "      <th></th>\n",
              "      <th>0</th>\n",
              "      <th>1</th>\n",
              "    </tr>\n",
              "  </thead>\n",
              "  <tbody>\n",
              "    <tr>\n",
              "      <th>0</th>\n",
              "      <td>absen</td>\n",
              "      <td>absen</td>\n",
              "    </tr>\n",
              "    <tr>\n",
              "      <th>1</th>\n",
              "      <td>absn</td>\n",
              "      <td>absen</td>\n",
              "    </tr>\n",
              "    <tr>\n",
              "      <th>2</th>\n",
              "      <td>lusa</td>\n",
              "      <td>lusa</td>\n",
              "    </tr>\n",
              "    <tr>\n",
              "      <th>3</th>\n",
              "      <td>usa</td>\n",
              "      <td>lusa</td>\n",
              "    </tr>\n",
              "    <tr>\n",
              "      <th>4</th>\n",
              "      <td>stu</td>\n",
              "      <td>satu</td>\n",
              "    </tr>\n",
              "  </tbody>\n",
              "</table>\n",
              "</div>"
            ],
            "text/plain": [
              "       0      1\n",
              "0  absen  absen\n",
              "1   absn  absen\n",
              "2   lusa   lusa\n",
              "3    usa   lusa\n",
              "4    stu   satu"
            ]
          },
          "metadata": {
            "tags": []
          },
          "execution_count": 273
        }
      ]
    },
    {
      "cell_type": "markdown",
      "metadata": {
        "id": "SblMQp8_Kd2t"
      },
      "source": [
        "# Dataset Creation"
      ]
    },
    {
      "cell_type": "code",
      "metadata": {
        "id": "LC9m_vrwO8F8"
      },
      "source": [
        "random.seed(13517013)\n",
        "\n",
        "data = []\n",
        "\n",
        "max_typo_len = 0\n",
        "max_real_word_len = 0\n",
        "\n",
        "typo_char = set()\n",
        "real_word_char = set()\n",
        "\n",
        "max_edit = 1\n",
        "max_len = 12\n",
        "min_len = 3\n",
        "\n",
        "real_word_char.add('\\t')\n",
        "real_word_char.add('\\n')"
      ],
      "execution_count": 274,
      "outputs": []
    },
    {
      "cell_type": "code",
      "metadata": {
        "id": "EyWQNxetQM3i"
      },
      "source": [
        "for index in range(len(word_slang)):\n",
        "  slang = word_slang.iloc[index, 0].lower()\n",
        "  arti = word_slang.iloc[index, 1].lower()\n",
        "\n",
        "  if(len(slang) <= max_len and len(arti) <= max_len):\n",
        "    max_typo_len = max(len(slang), max_typo_len)\n",
        "    max_real_word_len = max(len(arti)+2, max_real_word_len)\n",
        "\n",
        "    for char in slang:\n",
        "      if char not in typo_char:\n",
        "        typo_char.add(char)\n",
        "    for char in arti:\n",
        "      if char not in real_word_char:\n",
        "        real_word_char.add(char)\n",
        "    \n",
        "    data.append((slang, '\\t' + arti + '\\n'))"
      ],
      "execution_count": 275,
      "outputs": []
    },
    {
      "cell_type": "code",
      "metadata": {
        "id": "0RPIUlqGX30R"
      },
      "source": [
        "typo_char = sorted(list(typo_char))\n",
        "real_word_char = sorted(list(real_word_char))\n",
        "\n",
        "typo_char_map = dict((c, i) for i, c in enumerate(typo_char))\n",
        "real_word_char_map = dict((c, i) for i, c in enumerate(real_word_char))\n",
        "\n",
        "num_encoder_tokens = len(typo_char)\n",
        "num_decoder_tokens = len(real_word_char)\n",
        "\n",
        "encoder_seq_lengths = max_typo_len\n",
        "decoder_seq_lengths = max_real_word_len"
      ],
      "execution_count": 276,
      "outputs": []
    },
    {
      "cell_type": "code",
      "metadata": {
        "id": "HU1Pwt6_WfvI",
        "outputId": "19697490-0dc8-4143-e5a3-6e5ddf14afbb",
        "colab": {
          "base_uri": "https://localhost:8080/"
        }
      },
      "source": [
        "print('num_encoder_tokens: ', num_encoder_tokens)\n",
        "print('num_decoder_tokens: ', num_decoder_tokens)\n",
        "print('encoder_seq_lengths: ', encoder_seq_lengths)\n",
        "print('decoder_seq_lengths: ', decoder_seq_lengths)"
      ],
      "execution_count": 277,
      "outputs": [
        {
          "output_type": "stream",
          "text": [
            "num_encoder_tokens:  40\n",
            "num_decoder_tokens:  38\n",
            "encoder_seq_lengths:  12\n",
            "decoder_seq_lengths:  14\n"
          ],
          "name": "stdout"
        }
      ]
    },
    {
      "cell_type": "code",
      "metadata": {
        "id": "8U7Mg6OlqbOy",
        "outputId": "fa368371-49e3-450f-d002-690285f6c00a",
        "colab": {
          "base_uri": "https://localhost:8080/"
        }
      },
      "source": [
        "typo_char_map"
      ],
      "execution_count": 278,
      "outputs": [
        {
          "output_type": "execute_result",
          "data": {
            "text/plain": [
              "{' ': 0,\n",
              " '-': 1,\n",
              " '/': 2,\n",
              " '0': 3,\n",
              " '1': 4,\n",
              " '2': 5,\n",
              " '3': 6,\n",
              " '4': 7,\n",
              " '5': 8,\n",
              " '6': 9,\n",
              " '7': 10,\n",
              " '8': 11,\n",
              " '9': 12,\n",
              " '@': 13,\n",
              " 'a': 14,\n",
              " 'b': 15,\n",
              " 'c': 16,\n",
              " 'd': 17,\n",
              " 'e': 18,\n",
              " 'f': 19,\n",
              " 'g': 20,\n",
              " 'h': 21,\n",
              " 'i': 22,\n",
              " 'j': 23,\n",
              " 'k': 24,\n",
              " 'l': 25,\n",
              " 'm': 26,\n",
              " 'n': 27,\n",
              " 'o': 28,\n",
              " 'p': 29,\n",
              " 'q': 30,\n",
              " 'r': 31,\n",
              " 's': 32,\n",
              " 't': 33,\n",
              " 'u': 34,\n",
              " 'v': 35,\n",
              " 'w': 36,\n",
              " 'x': 37,\n",
              " 'y': 38,\n",
              " 'z': 39}"
            ]
          },
          "metadata": {
            "tags": []
          },
          "execution_count": 278
        }
      ]
    },
    {
      "cell_type": "code",
      "metadata": {
        "id": "1gbdKVzAqfxG",
        "outputId": "c108d84a-0018-4d6f-c5da-690db1107660",
        "colab": {
          "base_uri": "https://localhost:8080/"
        }
      },
      "source": [
        "real_word_char_map"
      ],
      "execution_count": 279,
      "outputs": [
        {
          "output_type": "execute_result",
          "data": {
            "text/plain": [
              "{'\\t': 0,\n",
              " '\\n': 1,\n",
              " ' ': 2,\n",
              " '0': 3,\n",
              " '1': 4,\n",
              " '2': 5,\n",
              " '3': 6,\n",
              " '4': 7,\n",
              " '5': 8,\n",
              " '6': 9,\n",
              " '8': 10,\n",
              " '9': 11,\n",
              " 'a': 12,\n",
              " 'b': 13,\n",
              " 'c': 14,\n",
              " 'd': 15,\n",
              " 'e': 16,\n",
              " 'f': 17,\n",
              " 'g': 18,\n",
              " 'h': 19,\n",
              " 'i': 20,\n",
              " 'j': 21,\n",
              " 'k': 22,\n",
              " 'l': 23,\n",
              " 'm': 24,\n",
              " 'n': 25,\n",
              " 'o': 26,\n",
              " 'p': 27,\n",
              " 'q': 28,\n",
              " 'r': 29,\n",
              " 's': 30,\n",
              " 't': 31,\n",
              " 'u': 32,\n",
              " 'v': 33,\n",
              " 'w': 34,\n",
              " 'x': 35,\n",
              " 'y': 36,\n",
              " 'z': 37}"
            ]
          },
          "metadata": {
            "tags": []
          },
          "execution_count": 279
        }
      ]
    },
    {
      "cell_type": "code",
      "metadata": {
        "id": "B-doi-0KSejZ"
      },
      "source": [
        "df = pd.DataFrame(data, columns=['Typo', 'RealWord']).drop_duplicates(['Typo'], keep='first')"
      ],
      "execution_count": 280,
      "outputs": []
    },
    {
      "cell_type": "code",
      "metadata": {
        "id": "ngLuWY8_Sqp0",
        "outputId": "66f29a1b-4e9c-4887-baea-c1c0daba5115",
        "colab": {
          "base_uri": "https://localhost:8080/"
        }
      },
      "source": [
        "print(df[:20])"
      ],
      "execution_count": 281,
      "outputs": [
        {
          "output_type": "stream",
          "text": [
            "        Typo      RealWord\n",
            "0      absen     \\tabsen\\n\n",
            "1       absn     \\tabsen\\n\n",
            "2       lusa      \\tlusa\\n\n",
            "3        usa      \\tlusa\\n\n",
            "4        stu      \\tsatu\\n\n",
            "5        dua       \\tdua\\n\n",
            "6       tiga      \\ttiga\\n\n",
            "7        tga      \\ttiga\\n\n",
            "8      empat     \\tempat\\n\n",
            "9       empt     \\tempat\\n\n",
            "10      lima      \\tlima\\n\n",
            "11       ima      \\tlima\\n\n",
            "12      enam      \\tenam\\n\n",
            "13       nam      \\tenam\\n\n",
            "14     tujuh     \\ttujuh\\n\n",
            "15       tjh     \\ttujuh\\n\n",
            "16   delapan   \\tdelapan\\n\n",
            "17      dlpn   \\tdelapan\\n\n",
            "18  sembilan  \\tsembilan\\n\n",
            "19     smbln  \\tsembilan\\n\n"
          ],
          "name": "stdout"
        }
      ]
    },
    {
      "cell_type": "code",
      "metadata": {
        "id": "pm66GOatTtKa",
        "outputId": "c5e75146-18e5-41f9-8d1e-5694f2179d3b",
        "colab": {
          "base_uri": "https://localhost:8080/",
          "height": 173
        }
      },
      "source": [
        "df.describe()"
      ],
      "execution_count": 282,
      "outputs": [
        {
          "output_type": "execute_result",
          "data": {
            "text/html": [
              "<div>\n",
              "<style scoped>\n",
              "    .dataframe tbody tr th:only-of-type {\n",
              "        vertical-align: middle;\n",
              "    }\n",
              "\n",
              "    .dataframe tbody tr th {\n",
              "        vertical-align: top;\n",
              "    }\n",
              "\n",
              "    .dataframe thead th {\n",
              "        text-align: right;\n",
              "    }\n",
              "</style>\n",
              "<table border=\"1\" class=\"dataframe\">\n",
              "  <thead>\n",
              "    <tr style=\"text-align: right;\">\n",
              "      <th></th>\n",
              "      <th>Typo</th>\n",
              "      <th>RealWord</th>\n",
              "    </tr>\n",
              "  </thead>\n",
              "  <tbody>\n",
              "    <tr>\n",
              "      <th>count</th>\n",
              "      <td>13339</td>\n",
              "      <td>13339</td>\n",
              "    </tr>\n",
              "    <tr>\n",
              "      <th>unique</th>\n",
              "      <td>13339</td>\n",
              "      <td>6783</td>\n",
              "    </tr>\n",
              "    <tr>\n",
              "      <th>top</th>\n",
              "      <td>asesoris</td>\n",
              "      <td>\\tbanget\\n</td>\n",
              "    </tr>\n",
              "    <tr>\n",
              "      <th>freq</th>\n",
              "      <td>1</td>\n",
              "      <td>91</td>\n",
              "    </tr>\n",
              "  </tbody>\n",
              "</table>\n",
              "</div>"
            ],
            "text/plain": [
              "            Typo    RealWord\n",
              "count      13339       13339\n",
              "unique     13339        6783\n",
              "top     asesoris  \\tbanget\\n\n",
              "freq           1          91"
            ]
          },
          "metadata": {
            "tags": []
          },
          "execution_count": 282
        }
      ]
    },
    {
      "cell_type": "code",
      "metadata": {
        "id": "bPku9zu9ZF5i"
      },
      "source": [
        "encoder_input_data = np.zeros((len(df), encoder_seq_lengths, num_encoder_tokens), dtype=\"float32\")\n",
        "decoder_input_data = np.zeros((len(df), decoder_seq_lengths, num_decoder_tokens), dtype=\"float32\")\n",
        "decoder_target_data = np.zeros((len(df), decoder_seq_lengths, num_decoder_tokens), dtype=\"float32\")"
      ],
      "execution_count": 283,
      "outputs": []
    },
    {
      "cell_type": "code",
      "metadata": {
        "id": "uDvENb50aO1_",
        "outputId": "605403f7-ec4a-4ff2-bab3-759c320d125f",
        "colab": {
          "base_uri": "https://localhost:8080/"
        }
      },
      "source": [
        "for index in range(len(df)):\n",
        "  if(index % 5000 == 0):\n",
        "    print(index)\n",
        "  for i, char in enumerate(df.iloc[index, 0]):\n",
        "    encoder_input_data[index, i, typo_char_map[char]] = 1.0\n",
        "  # Anggap sisa dari row['Typo'] adalah spasi\n",
        "  encoder_input_data[index, i+1:, typo_char_map[' ']] = 1.0\n",
        "  \n",
        "  for i, char in enumerate(df.iloc[index, 1]):\n",
        "    decoder_input_data[index, i, real_word_char_map[char]] = 1.0\n",
        "    if(i > 0):\n",
        "      decoder_target_data[index, i-1, real_word_char_map[char]] = 1.0\n",
        "  # Anggap sisa dari row['RealWord'] adalah spasi\n",
        "  decoder_input_data[index, i+1:, real_word_char_map[' ']] = 1.0\n",
        "  decoder_target_data[index, i:, real_word_char_map[' ']] = 1.0"
      ],
      "execution_count": 284,
      "outputs": [
        {
          "output_type": "stream",
          "text": [
            "0\n",
            "5000\n",
            "10000\n"
          ],
          "name": "stdout"
        }
      ]
    },
    {
      "cell_type": "markdown",
      "metadata": {
        "id": "2HRO3w3fV3GK"
      },
      "source": [
        "\n",
        "# Training"
      ]
    },
    {
      "cell_type": "code",
      "metadata": {
        "id": "T57y9_UiUuMW"
      },
      "source": [
        "from tensorflow.keras.models import Model\n",
        "from tensorflow.keras.layers import Dense, LSTM, Input, Dropout"
      ],
      "execution_count": 285,
      "outputs": []
    },
    {
      "cell_type": "code",
      "metadata": {
        "id": "iqPfv_TgY1y2"
      },
      "source": [
        "encoder_inputs = Input(shape=(None, num_encoder_tokens))\n",
        "encoder_lstm_1 = LSTM(100, return_sequences=True)\n",
        "encoder_dropout_1 = Dropout(0.4)\n",
        "encoder_lstm_2 = LSTM(100, return_state=True)\n",
        "\n",
        "encoder_outputs, state_h, state_c = encoder_lstm_2(encoder_dropout_1(encoder_lstm_1(encoder_inputs)))\n",
        "\n",
        "encoder_states = [state_h, state_c]\n",
        "\n",
        "decoder_inputs = Input(shape=(None, num_decoder_tokens))\n",
        "\n",
        "decoder_lstm = LSTM(100, return_sequences=True, return_state=True)\n",
        "decoder_outputs, _, _ = decoder_lstm(decoder_inputs, initial_state=encoder_states)\n",
        "decoder_dense = Dense(num_decoder_tokens, activation=\"softmax\")\n",
        "decoder_outputs = decoder_dense(decoder_outputs)\n",
        "\n",
        "model = Model([encoder_inputs, decoder_inputs], decoder_outputs)"
      ],
      "execution_count": 300,
      "outputs": []
    },
    {
      "cell_type": "code",
      "metadata": {
        "id": "5NhkuO_0BCq6",
        "outputId": "6a0219f6-a646-4fb2-d829-5aa2b2ff6fd7",
        "colab": {
          "base_uri": "https://localhost:8080/"
        }
      },
      "source": [
        "model.summary()"
      ],
      "execution_count": 301,
      "outputs": [
        {
          "output_type": "stream",
          "text": [
            "Model: \"functional_102\"\n",
            "__________________________________________________________________________________________________\n",
            "Layer (type)                    Output Shape         Param #     Connected to                     \n",
            "==================================================================================================\n",
            "input_23 (InputLayer)           [(None, None, 40)]   0                                            \n",
            "__________________________________________________________________________________________________\n",
            "lstm_27 (LSTM)                  (None, None, 100)    56400       input_23[0][0]                   \n",
            "__________________________________________________________________________________________________\n",
            "dropout_5 (Dropout)             (None, None, 100)    0           lstm_27[0][0]                    \n",
            "__________________________________________________________________________________________________\n",
            "input_24 (InputLayer)           [(None, None, 38)]   0                                            \n",
            "__________________________________________________________________________________________________\n",
            "lstm_28 (LSTM)                  [(None, 100), (None, 80400       dropout_5[0][0]                  \n",
            "__________________________________________________________________________________________________\n",
            "lstm_29 (LSTM)                  [(None, None, 100),  55600       input_24[0][0]                   \n",
            "                                                                 lstm_28[0][1]                    \n",
            "                                                                 lstm_28[0][2]                    \n",
            "__________________________________________________________________________________________________\n",
            "dense_11 (Dense)                (None, None, 38)     3838        lstm_29[0][0]                    \n",
            "==================================================================================================\n",
            "Total params: 196,238\n",
            "Trainable params: 196,238\n",
            "Non-trainable params: 0\n",
            "__________________________________________________________________________________________________\n"
          ],
          "name": "stdout"
        }
      ]
    },
    {
      "cell_type": "code",
      "metadata": {
        "id": "Tz0lKlumBhrM"
      },
      "source": [
        "model.compile(optimizer=\"rmsprop\", loss=\"categorical_crossentropy\", metrics=[\"accuracy\"])"
      ],
      "execution_count": 302,
      "outputs": []
    },
    {
      "cell_type": "code",
      "metadata": {
        "id": "gZt__9YjBEUZ",
        "outputId": "6e77cc73-77d2-4ab8-8b89-ee84902facf8",
        "colab": {
          "base_uri": "https://localhost:8080/"
        }
      },
      "source": [
        "history = model.fit(\n",
        "    [encoder_input_data, decoder_input_data],\n",
        "    decoder_target_data,\n",
        "    batch_size=32,\n",
        "    epochs=100,\n",
        ")"
      ],
      "execution_count": 303,
      "outputs": [
        {
          "output_type": "stream",
          "text": [
            "Epoch 1/100\n",
            "417/417 [==============================] - 4s 9ms/step - loss: 1.5102 - accuracy: 0.5786\n",
            "Epoch 2/100\n",
            "417/417 [==============================] - 4s 9ms/step - loss: 1.0081 - accuracy: 0.6996\n",
            "Epoch 3/100\n",
            "417/417 [==============================] - 4s 9ms/step - loss: 0.8441 - accuracy: 0.7494\n",
            "Epoch 4/100\n",
            "417/417 [==============================] - 4s 9ms/step - loss: 0.7580 - accuracy: 0.7780\n",
            "Epoch 5/100\n",
            "417/417 [==============================] - 4s 9ms/step - loss: 0.7013 - accuracy: 0.7959\n",
            "Epoch 6/100\n",
            "417/417 [==============================] - 4s 9ms/step - loss: 0.6604 - accuracy: 0.8088\n",
            "Epoch 7/100\n",
            "417/417 [==============================] - 4s 9ms/step - loss: 0.6270 - accuracy: 0.8188\n",
            "Epoch 8/100\n",
            "417/417 [==============================] - 4s 9ms/step - loss: 0.5985 - accuracy: 0.8274\n",
            "Epoch 9/100\n",
            "417/417 [==============================] - 4s 9ms/step - loss: 0.5717 - accuracy: 0.8355\n",
            "Epoch 10/100\n",
            "417/417 [==============================] - 4s 9ms/step - loss: 0.5510 - accuracy: 0.8409\n",
            "Epoch 11/100\n",
            "417/417 [==============================] - 4s 9ms/step - loss: 0.5306 - accuracy: 0.8477\n",
            "Epoch 12/100\n",
            "417/417 [==============================] - 4s 9ms/step - loss: 0.5119 - accuracy: 0.8537\n",
            "Epoch 13/100\n",
            "417/417 [==============================] - 4s 9ms/step - loss: 0.4960 - accuracy: 0.8574\n",
            "Epoch 14/100\n",
            "417/417 [==============================] - 4s 9ms/step - loss: 0.4800 - accuracy: 0.8626\n",
            "Epoch 15/100\n",
            "417/417 [==============================] - 4s 9ms/step - loss: 0.4666 - accuracy: 0.8652\n",
            "Epoch 16/100\n",
            "417/417 [==============================] - 4s 9ms/step - loss: 0.4526 - accuracy: 0.8705\n",
            "Epoch 17/100\n",
            "417/417 [==============================] - 4s 9ms/step - loss: 0.4413 - accuracy: 0.8721\n",
            "Epoch 18/100\n",
            "417/417 [==============================] - 4s 9ms/step - loss: 0.4294 - accuracy: 0.8763\n",
            "Epoch 19/100\n",
            "417/417 [==============================] - 4s 9ms/step - loss: 0.4167 - accuracy: 0.8797\n",
            "Epoch 20/100\n",
            "417/417 [==============================] - 4s 9ms/step - loss: 0.4069 - accuracy: 0.8826\n",
            "Epoch 21/100\n",
            "417/417 [==============================] - 4s 9ms/step - loss: 0.3966 - accuracy: 0.8847\n",
            "Epoch 22/100\n",
            "417/417 [==============================] - 4s 9ms/step - loss: 0.3869 - accuracy: 0.8870\n",
            "Epoch 23/100\n",
            "417/417 [==============================] - 4s 9ms/step - loss: 0.3785 - accuracy: 0.8898\n",
            "Epoch 24/100\n",
            "417/417 [==============================] - 4s 9ms/step - loss: 0.3688 - accuracy: 0.8928\n",
            "Epoch 25/100\n",
            "417/417 [==============================] - 4s 9ms/step - loss: 0.3617 - accuracy: 0.8947\n",
            "Epoch 26/100\n",
            "417/417 [==============================] - 4s 9ms/step - loss: 0.3527 - accuracy: 0.8974\n",
            "Epoch 27/100\n",
            "417/417 [==============================] - 4s 9ms/step - loss: 0.3450 - accuracy: 0.8993\n",
            "Epoch 28/100\n",
            "417/417 [==============================] - 4s 9ms/step - loss: 0.3379 - accuracy: 0.9012\n",
            "Epoch 29/100\n",
            "417/417 [==============================] - 4s 9ms/step - loss: 0.3306 - accuracy: 0.9023\n",
            "Epoch 30/100\n",
            "417/417 [==============================] - 4s 9ms/step - loss: 0.3248 - accuracy: 0.9045\n",
            "Epoch 31/100\n",
            "417/417 [==============================] - 4s 9ms/step - loss: 0.3173 - accuracy: 0.9066\n",
            "Epoch 32/100\n",
            "417/417 [==============================] - 4s 9ms/step - loss: 0.3108 - accuracy: 0.9085\n",
            "Epoch 33/100\n",
            "417/417 [==============================] - 4s 9ms/step - loss: 0.3047 - accuracy: 0.9093\n",
            "Epoch 34/100\n",
            "417/417 [==============================] - 4s 9ms/step - loss: 0.2986 - accuracy: 0.9113\n",
            "Epoch 35/100\n",
            "417/417 [==============================] - 4s 9ms/step - loss: 0.2925 - accuracy: 0.9135\n",
            "Epoch 36/100\n",
            "417/417 [==============================] - 4s 9ms/step - loss: 0.2875 - accuracy: 0.9144\n",
            "Epoch 37/100\n",
            "417/417 [==============================] - 4s 9ms/step - loss: 0.2820 - accuracy: 0.9161\n",
            "Epoch 38/100\n",
            "417/417 [==============================] - 4s 9ms/step - loss: 0.2767 - accuracy: 0.9172\n",
            "Epoch 39/100\n",
            "417/417 [==============================] - 4s 9ms/step - loss: 0.2711 - accuracy: 0.9186\n",
            "Epoch 40/100\n",
            "417/417 [==============================] - 4s 9ms/step - loss: 0.2655 - accuracy: 0.9206\n",
            "Epoch 41/100\n",
            "417/417 [==============================] - 4s 9ms/step - loss: 0.2613 - accuracy: 0.9220\n",
            "Epoch 42/100\n",
            "417/417 [==============================] - 4s 9ms/step - loss: 0.2569 - accuracy: 0.9230\n",
            "Epoch 43/100\n",
            "417/417 [==============================] - 4s 9ms/step - loss: 0.2524 - accuracy: 0.9243\n",
            "Epoch 44/100\n",
            "417/417 [==============================] - 4s 9ms/step - loss: 0.2477 - accuracy: 0.9258\n",
            "Epoch 45/100\n",
            "417/417 [==============================] - 4s 9ms/step - loss: 0.2444 - accuracy: 0.9264\n",
            "Epoch 46/100\n",
            "417/417 [==============================] - 4s 9ms/step - loss: 0.2395 - accuracy: 0.9280\n",
            "Epoch 47/100\n",
            "417/417 [==============================] - 4s 9ms/step - loss: 0.2365 - accuracy: 0.9278\n",
            "Epoch 48/100\n",
            "417/417 [==============================] - 4s 9ms/step - loss: 0.2320 - accuracy: 0.9297\n",
            "Epoch 49/100\n",
            "417/417 [==============================] - 4s 9ms/step - loss: 0.2285 - accuracy: 0.9303\n",
            "Epoch 50/100\n",
            "417/417 [==============================] - 4s 9ms/step - loss: 0.2245 - accuracy: 0.9307\n",
            "Epoch 51/100\n",
            "417/417 [==============================] - 4s 9ms/step - loss: 0.2206 - accuracy: 0.9331\n",
            "Epoch 52/100\n",
            "417/417 [==============================] - 4s 9ms/step - loss: 0.2173 - accuracy: 0.9329\n",
            "Epoch 53/100\n",
            "417/417 [==============================] - 4s 9ms/step - loss: 0.2140 - accuracy: 0.9344\n",
            "Epoch 54/100\n",
            "417/417 [==============================] - 4s 9ms/step - loss: 0.2115 - accuracy: 0.9354\n",
            "Epoch 55/100\n",
            "417/417 [==============================] - 4s 9ms/step - loss: 0.2067 - accuracy: 0.9365\n",
            "Epoch 56/100\n",
            "417/417 [==============================] - 4s 9ms/step - loss: 0.2041 - accuracy: 0.9374\n",
            "Epoch 57/100\n",
            "417/417 [==============================] - 4s 9ms/step - loss: 0.1997 - accuracy: 0.9379\n",
            "Epoch 58/100\n",
            "417/417 [==============================] - 4s 9ms/step - loss: 0.1973 - accuracy: 0.9388\n",
            "Epoch 59/100\n",
            "417/417 [==============================] - 4s 9ms/step - loss: 0.1961 - accuracy: 0.9389\n",
            "Epoch 60/100\n",
            "417/417 [==============================] - 4s 9ms/step - loss: 0.1921 - accuracy: 0.9403\n",
            "Epoch 61/100\n",
            "417/417 [==============================] - 4s 9ms/step - loss: 0.1901 - accuracy: 0.9407\n",
            "Epoch 62/100\n",
            "417/417 [==============================] - 4s 9ms/step - loss: 0.1868 - accuracy: 0.9415\n",
            "Epoch 63/100\n",
            "417/417 [==============================] - 4s 9ms/step - loss: 0.1855 - accuracy: 0.9418\n",
            "Epoch 64/100\n",
            "417/417 [==============================] - 4s 9ms/step - loss: 0.1818 - accuracy: 0.9430\n",
            "Epoch 65/100\n",
            "417/417 [==============================] - 4s 9ms/step - loss: 0.1797 - accuracy: 0.9438\n",
            "Epoch 66/100\n",
            "417/417 [==============================] - 4s 9ms/step - loss: 0.1767 - accuracy: 0.9451\n",
            "Epoch 67/100\n",
            "417/417 [==============================] - 4s 9ms/step - loss: 0.1757 - accuracy: 0.9448\n",
            "Epoch 68/100\n",
            "417/417 [==============================] - 4s 9ms/step - loss: 0.1715 - accuracy: 0.9463\n",
            "Epoch 69/100\n",
            "417/417 [==============================] - 4s 9ms/step - loss: 0.1710 - accuracy: 0.9464\n",
            "Epoch 70/100\n",
            "417/417 [==============================] - 4s 9ms/step - loss: 0.1676 - accuracy: 0.9478\n",
            "Epoch 71/100\n",
            "417/417 [==============================] - 4s 9ms/step - loss: 0.1635 - accuracy: 0.9486\n",
            "Epoch 72/100\n",
            "417/417 [==============================] - 4s 9ms/step - loss: 0.1634 - accuracy: 0.9489\n",
            "Epoch 73/100\n",
            "417/417 [==============================] - 4s 9ms/step - loss: 0.1616 - accuracy: 0.9490\n",
            "Epoch 74/100\n",
            "417/417 [==============================] - 4s 9ms/step - loss: 0.1590 - accuracy: 0.9492\n",
            "Epoch 75/100\n",
            "417/417 [==============================] - 4s 9ms/step - loss: 0.1569 - accuracy: 0.9505\n",
            "Epoch 76/100\n",
            "417/417 [==============================] - 4s 9ms/step - loss: 0.1541 - accuracy: 0.9514\n",
            "Epoch 77/100\n",
            "417/417 [==============================] - 4s 9ms/step - loss: 0.1540 - accuracy: 0.9511\n",
            "Epoch 78/100\n",
            "417/417 [==============================] - 4s 9ms/step - loss: 0.1522 - accuracy: 0.9514\n",
            "Epoch 79/100\n",
            "417/417 [==============================] - 4s 9ms/step - loss: 0.1502 - accuracy: 0.9522\n",
            "Epoch 80/100\n",
            "417/417 [==============================] - 4s 9ms/step - loss: 0.1485 - accuracy: 0.9531\n",
            "Epoch 81/100\n",
            "417/417 [==============================] - 4s 9ms/step - loss: 0.1459 - accuracy: 0.9538\n",
            "Epoch 82/100\n",
            "417/417 [==============================] - 4s 9ms/step - loss: 0.1440 - accuracy: 0.9539\n",
            "Epoch 83/100\n",
            "417/417 [==============================] - 4s 9ms/step - loss: 0.1438 - accuracy: 0.9539\n",
            "Epoch 84/100\n",
            "417/417 [==============================] - 4s 9ms/step - loss: 0.1409 - accuracy: 0.9548\n",
            "Epoch 85/100\n",
            "417/417 [==============================] - 4s 9ms/step - loss: 0.1389 - accuracy: 0.9555\n",
            "Epoch 86/100\n",
            "417/417 [==============================] - 4s 9ms/step - loss: 0.1385 - accuracy: 0.9558\n",
            "Epoch 87/100\n",
            "417/417 [==============================] - 4s 9ms/step - loss: 0.1369 - accuracy: 0.9560\n",
            "Epoch 88/100\n",
            "417/417 [==============================] - 4s 9ms/step - loss: 0.1362 - accuracy: 0.9565\n",
            "Epoch 89/100\n",
            "417/417 [==============================] - 4s 9ms/step - loss: 0.1337 - accuracy: 0.9572\n",
            "Epoch 90/100\n",
            "417/417 [==============================] - 4s 9ms/step - loss: 0.1333 - accuracy: 0.9573\n",
            "Epoch 91/100\n",
            "417/417 [==============================] - 4s 9ms/step - loss: 0.1298 - accuracy: 0.9584\n",
            "Epoch 92/100\n",
            "417/417 [==============================] - 4s 9ms/step - loss: 0.1287 - accuracy: 0.9590\n",
            "Epoch 93/100\n",
            "417/417 [==============================] - 4s 9ms/step - loss: 0.1275 - accuracy: 0.9585\n",
            "Epoch 94/100\n",
            "417/417 [==============================] - 4s 9ms/step - loss: 0.1272 - accuracy: 0.9589\n",
            "Epoch 95/100\n",
            "417/417 [==============================] - 4s 9ms/step - loss: 0.1253 - accuracy: 0.9595\n",
            "Epoch 96/100\n",
            "417/417 [==============================] - 4s 9ms/step - loss: 0.1244 - accuracy: 0.9600\n",
            "Epoch 97/100\n",
            "417/417 [==============================] - 4s 9ms/step - loss: 0.1224 - accuracy: 0.9605\n",
            "Epoch 98/100\n",
            "417/417 [==============================] - 4s 9ms/step - loss: 0.1213 - accuracy: 0.9607\n",
            "Epoch 99/100\n",
            "417/417 [==============================] - 4s 9ms/step - loss: 0.1211 - accuracy: 0.9602\n",
            "Epoch 100/100\n",
            "417/417 [==============================] - 4s 9ms/step - loss: 0.1199 - accuracy: 0.9611\n"
          ],
          "name": "stdout"
        }
      ]
    },
    {
      "cell_type": "code",
      "metadata": {
        "id": "X-_X3GP-cR6h",
        "outputId": "86df5a1b-5df3-4feb-bf4a-9ed13a661eb6",
        "colab": {
          "base_uri": "https://localhost:8080/",
          "height": 265
        }
      },
      "source": [
        "plt.plot(history.history['loss'])\n",
        "plt.plot(history.history['accuracy'])\n",
        "plt.legend(['Loss', 'Acc'])\n",
        "plt.show()"
      ],
      "execution_count": 304,
      "outputs": [
        {
          "output_type": "display_data",
          "data": {
            "image/png": "[encoded data removed]",
            "text/plain": [
              "<Figure size 432x288 with 1 Axes>"
            ]
          },
          "metadata": {
            "tags": [],
            "needs_background": "light"
          }
        }
      ]
    },
    {
      "cell_type": "code",
      "metadata": {
        "id": "ytWwI4WDBiZC",
        "outputId": "2091f670-4518-48cf-bc8a-b094df37fa21",
        "colab": {
          "base_uri": "https://localhost:8080/"
        }
      },
      "source": [
        "model.save('typo-correction')"
      ],
      "execution_count": 313,
      "outputs": [
        {
          "output_type": "stream",
          "text": [
            "INFO:tensorflow:Assets written to: typo-correction/assets\n"
          ],
          "name": "stdout"
        }
      ]
    },
    {
      "cell_type": "code",
      "metadata": {
        "id": "FGi-2Pt8s16z",
        "outputId": "5a191589-63ba-4ff7-e47b-dd759db89727",
        "colab": {
          "base_uri": "https://localhost:8080/"
        }
      },
      "source": [
        "!zip -r typo-correction-ver1.zip typo-correction/"
      ],
      "execution_count": 315,
      "outputs": [
        {
          "output_type": "stream",
          "text": [
            "  adding: typo-correction/ (stored 0%)\n",
            "  adding: typo-correction/saved_model.pb (deflated 90%)\n",
            "  adding: typo-correction/variables/ (stored 0%)\n",
            "  adding: typo-correction/variables/variables.data-00000-of-00001 (deflated 8%)\n",
            "  adding: typo-correction/variables/variables.index (deflated 65%)\n",
            "  adding: typo-correction/assets/ (stored 0%)\n"
          ],
          "name": "stdout"
        }
      ]
    },
    {
      "cell_type": "code",
      "metadata": {
        "id": "bAcSE5a2YE8l"
      },
      "source": [
        "class SpellCheckModule:\n",
        "  def __init__(self, model, typo_char_map, real_word_char_map, num_encoder_tokens, num_decoder_tokens, encoder_seq_lengths, decoder_seq_lengths):\n",
        "    encoder_inputs = model.input[0]  # input_1\n",
        "    encoder_lstm_1 = model.layers[1] # lstm_encoder_1\n",
        "    encoder_dropout = model.layers[2]\n",
        "    encoder_lstm_2 = model.layers[4] # lstm_encoder_2\n",
        "\n",
        "    encoder_lstm_1_out = encoder_dropout(encoder_lstm_1(encoder_inputs))\n",
        "    encoder_lstm_2_out, state_h_enc, state_c_enc = encoder_lstm_2(encoder_lstm_1_out)\n",
        "    encoder_states = [state_h_enc, state_c_enc]\n",
        "    self.encoder_model = Model(encoder_inputs, encoder_states)\n",
        "\n",
        "    decoder_inputs = model.input[1]  # input_2\n",
        "    decoder_state_input_h = Input(shape=(100,), name=\"input_dec_h\")\n",
        "    decoder_state_input_c = Input(shape=(100,), name=\"input_dec_c\")\n",
        "    decoder_states_inputs = [decoder_state_input_h, decoder_state_input_c]\n",
        "    decoder_lstm = model.layers[5]\n",
        "    decoder_outputs, state_h_dec, state_c_dec = decoder_lstm(\n",
        "        decoder_inputs, initial_state=decoder_states_inputs\n",
        "    )\n",
        "    decoder_states = [state_h_dec, state_c_dec]\n",
        "    decoder_dense = model.layers[6]\n",
        "    decoder_outputs = decoder_dense(decoder_outputs)\n",
        "    self.decoder_model = Model(\n",
        "        [decoder_inputs] + decoder_states_inputs, [decoder_outputs] + decoder_states\n",
        "    )\n",
        "\n",
        "    self.typo_char_map = typo_char_map\n",
        "    self.real_word_char_map = real_word_char_map\n",
        "\n",
        "    self.num_encoder_tokens = num_encoder_tokens\n",
        "    self.encoder_seq_lengths = encoder_seq_lengths\n",
        "    self.num_decoder_tokens = num_decoder_tokens\n",
        "    self.decoder_seq_lengths = decoder_seq_lengths\n",
        "    \n",
        "    self.reverse_input_char_index = dict((i, char) for char, i in typo_char_map.items())\n",
        "    self.reverse_target_char_index = dict((i, char) for char, i in real_word_char_map.items())\n",
        "\n",
        "  def _fix_word(self, word_mat):\n",
        "    states_value = self.encoder_model.predict(word_mat)\n",
        "\n",
        "    target_seq = np.zeros((1, 1, self.num_decoder_tokens))\n",
        "    target_seq[0, 0, self.real_word_char_map[\"\\t\"]] = 1.0\n",
        "\n",
        "    stop_condition = False\n",
        "    decoded_sentence = \"\"\n",
        "    while not stop_condition:\n",
        "      output_tokens, h, c = self.decoder_model.predict([target_seq] + states_value)\n",
        "\n",
        "      sampled_token_index = np.argmax(output_tokens[0, -1, :])\n",
        "      sampled_char = self.reverse_target_char_index[sampled_token_index]\n",
        "      decoded_sentence += sampled_char\n",
        "\n",
        "      if sampled_char == \"\\n\" or len(decoded_sentence) > self.decoder_seq_lengths:\n",
        "        stop_condition = True\n",
        "\n",
        "      target_seq = np.zeros((1, 1, self.num_decoder_tokens))\n",
        "      target_seq[0, 0, sampled_token_index] = 1.0\n",
        "\n",
        "      states_value = [h, c]\n",
        "    return decoded_sentence\n",
        "\n",
        "  def fix_sentence(self, sentence):\n",
        "    s = [w.lower() for w in sentence.split(' ')]\n",
        "    input_seq = np.zeros((len(s), self.encoder_seq_lengths, self.num_encoder_tokens), dtype=\"float32\")\n",
        "    pred = []\n",
        "    for w, word in enumerate(s):\n",
        "      if (word.replace('-','').replace('/','').isdigit()):\n",
        "        pred.append(word)\n",
        "      else:\n",
        "        unknown_char = 0\n",
        "        iter = 0\n",
        "        for i, char in enumerate(word):\n",
        "          if (char in self.typo_char_map):\n",
        "            input_seq[w, iter, self.typo_char_map[char]] = 1.0\n",
        "            iter += 1\n",
        "          else:\n",
        "            unknown_char += 1\n",
        "        input_seq[w, iter+1:, self.typo_char_map[' ']] = 1.0\n",
        "        \n",
        "        if (float(unknown_char)/len(word) > 0.5):\n",
        "          pred.append(word)\n",
        "        else:\n",
        "          pred.append(self._fix_word(input_seq[w:w+1])[:-1])\n",
        "    return ' '.join(pred)"
      ],
      "execution_count": 305,
      "outputs": []
    },
    {
      "cell_type": "code",
      "metadata": {
        "id": "DvqR7L5NbI3n"
      },
      "source": [
        "spellChecker = SpellCheckModule(\n",
        "    model,\n",
        "    typo_char_map, real_word_char_map,\n",
        "    num_encoder_tokens, num_decoder_tokens,\n",
        "    encoder_seq_lengths, decoder_seq_lengths\n",
        ")"
      ],
      "execution_count": 306,
      "outputs": []
    },
    {
      "cell_type": "code",
      "metadata": {
        "id": "bI5vsuPRbirB",
        "outputId": "295f8f55-23e3-4d06-bfb1-7a3e2c9f7743",
        "colab": {
          "base_uri": "https://localhost:8080/",
          "height": 35
        }
      },
      "source": [
        "spellChecker.fix_sentence('ak maw cuti bsk')"
      ],
      "execution_count": 307,
      "outputs": [
        {
          "output_type": "execute_result",
          "data": {
            "application/vnd.google.colaboratory.intrinsic+json": {
              "type": "string"
            },
            "text/plain": [
              "'aku mau cuti besok'"
            ]
          },
          "metadata": {
            "tags": []
          },
          "execution_count": 307
        }
      ]
    },
    {
      "cell_type": "code",
      "metadata": {
        "id": "ssfg1VpqhVJX",
        "outputId": "712f3e7d-0ee7-4f43-9998-e8304a7a6ecb",
        "colab": {
          "base_uri": "https://localhost:8080/",
          "height": 35
        }
      },
      "source": [
        "spellChecker.fix_sentence('absen bsk sampe lusa')"
      ],
      "execution_count": 308,
      "outputs": [
        {
          "output_type": "execute_result",
          "data": {
            "application/vnd.google.colaboratory.intrinsic+json": {
              "type": "string"
            },
            "text/plain": [
              "'absen besok sampai lusa'"
            ]
          },
          "metadata": {
            "tags": []
          },
          "execution_count": 308
        }
      ]
    },
    {
      "cell_type": "code",
      "metadata": {
        "id": "fPCRY2Iqhoug",
        "outputId": "0b6962fd-c292-4673-8fba-4aa6810a94b2",
        "colab": {
          "base_uri": "https://localhost:8080/",
          "height": 35
        }
      },
      "source": [
        "spellChecker.fix_sentence('thx y gan')"
      ],
      "execution_count": 309,
      "outputs": [
        {
          "output_type": "execute_result",
          "data": {
            "application/vnd.google.colaboratory.intrinsic+json": {
              "type": "string"
            },
            "text/plain": [
              "'terima kasih iya gang'"
            ]
          },
          "metadata": {
            "tags": []
          },
          "execution_count": 309
        }
      ]
    },
    {
      "cell_type": "code",
      "metadata": {
        "id": "T02tn4Cqiexj",
        "outputId": "f34c8eb5-f79e-4db0-ca34-9561bb0e0ed0",
        "colab": {
          "base_uri": "https://localhost:8080/",
          "height": 35
        }
      },
      "source": [
        "spellChecker.fix_sentence('aku cuti 12-13 nov')"
      ],
      "execution_count": 312,
      "outputs": [
        {
          "output_type": "execute_result",
          "data": {
            "application/vnd.google.colaboratory.intrinsic+json": {
              "type": "string"
            },
            "text/plain": [
              "'aku cuti 12-13 november'"
            ]
          },
          "metadata": {
            "tags": []
          },
          "execution_count": 312
        }
      ]
    },
    {
      "cell_type": "code",
      "metadata": {
        "id": "ryYf9FgoyTQ9"
      },
      "source": [
        "import pickle"
      ],
      "execution_count": 317,
      "outputs": []
    },
    {
      "cell_type": "code",
      "metadata": {
        "id": "soKhQc106Rwk"
      },
      "source": [
        "pickle.dump(\n",
        "    {\n",
        "      'typo_char_map': typo_char_map,\n",
        "      'real_word_char_map': real_word_char_map,\n",
        "      'num_encoder_tokens': num_encoder_tokens,\n",
        "      'num_decoder_tokens': num_decoder_tokens,\n",
        "      'encoder_seq_lengths': encoder_seq_lengths,\n",
        "      'decoder_seq_lengths': decoder_seq_lengths,\n",
        "    }, open('data.json', 'wb')\n",
        ")"
      ],
      "execution_count": 325,
      "outputs": []
    },
    {
      "cell_type": "markdown",
      "metadata": {
        "id": "aJUNtmJq7xy3"
      },
      "source": [
        "# Load Saved model and data"
      ]
    },
    {
      "cell_type": "code",
      "metadata": {
        "id": "EjM1845R7-f2"
      },
      "source": [
        "from tensorflow.keras.models import load_model"
      ],
      "execution_count": 329,
      "outputs": []
    },
    {
      "cell_type": "code",
      "metadata": {
        "id": "Ww1hEW5o6_fs"
      },
      "source": [
        "saved_data = pickle.load(open('data.json', 'rb'))"
      ],
      "execution_count": 328,
      "outputs": []
    },
    {
      "cell_type": "code",
      "metadata": {
        "id": "tDI9oI-Q7nMv"
      },
      "source": [
        "saved_model = load_model('typo-correction')"
      ],
      "execution_count": 330,
      "outputs": []
    },
    {
      "cell_type": "code",
      "metadata": {
        "id": "XnnbvDeQ8BUh"
      },
      "source": [
        "loadedSpellChecker = SpellCheckModule(saved_model,\n",
        "                                      saved_data['typo_char_map'], saved_data['real_word_char_map'],\n",
        "                                      saved_data['num_encoder_tokens'], saved_data['num_decoder_tokens'],\n",
        "                                      saved_data['encoder_seq_lengths'], saved_data['decoder_seq_lengths'])"
      ],
      "execution_count": 331,
      "outputs": []
    },
    {
      "cell_type": "code",
      "metadata": {
        "id": "qzyxBP2D8Tup",
        "outputId": "194f302b-5a92-49b8-927e-b430aaaff9c2",
        "colab": {
          "base_uri": "https://localhost:8080/"
        }
      },
      "source": [
        "print(spellChecker.fix_sentence('ak maw cuti bsk'))"
      ],
      "execution_count": 332,
      "outputs": [
        {
          "output_type": "stream",
          "text": [
            "aku mau cuti besok\n"
          ],
          "name": "stdout"
        }
      ]
    }
  ]
}