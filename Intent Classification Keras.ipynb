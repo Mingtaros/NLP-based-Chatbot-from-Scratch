{
  "nbformat": 4,
  "nbformat_minor": 0,
  "metadata": {
    "colab": {
      "name": "Intent Classification Keras.ipynb",
      "provenance": [],
      "collapsed_sections": []
    },
    "kernelspec": {
      "name": "python3",
      "display_name": "Python 3"
    },
    "accelerator": "GPU"
  },
  "cells": [
    {
      "cell_type": "markdown",
      "metadata": {
        "id": "cq9_ekc_QASY",
        "colab_type": "text"
      },
      "source": [
        "# Intent Classification using Keras"
      ]
    },
    {
      "cell_type": "code",
      "metadata": {
        "id": "H7TFYlPSRMgw",
        "colab_type": "code",
        "colab": {
          "base_uri": "https://localhost:8080/",
          "height": 68
        },
        "outputId": "f4c6db3a-bec8-44b0-bc3b-e5f26dd4df25"
      },
      "source": [
        "import nltk\n",
        "nltk.download('punkt')"
      ],
      "execution_count": 203,
      "outputs": [
        {
          "output_type": "stream",
          "text": [
            "[nltk_data] Downloading package punkt to /root/nltk_data...\n",
            "[nltk_data]   Package punkt is already up-to-date!\n"
          ],
          "name": "stdout"
        },
        {
          "output_type": "execute_result",
          "data": {
            "text/plain": [
              "True"
            ]
          },
          "metadata": {
            "tags": []
          },
          "execution_count": 203
        }
      ]
    },
    {
      "cell_type": "code",
      "metadata": {
        "id": "Or2ggueYLUuU",
        "colab_type": "code",
        "colab": {}
      },
      "source": [
        "# Data Processing - Main\n",
        "import numpy as np\n",
        "import pandas as pd\n",
        "import re\n",
        "\n",
        "# Data Processing - Tokenizer and Encoder\n",
        "from tensorflow.keras.preprocessing.text import Tokenizer\n",
        "from tensorflow.keras.preprocessing.sequence import pad_sequences\n",
        "from nltk import word_tokenize\n",
        "from sklearn.preprocessing import OneHotEncoder\n",
        "\n",
        "# Data Processing - Splitting\n",
        "from sklearn.model_selection import train_test_split\n",
        "\n",
        "# Visualization\n",
        "import matplotlib.pyplot as plt\n",
        "import seaborn\n",
        "%matplotlib inline\n",
        "\n",
        "# Machine Learning\n",
        "import tensorflow as tf\n",
        "from tensorflow.keras.models import Sequential\n",
        "from tensorflow.keras.layers import Embedding, Dense, Bidirectional, LSTM, Dropout\n",
        "from tensorflow.compat.v1.keras.layers import CuDNNLSTM"
      ],
      "execution_count": 251,
      "outputs": []
    },
    {
      "cell_type": "code",
      "metadata": {
        "id": "Oy-lflMILcGK",
        "colab_type": "code",
        "colab": {
          "base_uri": "https://localhost:8080/",
          "height": 34
        },
        "outputId": "7395bd29-fca0-4bec-8205-f3725810b6a6"
      },
      "source": [
        "# test gpu availability\n",
        "tf.config.list_physical_devices('GPU')"
      ],
      "execution_count": 205,
      "outputs": [
        {
          "output_type": "execute_result",
          "data": {
            "text/plain": [
              "[PhysicalDevice(name='/physical_device:GPU:0', device_type='GPU')]"
            ]
          },
          "metadata": {
            "tags": []
          },
          "execution_count": 205
        }
      ]
    },
    {
      "cell_type": "code",
      "metadata": {
        "id": "mvT6mybCMSrR",
        "colab_type": "code",
        "colab": {}
      },
      "source": [
        "RANDOM_SEED = 13517048\n",
        "np.random.seed(RANDOM_SEED)"
      ],
      "execution_count": 206,
      "outputs": []
    },
    {
      "cell_type": "markdown",
      "metadata": {
        "id": "N1MYop3XQGcX",
        "colab_type": "text"
      },
      "source": [
        "## Data Cleaning"
      ]
    },
    {
      "cell_type": "code",
      "metadata": {
        "id": "NkMo3bXBMziv",
        "colab_type": "code",
        "colab": {
          "base_uri": "https://localhost:8080/",
          "height": 359
        },
        "outputId": "a4afe000-c480-49ba-e7ba-82bf419d1bfb"
      },
      "source": [
        "data = pd.read_csv(\"nlu.csv\")\n",
        "data.head(10)"
      ],
      "execution_count": 207,
      "outputs": [
        {
          "output_type": "execute_result",
          "data": {
            "text/html": [
              "<div>\n",
              "<style scoped>\n",
              "    .dataframe tbody tr th:only-of-type {\n",
              "        vertical-align: middle;\n",
              "    }\n",
              "\n",
              "    .dataframe tbody tr th {\n",
              "        vertical-align: top;\n",
              "    }\n",
              "\n",
              "    .dataframe thead th {\n",
              "        text-align: right;\n",
              "    }\n",
              "</style>\n",
              "<table border=\"1\" class=\"dataframe\">\n",
              "  <thead>\n",
              "    <tr style=\"text-align: right;\">\n",
              "      <th></th>\n",
              "      <th>text</th>\n",
              "      <th>intent</th>\n",
              "    </tr>\n",
              "  </thead>\n",
              "  <tbody>\n",
              "    <tr>\n",
              "      <th>0</th>\n",
              "      <td>mau absen 11-14 februari 2020</td>\n",
              "      <td>absence</td>\n",
              "    </tr>\n",
              "    <tr>\n",
              "      <th>1</th>\n",
              "      <td>mau absen 11 - 14 februari 2020</td>\n",
              "      <td>absence</td>\n",
              "    </tr>\n",
              "    <tr>\n",
              "      <th>2</th>\n",
              "      <td>sick leave besok</td>\n",
              "      <td>absence</td>\n",
              "    </tr>\n",
              "    <tr>\n",
              "      <th>3</th>\n",
              "      <td>aku mau absence besok</td>\n",
              "      <td>absence</td>\n",
              "    </tr>\n",
              "    <tr>\n",
              "      <th>4</th>\n",
              "      <td>change working hours besok</td>\n",
              "      <td>absence</td>\n",
              "    </tr>\n",
              "    <tr>\n",
              "      <th>5</th>\n",
              "      <td>change working hour besok</td>\n",
              "      <td>absence</td>\n",
              "    </tr>\n",
              "    <tr>\n",
              "      <th>6</th>\n",
              "      <td>absen besok</td>\n",
              "      <td>absence</td>\n",
              "    </tr>\n",
              "    <tr>\n",
              "      <th>7</th>\n",
              "      <td>change working hours</td>\n",
              "      <td>absence</td>\n",
              "    </tr>\n",
              "    <tr>\n",
              "      <th>8</th>\n",
              "      <td>sick leave</td>\n",
              "      <td>absence</td>\n",
              "    </tr>\n",
              "    <tr>\n",
              "      <th>9</th>\n",
              "      <td>mau absen tanggal 10-11 januari 2012</td>\n",
              "      <td>absence</td>\n",
              "    </tr>\n",
              "  </tbody>\n",
              "</table>\n",
              "</div>"
            ],
            "text/plain": [
              "                                   text   intent\n",
              "0         mau absen 11-14 februari 2020  absence\n",
              "1       mau absen 11 - 14 februari 2020  absence\n",
              "2                      sick leave besok  absence\n",
              "3                 aku mau absence besok  absence\n",
              "4            change working hours besok  absence\n",
              "5             change working hour besok  absence\n",
              "6                           absen besok  absence\n",
              "7                  change working hours  absence\n",
              "8                            sick leave  absence\n",
              "9  mau absen tanggal 10-11 januari 2012  absence"
            ]
          },
          "metadata": {
            "tags": []
          },
          "execution_count": 207
        }
      ]
    },
    {
      "cell_type": "code",
      "metadata": {
        "id": "4b23jlRLNF_j",
        "colab_type": "code",
        "colab": {}
      },
      "source": [
        "# Clean data:\n",
        "#   - Strip data from special characters\n",
        "#   - Tokenize words\n",
        "#   - Lowercase all word\n",
        "def clean_data(text_data):\n",
        "  words = []\n",
        "  for sentence in text_data:\n",
        "    clean = re.sub(r'[^ a-z A-Z 0-9]', \" \", sentence)\n",
        "    tokenized_words = word_tokenize(clean)\n",
        "\n",
        "    words.append([word.lower() for word in tokenized_words])\n",
        "\n",
        "  return words"
      ],
      "execution_count": 208,
      "outputs": []
    },
    {
      "cell_type": "code",
      "metadata": {
        "id": "UoEFDLchPDrS",
        "colab_type": "code",
        "colab": {}
      },
      "source": [
        "# Get max length of every word in words\n",
        "def get_max_length(words):\n",
        "  return len(max(words, key = len))"
      ],
      "execution_count": 209,
      "outputs": []
    },
    {
      "cell_type": "code",
      "metadata": {
        "id": "i6KvNcrcPH6S",
        "colab_type": "code",
        "colab": {}
      },
      "source": [
        "filters = '!\"#$%&()*+,-./:;<=>?@[\\]^_`{|}~'\n",
        "\n",
        "def create_tokenizer(words):\n",
        "  token = Tokenizer(filters = filters)\n",
        "  token.fit_on_texts(words)\n",
        "  return token"
      ],
      "execution_count": 210,
      "outputs": []
    },
    {
      "cell_type": "code",
      "metadata": {
        "id": "7m8b5hHwP-3K",
        "colab_type": "code",
        "colab": {}
      },
      "source": [
        "def create_train_data(text_data):\n",
        "  # Encoding document\n",
        "  token = create_tokenizer(text_data)\n",
        "  sequences = token.texts_to_sequences(text_data)\n",
        "\n",
        "  max_length = get_max_length(sequences)\n",
        "  return pad_sequences(sequences, maxlen=max_length, padding=\"post\")"
      ],
      "execution_count": 211,
      "outputs": []
    },
    {
      "cell_type": "code",
      "metadata": {
        "id": "Gice1iwHRhfD",
        "colab_type": "code",
        "colab": {}
      },
      "source": [
        "def onehot_encode(data):\n",
        "  encoder = OneHotEncoder(sparse=False)\n",
        "  return encoder.fit_transform(data)"
      ],
      "execution_count": 212,
      "outputs": []
    },
    {
      "cell_type": "code",
      "metadata": {
        "id": "Rl2lvxuDXOL7",
        "colab_type": "code",
        "colab": {}
      },
      "source": [
        "cleaned_data = clean_data(data['text'])"
      ],
      "execution_count": 213,
      "outputs": []
    },
    {
      "cell_type": "code",
      "metadata": {
        "id": "UFj_E_-qXNWW",
        "colab_type": "code",
        "colab": {}
      },
      "source": [
        "tokenizer = create_tokenizer(cleaned_data)\n",
        "MAX_LENGTH = get_max_length(cleaned_data)\n",
        "VOCAB_SIZE = len(tokenizer.word_index) + 1"
      ],
      "execution_count": 214,
      "outputs": []
    },
    {
      "cell_type": "code",
      "metadata": {
        "id": "D23pwDQgSWla",
        "colab_type": "code",
        "colab": {}
      },
      "source": [
        "train_data = create_train_data(cleaned_data)\n",
        "test_data = onehot_encode(data['intent'].values.reshape(-1, 1))\n",
        "\n",
        "x_train, x_val, y_train, y_val = train_test_split(train_data, test_data, test_size = 0.2)"
      ],
      "execution_count": 215,
      "outputs": []
    },
    {
      "cell_type": "markdown",
      "metadata": {
        "id": "xOJUTX77S_WG",
        "colab_type": "text"
      },
      "source": [
        "## Machine Learning Modeling"
      ]
    },
    {
      "cell_type": "code",
      "metadata": {
        "id": "C6FtIWWETo5N",
        "colab_type": "code",
        "colab": {}
      },
      "source": [
        "model = Sequential()\n",
        "\n",
        "model.add(Embedding(VOCAB_SIZE, 512, input_length=MAX_LENGTH, trainable=False))\n",
        "model.add(Bidirectional(LSTM(512)))\n",
        "model.add(Dense(32, activation = \"relu\"))\n",
        "model.add(Dropout(0.5))\n",
        "model.add(Dense(32, activation = \"relu\"))\n",
        "model.add(Dropout(0.5))\n",
        "model.add(Dense(y_train.shape[1], activation = \"softmax\"))"
      ],
      "execution_count": 252,
      "outputs": []
    },
    {
      "cell_type": "code",
      "metadata": {
        "id": "lN_VqsMkVfL3",
        "colab_type": "code",
        "colab": {
          "base_uri": "https://localhost:8080/",
          "height": 391
        },
        "outputId": "c1c24529-b2de-428a-a56f-28471d2e2dfe"
      },
      "source": [
        "model.compile(\n",
        "    optimizer = 'adam',\n",
        "    loss = 'categorical_crossentropy',\n",
        "    metrics = ['accuracy']\n",
        ")\n",
        "\n",
        "model.summary()"
      ],
      "execution_count": 253,
      "outputs": [
        {
          "output_type": "stream",
          "text": [
            "Model: \"sequential_11\"\n",
            "_________________________________________________________________\n",
            "Layer (type)                 Output Shape              Param #   \n",
            "=================================================================\n",
            "embedding_10 (Embedding)     (None, 23, 512)           362496    \n",
            "_________________________________________________________________\n",
            "bidirectional_9 (Bidirection (None, 1024)              4198400   \n",
            "_________________________________________________________________\n",
            "dense_21 (Dense)             (None, 32)                32800     \n",
            "_________________________________________________________________\n",
            "dropout_12 (Dropout)         (None, 32)                0         \n",
            "_________________________________________________________________\n",
            "dense_22 (Dense)             (None, 32)                1056      \n",
            "_________________________________________________________________\n",
            "dropout_13 (Dropout)         (None, 32)                0         \n",
            "_________________________________________________________________\n",
            "dense_23 (Dense)             (None, 103)               3399      \n",
            "=================================================================\n",
            "Total params: 4,598,151\n",
            "Trainable params: 4,235,655\n",
            "Non-trainable params: 362,496\n",
            "_________________________________________________________________\n"
          ],
          "name": "stdout"
        }
      ]
    },
    {
      "cell_type": "markdown",
      "metadata": {
        "id": "ZP5ElhpNYq4x",
        "colab_type": "text"
      },
      "source": [
        "### Model Train"
      ]
    },
    {
      "cell_type": "code",
      "metadata": {
        "id": "G3lsazb9Yb6J",
        "colab_type": "code",
        "colab": {}
      },
      "source": [
        "# Fit constants\n",
        "\n",
        "EPOCHS = 250\n",
        "BASIZE = 32"
      ],
      "execution_count": 254,
      "outputs": []
    },
    {
      "cell_type": "code",
      "metadata": {
        "id": "crepStCMWAI5",
        "colab_type": "code",
        "colab": {
          "base_uri": "https://localhost:8080/",
          "height": 1000
        },
        "outputId": "11bef956-6522-43ce-8b89-b17d60e94d2b"
      },
      "source": [
        "history = model.fit(x_train, y_train, epochs = EPOCHS, batch_size = BASIZE, validation_data = (x_val, y_val))"
      ],
      "execution_count": 255,
      "outputs": [
        {
          "output_type": "stream",
          "text": [
            "Epoch 1/250\n",
            "39/39 [==============================] - 3s 70ms/step - loss: 4.6148 - accuracy: 0.0179 - val_loss: 4.5373 - val_accuracy: 0.0261\n",
            "Epoch 2/250\n",
            "39/39 [==============================] - 1s 33ms/step - loss: 4.5391 - accuracy: 0.0277 - val_loss: 4.4482 - val_accuracy: 0.0456\n",
            "Epoch 3/250\n",
            "39/39 [==============================] - 1s 33ms/step - loss: 4.4346 - accuracy: 0.0301 - val_loss: 4.2683 - val_accuracy: 0.0651\n",
            "Epoch 4/250\n",
            "39/39 [==============================] - 1s 33ms/step - loss: 4.3221 - accuracy: 0.0423 - val_loss: 4.1387 - val_accuracy: 0.0651\n",
            "Epoch 5/250\n",
            "39/39 [==============================] - 1s 33ms/step - loss: 4.2183 - accuracy: 0.0521 - val_loss: 4.0889 - val_accuracy: 0.0651\n",
            "Epoch 6/250\n",
            "39/39 [==============================] - 1s 33ms/step - loss: 4.1122 - accuracy: 0.0513 - val_loss: 3.9777 - val_accuracy: 0.0684\n",
            "Epoch 7/250\n",
            "39/39 [==============================] - 1s 34ms/step - loss: 4.0296 - accuracy: 0.0643 - val_loss: 3.9077 - val_accuracy: 0.0814\n",
            "Epoch 8/250\n",
            "39/39 [==============================] - 1s 33ms/step - loss: 3.9815 - accuracy: 0.0700 - val_loss: 3.8246 - val_accuracy: 0.0912\n",
            "Epoch 9/250\n",
            "39/39 [==============================] - 1s 33ms/step - loss: 3.9002 - accuracy: 0.0831 - val_loss: 3.7657 - val_accuracy: 0.0814\n",
            "Epoch 10/250\n",
            "39/39 [==============================] - 1s 33ms/step - loss: 3.8014 - accuracy: 0.0863 - val_loss: 3.6422 - val_accuracy: 0.1140\n",
            "Epoch 11/250\n",
            "39/39 [==============================] - 1s 33ms/step - loss: 3.7486 - accuracy: 0.0985 - val_loss: 3.5214 - val_accuracy: 0.1336\n",
            "Epoch 12/250\n",
            "39/39 [==============================] - 1s 33ms/step - loss: 3.6874 - accuracy: 0.1059 - val_loss: 3.4349 - val_accuracy: 0.1694\n",
            "Epoch 13/250\n",
            "39/39 [==============================] - 1s 33ms/step - loss: 3.5531 - accuracy: 0.1197 - val_loss: 3.3691 - val_accuracy: 0.1857\n",
            "Epoch 14/250\n",
            "39/39 [==============================] - 1s 33ms/step - loss: 3.4638 - accuracy: 0.1287 - val_loss: 3.1856 - val_accuracy: 0.2476\n",
            "Epoch 15/250\n",
            "39/39 [==============================] - 1s 33ms/step - loss: 3.3847 - accuracy: 0.1572 - val_loss: 3.1240 - val_accuracy: 0.2671\n",
            "Epoch 16/250\n",
            "39/39 [==============================] - 1s 33ms/step - loss: 3.2787 - accuracy: 0.1702 - val_loss: 3.0498 - val_accuracy: 0.3094\n",
            "Epoch 17/250\n",
            "39/39 [==============================] - 1s 33ms/step - loss: 3.2201 - accuracy: 0.1881 - val_loss: 2.9744 - val_accuracy: 0.3420\n",
            "Epoch 18/250\n",
            "39/39 [==============================] - 1s 33ms/step - loss: 3.1251 - accuracy: 0.1881 - val_loss: 2.8134 - val_accuracy: 0.3713\n",
            "Epoch 19/250\n",
            "39/39 [==============================] - 1s 33ms/step - loss: 3.0345 - accuracy: 0.1971 - val_loss: 2.7910 - val_accuracy: 0.3388\n",
            "Epoch 20/250\n",
            "39/39 [==============================] - 1s 33ms/step - loss: 2.9827 - accuracy: 0.2207 - val_loss: 2.6856 - val_accuracy: 0.3811\n",
            "Epoch 21/250\n",
            "39/39 [==============================] - 1s 33ms/step - loss: 2.8876 - accuracy: 0.2353 - val_loss: 2.6016 - val_accuracy: 0.3941\n",
            "Epoch 22/250\n",
            "39/39 [==============================] - 1s 33ms/step - loss: 2.8676 - accuracy: 0.2313 - val_loss: 2.5569 - val_accuracy: 0.3811\n",
            "Epoch 23/250\n",
            "39/39 [==============================] - 1s 33ms/step - loss: 2.7812 - accuracy: 0.2451 - val_loss: 2.4949 - val_accuracy: 0.3811\n",
            "Epoch 24/250\n",
            "39/39 [==============================] - 1s 33ms/step - loss: 2.7859 - accuracy: 0.2728 - val_loss: 2.4832 - val_accuracy: 0.4007\n",
            "Epoch 25/250\n",
            "39/39 [==============================] - 1s 33ms/step - loss: 2.6945 - accuracy: 0.2516 - val_loss: 2.3757 - val_accuracy: 0.4397\n",
            "Epoch 26/250\n",
            "39/39 [==============================] - 1s 33ms/step - loss: 2.6071 - accuracy: 0.2850 - val_loss: 2.4185 - val_accuracy: 0.4560\n",
            "Epoch 27/250\n",
            "39/39 [==============================] - 1s 33ms/step - loss: 2.6325 - accuracy: 0.2752 - val_loss: 2.3416 - val_accuracy: 0.4495\n",
            "Epoch 28/250\n",
            "39/39 [==============================] - 1s 33ms/step - loss: 2.5579 - accuracy: 0.2777 - val_loss: 2.3497 - val_accuracy: 0.4560\n",
            "Epoch 29/250\n",
            "39/39 [==============================] - 1s 33ms/step - loss: 2.5492 - accuracy: 0.3062 - val_loss: 2.2713 - val_accuracy: 0.4495\n",
            "Epoch 30/250\n",
            "39/39 [==============================] - 1s 33ms/step - loss: 2.5018 - accuracy: 0.3013 - val_loss: 2.2446 - val_accuracy: 0.4528\n",
            "Epoch 31/250\n",
            "39/39 [==============================] - 1s 33ms/step - loss: 2.4708 - accuracy: 0.3208 - val_loss: 2.2574 - val_accuracy: 0.4300\n",
            "Epoch 32/250\n",
            "39/39 [==============================] - 1s 33ms/step - loss: 2.4058 - accuracy: 0.3184 - val_loss: 2.2389 - val_accuracy: 0.4788\n",
            "Epoch 33/250\n",
            "39/39 [==============================] - 1s 33ms/step - loss: 2.4050 - accuracy: 0.3290 - val_loss: 2.1546 - val_accuracy: 0.4625\n",
            "Epoch 34/250\n",
            "39/39 [==============================] - 1s 33ms/step - loss: 2.3782 - accuracy: 0.3322 - val_loss: 2.2140 - val_accuracy: 0.4691\n",
            "Epoch 35/250\n",
            "39/39 [==============================] - 1s 33ms/step - loss: 2.3867 - accuracy: 0.3103 - val_loss: 2.2262 - val_accuracy: 0.4560\n",
            "Epoch 36/250\n",
            "39/39 [==============================] - 1s 33ms/step - loss: 2.3264 - accuracy: 0.3404 - val_loss: 2.1741 - val_accuracy: 0.4821\n",
            "Epoch 37/250\n",
            "39/39 [==============================] - 1s 33ms/step - loss: 2.2322 - accuracy: 0.3518 - val_loss: 2.1347 - val_accuracy: 0.4788\n",
            "Epoch 38/250\n",
            "39/39 [==============================] - 1s 34ms/step - loss: 2.2148 - accuracy: 0.3583 - val_loss: 2.0825 - val_accuracy: 0.4919\n",
            "Epoch 39/250\n",
            "39/39 [==============================] - 1s 34ms/step - loss: 2.1720 - accuracy: 0.3640 - val_loss: 2.1523 - val_accuracy: 0.4951\n",
            "Epoch 40/250\n",
            "39/39 [==============================] - 1s 34ms/step - loss: 2.2414 - accuracy: 0.3355 - val_loss: 2.0073 - val_accuracy: 0.5179\n",
            "Epoch 41/250\n",
            "39/39 [==============================] - 1s 34ms/step - loss: 2.2115 - accuracy: 0.3738 - val_loss: 2.0088 - val_accuracy: 0.4756\n",
            "Epoch 42/250\n",
            "39/39 [==============================] - 1s 33ms/step - loss: 2.1656 - accuracy: 0.3762 - val_loss: 2.0169 - val_accuracy: 0.5147\n",
            "Epoch 43/250\n",
            "39/39 [==============================] - 1s 33ms/step - loss: 2.1260 - accuracy: 0.3673 - val_loss: 2.0162 - val_accuracy: 0.4788\n",
            "Epoch 44/250\n",
            "39/39 [==============================] - 1s 33ms/step - loss: 2.1638 - accuracy: 0.3534 - val_loss: 2.1326 - val_accuracy: 0.4821\n",
            "Epoch 45/250\n",
            "39/39 [==============================] - 1s 33ms/step - loss: 2.1002 - accuracy: 0.3868 - val_loss: 2.0576 - val_accuracy: 0.4919\n",
            "Epoch 46/250\n",
            "39/39 [==============================] - 1s 33ms/step - loss: 2.1343 - accuracy: 0.3779 - val_loss: 2.0234 - val_accuracy: 0.5309\n",
            "Epoch 47/250\n",
            "39/39 [==============================] - 1s 33ms/step - loss: 2.0740 - accuracy: 0.3827 - val_loss: 2.0006 - val_accuracy: 0.5016\n",
            "Epoch 48/250\n",
            "39/39 [==============================] - 1s 33ms/step - loss: 2.0918 - accuracy: 0.3713 - val_loss: 1.9855 - val_accuracy: 0.5179\n",
            "Epoch 49/250\n",
            "39/39 [==============================] - 1s 33ms/step - loss: 2.0479 - accuracy: 0.4007 - val_loss: 1.9681 - val_accuracy: 0.5147\n",
            "Epoch 50/250\n",
            "39/39 [==============================] - 1s 33ms/step - loss: 2.0202 - accuracy: 0.3933 - val_loss: 2.0183 - val_accuracy: 0.5081\n",
            "Epoch 51/250\n",
            "39/39 [==============================] - 1s 33ms/step - loss: 1.9770 - accuracy: 0.3966 - val_loss: 1.9436 - val_accuracy: 0.5114\n",
            "Epoch 52/250\n",
            "39/39 [==============================] - 1s 33ms/step - loss: 2.0100 - accuracy: 0.4007 - val_loss: 1.9590 - val_accuracy: 0.4984\n",
            "Epoch 53/250\n",
            "39/39 [==============================] - 1s 33ms/step - loss: 2.0331 - accuracy: 0.3795 - val_loss: 1.9915 - val_accuracy: 0.4853\n",
            "Epoch 54/250\n",
            "39/39 [==============================] - 1s 33ms/step - loss: 2.0311 - accuracy: 0.3941 - val_loss: 1.9961 - val_accuracy: 0.5179\n",
            "Epoch 55/250\n",
            "39/39 [==============================] - 1s 33ms/step - loss: 1.9378 - accuracy: 0.4088 - val_loss: 1.9294 - val_accuracy: 0.5277\n",
            "Epoch 56/250\n",
            "39/39 [==============================] - 1s 33ms/step - loss: 1.9711 - accuracy: 0.3974 - val_loss: 1.9547 - val_accuracy: 0.5016\n",
            "Epoch 57/250\n",
            "39/39 [==============================] - 1s 33ms/step - loss: 1.9604 - accuracy: 0.4283 - val_loss: 1.9036 - val_accuracy: 0.5309\n",
            "Epoch 58/250\n",
            "39/39 [==============================] - 1s 33ms/step - loss: 1.9417 - accuracy: 0.4088 - val_loss: 2.0187 - val_accuracy: 0.5147\n",
            "Epoch 59/250\n",
            "39/39 [==============================] - 1s 33ms/step - loss: 1.9117 - accuracy: 0.4324 - val_loss: 1.9815 - val_accuracy: 0.4951\n",
            "Epoch 60/250\n",
            "39/39 [==============================] - 1s 33ms/step - loss: 1.9338 - accuracy: 0.4169 - val_loss: 2.0662 - val_accuracy: 0.5049\n",
            "Epoch 61/250\n",
            "39/39 [==============================] - 1s 33ms/step - loss: 1.8504 - accuracy: 0.4161 - val_loss: 2.0113 - val_accuracy: 0.5147\n",
            "Epoch 62/250\n",
            "39/39 [==============================] - 1s 33ms/step - loss: 1.8421 - accuracy: 0.4381 - val_loss: 2.0174 - val_accuracy: 0.5309\n",
            "Epoch 63/250\n",
            "39/39 [==============================] - 1s 33ms/step - loss: 1.8360 - accuracy: 0.4316 - val_loss: 1.9286 - val_accuracy: 0.5212\n",
            "Epoch 64/250\n",
            "39/39 [==============================] - 1s 33ms/step - loss: 1.8516 - accuracy: 0.4357 - val_loss: 1.8742 - val_accuracy: 0.5081\n",
            "Epoch 65/250\n",
            "39/39 [==============================] - 1s 33ms/step - loss: 1.8441 - accuracy: 0.4267 - val_loss: 1.9060 - val_accuracy: 0.5309\n",
            "Epoch 66/250\n",
            "39/39 [==============================] - 1s 33ms/step - loss: 1.8111 - accuracy: 0.4511 - val_loss: 1.8911 - val_accuracy: 0.5016\n",
            "Epoch 67/250\n",
            "39/39 [==============================] - 1s 33ms/step - loss: 1.8428 - accuracy: 0.4381 - val_loss: 1.9774 - val_accuracy: 0.5212\n",
            "Epoch 68/250\n",
            "39/39 [==============================] - 1s 33ms/step - loss: 1.7843 - accuracy: 0.4593 - val_loss: 2.0021 - val_accuracy: 0.5049\n",
            "Epoch 69/250\n",
            "39/39 [==============================] - 1s 33ms/step - loss: 1.8632 - accuracy: 0.4194 - val_loss: 1.9152 - val_accuracy: 0.5472\n",
            "Epoch 70/250\n",
            "39/39 [==============================] - 1s 33ms/step - loss: 1.7776 - accuracy: 0.4446 - val_loss: 1.9091 - val_accuracy: 0.5309\n",
            "Epoch 71/250\n",
            "39/39 [==============================] - 1s 33ms/step - loss: 1.7872 - accuracy: 0.4536 - val_loss: 1.9748 - val_accuracy: 0.5081\n",
            "Epoch 72/250\n",
            "39/39 [==============================] - 1s 33ms/step - loss: 1.7491 - accuracy: 0.4609 - val_loss: 1.9562 - val_accuracy: 0.5212\n",
            "Epoch 73/250\n",
            "39/39 [==============================] - 1s 33ms/step - loss: 1.7983 - accuracy: 0.4438 - val_loss: 1.9046 - val_accuracy: 0.5147\n",
            "Epoch 74/250\n",
            "39/39 [==============================] - 1s 33ms/step - loss: 1.7912 - accuracy: 0.4463 - val_loss: 1.9482 - val_accuracy: 0.5472\n",
            "Epoch 75/250\n",
            "39/39 [==============================] - 1s 33ms/step - loss: 1.7376 - accuracy: 0.4682 - val_loss: 1.9069 - val_accuracy: 0.5603\n",
            "Epoch 76/250\n",
            "39/39 [==============================] - 1s 33ms/step - loss: 1.6764 - accuracy: 0.4731 - val_loss: 2.0587 - val_accuracy: 0.5472\n",
            "Epoch 77/250\n",
            "39/39 [==============================] - 1s 33ms/step - loss: 1.6690 - accuracy: 0.4699 - val_loss: 2.0689 - val_accuracy: 0.5537\n",
            "Epoch 78/250\n",
            "39/39 [==============================] - 1s 33ms/step - loss: 1.6962 - accuracy: 0.4764 - val_loss: 2.0423 - val_accuracy: 0.5342\n",
            "Epoch 79/250\n",
            "39/39 [==============================] - 1s 33ms/step - loss: 1.7275 - accuracy: 0.4764 - val_loss: 2.0047 - val_accuracy: 0.5407\n",
            "Epoch 80/250\n",
            "39/39 [==============================] - 1s 33ms/step - loss: 1.6732 - accuracy: 0.4731 - val_loss: 2.1090 - val_accuracy: 0.5277\n",
            "Epoch 81/250\n",
            "39/39 [==============================] - 1s 33ms/step - loss: 1.6952 - accuracy: 0.4601 - val_loss: 2.0216 - val_accuracy: 0.5505\n",
            "Epoch 82/250\n",
            "39/39 [==============================] - 1s 33ms/step - loss: 1.6804 - accuracy: 0.4739 - val_loss: 1.9352 - val_accuracy: 0.5603\n",
            "Epoch 83/250\n",
            "39/39 [==============================] - 1s 33ms/step - loss: 1.6931 - accuracy: 0.4780 - val_loss: 1.9506 - val_accuracy: 0.5375\n",
            "Epoch 84/250\n",
            "39/39 [==============================] - 1s 33ms/step - loss: 1.6327 - accuracy: 0.4870 - val_loss: 2.0135 - val_accuracy: 0.5472\n",
            "Epoch 85/250\n",
            "39/39 [==============================] - 1s 33ms/step - loss: 1.6758 - accuracy: 0.4748 - val_loss: 1.9314 - val_accuracy: 0.5505\n",
            "Epoch 86/250\n",
            "39/39 [==============================] - 1s 33ms/step - loss: 1.6375 - accuracy: 0.4886 - val_loss: 2.1245 - val_accuracy: 0.5798\n",
            "Epoch 87/250\n",
            "39/39 [==============================] - 1s 33ms/step - loss: 1.6692 - accuracy: 0.4919 - val_loss: 2.0498 - val_accuracy: 0.5537\n",
            "Epoch 88/250\n",
            "39/39 [==============================] - 1s 33ms/step - loss: 1.6331 - accuracy: 0.4870 - val_loss: 2.0228 - val_accuracy: 0.5440\n",
            "Epoch 89/250\n",
            "39/39 [==============================] - 1s 33ms/step - loss: 1.6872 - accuracy: 0.4658 - val_loss: 2.1754 - val_accuracy: 0.5472\n",
            "Epoch 90/250\n",
            "39/39 [==============================] - 1s 33ms/step - loss: 1.6469 - accuracy: 0.4943 - val_loss: 2.1294 - val_accuracy: 0.5798\n",
            "Epoch 91/250\n",
            "39/39 [==============================] - 1s 33ms/step - loss: 1.6217 - accuracy: 0.4788 - val_loss: 1.9674 - val_accuracy: 0.5635\n",
            "Epoch 92/250\n",
            "39/39 [==============================] - 1s 33ms/step - loss: 1.5829 - accuracy: 0.4976 - val_loss: 2.0121 - val_accuracy: 0.5700\n",
            "Epoch 93/250\n",
            "39/39 [==============================] - 1s 33ms/step - loss: 1.6350 - accuracy: 0.4886 - val_loss: 1.8837 - val_accuracy: 0.5798\n",
            "Epoch 94/250\n",
            "39/39 [==============================] - 1s 33ms/step - loss: 1.6096 - accuracy: 0.4992 - val_loss: 1.9975 - val_accuracy: 0.5765\n",
            "Epoch 95/250\n",
            "39/39 [==============================] - 1s 33ms/step - loss: 1.5901 - accuracy: 0.4992 - val_loss: 1.9640 - val_accuracy: 0.5603\n",
            "Epoch 96/250\n",
            "39/39 [==============================] - 1s 33ms/step - loss: 1.5545 - accuracy: 0.5179 - val_loss: 2.0025 - val_accuracy: 0.5603\n",
            "Epoch 97/250\n",
            "39/39 [==============================] - 1s 33ms/step - loss: 1.5639 - accuracy: 0.5155 - val_loss: 2.0717 - val_accuracy: 0.5798\n",
            "Epoch 98/250\n",
            "39/39 [==============================] - 1s 33ms/step - loss: 1.5841 - accuracy: 0.4927 - val_loss: 2.0689 - val_accuracy: 0.5733\n",
            "Epoch 99/250\n",
            "39/39 [==============================] - 1s 33ms/step - loss: 1.5894 - accuracy: 0.5000 - val_loss: 2.1169 - val_accuracy: 0.5765\n",
            "Epoch 100/250\n",
            "39/39 [==============================] - 1s 33ms/step - loss: 1.5611 - accuracy: 0.5041 - val_loss: 2.0591 - val_accuracy: 0.5668\n",
            "Epoch 101/250\n",
            "39/39 [==============================] - 1s 33ms/step - loss: 1.5836 - accuracy: 0.4927 - val_loss: 2.0391 - val_accuracy: 0.5863\n",
            "Epoch 102/250\n",
            "39/39 [==============================] - 1s 33ms/step - loss: 1.5789 - accuracy: 0.5033 - val_loss: 2.1462 - val_accuracy: 0.5798\n",
            "Epoch 103/250\n",
            "39/39 [==============================] - 1s 33ms/step - loss: 1.5301 - accuracy: 0.5106 - val_loss: 2.1838 - val_accuracy: 0.5831\n",
            "Epoch 104/250\n",
            "39/39 [==============================] - 1s 33ms/step - loss: 1.5325 - accuracy: 0.5293 - val_loss: 2.1540 - val_accuracy: 0.5798\n",
            "Epoch 105/250\n",
            "39/39 [==============================] - 1s 34ms/step - loss: 1.4788 - accuracy: 0.5179 - val_loss: 2.1423 - val_accuracy: 0.5798\n",
            "Epoch 106/250\n",
            "39/39 [==============================] - 1s 33ms/step - loss: 1.5584 - accuracy: 0.5008 - val_loss: 2.1234 - val_accuracy: 0.5733\n",
            "Epoch 107/250\n",
            "39/39 [==============================] - 1s 33ms/step - loss: 1.5045 - accuracy: 0.5090 - val_loss: 2.1027 - val_accuracy: 0.5863\n",
            "Epoch 108/250\n",
            "39/39 [==============================] - 1s 33ms/step - loss: 1.5717 - accuracy: 0.5065 - val_loss: 2.1043 - val_accuracy: 0.5798\n",
            "Epoch 109/250\n",
            "39/39 [==============================] - 1s 33ms/step - loss: 1.6232 - accuracy: 0.4935 - val_loss: 1.9260 - val_accuracy: 0.5603\n",
            "Epoch 110/250\n",
            "39/39 [==============================] - 1s 33ms/step - loss: 1.5623 - accuracy: 0.4992 - val_loss: 1.9718 - val_accuracy: 0.5765\n",
            "Epoch 111/250\n",
            "39/39 [==============================] - 1s 33ms/step - loss: 1.4734 - accuracy: 0.5383 - val_loss: 2.1207 - val_accuracy: 0.5993\n",
            "Epoch 112/250\n",
            "39/39 [==============================] - 1s 33ms/step - loss: 1.5060 - accuracy: 0.5277 - val_loss: 2.0370 - val_accuracy: 0.5863\n",
            "Epoch 113/250\n",
            "39/39 [==============================] - 1s 33ms/step - loss: 1.4962 - accuracy: 0.5358 - val_loss: 2.1217 - val_accuracy: 0.5896\n",
            "Epoch 114/250\n",
            "39/39 [==============================] - 1s 33ms/step - loss: 1.5439 - accuracy: 0.5065 - val_loss: 2.1967 - val_accuracy: 0.5570\n",
            "Epoch 115/250\n",
            "39/39 [==============================] - 1s 33ms/step - loss: 1.4739 - accuracy: 0.5147 - val_loss: 2.1190 - val_accuracy: 0.6254\n",
            "Epoch 116/250\n",
            "39/39 [==============================] - 1s 33ms/step - loss: 1.4452 - accuracy: 0.5391 - val_loss: 2.1285 - val_accuracy: 0.6059\n",
            "Epoch 117/250\n",
            "39/39 [==============================] - 1s 33ms/step - loss: 1.4603 - accuracy: 0.5277 - val_loss: 2.3049 - val_accuracy: 0.5993\n",
            "Epoch 118/250\n",
            "39/39 [==============================] - 1s 33ms/step - loss: 1.4694 - accuracy: 0.5350 - val_loss: 2.0921 - val_accuracy: 0.6059\n",
            "Epoch 119/250\n",
            "39/39 [==============================] - 1s 33ms/step - loss: 1.4828 - accuracy: 0.5285 - val_loss: 2.0986 - val_accuracy: 0.6026\n",
            "Epoch 120/250\n",
            "39/39 [==============================] - 1s 33ms/step - loss: 1.4425 - accuracy: 0.5342 - val_loss: 2.1686 - val_accuracy: 0.5928\n",
            "Epoch 121/250\n",
            "39/39 [==============================] - 1s 33ms/step - loss: 1.3969 - accuracy: 0.5423 - val_loss: 2.1895 - val_accuracy: 0.5928\n",
            "Epoch 122/250\n",
            "39/39 [==============================] - 1s 33ms/step - loss: 1.3975 - accuracy: 0.5464 - val_loss: 2.2370 - val_accuracy: 0.6059\n",
            "Epoch 123/250\n",
            "39/39 [==============================] - 1s 33ms/step - loss: 1.4121 - accuracy: 0.5497 - val_loss: 2.3984 - val_accuracy: 0.5928\n",
            "Epoch 124/250\n",
            "39/39 [==============================] - 1s 33ms/step - loss: 1.4404 - accuracy: 0.5342 - val_loss: 2.1782 - val_accuracy: 0.5863\n",
            "Epoch 125/250\n",
            "39/39 [==============================] - 1s 33ms/step - loss: 1.4103 - accuracy: 0.5423 - val_loss: 2.2373 - val_accuracy: 0.6026\n",
            "Epoch 126/250\n",
            "39/39 [==============================] - 1s 33ms/step - loss: 1.4387 - accuracy: 0.5236 - val_loss: 2.2901 - val_accuracy: 0.5896\n",
            "Epoch 127/250\n",
            "39/39 [==============================] - 1s 33ms/step - loss: 1.3953 - accuracy: 0.5505 - val_loss: 2.2259 - val_accuracy: 0.6124\n",
            "Epoch 128/250\n",
            "39/39 [==============================] - 1s 33ms/step - loss: 1.3512 - accuracy: 0.5635 - val_loss: 2.2620 - val_accuracy: 0.6026\n",
            "Epoch 129/250\n",
            "39/39 [==============================] - 1s 33ms/step - loss: 1.3389 - accuracy: 0.5529 - val_loss: 2.2615 - val_accuracy: 0.6059\n",
            "Epoch 130/250\n",
            "39/39 [==============================] - 1s 33ms/step - loss: 1.4508 - accuracy: 0.5358 - val_loss: 2.4355 - val_accuracy: 0.5896\n",
            "Epoch 131/250\n",
            "39/39 [==============================] - 1s 33ms/step - loss: 1.4036 - accuracy: 0.5578 - val_loss: 2.3564 - val_accuracy: 0.5863\n",
            "Epoch 132/250\n",
            "39/39 [==============================] - 1s 33ms/step - loss: 1.3771 - accuracy: 0.5423 - val_loss: 2.3111 - val_accuracy: 0.6124\n",
            "Epoch 133/250\n",
            "39/39 [==============================] - 1s 33ms/step - loss: 1.3229 - accuracy: 0.5708 - val_loss: 2.4852 - val_accuracy: 0.6091\n",
            "Epoch 134/250\n",
            "39/39 [==============================] - 1s 33ms/step - loss: 1.3792 - accuracy: 0.5546 - val_loss: 2.4733 - val_accuracy: 0.5896\n",
            "Epoch 135/250\n",
            "39/39 [==============================] - 1s 33ms/step - loss: 1.4388 - accuracy: 0.5212 - val_loss: 2.2494 - val_accuracy: 0.5863\n",
            "Epoch 136/250\n",
            "39/39 [==============================] - 1s 33ms/step - loss: 1.3755 - accuracy: 0.5570 - val_loss: 2.2937 - val_accuracy: 0.5863\n",
            "Epoch 137/250\n",
            "39/39 [==============================] - 1s 33ms/step - loss: 1.3794 - accuracy: 0.5432 - val_loss: 2.1208 - val_accuracy: 0.5961\n",
            "Epoch 138/250\n",
            "39/39 [==============================] - 1s 33ms/step - loss: 1.4288 - accuracy: 0.5309 - val_loss: 2.3531 - val_accuracy: 0.6221\n",
            "Epoch 139/250\n",
            "39/39 [==============================] - 1s 33ms/step - loss: 1.3871 - accuracy: 0.5586 - val_loss: 2.2893 - val_accuracy: 0.6091\n",
            "Epoch 140/250\n",
            "39/39 [==============================] - 1s 33ms/step - loss: 1.3245 - accuracy: 0.5668 - val_loss: 2.3567 - val_accuracy: 0.5863\n",
            "Epoch 141/250\n",
            "39/39 [==============================] - 1s 33ms/step - loss: 1.4100 - accuracy: 0.5578 - val_loss: 2.2622 - val_accuracy: 0.6091\n",
            "Epoch 142/250\n",
            "39/39 [==============================] - 1s 33ms/step - loss: 1.3162 - accuracy: 0.5700 - val_loss: 2.4625 - val_accuracy: 0.5961\n",
            "Epoch 143/250\n",
            "39/39 [==============================] - 1s 33ms/step - loss: 1.3435 - accuracy: 0.5749 - val_loss: 2.4413 - val_accuracy: 0.5928\n",
            "Epoch 144/250\n",
            "39/39 [==============================] - 1s 33ms/step - loss: 1.3179 - accuracy: 0.5643 - val_loss: 2.5305 - val_accuracy: 0.5961\n",
            "Epoch 145/250\n",
            "39/39 [==============================] - 1s 33ms/step - loss: 1.3192 - accuracy: 0.5684 - val_loss: 2.4705 - val_accuracy: 0.5928\n",
            "Epoch 146/250\n",
            "39/39 [==============================] - 1s 33ms/step - loss: 1.3447 - accuracy: 0.5635 - val_loss: 2.5575 - val_accuracy: 0.5928\n",
            "Epoch 147/250\n",
            "39/39 [==============================] - 1s 33ms/step - loss: 1.3270 - accuracy: 0.5586 - val_loss: 2.3277 - val_accuracy: 0.6156\n",
            "Epoch 148/250\n",
            "39/39 [==============================] - 1s 33ms/step - loss: 1.3292 - accuracy: 0.5586 - val_loss: 2.5170 - val_accuracy: 0.6254\n",
            "Epoch 149/250\n",
            "39/39 [==============================] - 1s 33ms/step - loss: 1.3228 - accuracy: 0.5708 - val_loss: 2.5642 - val_accuracy: 0.6091\n",
            "Epoch 150/250\n",
            "39/39 [==============================] - 1s 33ms/step - loss: 1.3301 - accuracy: 0.5586 - val_loss: 2.7201 - val_accuracy: 0.6319\n",
            "Epoch 151/250\n",
            "39/39 [==============================] - 1s 33ms/step - loss: 1.3265 - accuracy: 0.5765 - val_loss: 2.3898 - val_accuracy: 0.6189\n",
            "Epoch 152/250\n",
            "39/39 [==============================] - 1s 33ms/step - loss: 1.3398 - accuracy: 0.5749 - val_loss: 2.4500 - val_accuracy: 0.6091\n",
            "Epoch 153/250\n",
            "39/39 [==============================] - 1s 33ms/step - loss: 1.3282 - accuracy: 0.5676 - val_loss: 2.4557 - val_accuracy: 0.6091\n",
            "Epoch 154/250\n",
            "39/39 [==============================] - 1s 33ms/step - loss: 1.3115 - accuracy: 0.5708 - val_loss: 2.4850 - val_accuracy: 0.6254\n",
            "Epoch 155/250\n",
            "39/39 [==============================] - 1s 33ms/step - loss: 1.3388 - accuracy: 0.5611 - val_loss: 2.6043 - val_accuracy: 0.6124\n",
            "Epoch 156/250\n",
            "39/39 [==============================] - 1s 33ms/step - loss: 1.3839 - accuracy: 0.5611 - val_loss: 2.4310 - val_accuracy: 0.6156\n",
            "Epoch 157/250\n",
            "39/39 [==============================] - 1s 33ms/step - loss: 1.4462 - accuracy: 0.5554 - val_loss: 2.8924 - val_accuracy: 0.6091\n",
            "Epoch 158/250\n",
            "39/39 [==============================] - 1s 33ms/step - loss: 1.3213 - accuracy: 0.5757 - val_loss: 2.5053 - val_accuracy: 0.6287\n",
            "Epoch 159/250\n",
            "39/39 [==============================] - 1s 33ms/step - loss: 1.3264 - accuracy: 0.5863 - val_loss: 2.3969 - val_accuracy: 0.6417\n",
            "Epoch 160/250\n",
            "39/39 [==============================] - 1s 33ms/step - loss: 1.2904 - accuracy: 0.5814 - val_loss: 2.6777 - val_accuracy: 0.5863\n",
            "Epoch 161/250\n",
            "39/39 [==============================] - 1s 33ms/step - loss: 1.2905 - accuracy: 0.5831 - val_loss: 2.3221 - val_accuracy: 0.6059\n",
            "Epoch 162/250\n",
            "39/39 [==============================] - 1s 33ms/step - loss: 1.3122 - accuracy: 0.5863 - val_loss: 2.3710 - val_accuracy: 0.5863\n",
            "Epoch 163/250\n",
            "39/39 [==============================] - 1s 33ms/step - loss: 1.3136 - accuracy: 0.5822 - val_loss: 2.3701 - val_accuracy: 0.5928\n",
            "Epoch 164/250\n",
            "39/39 [==============================] - 1s 33ms/step - loss: 1.3226 - accuracy: 0.5627 - val_loss: 2.2869 - val_accuracy: 0.6059\n",
            "Epoch 165/250\n",
            "39/39 [==============================] - 1s 33ms/step - loss: 1.2612 - accuracy: 0.5855 - val_loss: 2.5226 - val_accuracy: 0.6059\n",
            "Epoch 166/250\n",
            "39/39 [==============================] - 1s 33ms/step - loss: 1.2664 - accuracy: 0.5831 - val_loss: 2.5706 - val_accuracy: 0.5993\n",
            "Epoch 167/250\n",
            "39/39 [==============================] - 1s 33ms/step - loss: 1.2531 - accuracy: 0.5822 - val_loss: 2.7948 - val_accuracy: 0.6156\n",
            "Epoch 168/250\n",
            "39/39 [==============================] - 1s 33ms/step - loss: 1.2608 - accuracy: 0.5928 - val_loss: 2.6703 - val_accuracy: 0.5993\n",
            "Epoch 169/250\n",
            "39/39 [==============================] - 1s 33ms/step - loss: 1.2647 - accuracy: 0.5904 - val_loss: 2.6639 - val_accuracy: 0.6026\n",
            "Epoch 170/250\n",
            "39/39 [==============================] - 1s 33ms/step - loss: 1.2648 - accuracy: 0.5879 - val_loss: 2.5652 - val_accuracy: 0.5993\n",
            "Epoch 171/250\n",
            "39/39 [==============================] - 1s 33ms/step - loss: 1.1942 - accuracy: 0.6067 - val_loss: 2.6686 - val_accuracy: 0.6156\n",
            "Epoch 172/250\n",
            "39/39 [==============================] - 1s 33ms/step - loss: 1.2264 - accuracy: 0.6034 - val_loss: 2.6218 - val_accuracy: 0.6026\n",
            "Epoch 173/250\n",
            "39/39 [==============================] - 1s 33ms/step - loss: 1.2693 - accuracy: 0.5920 - val_loss: 2.4296 - val_accuracy: 0.6384\n",
            "Epoch 174/250\n",
            "39/39 [==============================] - 1s 33ms/step - loss: 1.2629 - accuracy: 0.5822 - val_loss: 2.5778 - val_accuracy: 0.6287\n",
            "Epoch 175/250\n",
            "39/39 [==============================] - 1s 33ms/step - loss: 1.2207 - accuracy: 0.5985 - val_loss: 2.5679 - val_accuracy: 0.6384\n",
            "Epoch 176/250\n",
            "39/39 [==============================] - 1s 33ms/step - loss: 1.2639 - accuracy: 0.5879 - val_loss: 2.6526 - val_accuracy: 0.6026\n",
            "Epoch 177/250\n",
            "39/39 [==============================] - 1s 33ms/step - loss: 1.1820 - accuracy: 0.6181 - val_loss: 2.7243 - val_accuracy: 0.6059\n",
            "Epoch 178/250\n",
            "39/39 [==============================] - 1s 33ms/step - loss: 1.2311 - accuracy: 0.6026 - val_loss: 2.9032 - val_accuracy: 0.5961\n",
            "Epoch 179/250\n",
            "39/39 [==============================] - 1s 33ms/step - loss: 1.2524 - accuracy: 0.5863 - val_loss: 2.9000 - val_accuracy: 0.6189\n",
            "Epoch 180/250\n",
            "39/39 [==============================] - 1s 33ms/step - loss: 1.2394 - accuracy: 0.5806 - val_loss: 2.7633 - val_accuracy: 0.6287\n",
            "Epoch 181/250\n",
            "39/39 [==============================] - 1s 33ms/step - loss: 1.2023 - accuracy: 0.5912 - val_loss: 2.9682 - val_accuracy: 0.6221\n",
            "Epoch 182/250\n",
            "39/39 [==============================] - 1s 33ms/step - loss: 1.2590 - accuracy: 0.5806 - val_loss: 2.8051 - val_accuracy: 0.6124\n",
            "Epoch 183/250\n",
            "39/39 [==============================] - 1s 33ms/step - loss: 1.2731 - accuracy: 0.5953 - val_loss: 2.7236 - val_accuracy: 0.6254\n",
            "Epoch 184/250\n",
            "39/39 [==============================] - 1s 33ms/step - loss: 1.2353 - accuracy: 0.6018 - val_loss: 2.8106 - val_accuracy: 0.6189\n",
            "Epoch 185/250\n",
            "39/39 [==============================] - 1s 33ms/step - loss: 1.1869 - accuracy: 0.6002 - val_loss: 2.9431 - val_accuracy: 0.6189\n",
            "Epoch 186/250\n",
            "39/39 [==============================] - 1s 33ms/step - loss: 1.2346 - accuracy: 0.5774 - val_loss: 2.9270 - val_accuracy: 0.6287\n",
            "Epoch 187/250\n",
            "39/39 [==============================] - 1s 33ms/step - loss: 1.2057 - accuracy: 0.5879 - val_loss: 2.9700 - val_accuracy: 0.6254\n",
            "Epoch 188/250\n",
            "39/39 [==============================] - 1s 33ms/step - loss: 1.1573 - accuracy: 0.6246 - val_loss: 2.9720 - val_accuracy: 0.6287\n",
            "Epoch 189/250\n",
            "39/39 [==============================] - 1s 34ms/step - loss: 1.2006 - accuracy: 0.5920 - val_loss: 2.8423 - val_accuracy: 0.6189\n",
            "Epoch 190/250\n",
            "39/39 [==============================] - 1s 33ms/step - loss: 1.2324 - accuracy: 0.5945 - val_loss: 2.9391 - val_accuracy: 0.6287\n",
            "Epoch 191/250\n",
            "39/39 [==============================] - 1s 33ms/step - loss: 1.1796 - accuracy: 0.6107 - val_loss: 3.0566 - val_accuracy: 0.6319\n",
            "Epoch 192/250\n",
            "39/39 [==============================] - 1s 33ms/step - loss: 1.1525 - accuracy: 0.6221 - val_loss: 3.0860 - val_accuracy: 0.6254\n",
            "Epoch 193/250\n",
            "39/39 [==============================] - 1s 33ms/step - loss: 1.2360 - accuracy: 0.5888 - val_loss: 2.9862 - val_accuracy: 0.6156\n",
            "Epoch 194/250\n",
            "39/39 [==============================] - 1s 33ms/step - loss: 1.1918 - accuracy: 0.5888 - val_loss: 3.2358 - val_accuracy: 0.6221\n",
            "Epoch 195/250\n",
            "39/39 [==============================] - 1s 33ms/step - loss: 1.2241 - accuracy: 0.6018 - val_loss: 2.8941 - val_accuracy: 0.6124\n",
            "Epoch 196/250\n",
            "39/39 [==============================] - 1s 33ms/step - loss: 1.1916 - accuracy: 0.6034 - val_loss: 3.0787 - val_accuracy: 0.6091\n",
            "Epoch 197/250\n",
            "39/39 [==============================] - 1s 33ms/step - loss: 1.2235 - accuracy: 0.5847 - val_loss: 3.0624 - val_accuracy: 0.6384\n",
            "Epoch 198/250\n",
            "39/39 [==============================] - 1s 33ms/step - loss: 1.1997 - accuracy: 0.6067 - val_loss: 2.9824 - val_accuracy: 0.6221\n",
            "Epoch 199/250\n",
            "39/39 [==============================] - 1s 33ms/step - loss: 1.1676 - accuracy: 0.6173 - val_loss: 3.1671 - val_accuracy: 0.6287\n",
            "Epoch 200/250\n",
            "39/39 [==============================] - 1s 33ms/step - loss: 1.1534 - accuracy: 0.6091 - val_loss: 3.2789 - val_accuracy: 0.6287\n",
            "Epoch 201/250\n",
            "39/39 [==============================] - 1s 33ms/step - loss: 1.1655 - accuracy: 0.6230 - val_loss: 3.3066 - val_accuracy: 0.5896\n",
            "Epoch 202/250\n",
            "39/39 [==============================] - 1s 33ms/step - loss: 1.1622 - accuracy: 0.6303 - val_loss: 3.0436 - val_accuracy: 0.6221\n",
            "Epoch 203/250\n",
            "39/39 [==============================] - 1s 33ms/step - loss: 1.2036 - accuracy: 0.6067 - val_loss: 3.2080 - val_accuracy: 0.6254\n",
            "Epoch 204/250\n",
            "39/39 [==============================] - 1s 33ms/step - loss: 1.1468 - accuracy: 0.6254 - val_loss: 3.3690 - val_accuracy: 0.6026\n",
            "Epoch 205/250\n",
            "39/39 [==============================] - 1s 34ms/step - loss: 1.1481 - accuracy: 0.6156 - val_loss: 3.0728 - val_accuracy: 0.6124\n",
            "Epoch 206/250\n",
            "39/39 [==============================] - 1s 33ms/step - loss: 1.1884 - accuracy: 0.6010 - val_loss: 3.3368 - val_accuracy: 0.6156\n",
            "Epoch 207/250\n",
            "39/39 [==============================] - 1s 33ms/step - loss: 1.1586 - accuracy: 0.6213 - val_loss: 3.1628 - val_accuracy: 0.6319\n",
            "Epoch 208/250\n",
            "39/39 [==============================] - 1s 33ms/step - loss: 1.1936 - accuracy: 0.6205 - val_loss: 2.9322 - val_accuracy: 0.6156\n",
            "Epoch 209/250\n",
            "39/39 [==============================] - 1s 33ms/step - loss: 1.1420 - accuracy: 0.6246 - val_loss: 3.1663 - val_accuracy: 0.6221\n",
            "Epoch 210/250\n",
            "39/39 [==============================] - 1s 33ms/step - loss: 1.1472 - accuracy: 0.6238 - val_loss: 3.3813 - val_accuracy: 0.6156\n",
            "Epoch 211/250\n",
            "39/39 [==============================] - 1s 33ms/step - loss: 1.1704 - accuracy: 0.6156 - val_loss: 2.9290 - val_accuracy: 0.6059\n",
            "Epoch 212/250\n",
            "39/39 [==============================] - 1s 33ms/step - loss: 1.2268 - accuracy: 0.6091 - val_loss: 2.6534 - val_accuracy: 0.6254\n",
            "Epoch 213/250\n",
            "39/39 [==============================] - 1s 33ms/step - loss: 1.1055 - accuracy: 0.6360 - val_loss: 2.8943 - val_accuracy: 0.6287\n",
            "Epoch 214/250\n",
            "39/39 [==============================] - 1s 33ms/step - loss: 1.1880 - accuracy: 0.6002 - val_loss: 2.7510 - val_accuracy: 0.6384\n",
            "Epoch 215/250\n",
            "39/39 [==============================] - 1s 33ms/step - loss: 1.1783 - accuracy: 0.6173 - val_loss: 2.9888 - val_accuracy: 0.6287\n",
            "Epoch 216/250\n",
            "39/39 [==============================] - 1s 33ms/step - loss: 1.2092 - accuracy: 0.6213 - val_loss: 3.0335 - val_accuracy: 0.6352\n",
            "Epoch 217/250\n",
            "39/39 [==============================] - 1s 34ms/step - loss: 1.1959 - accuracy: 0.6189 - val_loss: 3.2414 - val_accuracy: 0.6221\n",
            "Epoch 218/250\n",
            "39/39 [==============================] - 1s 33ms/step - loss: 1.2027 - accuracy: 0.6050 - val_loss: 2.8587 - val_accuracy: 0.6124\n",
            "Epoch 219/250\n",
            "39/39 [==============================] - 1s 33ms/step - loss: 1.1587 - accuracy: 0.6124 - val_loss: 2.8591 - val_accuracy: 0.6189\n",
            "Epoch 220/250\n",
            "39/39 [==============================] - 1s 33ms/step - loss: 1.1316 - accuracy: 0.6311 - val_loss: 2.9130 - val_accuracy: 0.6189\n",
            "Epoch 221/250\n",
            "39/39 [==============================] - 1s 33ms/step - loss: 1.0993 - accuracy: 0.6384 - val_loss: 3.0920 - val_accuracy: 0.6189\n",
            "Epoch 222/250\n",
            "39/39 [==============================] - 1s 33ms/step - loss: 1.1427 - accuracy: 0.6189 - val_loss: 3.2407 - val_accuracy: 0.6221\n",
            "Epoch 223/250\n",
            "39/39 [==============================] - 1s 33ms/step - loss: 1.1080 - accuracy: 0.6360 - val_loss: 3.1873 - val_accuracy: 0.6254\n",
            "Epoch 224/250\n",
            "39/39 [==============================] - 1s 33ms/step - loss: 1.0828 - accuracy: 0.6376 - val_loss: 2.9270 - val_accuracy: 0.6319\n",
            "Epoch 225/250\n",
            "39/39 [==============================] - 1s 33ms/step - loss: 1.0934 - accuracy: 0.6327 - val_loss: 2.8347 - val_accuracy: 0.6221\n",
            "Epoch 226/250\n",
            "39/39 [==============================] - 1s 33ms/step - loss: 1.0869 - accuracy: 0.6474 - val_loss: 3.1820 - val_accuracy: 0.6319\n",
            "Epoch 227/250\n",
            "39/39 [==============================] - 1s 33ms/step - loss: 1.1137 - accuracy: 0.6490 - val_loss: 3.3651 - val_accuracy: 0.6156\n",
            "Epoch 228/250\n",
            "39/39 [==============================] - 1s 34ms/step - loss: 1.1494 - accuracy: 0.6246 - val_loss: 3.2656 - val_accuracy: 0.6254\n",
            "Epoch 229/250\n",
            "39/39 [==============================] - 1s 34ms/step - loss: 1.1148 - accuracy: 0.6319 - val_loss: 3.3639 - val_accuracy: 0.6352\n",
            "Epoch 230/250\n",
            "39/39 [==============================] - 1s 34ms/step - loss: 1.0904 - accuracy: 0.6507 - val_loss: 3.4173 - val_accuracy: 0.6221\n",
            "Epoch 231/250\n",
            "39/39 [==============================] - 1s 35ms/step - loss: 1.1233 - accuracy: 0.6311 - val_loss: 3.1965 - val_accuracy: 0.6156\n",
            "Epoch 232/250\n",
            "39/39 [==============================] - 1s 34ms/step - loss: 1.1287 - accuracy: 0.6164 - val_loss: 3.5799 - val_accuracy: 0.6156\n",
            "Epoch 233/250\n",
            "39/39 [==============================] - 1s 34ms/step - loss: 1.1999 - accuracy: 0.6107 - val_loss: 3.2195 - val_accuracy: 0.6189\n",
            "Epoch 234/250\n",
            "39/39 [==============================] - 1s 35ms/step - loss: 1.1485 - accuracy: 0.6336 - val_loss: 3.4091 - val_accuracy: 0.6059\n",
            "Epoch 235/250\n",
            "39/39 [==============================] - 1s 33ms/step - loss: 1.1137 - accuracy: 0.6319 - val_loss: 3.4257 - val_accuracy: 0.6221\n",
            "Epoch 236/250\n",
            "39/39 [==============================] - 1s 33ms/step - loss: 1.1040 - accuracy: 0.6368 - val_loss: 3.4185 - val_accuracy: 0.6026\n",
            "Epoch 237/250\n",
            "39/39 [==============================] - 1s 33ms/step - loss: 1.1778 - accuracy: 0.6140 - val_loss: 3.2650 - val_accuracy: 0.6254\n",
            "Epoch 238/250\n",
            "39/39 [==============================] - 1s 33ms/step - loss: 1.1025 - accuracy: 0.6352 - val_loss: 3.0832 - val_accuracy: 0.6352\n",
            "Epoch 239/250\n",
            "39/39 [==============================] - 1s 33ms/step - loss: 1.1069 - accuracy: 0.6425 - val_loss: 3.1036 - val_accuracy: 0.6417\n",
            "Epoch 240/250\n",
            "39/39 [==============================] - 1s 33ms/step - loss: 1.0518 - accuracy: 0.6490 - val_loss: 3.1181 - val_accuracy: 0.6156\n",
            "Epoch 241/250\n",
            "39/39 [==============================] - 1s 33ms/step - loss: 1.0619 - accuracy: 0.6433 - val_loss: 3.2370 - val_accuracy: 0.6189\n",
            "Epoch 242/250\n",
            "39/39 [==============================] - 1s 33ms/step - loss: 1.0782 - accuracy: 0.6360 - val_loss: 3.1506 - val_accuracy: 0.6091\n",
            "Epoch 243/250\n",
            "39/39 [==============================] - 1s 33ms/step - loss: 1.1091 - accuracy: 0.6319 - val_loss: 3.2841 - val_accuracy: 0.6254\n",
            "Epoch 244/250\n",
            "39/39 [==============================] - 1s 33ms/step - loss: 1.0629 - accuracy: 0.6417 - val_loss: 3.1085 - val_accuracy: 0.6352\n",
            "Epoch 245/250\n",
            "39/39 [==============================] - 1s 33ms/step - loss: 1.0774 - accuracy: 0.6425 - val_loss: 3.3249 - val_accuracy: 0.6221\n",
            "Epoch 246/250\n",
            "39/39 [==============================] - 1s 33ms/step - loss: 1.0753 - accuracy: 0.6425 - val_loss: 3.2722 - val_accuracy: 0.6482\n",
            "Epoch 247/250\n",
            "39/39 [==============================] - 1s 33ms/step - loss: 1.0844 - accuracy: 0.6107 - val_loss: 3.1991 - val_accuracy: 0.6319\n",
            "Epoch 248/250\n",
            "39/39 [==============================] - 1s 33ms/step - loss: 1.1436 - accuracy: 0.6360 - val_loss: 3.1262 - val_accuracy: 0.6287\n",
            "Epoch 249/250\n",
            "39/39 [==============================] - 1s 33ms/step - loss: 1.0690 - accuracy: 0.6417 - val_loss: 3.0991 - val_accuracy: 0.6156\n",
            "Epoch 250/250\n",
            "39/39 [==============================] - 1s 33ms/step - loss: 1.0716 - accuracy: 0.6580 - val_loss: 3.3235 - val_accuracy: 0.6156\n"
          ],
          "name": "stdout"
        }
      ]
    },
    {
      "cell_type": "code",
      "metadata": {
        "id": "MiEPEW5_WeIS",
        "colab_type": "code",
        "colab": {
          "base_uri": "https://localhost:8080/",
          "height": 282
        },
        "outputId": "86ddf776-8a4b-4704-ce61-9fe7adbfc0eb"
      },
      "source": [
        "plt.plot(history.history['accuracy'])\n",
        "plt.plot(history.history['val_accuracy'])\n",
        "\n",
        "plt.legend(['accuracy', 'val_accuracy'])"
      ],
      "execution_count": 256,
      "outputs": [
        {
          "output_type": "execute_result",
          "data": {
            "text/plain": [
              "<matplotlib.legend.Legend at 0x7ff0190d8c50>"
            ]
          },
          "metadata": {
            "tags": []
          },
          "execution_count": 256
        },
        {
          "output_type": "display_data",
          "data": {
            "image/png": "[encoded data removed]",
            "text/plain": [
              "<Figure size 432x288 with 1 Axes>"
            ]
          },
          "metadata": {
            "tags": [],
            "needs_background": "light"
          }
        }
      ]
    },
    {
      "cell_type": "markdown",
      "metadata": {
        "id": "YALc_iDiXloB",
        "colab_type": "text"
      },
      "source": [
        "### Model Predict"
      ]
    },
    {
      "cell_type": "code",
      "metadata": {
        "id": "bEW5Bh7PZXh7",
        "colab_type": "code",
        "colab": {}
      },
      "source": [
        "def padding_doc(encoded_doc, max_length):\n",
        "  return(pad_sequences(encoded_doc, maxlen = max_length, padding = \"post\"))"
      ],
      "execution_count": 257,
      "outputs": []
    },
    {
      "cell_type": "code",
      "metadata": {
        "id": "Ptxl97vbfgZv",
        "colab_type": "code",
        "colab": {}
      },
      "source": [
        "intent_map = {}\n",
        "for intent, onehot_intent in zip(data['intent'].values, test_data):\n",
        "  if (intent not in intent_map):\n",
        "    intent_map[intent] = list(onehot_intent).index(1)"
      ],
      "execution_count": 258,
      "outputs": []
    },
    {
      "cell_type": "code",
      "metadata": {
        "id": "EWGcFKEFYvTC",
        "colab_type": "code",
        "colab": {}
      },
      "source": [
        "def predict(text):\n",
        "  # Clean the text first\n",
        "  cleaned_text = re.sub(r'[^ a-z A-Z 0-9]', \" \", text)\n",
        "  test_word = word_tokenize(cleaned_text)\n",
        "  test_word = [w.lower() for w in test_word]\n",
        "  test_ls = tokenizer.texts_to_sequences(test_word)\n",
        "\n",
        "  # Check for unknown words\n",
        "  if [] in test_ls:\n",
        "    test_ls = list(filter(None, test_ls))\n",
        "    \n",
        "  test_ls = np.array(test_ls).reshape(1, len(test_ls))\n",
        "  x = padding_doc(test_ls, max_length)\n",
        "  \n",
        "  prediction_result = model.predict(x)\n",
        "  prediction_result = prediction_result[0]\n",
        "\n",
        "  # convert prediction result to intent word\n",
        "  unique_intents = np.array(list(set(data['intent'])))\n",
        "\n",
        "  # sort value by intent ranking\n",
        "  intent_ranking = {}\n",
        "  for each_intent in unique_intents:\n",
        "    intent_ranking[each_intent] = prediction_result[intent_map[each_intent]]\n",
        "\n",
        "  sorted_intent_ranking = sorted(intent_ranking.items(), key=lambda kv: kv[1], reverse=True)\n",
        "\n",
        "  print(\"Intent Ranking:\")\n",
        "  for each_intent in sorted_intent_ranking:\n",
        "    print(each_intent[0] + \"= \" + str(each_intent[1]) + \" confidence\")"
      ],
      "execution_count": 259,
      "outputs": []
    },
    {
      "cell_type": "code",
      "metadata": {
        "id": "uWHeVaXvZZRP",
        "colab_type": "code",
        "colab": {
          "base_uri": "https://localhost:8080/",
          "height": 1000
        },
        "outputId": "64f7882c-a65b-48f8-e7c0-0e95ec932d06"
      },
      "source": [
        "predict(\"berapa nomor npwp saya\")"
      ],
      "execution_count": 262,
      "outputs": [
        {
          "output_type": "stream",
          "text": [
            "Intent Ranking:\n",
            "ask_npwp= 0.999974 confidence\n",
            "ask_absence_attendance_status_policy= 1.8835635e-05 confidence\n",
            "ask_bpjs_membership= 6.9913053e-06 confidence\n",
            "ask_holiday= 1.1581014e-07 confidence\n",
            "ask_identity_card= 2.0955901e-10 confidence\n",
            "ask_subordinate= 2.6900353e-11 confidence\n",
            "ask_company= 2.2417858e-11 confidence\n",
            "ask_location= 6.2787763e-13 confidence\n",
            "approval_status= 3.8045877e-14 confidence\n",
            "ask_shift= 1.3207748e-14 confidence\n",
            "ask_allowance= 9.716985e-18 confidence\n",
            "approval= 7.6578763e-19 confidence\n",
            "ask_personal_detail= 7.5749856e-19 confidence\n",
            "leave_cancellation_ask_approval_status= 8.993553e-21 confidence\n",
            "absence= 1.2729709e-21 confidence\n",
            "help= 5.9794874e-22 confidence\n",
            "leave_entry_ask_dates= 2.6074233e-24 confidence\n",
            "ask_ump= 2.429876e-24 confidence\n",
            "ask_bpjs_treatment_class= 1.4075977e-24 confidence\n",
            "ask_employment_detail= 3.1239153e-25 confidence\n",
            "register_user_ask_tenant= 5.509286e-26 confidence\n",
            "approval_ask_parameter= 1.8159443e-27 confidence\n",
            "ask_additional_income_prerequisite_after_terminated= 1.38213e-27 confidence\n",
            "ask_additional_income_prerequisite= 1.2101966e-27 confidence\n",
            "absence_cancellation= 2.4843832e-28 confidence\n",
            "ask_allowance_select_type= 7.203594e-29 confidence\n",
            "ask_retirement_age= 2.1599759e-29 confidence\n",
            "balance= 1.1967078e-29 confidence\n",
            "ask_exceed_leave_balance_status= 4.9717505e-30 confidence\n",
            "snooze_notification= 1.497444e-30 confidence\n",
            "ask_bpjs_additional_family= 5.975239e-32 confidence\n",
            "ask_supervisor= 5.9539615e-33 confidence\n",
            "overtime_cancellation_ask_parameter= 8.46212e-34 confidence\n",
            "absence_cancellation_ask_parameter= 3.069691e-34 confidence\n",
            "reimburse_ask_reimbursement_item_number= 2.775775e-34 confidence\n",
            "leave_cancellation_ask_number= 8.882029e-36 confidence\n",
            "absence_ask_parameter= 2.686617e-36 confidence\n",
            "ask_attendance_formula= 2.6523404e-36 confidence\n",
            "ask_family_card_number= 0.0 confidence\n",
            "approve_overtime_notification_ask_paid= 0.0 confidence\n",
            "extend_leave= 0.0 confidence\n",
            "revoke_user_ask_confirmation= 0.0 confidence\n",
            "overtime= 0.0 confidence\n",
            "register_user= 0.0 confidence\n",
            "cancel= 0.0 confidence\n",
            "overtime_ask_confirmation= 0.0 confidence\n",
            "overtime_approval_ask_paid= 0.0 confidence\n",
            "register_user_resend_verification_code= 0.0 confidence\n",
            "absence_cancellation_ask_confirmation= 0.0 confidence\n",
            "leave_entry= 0.0 confidence\n",
            "approve_overtime_notification_ask_template_number= 0.0 confidence\n",
            "leave_cancellation_ask_confirmation= 0.0 confidence\n",
            "disable_push_notification_ask_type= 0.0 confidence\n",
            "overtime_approval_ask_confirmation= 0.0 confidence\n",
            "reimbursement_approval_ask_confirmation= 0.0 confidence\n",
            "absence_ask_confirmation= 0.0 confidence\n",
            "register_user_ask_verification_code= 0.0 confidence\n",
            "ask_payroll_cutoff_date_select_type= 0.0 confidence\n",
            "reimbursement_approval_ask_balance= 0.0 confidence\n",
            "approval_status_ask_status= 0.0 confidence\n",
            "download_payslip= 0.0 confidence\n",
            "approval_ask_confirmation= 0.0 confidence\n",
            "approve_overtime_notification_ask_confirmation= 0.0 confidence\n",
            "revoke_user= 0.0 confidence\n",
            "overtime_approval_ask_template_number= 0.0 confidence\n",
            "balance_next= 0.0 confidence\n",
            "overtime_approval_ask_parameter= 0.0 confidence\n",
            "reject_notification_ask_reason= 0.0 confidence\n",
            "default_fallback_intent= 0.0 confidence\n",
            "overtime_ask_date= 0.0 confidence\n",
            "disable_push_notification= 0.0 confidence\n",
            "leave_entry_ask_leave_type= 0.0 confidence\n",
            "enable_push_notification= 0.0 confidence\n",
            "approve_reimbursement_claim_notification_ask_amount= 0.0 confidence\n",
            "reimbursement_approval_ask_parameter= 0.0 confidence\n",
            "reimburse= 0.0 confidence\n",
            "reimburse_ask_family_member= 0.0 confidence\n",
            "overtime_ask_start_time= 0.0 confidence\n",
            "ask_dental_facility= 0.0 confidence\n",
            "thank_you= 0.0 confidence\n",
            "ask_lateness_deduct_overtime= 0.0 confidence\n",
            "approve_reimbursement_claim_notification_ask_confirmation= 0.0 confidence\n",
            "leave_cancellation_approved_ask_date= 0.0 confidence\n",
            "ask_overtime_calculation_method= 0.0 confidence\n",
            "ask_payroll_cutoff_date= 0.0 confidence\n",
            "leave_balance_detail= 0.0 confidence\n",
            "overtime_cancellation= 0.0 confidence\n",
            "overtime_cancellation_ask_confirmation= 0.0 confidence\n",
            "absence_ask_absence_status_number= 0.0 confidence\n",
            "ask_catapa= 0.0 confidence\n",
            "balance_previous= 0.0 confidence\n",
            "enable_push_notification_ask_type= 0.0 confidence\n",
            "ask_claudia= 0.0 confidence\n",
            "reject_notification_ask_confirmation= 0.0 confidence\n",
            "reimburse_ask_confirmation= 0.0 confidence\n",
            "ask_healthcare_facility= 0.0 confidence\n",
            "offer_help= 0.0 confidence\n",
            "leave_cancellation= 0.0 confidence\n",
            "see_approval_detail_notification_ask_approve_reject= 0.0 confidence\n",
            "leave_entry_ask_confirmation= 0.0 confidence\n",
            "reimburse_ask_claimed_amount= 0.0 confidence\n",
            "approve_notification_ask_confirmation= 0.0 confidence\n",
            "leave_entry_half_day_ask_start_time= 0.0 confidence\n"
          ],
          "name": "stdout"
        }
      ]
    },
    {
      "cell_type": "code",
      "metadata": {
        "id": "Q7lRBeJYu-X8",
        "colab_type": "code",
        "colab": {}
      },
      "source": [
        ""
      ],
      "execution_count": null,
      "outputs": []
    }
  ]
}