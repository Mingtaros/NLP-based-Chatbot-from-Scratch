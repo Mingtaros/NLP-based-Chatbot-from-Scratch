{
  "nbformat": 4,
  "nbformat_minor": 0,
  "metadata": {
    "colab": {
      "name": "Intent Classification Keras.ipynb",
      "provenance": [],
      "collapsed_sections": []
    },
    "kernelspec": {
      "name": "python3",
      "display_name": "Python 3"
    },
    "accelerator": "GPU"
  },
  "cells": [
    {
      "cell_type": "markdown",
      "metadata": {
        "id": "cq9_ekc_QASY",
        "colab_type": "text"
      },
      "source": [
        "# Intent Classification using Keras"
      ]
    },
    {
      "cell_type": "code",
      "metadata": {
        "id": "H7TFYlPSRMgw",
        "colab_type": "code",
        "colab": {
          "base_uri": "https://localhost:8080/",
          "height": 68
        },
        "outputId": "f4c6db3a-bec8-44b0-bc3b-e5f26dd4df25"
      },
      "source": [
        "import nltk\n",
        "nltk.download('punkt')"
      ],
      "execution_count": 203,
      "outputs": [
        {
          "output_type": "stream",
          "text": [
            "[nltk_data] Downloading package punkt to /root/nltk_data...\n",
            "[nltk_data]   Package punkt is already up-to-date!\n"
          ],
          "name": "stdout"
        },
        {
          "output_type": "execute_result",
          "data": {
            "text/plain": [
              "True"
            ]
          },
          "metadata": {
            "tags": []
          },
          "execution_count": 203
        }
      ]
    },
    {
      "cell_type": "code",
      "metadata": {
        "id": "Or2ggueYLUuU",
        "colab_type": "code",
        "colab": {}
      },
      "source": [
        "# Data Processing - Main\n",
        "import numpy as np\n",
        "import pandas as pd\n",
        "import re\n",
        "\n",
        "# Data Processing - Tokenizer and Encoder\n",
        "from tensorflow.keras.preprocessing.text import Tokenizer\n",
        "from tensorflow.keras.preprocessing.sequence import pad_sequences\n",
        "from nltk import word_tokenize\n",
        "from sklearn.preprocessing import OneHotEncoder\n",
        "\n",
        "# Data Processing - Splitting\n",
        "from sklearn.model_selection import train_test_split\n",
        "\n",
        "# Visualization\n",
        "import matplotlib.pyplot as plt\n",
        "import seaborn\n",
        "%matplotlib inline\n",
        "\n",
        "# Machine Learning\n",
        "import tensorflow as tf\n",
        "from tensorflow.keras.models import Sequential\n",
        "from tensorflow.keras.layers import Embedding, Dense, Bidirectional, LSTM, Dropout"
      ],
      "execution_count": 204,
      "outputs": []
    },
    {
      "cell_type": "code",
      "metadata": {
        "id": "Oy-lflMILcGK",
        "colab_type": "code",
        "colab": {
          "base_uri": "https://localhost:8080/",
          "height": 34
        },
        "outputId": "7395bd29-fca0-4bec-8205-f3725810b6a6"
      },
      "source": [
        "# test gpu availability\n",
        "tf.config.list_physical_devices('GPU')"
      ],
      "execution_count": 205,
      "outputs": [
        {
          "output_type": "execute_result",
          "data": {
            "text/plain": [
              "[PhysicalDevice(name='/physical_device:GPU:0', device_type='GPU')]"
            ]
          },
          "metadata": {
            "tags": []
          },
          "execution_count": 205
        }
      ]
    },
    {
      "cell_type": "code",
      "metadata": {
        "id": "mvT6mybCMSrR",
        "colab_type": "code",
        "colab": {}
      },
      "source": [
        "RANDOM_SEED = 13517048\n",
        "np.random.seed(RANDOM_SEED)"
      ],
      "execution_count": 206,
      "outputs": []
    },
    {
      "cell_type": "markdown",
      "metadata": {
        "id": "N1MYop3XQGcX",
        "colab_type": "text"
      },
      "source": [
        "## Data Cleaning"
      ]
    },
    {
      "cell_type": "code",
      "metadata": {
        "id": "NkMo3bXBMziv",
        "colab_type": "code",
        "colab": {
          "base_uri": "https://localhost:8080/",
          "height": 359
        },
        "outputId": "a4afe000-c480-49ba-e7ba-82bf419d1bfb"
      },
      "source": [
        "data = pd.read_csv(\"nlu.csv\")\n",
        "data.head(10)"
      ],
      "execution_count": 207,
      "outputs": [
        {
          "output_type": "execute_result",
          "data": {
            "text/html": [
              "<div>\n",
              "<style scoped>\n",
              "    .dataframe tbody tr th:only-of-type {\n",
              "        vertical-align: middle;\n",
              "    }\n",
              "\n",
              "    .dataframe tbody tr th {\n",
              "        vertical-align: top;\n",
              "    }\n",
              "\n",
              "    .dataframe thead th {\n",
              "        text-align: right;\n",
              "    }\n",
              "</style>\n",
              "<table border=\"1\" class=\"dataframe\">\n",
              "  <thead>\n",
              "    <tr style=\"text-align: right;\">\n",
              "      <th></th>\n",
              "      <th>text</th>\n",
              "      <th>intent</th>\n",
              "    </tr>\n",
              "  </thead>\n",
              "  <tbody>\n",
              "    <tr>\n",
              "      <th>0</th>\n",
              "      <td>mau absen 11-14 februari 2020</td>\n",
              "      <td>absence</td>\n",
              "    </tr>\n",
              "    <tr>\n",
              "      <th>1</th>\n",
              "      <td>mau absen 11 - 14 februari 2020</td>\n",
              "      <td>absence</td>\n",
              "    </tr>\n",
              "    <tr>\n",
              "      <th>2</th>\n",
              "      <td>sick leave besok</td>\n",
              "      <td>absence</td>\n",
              "    </tr>\n",
              "    <tr>\n",
              "      <th>3</th>\n",
              "      <td>aku mau absence besok</td>\n",
              "      <td>absence</td>\n",
              "    </tr>\n",
              "    <tr>\n",
              "      <th>4</th>\n",
              "      <td>change working hours besok</td>\n",
              "      <td>absence</td>\n",
              "    </tr>\n",
              "    <tr>\n",
              "      <th>5</th>\n",
              "      <td>change working hour besok</td>\n",
              "      <td>absence</td>\n",
              "    </tr>\n",
              "    <tr>\n",
              "      <th>6</th>\n",
              "      <td>absen besok</td>\n",
              "      <td>absence</td>\n",
              "    </tr>\n",
              "    <tr>\n",
              "      <th>7</th>\n",
              "      <td>change working hours</td>\n",
              "      <td>absence</td>\n",
              "    </tr>\n",
              "    <tr>\n",
              "      <th>8</th>\n",
              "      <td>sick leave</td>\n",
              "      <td>absence</td>\n",
              "    </tr>\n",
              "    <tr>\n",
              "      <th>9</th>\n",
              "      <td>mau absen tanggal 10-11 januari 2012</td>\n",
              "      <td>absence</td>\n",
              "    </tr>\n",
              "  </tbody>\n",
              "</table>\n",
              "</div>"
            ],
            "text/plain": [
              "                                   text   intent\n",
              "0         mau absen 11-14 februari 2020  absence\n",
              "1       mau absen 11 - 14 februari 2020  absence\n",
              "2                      sick leave besok  absence\n",
              "3                 aku mau absence besok  absence\n",
              "4            change working hours besok  absence\n",
              "5             change working hour besok  absence\n",
              "6                           absen besok  absence\n",
              "7                  change working hours  absence\n",
              "8                            sick leave  absence\n",
              "9  mau absen tanggal 10-11 januari 2012  absence"
            ]
          },
          "metadata": {
            "tags": []
          },
          "execution_count": 207
        }
      ]
    },
    {
      "cell_type": "code",
      "metadata": {
        "id": "4b23jlRLNF_j",
        "colab_type": "code",
        "colab": {}
      },
      "source": [
        "# Clean data:\n",
        "#   - Strip data from special characters\n",
        "#   - Tokenize words\n",
        "#   - Lowercase all word\n",
        "def clean_data(text_data):\n",
        "  words = []\n",
        "  for sentence in text_data:\n",
        "    clean = re.sub(r'[^ a-z A-Z 0-9]', \" \", sentence)\n",
        "    tokenized_words = word_tokenize(clean)\n",
        "\n",
        "    words.append([word.lower() for word in tokenized_words])\n",
        "\n",
        "  return words"
      ],
      "execution_count": 208,
      "outputs": []
    },
    {
      "cell_type": "code",
      "metadata": {
        "id": "UoEFDLchPDrS",
        "colab_type": "code",
        "colab": {}
      },
      "source": [
        "# Get max length of every word in words\n",
        "def get_max_length(words):\n",
        "  return len(max(words, key = len))"
      ],
      "execution_count": 209,
      "outputs": []
    },
    {
      "cell_type": "code",
      "metadata": {
        "id": "i6KvNcrcPH6S",
        "colab_type": "code",
        "colab": {}
      },
      "source": [
        "filters = '!\"#$%&()*+,-./:;<=>?@[\\]^_`{|}~'\n",
        "\n",
        "def create_tokenizer(words):\n",
        "  token = Tokenizer(filters = filters)\n",
        "  token.fit_on_texts(words)\n",
        "  return token"
      ],
      "execution_count": 210,
      "outputs": []
    },
    {
      "cell_type": "code",
      "metadata": {
        "id": "7m8b5hHwP-3K",
        "colab_type": "code",
        "colab": {}
      },
      "source": [
        "def create_train_data(text_data):\n",
        "  # Encoding document\n",
        "  token = create_tokenizer(text_data)\n",
        "  sequences = token.texts_to_sequences(text_data)\n",
        "\n",
        "  max_length = get_max_length(sequences)\n",
        "  return pad_sequences(sequences, maxlen=max_length, padding=\"post\")"
      ],
      "execution_count": 211,
      "outputs": []
    },
    {
      "cell_type": "code",
      "metadata": {
        "id": "Gice1iwHRhfD",
        "colab_type": "code",
        "colab": {}
      },
      "source": [
        "def onehot_encode(data):\n",
        "  encoder = OneHotEncoder(sparse=False)\n",
        "  return encoder.fit_transform(data)"
      ],
      "execution_count": 212,
      "outputs": []
    },
    {
      "cell_type": "code",
      "metadata": {
        "id": "Rl2lvxuDXOL7",
        "colab_type": "code",
        "colab": {}
      },
      "source": [
        "cleaned_data = clean_data(data['text'])"
      ],
      "execution_count": 213,
      "outputs": []
    },
    {
      "cell_type": "code",
      "metadata": {
        "id": "UFj_E_-qXNWW",
        "colab_type": "code",
        "colab": {}
      },
      "source": [
        "tokenizer = create_tokenizer(cleaned_data)\n",
        "MAX_LENGTH = get_max_length(cleaned_data)\n",
        "VOCAB_SIZE = len(tokenizer.word_index) + 1"
      ],
      "execution_count": 214,
      "outputs": []
    },
    {
      "cell_type": "code",
      "metadata": {
        "id": "D23pwDQgSWla",
        "colab_type": "code",
        "colab": {}
      },
      "source": [
        "train_data = create_train_data(cleaned_data)\n",
        "test_data = onehot_encode(data['intent'].values.reshape(-1, 1))\n",
        "\n",
        "x_train, x_val, y_train, y_val = train_test_split(train_data, test_data, test_size = 0.2)"
      ],
      "execution_count": 215,
      "outputs": []
    },
    {
      "cell_type": "markdown",
      "metadata": {
        "id": "xOJUTX77S_WG",
        "colab_type": "text"
      },
      "source": [
        "## Machine Learning Modeling"
      ]
    },
    {
      "cell_type": "code",
      "metadata": {
        "id": "C6FtIWWETo5N",
        "colab_type": "code",
        "colab": {}
      },
      "source": [
        "model = Sequential()\n",
        "\n",
        "model.add(Embedding(VOCAB_SIZE, 128, input_length=MAX_LENGTH, trainable=False))\n",
        "model.add(Bidirectional(LSTM(128)))\n",
        "model.add(Dense(32, activation = \"relu\"))\n",
        "model.add(Dropout(0.5))\n",
        "model.add(Dense(y_train.shape[1], activation = \"softmax\"))"
      ],
      "execution_count": 216,
      "outputs": []
    },
    {
      "cell_type": "code",
      "metadata": {
        "id": "lN_VqsMkVfL3",
        "colab_type": "code",
        "colab": {
          "base_uri": "https://localhost:8080/",
          "height": 323
        },
        "outputId": "a227040a-6efd-45b3-d59e-7d80c26a7220"
      },
      "source": [
        "model.compile(\n",
        "    optimizer = 'adam',\n",
        "    loss = 'categorical_crossentropy',\n",
        "    metrics = ['accuracy']\n",
        ")\n",
        "\n",
        "model.summary()"
      ],
      "execution_count": 217,
      "outputs": [
        {
          "output_type": "stream",
          "text": [
            "Model: \"sequential_6\"\n",
            "_________________________________________________________________\n",
            "Layer (type)                 Output Shape              Param #   \n",
            "=================================================================\n",
            "embedding_5 (Embedding)      (None, 23, 128)           90624     \n",
            "_________________________________________________________________\n",
            "bidirectional_5 (Bidirection (None, 256)               263168    \n",
            "_________________________________________________________________\n",
            "dense_10 (Dense)             (None, 32)                8224      \n",
            "_________________________________________________________________\n",
            "dropout_5 (Dropout)          (None, 32)                0         \n",
            "_________________________________________________________________\n",
            "dense_11 (Dense)             (None, 103)               3399      \n",
            "=================================================================\n",
            "Total params: 365,415\n",
            "Trainable params: 274,791\n",
            "Non-trainable params: 90,624\n",
            "_________________________________________________________________\n"
          ],
          "name": "stdout"
        }
      ]
    },
    {
      "cell_type": "markdown",
      "metadata": {
        "id": "ZP5ElhpNYq4x",
        "colab_type": "text"
      },
      "source": [
        "### Model Train"
      ]
    },
    {
      "cell_type": "code",
      "metadata": {
        "id": "G3lsazb9Yb6J",
        "colab_type": "code",
        "colab": {}
      },
      "source": [
        "# Fit constants\n",
        "\n",
        "EPOCHS = 250\n",
        "BASIZE = 32"
      ],
      "execution_count": 227,
      "outputs": []
    },
    {
      "cell_type": "code",
      "metadata": {
        "id": "crepStCMWAI5",
        "colab_type": "code",
        "colab": {
          "base_uri": "https://localhost:8080/",
          "height": 1000
        },
        "outputId": "cf033854-0a4c-429b-fd91-874d7a480f68"
      },
      "source": [
        "history = model.fit(x_train, y_train, epochs = EPOCHS, batch_size = BASIZE, validation_data = (x_val, y_val))"
      ],
      "execution_count": 228,
      "outputs": [
        {
          "output_type": "stream",
          "text": [
            "Epoch 1/250\n",
            "39/39 [==============================] - 1s 20ms/step - loss: 1.3494 - accuracy: 0.5945 - val_loss: 2.1015 - val_accuracy: 0.4951\n",
            "Epoch 2/250\n",
            "39/39 [==============================] - 1s 19ms/step - loss: 1.3442 - accuracy: 0.5749 - val_loss: 2.1596 - val_accuracy: 0.4951\n",
            "Epoch 3/250\n",
            "39/39 [==============================] - 1s 19ms/step - loss: 1.2934 - accuracy: 0.5953 - val_loss: 2.1654 - val_accuracy: 0.4984\n",
            "Epoch 4/250\n",
            "39/39 [==============================] - 1s 19ms/step - loss: 1.2865 - accuracy: 0.6026 - val_loss: 2.2417 - val_accuracy: 0.5147\n",
            "Epoch 5/250\n",
            "39/39 [==============================] - 1s 20ms/step - loss: 1.2982 - accuracy: 0.6010 - val_loss: 2.4474 - val_accuracy: 0.4886\n",
            "Epoch 6/250\n",
            "39/39 [==============================] - 1s 19ms/step - loss: 1.3660 - accuracy: 0.5643 - val_loss: 2.1181 - val_accuracy: 0.5277\n",
            "Epoch 7/250\n",
            "39/39 [==============================] - 1s 19ms/step - loss: 1.3014 - accuracy: 0.5888 - val_loss: 2.2191 - val_accuracy: 0.5049\n",
            "Epoch 8/250\n",
            "39/39 [==============================] - 1s 19ms/step - loss: 1.2692 - accuracy: 0.6026 - val_loss: 2.2030 - val_accuracy: 0.5049\n",
            "Epoch 9/250\n",
            "39/39 [==============================] - 1s 19ms/step - loss: 1.2658 - accuracy: 0.6026 - val_loss: 2.1164 - val_accuracy: 0.5244\n",
            "Epoch 10/250\n",
            "39/39 [==============================] - 1s 19ms/step - loss: 1.2797 - accuracy: 0.6059 - val_loss: 2.2838 - val_accuracy: 0.4984\n",
            "Epoch 11/250\n",
            "39/39 [==============================] - 1s 19ms/step - loss: 1.2587 - accuracy: 0.6132 - val_loss: 2.1906 - val_accuracy: 0.4886\n",
            "Epoch 12/250\n",
            "39/39 [==============================] - 1s 19ms/step - loss: 1.2567 - accuracy: 0.6034 - val_loss: 2.3074 - val_accuracy: 0.5081\n",
            "Epoch 13/250\n",
            "39/39 [==============================] - 1s 19ms/step - loss: 1.2427 - accuracy: 0.6173 - val_loss: 2.1770 - val_accuracy: 0.5081\n",
            "Epoch 14/250\n",
            "39/39 [==============================] - 1s 20ms/step - loss: 1.2524 - accuracy: 0.6189 - val_loss: 2.2642 - val_accuracy: 0.5277\n",
            "Epoch 15/250\n",
            "39/39 [==============================] - 1s 19ms/step - loss: 1.2360 - accuracy: 0.6173 - val_loss: 2.2461 - val_accuracy: 0.5081\n",
            "Epoch 16/250\n",
            "39/39 [==============================] - 1s 19ms/step - loss: 1.2454 - accuracy: 0.6050 - val_loss: 2.2175 - val_accuracy: 0.5081\n",
            "Epoch 17/250\n",
            "39/39 [==============================] - 1s 19ms/step - loss: 1.2758 - accuracy: 0.5879 - val_loss: 2.4322 - val_accuracy: 0.4788\n",
            "Epoch 18/250\n",
            "39/39 [==============================] - 1s 20ms/step - loss: 1.2154 - accuracy: 0.6246 - val_loss: 2.2974 - val_accuracy: 0.4886\n",
            "Epoch 19/250\n",
            "39/39 [==============================] - 1s 20ms/step - loss: 1.2096 - accuracy: 0.6181 - val_loss: 2.2723 - val_accuracy: 0.5114\n",
            "Epoch 20/250\n",
            "39/39 [==============================] - 1s 20ms/step - loss: 1.1880 - accuracy: 0.6344 - val_loss: 2.3502 - val_accuracy: 0.4951\n",
            "Epoch 21/250\n",
            "39/39 [==============================] - 1s 20ms/step - loss: 1.1812 - accuracy: 0.6360 - val_loss: 2.2654 - val_accuracy: 0.5049\n",
            "Epoch 22/250\n",
            "39/39 [==============================] - 1s 19ms/step - loss: 1.1821 - accuracy: 0.6181 - val_loss: 2.2774 - val_accuracy: 0.4984\n",
            "Epoch 23/250\n",
            "39/39 [==============================] - 1s 19ms/step - loss: 1.2242 - accuracy: 0.6083 - val_loss: 2.2021 - val_accuracy: 0.5049\n",
            "Epoch 24/250\n",
            "39/39 [==============================] - 1s 20ms/step - loss: 1.1538 - accuracy: 0.6417 - val_loss: 2.3172 - val_accuracy: 0.5081\n",
            "Epoch 25/250\n",
            "39/39 [==============================] - 1s 19ms/step - loss: 1.1481 - accuracy: 0.6490 - val_loss: 2.3445 - val_accuracy: 0.5179\n",
            "Epoch 26/250\n",
            "39/39 [==============================] - 1s 19ms/step - loss: 1.1541 - accuracy: 0.6319 - val_loss: 2.2701 - val_accuracy: 0.5212\n",
            "Epoch 27/250\n",
            "39/39 [==============================] - 1s 19ms/step - loss: 1.1180 - accuracy: 0.6401 - val_loss: 2.2542 - val_accuracy: 0.5244\n",
            "Epoch 28/250\n",
            "39/39 [==============================] - 1s 20ms/step - loss: 1.0943 - accuracy: 0.6604 - val_loss: 2.3543 - val_accuracy: 0.5081\n",
            "Epoch 29/250\n",
            "39/39 [==============================] - 1s 20ms/step - loss: 1.1331 - accuracy: 0.6482 - val_loss: 2.4618 - val_accuracy: 0.5049\n",
            "Epoch 30/250\n",
            "39/39 [==============================] - 1s 20ms/step - loss: 1.1412 - accuracy: 0.6515 - val_loss: 2.3394 - val_accuracy: 0.5114\n",
            "Epoch 31/250\n",
            "39/39 [==============================] - 1s 20ms/step - loss: 1.1592 - accuracy: 0.6254 - val_loss: 2.4236 - val_accuracy: 0.4853\n",
            "Epoch 32/250\n",
            "39/39 [==============================] - 1s 20ms/step - loss: 1.1800 - accuracy: 0.6059 - val_loss: 2.3450 - val_accuracy: 0.4951\n",
            "Epoch 33/250\n",
            "39/39 [==============================] - 1s 20ms/step - loss: 1.1082 - accuracy: 0.6401 - val_loss: 2.4331 - val_accuracy: 0.4886\n",
            "Epoch 34/250\n",
            "39/39 [==============================] - 1s 20ms/step - loss: 1.0758 - accuracy: 0.6336 - val_loss: 2.6473 - val_accuracy: 0.4658\n",
            "Epoch 35/250\n",
            "39/39 [==============================] - 1s 20ms/step - loss: 1.1181 - accuracy: 0.6401 - val_loss: 2.4353 - val_accuracy: 0.4951\n",
            "Epoch 36/250\n",
            "39/39 [==============================] - 1s 20ms/step - loss: 1.1337 - accuracy: 0.6303 - val_loss: 2.1956 - val_accuracy: 0.4919\n",
            "Epoch 37/250\n",
            "39/39 [==============================] - 1s 20ms/step - loss: 1.0655 - accuracy: 0.6482 - val_loss: 2.2747 - val_accuracy: 0.4951\n",
            "Epoch 38/250\n",
            "39/39 [==============================] - 1s 20ms/step - loss: 1.0871 - accuracy: 0.6596 - val_loss: 2.3227 - val_accuracy: 0.4984\n",
            "Epoch 39/250\n",
            "39/39 [==============================] - 1s 20ms/step - loss: 1.1003 - accuracy: 0.6580 - val_loss: 2.3922 - val_accuracy: 0.4984\n",
            "Epoch 40/250\n",
            "39/39 [==============================] - 1s 20ms/step - loss: 1.1212 - accuracy: 0.6173 - val_loss: 2.4445 - val_accuracy: 0.4951\n",
            "Epoch 41/250\n",
            "39/39 [==============================] - 1s 20ms/step - loss: 1.0985 - accuracy: 0.6417 - val_loss: 2.3971 - val_accuracy: 0.5081\n",
            "Epoch 42/250\n",
            "39/39 [==============================] - 1s 19ms/step - loss: 1.0883 - accuracy: 0.6417 - val_loss: 2.4202 - val_accuracy: 0.4919\n",
            "Epoch 43/250\n",
            "39/39 [==============================] - 1s 20ms/step - loss: 1.0635 - accuracy: 0.6433 - val_loss: 2.5215 - val_accuracy: 0.4951\n",
            "Epoch 44/250\n",
            "39/39 [==============================] - 1s 19ms/step - loss: 1.0756 - accuracy: 0.6523 - val_loss: 2.5401 - val_accuracy: 0.5244\n",
            "Epoch 45/250\n",
            "39/39 [==============================] - 1s 20ms/step - loss: 1.0677 - accuracy: 0.6425 - val_loss: 2.2381 - val_accuracy: 0.5179\n",
            "Epoch 46/250\n",
            "39/39 [==============================] - 1s 19ms/step - loss: 1.0493 - accuracy: 0.6612 - val_loss: 2.6462 - val_accuracy: 0.4853\n",
            "Epoch 47/250\n",
            "39/39 [==============================] - 1s 19ms/step - loss: 1.0578 - accuracy: 0.6539 - val_loss: 2.5089 - val_accuracy: 0.5179\n",
            "Epoch 48/250\n",
            "39/39 [==============================] - 1s 19ms/step - loss: 0.9901 - accuracy: 0.6702 - val_loss: 2.4334 - val_accuracy: 0.5212\n",
            "Epoch 49/250\n",
            "39/39 [==============================] - 1s 20ms/step - loss: 0.9613 - accuracy: 0.7020 - val_loss: 2.5867 - val_accuracy: 0.5147\n",
            "Epoch 50/250\n",
            "39/39 [==============================] - 1s 19ms/step - loss: 1.0374 - accuracy: 0.6612 - val_loss: 2.4048 - val_accuracy: 0.5179\n",
            "Epoch 51/250\n",
            "39/39 [==============================] - 1s 19ms/step - loss: 1.0174 - accuracy: 0.6572 - val_loss: 2.5007 - val_accuracy: 0.5016\n",
            "Epoch 52/250\n",
            "39/39 [==============================] - 1s 19ms/step - loss: 1.0347 - accuracy: 0.6564 - val_loss: 2.4811 - val_accuracy: 0.5147\n",
            "Epoch 53/250\n",
            "39/39 [==============================] - 1s 19ms/step - loss: 1.0244 - accuracy: 0.6547 - val_loss: 2.7109 - val_accuracy: 0.4984\n",
            "Epoch 54/250\n",
            "39/39 [==============================] - 1s 19ms/step - loss: 1.0190 - accuracy: 0.6718 - val_loss: 2.4280 - val_accuracy: 0.5147\n",
            "Epoch 55/250\n",
            "39/39 [==============================] - 1s 19ms/step - loss: 0.9605 - accuracy: 0.6865 - val_loss: 2.4518 - val_accuracy: 0.5147\n",
            "Epoch 56/250\n",
            "39/39 [==============================] - 1s 19ms/step - loss: 1.0106 - accuracy: 0.6580 - val_loss: 2.3764 - val_accuracy: 0.5081\n",
            "Epoch 57/250\n",
            "39/39 [==============================] - 1s 19ms/step - loss: 0.9934 - accuracy: 0.6686 - val_loss: 2.5910 - val_accuracy: 0.5114\n",
            "Epoch 58/250\n",
            "39/39 [==============================] - 1s 19ms/step - loss: 1.0169 - accuracy: 0.6726 - val_loss: 2.5165 - val_accuracy: 0.5147\n",
            "Epoch 59/250\n",
            "39/39 [==============================] - 1s 20ms/step - loss: 0.9771 - accuracy: 0.6629 - val_loss: 2.3037 - val_accuracy: 0.5016\n",
            "Epoch 60/250\n",
            "39/39 [==============================] - 1s 19ms/step - loss: 0.9932 - accuracy: 0.6751 - val_loss: 2.5019 - val_accuracy: 0.5342\n",
            "Epoch 61/250\n",
            "39/39 [==============================] - 1s 20ms/step - loss: 0.9930 - accuracy: 0.6759 - val_loss: 2.5483 - val_accuracy: 0.4984\n",
            "Epoch 62/250\n",
            "39/39 [==============================] - 1s 19ms/step - loss: 0.9293 - accuracy: 0.6946 - val_loss: 2.5914 - val_accuracy: 0.4984\n",
            "Epoch 63/250\n",
            "39/39 [==============================] - 1s 20ms/step - loss: 1.0091 - accuracy: 0.6621 - val_loss: 2.6252 - val_accuracy: 0.5016\n",
            "Epoch 64/250\n",
            "39/39 [==============================] - 1s 20ms/step - loss: 0.9838 - accuracy: 0.6881 - val_loss: 2.4746 - val_accuracy: 0.5212\n",
            "Epoch 65/250\n",
            "39/39 [==============================] - 1s 19ms/step - loss: 0.9264 - accuracy: 0.6914 - val_loss: 2.5534 - val_accuracy: 0.5179\n",
            "Epoch 66/250\n",
            "39/39 [==============================] - 1s 20ms/step - loss: 0.9331 - accuracy: 0.6832 - val_loss: 2.6456 - val_accuracy: 0.5147\n",
            "Epoch 67/250\n",
            "39/39 [==============================] - 1s 19ms/step - loss: 0.9405 - accuracy: 0.6824 - val_loss: 2.5918 - val_accuracy: 0.5277\n",
            "Epoch 68/250\n",
            "39/39 [==============================] - 1s 19ms/step - loss: 0.9335 - accuracy: 0.6857 - val_loss: 2.4784 - val_accuracy: 0.5179\n",
            "Epoch 69/250\n",
            "39/39 [==============================] - 1s 19ms/step - loss: 0.9213 - accuracy: 0.6922 - val_loss: 2.7666 - val_accuracy: 0.5244\n",
            "Epoch 70/250\n",
            "39/39 [==============================] - 1s 19ms/step - loss: 0.9297 - accuracy: 0.6873 - val_loss: 2.4809 - val_accuracy: 0.5342\n",
            "Epoch 71/250\n",
            "39/39 [==============================] - 1s 19ms/step - loss: 0.9233 - accuracy: 0.6873 - val_loss: 2.5604 - val_accuracy: 0.5114\n",
            "Epoch 72/250\n",
            "39/39 [==============================] - 1s 19ms/step - loss: 0.8745 - accuracy: 0.7044 - val_loss: 2.6356 - val_accuracy: 0.4951\n",
            "Epoch 73/250\n",
            "39/39 [==============================] - 1s 19ms/step - loss: 0.9509 - accuracy: 0.6857 - val_loss: 2.6775 - val_accuracy: 0.5016\n",
            "Epoch 74/250\n",
            "39/39 [==============================] - 1s 20ms/step - loss: 0.9638 - accuracy: 0.6669 - val_loss: 2.5326 - val_accuracy: 0.4984\n",
            "Epoch 75/250\n",
            "39/39 [==============================] - 1s 20ms/step - loss: 0.9208 - accuracy: 0.6873 - val_loss: 2.6426 - val_accuracy: 0.5016\n",
            "Epoch 76/250\n",
            "39/39 [==============================] - 1s 19ms/step - loss: 0.9358 - accuracy: 0.6767 - val_loss: 2.4480 - val_accuracy: 0.5016\n",
            "Epoch 77/250\n",
            "39/39 [==============================] - 1s 20ms/step - loss: 0.9182 - accuracy: 0.6873 - val_loss: 2.5326 - val_accuracy: 0.5179\n",
            "Epoch 78/250\n",
            "39/39 [==============================] - 1s 19ms/step - loss: 0.9392 - accuracy: 0.6840 - val_loss: 2.7118 - val_accuracy: 0.4853\n",
            "Epoch 79/250\n",
            "39/39 [==============================] - 1s 20ms/step - loss: 0.9288 - accuracy: 0.6743 - val_loss: 2.6255 - val_accuracy: 0.4984\n",
            "Epoch 80/250\n",
            "39/39 [==============================] - 1s 19ms/step - loss: 0.9029 - accuracy: 0.6987 - val_loss: 2.6431 - val_accuracy: 0.4886\n",
            "Epoch 81/250\n",
            "39/39 [==============================] - 1s 20ms/step - loss: 0.8860 - accuracy: 0.7011 - val_loss: 2.7843 - val_accuracy: 0.4984\n",
            "Epoch 82/250\n",
            "39/39 [==============================] - 1s 20ms/step - loss: 0.9195 - accuracy: 0.7003 - val_loss: 2.7617 - val_accuracy: 0.4984\n",
            "Epoch 83/250\n",
            "39/39 [==============================] - 1s 19ms/step - loss: 0.9116 - accuracy: 0.6881 - val_loss: 2.6180 - val_accuracy: 0.5212\n",
            "Epoch 84/250\n",
            "39/39 [==============================] - 1s 19ms/step - loss: 0.9184 - accuracy: 0.6824 - val_loss: 2.5755 - val_accuracy: 0.5081\n",
            "Epoch 85/250\n",
            "39/39 [==============================] - 1s 19ms/step - loss: 0.8683 - accuracy: 0.6954 - val_loss: 2.6641 - val_accuracy: 0.5016\n",
            "Epoch 86/250\n",
            "39/39 [==============================] - 1s 19ms/step - loss: 0.8905 - accuracy: 0.7191 - val_loss: 2.8121 - val_accuracy: 0.4853\n",
            "Epoch 87/250\n",
            "39/39 [==============================] - 1s 20ms/step - loss: 0.8646 - accuracy: 0.7028 - val_loss: 2.7287 - val_accuracy: 0.5244\n",
            "Epoch 88/250\n",
            "39/39 [==============================] - 1s 19ms/step - loss: 0.8561 - accuracy: 0.7109 - val_loss: 2.7065 - val_accuracy: 0.5049\n",
            "Epoch 89/250\n",
            "39/39 [==============================] - 1s 19ms/step - loss: 0.8373 - accuracy: 0.7044 - val_loss: 2.6958 - val_accuracy: 0.4919\n",
            "Epoch 90/250\n",
            "39/39 [==============================] - 1s 19ms/step - loss: 0.8415 - accuracy: 0.7166 - val_loss: 2.9863 - val_accuracy: 0.4788\n",
            "Epoch 91/250\n",
            "39/39 [==============================] - 1s 20ms/step - loss: 0.8467 - accuracy: 0.7060 - val_loss: 2.7779 - val_accuracy: 0.5081\n",
            "Epoch 92/250\n",
            "39/39 [==============================] - 1s 19ms/step - loss: 0.8928 - accuracy: 0.6881 - val_loss: 2.9602 - val_accuracy: 0.4886\n",
            "Epoch 93/250\n",
            "39/39 [==============================] - 1s 19ms/step - loss: 0.8686 - accuracy: 0.6963 - val_loss: 2.9035 - val_accuracy: 0.5049\n",
            "Epoch 94/250\n",
            "39/39 [==============================] - 1s 19ms/step - loss: 0.8857 - accuracy: 0.6849 - val_loss: 2.8573 - val_accuracy: 0.5179\n",
            "Epoch 95/250\n",
            "39/39 [==============================] - 1s 19ms/step - loss: 0.8882 - accuracy: 0.7020 - val_loss: 2.7495 - val_accuracy: 0.5081\n",
            "Epoch 96/250\n",
            "39/39 [==============================] - 1s 19ms/step - loss: 0.8190 - accuracy: 0.7117 - val_loss: 2.8549 - val_accuracy: 0.5081\n",
            "Epoch 97/250\n",
            "39/39 [==============================] - 1s 19ms/step - loss: 0.8759 - accuracy: 0.7044 - val_loss: 2.8675 - val_accuracy: 0.5081\n",
            "Epoch 98/250\n",
            "39/39 [==============================] - 1s 19ms/step - loss: 0.8030 - accuracy: 0.7117 - val_loss: 2.9074 - val_accuracy: 0.5244\n",
            "Epoch 99/250\n",
            "39/39 [==============================] - 1s 19ms/step - loss: 0.8395 - accuracy: 0.7052 - val_loss: 2.7850 - val_accuracy: 0.5114\n",
            "Epoch 100/250\n",
            "39/39 [==============================] - 1s 19ms/step - loss: 0.8138 - accuracy: 0.7191 - val_loss: 2.8688 - val_accuracy: 0.5049\n",
            "Epoch 101/250\n",
            "39/39 [==============================] - 1s 19ms/step - loss: 0.8158 - accuracy: 0.7231 - val_loss: 2.9911 - val_accuracy: 0.5147\n",
            "Epoch 102/250\n",
            "39/39 [==============================] - 1s 19ms/step - loss: 0.8050 - accuracy: 0.7150 - val_loss: 3.0964 - val_accuracy: 0.4951\n",
            "Epoch 103/250\n",
            "39/39 [==============================] - 1s 19ms/step - loss: 0.8251 - accuracy: 0.7166 - val_loss: 2.9746 - val_accuracy: 0.4984\n",
            "Epoch 104/250\n",
            "39/39 [==============================] - 1s 19ms/step - loss: 0.8277 - accuracy: 0.7125 - val_loss: 3.0433 - val_accuracy: 0.5179\n",
            "Epoch 105/250\n",
            "39/39 [==============================] - 1s 19ms/step - loss: 0.8252 - accuracy: 0.7223 - val_loss: 2.7606 - val_accuracy: 0.5147\n",
            "Epoch 106/250\n",
            "39/39 [==============================] - 1s 19ms/step - loss: 0.7981 - accuracy: 0.7248 - val_loss: 3.1238 - val_accuracy: 0.5277\n",
            "Epoch 107/250\n",
            "39/39 [==============================] - 1s 19ms/step - loss: 0.7922 - accuracy: 0.7272 - val_loss: 3.3189 - val_accuracy: 0.5049\n",
            "Epoch 108/250\n",
            "39/39 [==============================] - 1s 19ms/step - loss: 0.8217 - accuracy: 0.7191 - val_loss: 3.3954 - val_accuracy: 0.4886\n",
            "Epoch 109/250\n",
            "39/39 [==============================] - 1s 19ms/step - loss: 0.8275 - accuracy: 0.7264 - val_loss: 3.0476 - val_accuracy: 0.5309\n",
            "Epoch 110/250\n",
            "39/39 [==============================] - 1s 19ms/step - loss: 0.8254 - accuracy: 0.7158 - val_loss: 3.0082 - val_accuracy: 0.5016\n",
            "Epoch 111/250\n",
            "39/39 [==============================] - 1s 20ms/step - loss: 0.8168 - accuracy: 0.7052 - val_loss: 2.7387 - val_accuracy: 0.5081\n",
            "Epoch 112/250\n",
            "39/39 [==============================] - 1s 19ms/step - loss: 0.7984 - accuracy: 0.7199 - val_loss: 3.1002 - val_accuracy: 0.5147\n",
            "Epoch 113/250\n",
            "39/39 [==============================] - 1s 19ms/step - loss: 0.7729 - accuracy: 0.7345 - val_loss: 3.1532 - val_accuracy: 0.5114\n",
            "Epoch 114/250\n",
            "39/39 [==============================] - 1s 19ms/step - loss: 0.7656 - accuracy: 0.7215 - val_loss: 3.3167 - val_accuracy: 0.4984\n",
            "Epoch 115/250\n",
            "39/39 [==============================] - 1s 20ms/step - loss: 0.7823 - accuracy: 0.7215 - val_loss: 3.1261 - val_accuracy: 0.4951\n",
            "Epoch 116/250\n",
            "39/39 [==============================] - 1s 19ms/step - loss: 0.7797 - accuracy: 0.7288 - val_loss: 3.0926 - val_accuracy: 0.5049\n",
            "Epoch 117/250\n",
            "39/39 [==============================] - 1s 19ms/step - loss: 0.7872 - accuracy: 0.7191 - val_loss: 3.2609 - val_accuracy: 0.5016\n",
            "Epoch 118/250\n",
            "39/39 [==============================] - 1s 19ms/step - loss: 0.8218 - accuracy: 0.7117 - val_loss: 3.1053 - val_accuracy: 0.5016\n",
            "Epoch 119/250\n",
            "39/39 [==============================] - 1s 19ms/step - loss: 0.7772 - accuracy: 0.7191 - val_loss: 3.0189 - val_accuracy: 0.5147\n",
            "Epoch 120/250\n",
            "39/39 [==============================] - 1s 19ms/step - loss: 0.7797 - accuracy: 0.7362 - val_loss: 3.0691 - val_accuracy: 0.5016\n",
            "Epoch 121/250\n",
            "39/39 [==============================] - 1s 19ms/step - loss: 0.7520 - accuracy: 0.7467 - val_loss: 3.0901 - val_accuracy: 0.5016\n",
            "Epoch 122/250\n",
            "39/39 [==============================] - 1s 19ms/step - loss: 0.7782 - accuracy: 0.7337 - val_loss: 2.7881 - val_accuracy: 0.5049\n",
            "Epoch 123/250\n",
            "39/39 [==============================] - 1s 20ms/step - loss: 0.7853 - accuracy: 0.7248 - val_loss: 2.8693 - val_accuracy: 0.4984\n",
            "Epoch 124/250\n",
            "39/39 [==============================] - 1s 20ms/step - loss: 0.9532 - accuracy: 0.6783 - val_loss: 3.3068 - val_accuracy: 0.4853\n",
            "Epoch 125/250\n",
            "39/39 [==============================] - 1s 19ms/step - loss: 0.9278 - accuracy: 0.6914 - val_loss: 3.1622 - val_accuracy: 0.4853\n",
            "Epoch 126/250\n",
            "39/39 [==============================] - 1s 20ms/step - loss: 0.8092 - accuracy: 0.7182 - val_loss: 3.1095 - val_accuracy: 0.4919\n",
            "Epoch 127/250\n",
            "39/39 [==============================] - 1s 19ms/step - loss: 0.8094 - accuracy: 0.7223 - val_loss: 2.7545 - val_accuracy: 0.5049\n",
            "Epoch 128/250\n",
            "39/39 [==============================] - 1s 19ms/step - loss: 0.7722 - accuracy: 0.7166 - val_loss: 2.9930 - val_accuracy: 0.4886\n",
            "Epoch 129/250\n",
            "39/39 [==============================] - 1s 19ms/step - loss: 0.8176 - accuracy: 0.7174 - val_loss: 3.0287 - val_accuracy: 0.4853\n",
            "Epoch 130/250\n",
            "39/39 [==============================] - 1s 19ms/step - loss: 0.7647 - accuracy: 0.7345 - val_loss: 3.0565 - val_accuracy: 0.5016\n",
            "Epoch 131/250\n",
            "39/39 [==============================] - 1s 20ms/step - loss: 0.7740 - accuracy: 0.7272 - val_loss: 3.1744 - val_accuracy: 0.4788\n",
            "Epoch 132/250\n",
            "39/39 [==============================] - 1s 19ms/step - loss: 0.7846 - accuracy: 0.7296 - val_loss: 3.1922 - val_accuracy: 0.4919\n",
            "Epoch 133/250\n",
            "39/39 [==============================] - 1s 19ms/step - loss: 0.7424 - accuracy: 0.7386 - val_loss: 3.1689 - val_accuracy: 0.4788\n",
            "Epoch 134/250\n",
            "39/39 [==============================] - 1s 19ms/step - loss: 0.7246 - accuracy: 0.7443 - val_loss: 3.2306 - val_accuracy: 0.4886\n",
            "Epoch 135/250\n",
            "39/39 [==============================] - 1s 19ms/step - loss: 0.7459 - accuracy: 0.7305 - val_loss: 3.2515 - val_accuracy: 0.4951\n",
            "Epoch 136/250\n",
            "39/39 [==============================] - 1s 19ms/step - loss: 0.7650 - accuracy: 0.7370 - val_loss: 3.0640 - val_accuracy: 0.5016\n",
            "Epoch 137/250\n",
            "39/39 [==============================] - 1s 19ms/step - loss: 0.7214 - accuracy: 0.7321 - val_loss: 3.2009 - val_accuracy: 0.5049\n",
            "Epoch 138/250\n",
            "39/39 [==============================] - 1s 19ms/step - loss: 0.7514 - accuracy: 0.7370 - val_loss: 3.4305 - val_accuracy: 0.4919\n",
            "Epoch 139/250\n",
            "39/39 [==============================] - 1s 20ms/step - loss: 0.7656 - accuracy: 0.7256 - val_loss: 3.0694 - val_accuracy: 0.5016\n",
            "Epoch 140/250\n",
            "39/39 [==============================] - 1s 19ms/step - loss: 0.7791 - accuracy: 0.7150 - val_loss: 3.3946 - val_accuracy: 0.4886\n",
            "Epoch 141/250\n",
            "39/39 [==============================] - 1s 20ms/step - loss: 0.7241 - accuracy: 0.7435 - val_loss: 2.9903 - val_accuracy: 0.5277\n",
            "Epoch 142/250\n",
            "39/39 [==============================] - 1s 20ms/step - loss: 0.7729 - accuracy: 0.7248 - val_loss: 3.2116 - val_accuracy: 0.5147\n",
            "Epoch 143/250\n",
            "39/39 [==============================] - 1s 20ms/step - loss: 0.7213 - accuracy: 0.7280 - val_loss: 2.9294 - val_accuracy: 0.5212\n",
            "Epoch 144/250\n",
            "39/39 [==============================] - 1s 20ms/step - loss: 0.7529 - accuracy: 0.7329 - val_loss: 3.6164 - val_accuracy: 0.5016\n",
            "Epoch 145/250\n",
            "39/39 [==============================] - 1s 20ms/step - loss: 0.7490 - accuracy: 0.7288 - val_loss: 3.5108 - val_accuracy: 0.5179\n",
            "Epoch 146/250\n",
            "39/39 [==============================] - 1s 20ms/step - loss: 0.7107 - accuracy: 0.7451 - val_loss: 3.1907 - val_accuracy: 0.4984\n",
            "Epoch 147/250\n",
            "39/39 [==============================] - 1s 20ms/step - loss: 0.7532 - accuracy: 0.7305 - val_loss: 3.2433 - val_accuracy: 0.5081\n",
            "Epoch 148/250\n",
            "39/39 [==============================] - 1s 19ms/step - loss: 0.6967 - accuracy: 0.7427 - val_loss: 3.3261 - val_accuracy: 0.5375\n",
            "Epoch 149/250\n",
            "39/39 [==============================] - 1s 20ms/step - loss: 0.7326 - accuracy: 0.7402 - val_loss: 3.1235 - val_accuracy: 0.5244\n",
            "Epoch 150/250\n",
            "39/39 [==============================] - 1s 19ms/step - loss: 0.7140 - accuracy: 0.7264 - val_loss: 3.3684 - val_accuracy: 0.5081\n",
            "Epoch 151/250\n",
            "39/39 [==============================] - 1s 19ms/step - loss: 0.7568 - accuracy: 0.7313 - val_loss: 3.6295 - val_accuracy: 0.4951\n",
            "Epoch 152/250\n",
            "39/39 [==============================] - 1s 19ms/step - loss: 0.7020 - accuracy: 0.7565 - val_loss: 3.4446 - val_accuracy: 0.4853\n",
            "Epoch 153/250\n",
            "39/39 [==============================] - 1s 19ms/step - loss: 0.7297 - accuracy: 0.7329 - val_loss: 3.4885 - val_accuracy: 0.4788\n",
            "Epoch 154/250\n",
            "39/39 [==============================] - 1s 19ms/step - loss: 0.7317 - accuracy: 0.7288 - val_loss: 3.4145 - val_accuracy: 0.5179\n",
            "Epoch 155/250\n",
            "39/39 [==============================] - 1s 19ms/step - loss: 0.7253 - accuracy: 0.7419 - val_loss: 3.4060 - val_accuracy: 0.4919\n",
            "Epoch 156/250\n",
            "39/39 [==============================] - 1s 19ms/step - loss: 0.6995 - accuracy: 0.7508 - val_loss: 3.3697 - val_accuracy: 0.5049\n",
            "Epoch 157/250\n",
            "39/39 [==============================] - 1s 20ms/step - loss: 0.7490 - accuracy: 0.7272 - val_loss: 3.5564 - val_accuracy: 0.4984\n",
            "Epoch 158/250\n",
            "39/39 [==============================] - 1s 19ms/step - loss: 0.6902 - accuracy: 0.7508 - val_loss: 3.6999 - val_accuracy: 0.4886\n",
            "Epoch 159/250\n",
            "39/39 [==============================] - 1s 19ms/step - loss: 0.6821 - accuracy: 0.7590 - val_loss: 3.7567 - val_accuracy: 0.4821\n",
            "Epoch 160/250\n",
            "39/39 [==============================] - 1s 20ms/step - loss: 0.7190 - accuracy: 0.7508 - val_loss: 3.9511 - val_accuracy: 0.4593\n",
            "Epoch 161/250\n",
            "39/39 [==============================] - 1s 19ms/step - loss: 0.6918 - accuracy: 0.7402 - val_loss: 3.4402 - val_accuracy: 0.4886\n",
            "Epoch 162/250\n",
            "39/39 [==============================] - 1s 19ms/step - loss: 0.6983 - accuracy: 0.7394 - val_loss: 3.7118 - val_accuracy: 0.5016\n",
            "Epoch 163/250\n",
            "39/39 [==============================] - 1s 19ms/step - loss: 0.6651 - accuracy: 0.7655 - val_loss: 3.5635 - val_accuracy: 0.5081\n",
            "Epoch 164/250\n",
            "39/39 [==============================] - 1s 19ms/step - loss: 0.6699 - accuracy: 0.7451 - val_loss: 3.7560 - val_accuracy: 0.4756\n",
            "Epoch 165/250\n",
            "39/39 [==============================] - 1s 19ms/step - loss: 0.7229 - accuracy: 0.7476 - val_loss: 3.4772 - val_accuracy: 0.5114\n",
            "Epoch 166/250\n",
            "39/39 [==============================] - 1s 19ms/step - loss: 0.6972 - accuracy: 0.7402 - val_loss: 3.4187 - val_accuracy: 0.5277\n",
            "Epoch 167/250\n",
            "39/39 [==============================] - 1s 20ms/step - loss: 0.6791 - accuracy: 0.7606 - val_loss: 3.4013 - val_accuracy: 0.5114\n",
            "Epoch 168/250\n",
            "39/39 [==============================] - 1s 19ms/step - loss: 0.6631 - accuracy: 0.7663 - val_loss: 3.6171 - val_accuracy: 0.4951\n",
            "Epoch 169/250\n",
            "39/39 [==============================] - 1s 19ms/step - loss: 0.6662 - accuracy: 0.7655 - val_loss: 3.6373 - val_accuracy: 0.5114\n",
            "Epoch 170/250\n",
            "39/39 [==============================] - 1s 19ms/step - loss: 0.6784 - accuracy: 0.7704 - val_loss: 3.6183 - val_accuracy: 0.5016\n",
            "Epoch 171/250\n",
            "39/39 [==============================] - 1s 20ms/step - loss: 0.6623 - accuracy: 0.7565 - val_loss: 3.5186 - val_accuracy: 0.4984\n",
            "Epoch 172/250\n",
            "39/39 [==============================] - 1s 19ms/step - loss: 0.7021 - accuracy: 0.7524 - val_loss: 3.4995 - val_accuracy: 0.5114\n",
            "Epoch 173/250\n",
            "39/39 [==============================] - 1s 19ms/step - loss: 0.7954 - accuracy: 0.7508 - val_loss: 3.7361 - val_accuracy: 0.4984\n",
            "Epoch 174/250\n",
            "39/39 [==============================] - 1s 19ms/step - loss: 0.7880 - accuracy: 0.7125 - val_loss: 3.6956 - val_accuracy: 0.5147\n",
            "Epoch 175/250\n",
            "39/39 [==============================] - 1s 20ms/step - loss: 0.7029 - accuracy: 0.7492 - val_loss: 3.2400 - val_accuracy: 0.5179\n",
            "Epoch 176/250\n",
            "39/39 [==============================] - 1s 19ms/step - loss: 0.7310 - accuracy: 0.7419 - val_loss: 3.4935 - val_accuracy: 0.5179\n",
            "Epoch 177/250\n",
            "39/39 [==============================] - 1s 19ms/step - loss: 0.6766 - accuracy: 0.7638 - val_loss: 3.4930 - val_accuracy: 0.5179\n",
            "Epoch 178/250\n",
            "39/39 [==============================] - 1s 19ms/step - loss: 0.6589 - accuracy: 0.7565 - val_loss: 3.6771 - val_accuracy: 0.5147\n",
            "Epoch 179/250\n",
            "39/39 [==============================] - 1s 19ms/step - loss: 0.6374 - accuracy: 0.7687 - val_loss: 3.5000 - val_accuracy: 0.5244\n",
            "Epoch 180/250\n",
            "39/39 [==============================] - 1s 19ms/step - loss: 0.6663 - accuracy: 0.7565 - val_loss: 3.5134 - val_accuracy: 0.5309\n",
            "Epoch 181/250\n",
            "39/39 [==============================] - 1s 19ms/step - loss: 0.6888 - accuracy: 0.7353 - val_loss: 3.7759 - val_accuracy: 0.5016\n",
            "Epoch 182/250\n",
            "39/39 [==============================] - 1s 19ms/step - loss: 0.6349 - accuracy: 0.7809 - val_loss: 3.5680 - val_accuracy: 0.5212\n",
            "Epoch 183/250\n",
            "39/39 [==============================] - 1s 19ms/step - loss: 0.7266 - accuracy: 0.7402 - val_loss: 4.1818 - val_accuracy: 0.4951\n",
            "Epoch 184/250\n",
            "39/39 [==============================] - 1s 19ms/step - loss: 0.6582 - accuracy: 0.7704 - val_loss: 3.5906 - val_accuracy: 0.4853\n",
            "Epoch 185/250\n",
            "39/39 [==============================] - 1s 19ms/step - loss: 0.6415 - accuracy: 0.7752 - val_loss: 3.6737 - val_accuracy: 0.4984\n",
            "Epoch 186/250\n",
            "39/39 [==============================] - 1s 19ms/step - loss: 0.6786 - accuracy: 0.7516 - val_loss: 3.8993 - val_accuracy: 0.4951\n",
            "Epoch 187/250\n",
            "39/39 [==============================] - 1s 19ms/step - loss: 0.6838 - accuracy: 0.7533 - val_loss: 3.3842 - val_accuracy: 0.5342\n",
            "Epoch 188/250\n",
            "39/39 [==============================] - 1s 19ms/step - loss: 0.6732 - accuracy: 0.7508 - val_loss: 3.4413 - val_accuracy: 0.5081\n",
            "Epoch 189/250\n",
            "39/39 [==============================] - 1s 19ms/step - loss: 0.6340 - accuracy: 0.7712 - val_loss: 3.8843 - val_accuracy: 0.4984\n",
            "Epoch 190/250\n",
            "39/39 [==============================] - 1s 19ms/step - loss: 0.6492 - accuracy: 0.7476 - val_loss: 3.8490 - val_accuracy: 0.4951\n",
            "Epoch 191/250\n",
            "39/39 [==============================] - 1s 19ms/step - loss: 0.6330 - accuracy: 0.7712 - val_loss: 3.8922 - val_accuracy: 0.5081\n",
            "Epoch 192/250\n",
            "39/39 [==============================] - 1s 19ms/step - loss: 0.6334 - accuracy: 0.7508 - val_loss: 3.7697 - val_accuracy: 0.5081\n",
            "Epoch 193/250\n",
            "39/39 [==============================] - 1s 19ms/step - loss: 0.6412 - accuracy: 0.7647 - val_loss: 3.7491 - val_accuracy: 0.5147\n",
            "Epoch 194/250\n",
            "39/39 [==============================] - 1s 19ms/step - loss: 0.6782 - accuracy: 0.7704 - val_loss: 3.8166 - val_accuracy: 0.5049\n",
            "Epoch 195/250\n",
            "39/39 [==============================] - 1s 19ms/step - loss: 1.0262 - accuracy: 0.7093 - val_loss: 3.2170 - val_accuracy: 0.4951\n",
            "Epoch 196/250\n",
            "39/39 [==============================] - 1s 19ms/step - loss: 0.8007 - accuracy: 0.7215 - val_loss: 2.6978 - val_accuracy: 0.5309\n",
            "Epoch 197/250\n",
            "39/39 [==============================] - 1s 19ms/step - loss: 0.7179 - accuracy: 0.7467 - val_loss: 2.9303 - val_accuracy: 0.5212\n",
            "Epoch 198/250\n",
            "39/39 [==============================] - 1s 19ms/step - loss: 0.7218 - accuracy: 0.7362 - val_loss: 3.2427 - val_accuracy: 0.5114\n",
            "Epoch 199/250\n",
            "39/39 [==============================] - 1s 19ms/step - loss: 0.6944 - accuracy: 0.7410 - val_loss: 3.4166 - val_accuracy: 0.5212\n",
            "Epoch 200/250\n",
            "39/39 [==============================] - 1s 19ms/step - loss: 0.6706 - accuracy: 0.7533 - val_loss: 3.6930 - val_accuracy: 0.5081\n",
            "Epoch 201/250\n",
            "39/39 [==============================] - 1s 19ms/step - loss: 0.6328 - accuracy: 0.7712 - val_loss: 3.3873 - val_accuracy: 0.5147\n",
            "Epoch 202/250\n",
            "39/39 [==============================] - 1s 19ms/step - loss: 0.6277 - accuracy: 0.7549 - val_loss: 3.4366 - val_accuracy: 0.5114\n",
            "Epoch 203/250\n",
            "39/39 [==============================] - 1s 19ms/step - loss: 0.6371 - accuracy: 0.7736 - val_loss: 3.6906 - val_accuracy: 0.5016\n",
            "Epoch 204/250\n",
            "39/39 [==============================] - 1s 19ms/step - loss: 0.6470 - accuracy: 0.7557 - val_loss: 3.4227 - val_accuracy: 0.5114\n",
            "Epoch 205/250\n",
            "39/39 [==============================] - 1s 19ms/step - loss: 0.6432 - accuracy: 0.7565 - val_loss: 3.6366 - val_accuracy: 0.5212\n",
            "Epoch 206/250\n",
            "39/39 [==============================] - 1s 19ms/step - loss: 0.6345 - accuracy: 0.7704 - val_loss: 3.8282 - val_accuracy: 0.5081\n",
            "Epoch 207/250\n",
            "39/39 [==============================] - 1s 19ms/step - loss: 0.6077 - accuracy: 0.7793 - val_loss: 3.4086 - val_accuracy: 0.5147\n",
            "Epoch 208/250\n",
            "39/39 [==============================] - 1s 19ms/step - loss: 0.6345 - accuracy: 0.7704 - val_loss: 3.6228 - val_accuracy: 0.5179\n",
            "Epoch 209/250\n",
            "39/39 [==============================] - 1s 19ms/step - loss: 0.6319 - accuracy: 0.7785 - val_loss: 3.5948 - val_accuracy: 0.5114\n",
            "Epoch 210/250\n",
            "39/39 [==============================] - 1s 19ms/step - loss: 0.5966 - accuracy: 0.7850 - val_loss: 3.7460 - val_accuracy: 0.5081\n",
            "Epoch 211/250\n",
            "39/39 [==============================] - 1s 19ms/step - loss: 0.6349 - accuracy: 0.7695 - val_loss: 3.8646 - val_accuracy: 0.5179\n",
            "Epoch 212/250\n",
            "39/39 [==============================] - 1s 19ms/step - loss: 0.6243 - accuracy: 0.7679 - val_loss: 3.7693 - val_accuracy: 0.4984\n",
            "Epoch 213/250\n",
            "39/39 [==============================] - 1s 19ms/step - loss: 0.6369 - accuracy: 0.7695 - val_loss: 3.8877 - val_accuracy: 0.5049\n",
            "Epoch 214/250\n",
            "39/39 [==============================] - 1s 19ms/step - loss: 0.6471 - accuracy: 0.7704 - val_loss: 3.6854 - val_accuracy: 0.5114\n",
            "Epoch 215/250\n",
            "39/39 [==============================] - 1s 19ms/step - loss: 0.6373 - accuracy: 0.7777 - val_loss: 3.6797 - val_accuracy: 0.5049\n",
            "Epoch 216/250\n",
            "39/39 [==============================] - 1s 19ms/step - loss: 0.6643 - accuracy: 0.7581 - val_loss: 3.8605 - val_accuracy: 0.5016\n",
            "Epoch 217/250\n",
            "39/39 [==============================] - 1s 19ms/step - loss: 0.6044 - accuracy: 0.7695 - val_loss: 4.0651 - val_accuracy: 0.4919\n",
            "Epoch 218/250\n",
            "39/39 [==============================] - 1s 19ms/step - loss: 0.6262 - accuracy: 0.7728 - val_loss: 3.9178 - val_accuracy: 0.5016\n",
            "Epoch 219/250\n",
            "39/39 [==============================] - 1s 19ms/step - loss: 0.6587 - accuracy: 0.7565 - val_loss: 3.8440 - val_accuracy: 0.4984\n",
            "Epoch 220/250\n",
            "39/39 [==============================] - 1s 19ms/step - loss: 0.5844 - accuracy: 0.7948 - val_loss: 3.8629 - val_accuracy: 0.4919\n",
            "Epoch 221/250\n",
            "39/39 [==============================] - 1s 19ms/step - loss: 0.6275 - accuracy: 0.7598 - val_loss: 3.8981 - val_accuracy: 0.5016\n",
            "Epoch 222/250\n",
            "39/39 [==============================] - 1s 19ms/step - loss: 0.6342 - accuracy: 0.7598 - val_loss: 4.0469 - val_accuracy: 0.4984\n",
            "Epoch 223/250\n",
            "39/39 [==============================] - 1s 19ms/step - loss: 0.6528 - accuracy: 0.7557 - val_loss: 3.8746 - val_accuracy: 0.5081\n",
            "Epoch 224/250\n",
            "39/39 [==============================] - 1s 19ms/step - loss: 0.6068 - accuracy: 0.7761 - val_loss: 3.9657 - val_accuracy: 0.5147\n",
            "Epoch 225/250\n",
            "39/39 [==============================] - 1s 19ms/step - loss: 0.5803 - accuracy: 0.7761 - val_loss: 4.0572 - val_accuracy: 0.5179\n",
            "Epoch 226/250\n",
            "39/39 [==============================] - 1s 19ms/step - loss: 0.6326 - accuracy: 0.7622 - val_loss: 3.9868 - val_accuracy: 0.5049\n",
            "Epoch 227/250\n",
            "39/39 [==============================] - 1s 19ms/step - loss: 0.5779 - accuracy: 0.7858 - val_loss: 3.9844 - val_accuracy: 0.5081\n",
            "Epoch 228/250\n",
            "39/39 [==============================] - 1s 19ms/step - loss: 0.5996 - accuracy: 0.7842 - val_loss: 4.1196 - val_accuracy: 0.5114\n",
            "Epoch 229/250\n",
            "39/39 [==============================] - 1s 19ms/step - loss: 0.5717 - accuracy: 0.7744 - val_loss: 3.9081 - val_accuracy: 0.5244\n",
            "Epoch 230/250\n",
            "39/39 [==============================] - 1s 19ms/step - loss: 0.5688 - accuracy: 0.7850 - val_loss: 4.2418 - val_accuracy: 0.5016\n",
            "Epoch 231/250\n",
            "39/39 [==============================] - 1s 19ms/step - loss: 0.6038 - accuracy: 0.7704 - val_loss: 3.6420 - val_accuracy: 0.5147\n",
            "Epoch 232/250\n",
            "39/39 [==============================] - 1s 19ms/step - loss: 0.6067 - accuracy: 0.7630 - val_loss: 3.8479 - val_accuracy: 0.4984\n",
            "Epoch 233/250\n",
            "39/39 [==============================] - 1s 19ms/step - loss: 0.5977 - accuracy: 0.7704 - val_loss: 3.8683 - val_accuracy: 0.5081\n",
            "Epoch 234/250\n",
            "39/39 [==============================] - 1s 20ms/step - loss: 0.6385 - accuracy: 0.7565 - val_loss: 4.0597 - val_accuracy: 0.5179\n",
            "Epoch 235/250\n",
            "39/39 [==============================] - 1s 19ms/step - loss: 0.6142 - accuracy: 0.7809 - val_loss: 3.8510 - val_accuracy: 0.5049\n",
            "Epoch 236/250\n",
            "39/39 [==============================] - 1s 19ms/step - loss: 0.6091 - accuracy: 0.7728 - val_loss: 4.2500 - val_accuracy: 0.4984\n",
            "Epoch 237/250\n",
            "39/39 [==============================] - 1s 19ms/step - loss: 0.5944 - accuracy: 0.7834 - val_loss: 4.2087 - val_accuracy: 0.4951\n",
            "Epoch 238/250\n",
            "39/39 [==============================] - 1s 19ms/step - loss: 0.6122 - accuracy: 0.7736 - val_loss: 4.1382 - val_accuracy: 0.5212\n",
            "Epoch 239/250\n",
            "39/39 [==============================] - 1s 19ms/step - loss: 0.5967 - accuracy: 0.7663 - val_loss: 4.0594 - val_accuracy: 0.5114\n",
            "Epoch 240/250\n",
            "39/39 [==============================] - 1s 19ms/step - loss: 0.5680 - accuracy: 0.8021 - val_loss: 4.0882 - val_accuracy: 0.5081\n",
            "Epoch 241/250\n",
            "39/39 [==============================] - 1s 19ms/step - loss: 0.6043 - accuracy: 0.7744 - val_loss: 4.1636 - val_accuracy: 0.5081\n",
            "Epoch 242/250\n",
            "39/39 [==============================] - 1s 19ms/step - loss: 0.5893 - accuracy: 0.7744 - val_loss: 4.3791 - val_accuracy: 0.4919\n",
            "Epoch 243/250\n",
            "39/39 [==============================] - 1s 19ms/step - loss: 0.5789 - accuracy: 0.7883 - val_loss: 4.1195 - val_accuracy: 0.5179\n",
            "Epoch 244/250\n",
            "39/39 [==============================] - 1s 19ms/step - loss: 0.5672 - accuracy: 0.7809 - val_loss: 4.1783 - val_accuracy: 0.5081\n",
            "Epoch 245/250\n",
            "39/39 [==============================] - 1s 19ms/step - loss: 0.5749 - accuracy: 0.7793 - val_loss: 4.2402 - val_accuracy: 0.5016\n",
            "Epoch 246/250\n",
            "39/39 [==============================] - 1s 19ms/step - loss: 0.6090 - accuracy: 0.7712 - val_loss: 3.6846 - val_accuracy: 0.5212\n",
            "Epoch 247/250\n",
            "39/39 [==============================] - 1s 19ms/step - loss: 0.5605 - accuracy: 0.7883 - val_loss: 4.0568 - val_accuracy: 0.4984\n",
            "Epoch 248/250\n",
            "39/39 [==============================] - 1s 19ms/step - loss: 0.6077 - accuracy: 0.7793 - val_loss: 3.9036 - val_accuracy: 0.5147\n",
            "Epoch 249/250\n",
            "39/39 [==============================] - 1s 19ms/step - loss: 0.6027 - accuracy: 0.7647 - val_loss: 4.2858 - val_accuracy: 0.5016\n",
            "Epoch 250/250\n",
            "39/39 [==============================] - 1s 19ms/step - loss: 0.5990 - accuracy: 0.7769 - val_loss: 4.2765 - val_accuracy: 0.5016\n"
          ],
          "name": "stdout"
        }
      ]
    },
    {
      "cell_type": "code",
      "metadata": {
        "id": "MiEPEW5_WeIS",
        "colab_type": "code",
        "colab": {
          "base_uri": "https://localhost:8080/",
          "height": 282
        },
        "outputId": "6f75d651-a41d-4f4d-bfbf-c8955a47206d"
      },
      "source": [
        "plt.plot(history.history['accuracy'])\n",
        "plt.plot(history.history['val_accuracy'])\n",
        "\n",
        "plt.legend(['accuracy', 'val_accuracy'])"
      ],
      "execution_count": 229,
      "outputs": [
        {
          "output_type": "execute_result",
          "data": {
            "text/plain": [
              "<matplotlib.legend.Legend at 0x7ff019e05b70>"
            ]
          },
          "metadata": {
            "tags": []
          },
          "execution_count": 229
        },
        {
          "output_type": "display_data",
          "data": {
            "image/png": "[encoded data removed]",
            "text/plain": [
              "<Figure size 432x288 with 1 Axes>"
            ]
          },
          "metadata": {
            "tags": [],
            "needs_background": "light"
          }
        }
      ]
    },
    {
      "cell_type": "markdown",
      "metadata": {
        "id": "YALc_iDiXloB",
        "colab_type": "text"
      },
      "source": [
        "### Model Predict"
      ]
    },
    {
      "cell_type": "code",
      "metadata": {
        "id": "bEW5Bh7PZXh7",
        "colab_type": "code",
        "colab": {}
      },
      "source": [
        "def padding_doc(encoded_doc, max_length):\n",
        "  return(pad_sequences(encoded_doc, maxlen = max_length, padding = \"post\"))"
      ],
      "execution_count": 222,
      "outputs": []
    },
    {
      "cell_type": "code",
      "metadata": {
        "id": "Ptxl97vbfgZv",
        "colab_type": "code",
        "colab": {}
      },
      "source": [
        "intent_map = {}\n",
        "for intent, onehot_intent in zip(data['intent'].values, test_data):\n",
        "  if (intent not in intent_map):\n",
        "    intent_map[intent] = list(onehot_intent).index(1)"
      ],
      "execution_count": 223,
      "outputs": []
    },
    {
      "cell_type": "code",
      "metadata": {
        "id": "EWGcFKEFYvTC",
        "colab_type": "code",
        "colab": {}
      },
      "source": [
        "def predict(text):\n",
        "  # Clean the text first\n",
        "  cleaned_text = re.sub(r'[^ a-z A-Z 0-9]', \" \", text)\n",
        "  test_word = word_tokenize(cleaned_text)\n",
        "  test_word = [w.lower() for w in test_word]\n",
        "  test_ls = tokenizer.texts_to_sequences(test_word)\n",
        "\n",
        "  # Check for unknown words\n",
        "  if [] in test_ls:\n",
        "    test_ls = list(filter(None, test_ls))\n",
        "    \n",
        "  test_ls = np.array(test_ls).reshape(1, len(test_ls))\n",
        "  x = padding_doc(test_ls, max_length)\n",
        "  \n",
        "  prediction_result = model.predict(x)\n",
        "  prediction_result = prediction_result[0]\n",
        "\n",
        "  # convert prediction result to intent word\n",
        "  unique_intents = np.array(list(set(data['intent'])))\n",
        "\n",
        "  # sort value by intent ranking\n",
        "  intent_ranking = {}\n",
        "  for each_intent in unique_intents:\n",
        "    intent_ranking[each_intent] = prediction_result[intent_map[each_intent]]\n",
        "\n",
        "  sorted_intent_ranking = sorted(intent_ranking.items(), key=lambda kv: kv[1], reverse=True)\n",
        "\n",
        "  print(\"Intent Ranking:\")\n",
        "  for each_intent in sorted_intent_ranking:\n",
        "    print(each_intent[0] + \"= \" + str(each_intent[1]) + \" confidence\")"
      ],
      "execution_count": 224,
      "outputs": []
    },
    {
      "cell_type": "code",
      "metadata": {
        "id": "uWHeVaXvZZRP",
        "colab_type": "code",
        "colab": {
          "base_uri": "https://localhost:8080/",
          "height": 1000
        },
        "outputId": "ea16ebd7-d53a-4392-b6f7-0b3588aaabe8"
      },
      "source": [
        "predict(\"register\")"
      ],
      "execution_count": 230,
      "outputs": [
        {
          "output_type": "stream",
          "text": [
            "Intent Ranking:\n",
            "revoke_user= 0.16617747 confidence\n",
            "ask_attendance_formula= 0.12775502 confidence\n",
            "leave_balance_detail= 0.12523356 confidence\n",
            "overtime_ask_date= 0.08702212 confidence\n",
            "balance_previous= 0.07753692 confidence\n",
            "leave_entry_ask_leave_type= 0.052209374 confidence\n",
            "reimburse= 0.04508146 confidence\n",
            "help= 0.041478243 confidence\n",
            "absence= 0.031810377 confidence\n",
            "download_payslip= 0.030682942 confidence\n",
            "approval_status= 0.02245857 confidence\n",
            "register_user_ask_verification_code= 0.02225953 confidence\n",
            "balance_next= 0.020277286 confidence\n",
            "overtime_ask_start_time= 0.018665735 confidence\n",
            "extend_leave= 0.0155979395 confidence\n",
            "leave_entry_ask_dates= 0.013586516 confidence\n",
            "ask_claudia= 0.013022535 confidence\n",
            "register_user= 0.010078214 confidence\n",
            "absence_cancellation_ask_parameter= 0.0090470845 confidence\n",
            "ask_payroll_cutoff_date_select_type= 0.008282969 confidence\n",
            "cancel= 0.006129073 confidence\n",
            "leave_entry= 0.0046681184 confidence\n",
            "snooze_notification= 0.004299617 confidence\n",
            "thank_you= 0.003982012 confidence\n",
            "absence_cancellation_ask_confirmation= 0.0037906014 confidence\n",
            "reimburse_ask_confirmation= 0.0037105724 confidence\n",
            "leave_entry_ask_confirmation= 0.0036517826 confidence\n",
            "leave_cancellation_ask_approval_status= 0.0036169062 confidence\n",
            "offer_help= 0.0033833077 confidence\n",
            "ask_absence_attendance_status_policy= 0.003382101 confidence\n",
            "leave_cancellation_ask_number= 0.0033090648 confidence\n",
            "ask_supervisor= 0.0018670458 confidence\n",
            "absence_ask_confirmation= 0.0017784443 confidence\n",
            "overtime_cancellation_ask_confirmation= 0.0015712912 confidence\n",
            "approval= 0.0012834256 confidence\n",
            "reimbursement_approval_ask_confirmation= 0.0012461877 confidence\n",
            "absence_ask_parameter= 0.0010793922 confidence\n",
            "balance= 0.0008943987 confidence\n",
            "overtime_cancellation_ask_parameter= 0.0008938513 confidence\n",
            "ask_exceed_leave_balance_status= 0.0007605148 confidence\n",
            "approval_status_ask_status= 0.00074802974 confidence\n",
            "ask_allowance= 0.0007459502 confidence\n",
            "reimburse_ask_family_member= 0.0007425957 confidence\n",
            "ask_shift= 0.00059363194 confidence\n",
            "ask_holiday= 0.00056454656 confidence\n",
            "overtime_approval_ask_template_number= 0.0004672861 confidence\n",
            "absence_ask_absence_status_number= 0.0002958815 confidence\n",
            "ask_payroll_cutoff_date= 0.00020033408 confidence\n",
            "reject_notification_ask_confirmation= 0.0001703958 confidence\n",
            "overtime= 0.00015515498 confidence\n",
            "approve_overtime_notification_ask_confirmation= 0.00014130607 confidence\n",
            "approve_reimbursement_claim_notification_ask_amount= 0.0001410824 confidence\n",
            "leave_cancellation_approved_ask_date= 0.00013241754 confidence\n",
            "approve_reimbursement_claim_notification_ask_confirmation= 0.00012571941 confidence\n",
            "approve_notification_ask_confirmation= 0.000119242235 confidence\n",
            "ask_ump= 0.00011811845 confidence\n",
            "overtime_ask_confirmation= 0.00010682324 confidence\n",
            "ask_retirement_age= 0.00010072133 confidence\n",
            "revoke_user_ask_confirmation= 8.96523e-05 confidence\n",
            "ask_bpjs_additional_family= 8.520664e-05 confidence\n",
            "approval_ask_confirmation= 6.386066e-05 confidence\n",
            "leave_entry_half_day_ask_start_time= 6.352354e-05 confidence\n",
            "absence_cancellation= 6.325929e-05 confidence\n",
            "reimbursement_approval_ask_balance= 5.4397562e-05 confidence\n",
            "disable_push_notification= 4.1464547e-05 confidence\n",
            "ask_identity_card= 4.067314e-05 confidence\n",
            "register_user_ask_tenant= 3.963826e-05 confidence\n",
            "ask_additional_income_prerequisite= 3.468562e-05 confidence\n",
            "leave_cancellation= 2.7661701e-05 confidence\n",
            "approve_overtime_notification_ask_template_number= 2.5707794e-05 confidence\n",
            "ask_personal_detail= 1.9017793e-05 confidence\n",
            "ask_allowance_select_type= 1.7165994e-05 confidence\n",
            "approval_ask_parameter= 1.5574864e-05 confidence\n",
            "ask_additional_income_prerequisite_after_terminated= 1.3347843e-05 confidence\n",
            "ask_catapa= 1.0803889e-05 confidence\n",
            "ask_healthcare_facility= 9.6662e-06 confidence\n",
            "ask_overtime_calculation_method= 9.481182e-06 confidence\n",
            "ask_npwp= 7.700887e-06 confidence\n",
            "ask_lateness_deduct_overtime= 6.688491e-06 confidence\n",
            "leave_cancellation_ask_confirmation= 5.3344625e-06 confidence\n",
            "overtime_approval_ask_confirmation= 3.6904114e-06 confidence\n",
            "disable_push_notification_ask_type= 3.5346748e-06 confidence\n",
            "ask_employment_detail= 2.7471356e-06 confidence\n",
            "ask_location= 2.5900367e-06 confidence\n",
            "default_fallback_intent= 2.2406414e-06 confidence\n",
            "enable_push_notification_ask_type= 2.1192795e-06 confidence\n",
            "enable_push_notification= 1.5184393e-06 confidence\n",
            "ask_bpjs_membership= 1.4129297e-06 confidence\n",
            "ask_bpjs_treatment_class= 1.2863387e-06 confidence\n",
            "ask_family_card_number= 8.1137506e-07 confidence\n",
            "overtime_cancellation= 7.2303646e-07 confidence\n",
            "ask_company= 5.2507204e-07 confidence\n",
            "reimbursement_approval_ask_parameter= 4.6498354e-07 confidence\n",
            "overtime_approval_ask_parameter= 2.6444485e-07 confidence\n",
            "ask_dental_facility= 2.3172224e-07 confidence\n",
            "reimburse_ask_reimbursement_item_number= 1.9536206e-07 confidence\n",
            "approve_overtime_notification_ask_paid= 8.976277e-08 confidence\n",
            "ask_subordinate= 8.88596e-08 confidence\n",
            "register_user_resend_verification_code= 6.791771e-08 confidence\n",
            "reject_notification_ask_reason= 5.889055e-08 confidence\n",
            "overtime_approval_ask_paid= 4.889532e-08 confidence\n",
            "reimburse_ask_claimed_amount= 3.84639e-08 confidence\n",
            "see_approval_detail_notification_ask_approve_reject= 1.647914e-10 confidence\n"
          ],
          "name": "stdout"
        }
      ]
    },
    {
      "cell_type": "code",
      "metadata": {
        "id": "Jfnuj4vBfYHt",
        "colab_type": "code",
        "colab": {}
      },
      "source": [
        ""
      ],
      "execution_count": null,
      "outputs": []
    }
  ]
}