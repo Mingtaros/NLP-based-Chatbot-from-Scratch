{
  "nbformat": 4,
  "nbformat_minor": 0,
  "metadata": {
    "colab": {
      "name": "NER Tanggal",
      "provenance": [],
      "collapsed_sections": []
    },
    "kernelspec": {
      "name": "python3",
      "display_name": "Python 3"
    },
    "accelerator": "GPU"
  },
  "cells": [
    {
      "cell_type": "code",
      "metadata": {
        "id": "k9PKgvGUAyTw",
        "outputId": "e6bb9cd1-5509-438b-fda7-08c7ac049d16",
        "colab": {
          "base_uri": "https://localhost:8080/"
        }
      },
      "source": [
        "import re\n",
        "import nltk\n",
        "import numpy as np\n",
        "import matplotlib.pyplot as plt\n",
        "\n",
        "from keras.preprocessing.sequence import pad_sequences\n",
        "from keras.preprocessing.text import one_hot\n",
        "\n",
        "import tensorflow as tf\n",
        "from tensorflow.keras.models import Sequential\n",
        "from tensorflow.keras.layers import Dense, LSTM, Bidirectional, Dropout, Embedding, TimeDistributed, InputLayer\n",
        "from tensorflow.keras.optimizers import Adam\n",
        "\n",
        "from sklearn.model_selection import train_test_split\n",
        "\n",
        "nltk.download('punkt')"
      ],
      "execution_count": 443,
      "outputs": [
        {
          "output_type": "stream",
          "text": [
            "[nltk_data] Downloading package punkt to /root/nltk_data...\n",
            "[nltk_data]   Package punkt is already up-to-date!\n"
          ],
          "name": "stdout"
        },
        {
          "output_type": "execute_result",
          "data": {
            "text/plain": [
              "True"
            ]
          },
          "metadata": {
            "tags": []
          },
          "execution_count": 443
        }
      ]
    },
    {
      "cell_type": "code",
      "metadata": {
        "id": "s66NZbODBJ09"
      },
      "source": [
        "def replace_with_entity(re_group):\n",
        "    # replace every ENAMEX tag in sentence with the entity itself\n",
        "    entity = re.findall(r'<ENAMEX TYPE=.*?>(.*?)</ENAMEX>', re_group)\n",
        "    return entity[0]\n",
        "\n",
        "\n",
        "def find_index_in_sentence(patterns, sentence):\n",
        "    # find index of start and end of occured entity in sentence\n",
        "    index_in_sentence = []\n",
        "    for pattern in patterns:\n",
        "        # add regex special characters in pattern with backslash\n",
        "        pattern = re.sub('\\(', '\\\\(', pattern)\n",
        "        pattern = re.sub('\\)', '\\\\)', pattern)\n",
        "        pattern = re.sub('\\+', '\\\\+', pattern)\n",
        "        pattern = re.sub('\\$', '\\\\$', pattern)\n",
        "\n",
        "        index_in_sentence.append([(index.start(0), index.end(0)) for index in re.finditer(pattern, sentence)][0])\n",
        "\n",
        "    return index_in_sentence\n",
        "\n",
        "\n",
        "def read_enamex_file(filename):\n",
        "    # open file with enamex XML Entities\n",
        "    # convert it to standard SpaCy training dataset for NER\n",
        "    with open(filename, 'r') as f:\n",
        "        content = f.read()\n",
        "\n",
        "    # remove \\t...\\n from the content data\n",
        "    content_removed_endline = re.sub('\\t.*?\\n', '', content)\n",
        "\n",
        "    # split the content to list of sentences\n",
        "    before_sentences = content_removed_endline.split(\".\")\n",
        "    train_data = []\n",
        "\n",
        "    # converted the splitted content to list of tuple\n",
        "    # showing where the entity occur and what's the entity\n",
        "    for each_sentence in before_sentences:\n",
        "        if each_sentence == \"\":\n",
        "            continue\n",
        "        # find enamex for every sentence\n",
        "        entities = re.findall(r'<ENAMEX TYPE=.*?>(.*?)</ENAMEX>', each_sentence)\n",
        "        types = re.findall(r'<ENAMEX TYPE=\\\"(.*?)\\\">.*?</ENAMEX>', each_sentence)\n",
        "\n",
        "        # replace XML ENAMEX with entity\n",
        "        new_sentence = re.sub(r'<ENAMEX TYPE=.*?>.*?</ENAMEX>', lambda enamex: replace_with_entity(enamex.group()), each_sentence)\n",
        "\n",
        "        index_in_sentence = find_index_in_sentence(entities, new_sentence)\n",
        "\n",
        "        #append to train data with format = (new_sentence, {\"entities\": [(start, end, type)]})\n",
        "        entity_dictionary = {\n",
        "            \"entities\": []\n",
        "        }\n",
        "\n",
        "        for entity_type, entity_index in zip(types, index_in_sentence):\n",
        "            # only append if entities don't overlap\n",
        "            check_overlap = False\n",
        "            for entity in entity_dictionary[\"entities\"]:\n",
        "                if ((entity_index[0] >= entity[0] and entity_index[0] <= entity[1]) or (entity_index[1] <= entity[1] and entity_index[1] >= entity[0])):\n",
        "                    check_overlap = True\n",
        "\n",
        "            if (not check_overlap and entity_type == 'DATETIME'):\n",
        "                entity_dictionary[\"entities\"].append((entity_index[0], entity_index[1], entity_type))\n",
        "        train_data.append((new_sentence, entity_dictionary))\n",
        "\n",
        "    return train_data"
      ],
      "execution_count": 444,
      "outputs": []
    },
    {
      "cell_type": "code",
      "metadata": {
        "id": "jJwZL5-hBPLP"
      },
      "source": [
        "data_read = read_enamex_file('ner_data.txt')"
      ],
      "execution_count": 445,
      "outputs": []
    },
    {
      "cell_type": "code",
      "metadata": {
        "id": "a68r8JzeBT2w"
      },
      "source": [
        "def preprocessData(sentence):\n",
        "  result = ' '.join(sentence.lower().split('-'))\n",
        "  result = nltk.word_tokenize(result)\n",
        "  return result\n",
        "\n",
        "def changeDataFormat(data_read):\n",
        "  x_data = []\n",
        "  y_data = []\n",
        "  # Label 0 = other, 1 = date\n",
        "  for data in data_read:\n",
        "    words = preprocessData(data[0])\n",
        "    label = [0 for i in range(len(words))]\n",
        "    for entities in data[1]['entities']:\n",
        "\n",
        "      ner_words = data[0][entities[0]:entities[1]]\n",
        "      ner_words = preprocessData(ner_words)\n",
        "\n",
        "      ner_count = 0\n",
        "      idx_word = 0\n",
        "      while (ner_count < len(ner_words) and idx_word < len(words)):\n",
        "        if words[idx_word] == ner_words[ner_count]:\n",
        "          label[idx_word] = 1\n",
        "          ner_count += 1\n",
        "        idx_word += 1\n",
        "    x_data.append(words)\n",
        "    y_data.append(label)\n",
        "  return x_data, y_data"
      ],
      "execution_count": 446,
      "outputs": []
    },
    {
      "cell_type": "code",
      "metadata": {
        "id": "1XhvcRTlsLr8",
        "outputId": "7e8f94f4-ae96-4a2a-a0ff-bb6c4e2bcdcb",
        "colab": {
          "base_uri": "https://localhost:8080/",
          "height": 264
        }
      },
      "source": [
        "x, y = changeDataFormat(data_read)\n",
        "x = np.array(x)\n",
        "y = np.array(y)\n",
        "plt.hist([len(s) for s in x], bins=50)\n",
        "plt.show()"
      ],
      "execution_count": 447,
      "outputs": [
        {
          "output_type": "display_data",
          "data": {
            "image/png": "[encoded data removed]",
            "text/plain": [
              "<Figure size 432x288 with 1 Axes>"
            ]
          },
          "metadata": {
            "tags": [],
            "needs_background": "light"
          }
        }
      ]
    },
    {
      "cell_type": "code",
      "metadata": {
        "id": "Q010eURNuRTV"
      },
      "source": [
        "def encodeXData(x):\n",
        "  new_x = []\n",
        "  for sentence in x:\n",
        "    new_seq = []\n",
        "    for word in sentence:\n",
        "      try:\n",
        "        new_seq.append(word2index[word.lower()])\n",
        "      except KeyError:\n",
        "        new_seq.append(word2index['OOVword'])\n",
        "    new_x.append(new_seq)\n",
        "  return new_x\n",
        "\n",
        "\n",
        "def dataToMaxLength(x, y, max_len):\n",
        "  new_x = pad_sequences(maxlen=max_len, sequences=x, padding=\"post\", value=0)\n",
        "  new_y = pad_sequences(maxlen=max_len, sequences=y, padding=\"post\", value=0)\n",
        "  return np.array(new_x), np.array(new_y)"
      ],
      "execution_count": 448,
      "outputs": []
    },
    {
      "cell_type": "code",
      "metadata": {
        "id": "UYwlKS5jzXgN"
      },
      "source": [
        "words = set([])\n",
        "for sentence in x:\n",
        "  for word in sentence:\n",
        "    words.add(word.lower())\n",
        "word2index = {w: i + 2 for i, w in enumerate(list(words))}\n",
        "word2index['PADword'] = 0\n",
        "word2index['OOVword'] = 1\n",
        "encoded_x = encodeXData(x)"
      ],
      "execution_count": 449,
      "outputs": []
    },
    {
      "cell_type": "code",
      "metadata": {
        "id": "79D8LTx1-xWE"
      },
      "source": [
        "MAX_LEN = 50\n",
        "fixed_x = pad_sequences(maxlen=MAX_LEN, sequences=encoded_x, padding=\"post\", value=0)\n",
        "fixed_y = pad_sequences(maxlen=MAX_LEN, sequences=y, padding=\"post\", value=0)\n",
        "x_train = fixed_x\n",
        "y_train = fixed_y\n",
        "# x_train, x_test, y_train, y_test = train_test_split(fixed_x, fixed_y, test_size=0.1, random_state=13517054)"
      ],
      "execution_count": 450,
      "outputs": []
    },
    {
      "cell_type": "code",
      "metadata": {
        "id": "LLTPYnYU3LsS"
      },
      "source": [
        "model = Sequential()\n",
        "model.add(InputLayer(input_shape=(MAX_LEN, )))\n",
        "model.add(Embedding(len(word2index), 64))\n",
        "model.add(Bidirectional(LSTM(32, return_sequences=True)))\n",
        "model.add(TimeDistributed(Dense(1, activation='sigmoid')))"
      ],
      "execution_count": 451,
      "outputs": []
    },
    {
      "cell_type": "code",
      "metadata": {
        "id": "uvHm461Y5gQq",
        "outputId": "b99b1d94-0ba0-4d8d-dd61-f357faae646a",
        "colab": {
          "base_uri": "https://localhost:8080/"
        }
      },
      "source": [
        "model.compile(optimizer=\"adam\", loss=\"binary_crossentropy\", metrics=[\"accuracy\"])\n",
        "model.summary()"
      ],
      "execution_count": 452,
      "outputs": [
        {
          "output_type": "stream",
          "text": [
            "Model: \"sequential_22\"\n",
            "_________________________________________________________________\n",
            "Layer (type)                 Output Shape              Param #   \n",
            "=================================================================\n",
            "embedding_22 (Embedding)     (None, 50, 64)            482368    \n",
            "_________________________________________________________________\n",
            "bidirectional_22 (Bidirectio (None, 50, 64)            24832     \n",
            "_________________________________________________________________\n",
            "time_distributed_22 (TimeDis (None, 50, 1)             65        \n",
            "=================================================================\n",
            "Total params: 507,265\n",
            "Trainable params: 507,265\n",
            "Non-trainable params: 0\n",
            "_________________________________________________________________\n"
          ],
          "name": "stdout"
        }
      ]
    },
    {
      "cell_type": "code",
      "metadata": {
        "id": "A-BzW45E5-7Z",
        "outputId": "76d0b61c-5885-4961-8975-05ae9d0d4492",
        "colab": {
          "base_uri": "https://localhost:8080/"
        }
      },
      "source": [
        "history = model.fit(x_train, y_train, batch_size=32, validation_split=0.1, epochs=20)"
      ],
      "execution_count": 453,
      "outputs": [
        {
          "output_type": "stream",
          "text": [
            "Epoch 1/20\n",
            "64/64 [==============================] - 2s 26ms/step - loss: 0.2010 - accuracy: 0.9783 - val_loss: 0.1061 - val_accuracy: 0.9777\n",
            "Epoch 2/20\n",
            "64/64 [==============================] - 1s 15ms/step - loss: 0.0326 - accuracy: 0.9945 - val_loss: 0.0918 - val_accuracy: 0.9777\n",
            "Epoch 3/20\n",
            "64/64 [==============================] - 1s 15ms/step - loss: 0.0238 - accuracy: 0.9945 - val_loss: 0.0802 - val_accuracy: 0.9777\n",
            "Epoch 4/20\n",
            "64/64 [==============================] - 1s 15ms/step - loss: 0.0174 - accuracy: 0.9945 - val_loss: 0.0694 - val_accuracy: 0.9777\n",
            "Epoch 5/20\n",
            "64/64 [==============================] - 1s 15ms/step - loss: 0.0114 - accuracy: 0.9951 - val_loss: 0.0578 - val_accuracy: 0.9786\n",
            "Epoch 6/20\n",
            "64/64 [==============================] - 1s 15ms/step - loss: 0.0070 - accuracy: 0.9973 - val_loss: 0.0497 - val_accuracy: 0.9810\n",
            "Epoch 7/20\n",
            "64/64 [==============================] - 1s 15ms/step - loss: 0.0046 - accuracy: 0.9984 - val_loss: 0.0429 - val_accuracy: 0.9831\n",
            "Epoch 8/20\n",
            "64/64 [==============================] - 1s 15ms/step - loss: 0.0031 - accuracy: 0.9989 - val_loss: 0.0417 - val_accuracy: 0.9838\n",
            "Epoch 9/20\n",
            "64/64 [==============================] - 1s 14ms/step - loss: 0.0023 - accuracy: 0.9996 - val_loss: 0.0398 - val_accuracy: 0.9846\n",
            "Epoch 10/20\n",
            "64/64 [==============================] - 1s 14ms/step - loss: 0.0017 - accuracy: 0.9998 - val_loss: 0.0399 - val_accuracy: 0.9856\n",
            "Epoch 11/20\n",
            "64/64 [==============================] - 1s 14ms/step - loss: 0.0013 - accuracy: 0.9998 - val_loss: 0.0407 - val_accuracy: 0.9866\n",
            "Epoch 12/20\n",
            "64/64 [==============================] - 1s 14ms/step - loss: 0.0011 - accuracy: 0.9998 - val_loss: 0.0399 - val_accuracy: 0.9877\n",
            "Epoch 13/20\n",
            "64/64 [==============================] - 1s 14ms/step - loss: 9.5450e-04 - accuracy: 0.9999 - val_loss: 0.0454 - val_accuracy: 0.9874\n",
            "Epoch 14/20\n",
            "64/64 [==============================] - 1s 14ms/step - loss: 8.3614e-04 - accuracy: 0.9999 - val_loss: 0.0417 - val_accuracy: 0.9884\n",
            "Epoch 15/20\n",
            "64/64 [==============================] - 1s 14ms/step - loss: 7.4222e-04 - accuracy: 0.9999 - val_loss: 0.0422 - val_accuracy: 0.9883\n",
            "Epoch 16/20\n",
            "64/64 [==============================] - 1s 14ms/step - loss: 6.2999e-04 - accuracy: 0.9999 - val_loss: 0.0421 - val_accuracy: 0.9884\n",
            "Epoch 17/20\n",
            "64/64 [==============================] - 1s 14ms/step - loss: 5.6275e-04 - accuracy: 0.9999 - val_loss: 0.0429 - val_accuracy: 0.9884\n",
            "Epoch 18/20\n",
            "64/64 [==============================] - 1s 14ms/step - loss: 5.0787e-04 - accuracy: 0.9999 - val_loss: 0.0437 - val_accuracy: 0.9886\n",
            "Epoch 19/20\n",
            "64/64 [==============================] - 1s 14ms/step - loss: 4.5976e-04 - accuracy: 0.9999 - val_loss: 0.0431 - val_accuracy: 0.9888\n",
            "Epoch 20/20\n",
            "64/64 [==============================] - 1s 14ms/step - loss: 4.0331e-04 - accuracy: 1.0000 - val_loss: 0.0439 - val_accuracy: 0.9891\n"
          ],
          "name": "stdout"
        }
      ]
    },
    {
      "cell_type": "code",
      "metadata": {
        "id": "rgELBNWa6Jt4"
      },
      "source": [
        "def getIndex(data):\n",
        "  for key in word2index:\n",
        "    if word2index[key] == data:\n",
        "      return key\n",
        "\n",
        "def predict(text):\n",
        "  test_data = preprocessData(text)\n",
        "  test_data = encodeXData([test_data])[0]\n",
        "  pred = model.predict(test_data)\n",
        "  normalized_pred = [1 if a > 0.5 else 0 for a in pred]\n",
        "  labelled_token = []\n",
        "  for i, label in enumerate(normalized_pred):\n",
        "    if label == 1:\n",
        "      labelled_token.append(getIndex(test_data[i]))\n",
        "  return labelled_token"
      ],
      "execution_count": 485,
      "outputs": []
    },
    {
      "cell_type": "code",
      "metadata": {
        "id": "FYdVK6GbVgiE",
        "outputId": "58cfd9d5-951f-4dea-d5a1-a9e2d1feac06",
        "colab": {
          "base_uri": "https://localhost:8080/"
        }
      },
      "source": [
        "predict('mau cuti tanggal 11 20 januari hehe')"
      ],
      "execution_count": 486,
      "outputs": [
        {
          "output_type": "execute_result",
          "data": {
            "text/plain": [
              "['11', '20', 'januari']"
            ]
          },
          "metadata": {
            "tags": []
          },
          "execution_count": 486
        }
      ]
    },
    {
      "cell_type": "code",
      "metadata": {
        "id": "3ILgadYYW_js"
      },
      "source": [
        ""
      ],
      "execution_count": null,
      "outputs": []
    }
  ]
}