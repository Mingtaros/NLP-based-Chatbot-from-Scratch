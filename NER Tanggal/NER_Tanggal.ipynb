{
  "nbformat": 4,
  "nbformat_minor": 0,
  "metadata": {
    "colab": {
      "name": "NER Tanggal",
      "provenance": [],
      "collapsed_sections": [],
      "toc_visible": true
    },
    "kernelspec": {
      "name": "python3",
      "display_name": "Python 3"
    },
    "accelerator": "GPU"
  },
  "cells": [
    {
      "cell_type": "markdown",
      "metadata": {
        "id": "7DQhj8QdpxHa"
      },
      "source": [
        "# NER for Date\n"
      ]
    },
    {
      "cell_type": "code",
      "metadata": {
        "id": "k9PKgvGUAyTw",
        "outputId": "ede516f7-a39e-4c8b-f874-7e4b6a0067fd",
        "colab": {
          "base_uri": "https://localhost:8080/"
        }
      },
      "source": [
        "import re\n",
        "import numpy as np\n",
        "import matplotlib.pyplot as plt\n",
        "import nltk\n",
        "import math\n",
        "\n",
        "from sklearn.preprocessing import MinMaxScaler\n",
        "\n",
        "from tensorflow.keras.preprocessing.sequence import pad_sequences\n",
        "from tensorflow.keras.preprocessing.text import Tokenizer\n",
        "\n",
        "import tensorflow as tf\n",
        "from tensorflow.keras.metrics import Precision, Recall\n",
        "from tensorflow.keras.models import Sequential\n",
        "from tensorflow.keras.layers import Dense, LSTM, Bidirectional, Dropout, Embedding, TimeDistributed, InputLayer, BatchNormalization\n",
        "from tensorflow.keras.optimizers import Adam, RMSprop\n",
        "\n",
        "from sklearn.model_selection import train_test_split\n",
        "\n",
        "nltk.download('punkt')"
      ],
      "execution_count": 627,
      "outputs": [
        {
          "output_type": "stream",
          "text": [
            "[nltk_data] Downloading package punkt to /root/nltk_data...\n",
            "[nltk_data]   Package punkt is already up-to-date!\n"
          ],
          "name": "stdout"
        },
        {
          "output_type": "execute_result",
          "data": {
            "text/plain": [
              "True"
            ]
          },
          "metadata": {
            "tags": []
          },
          "execution_count": 627
        }
      ]
    },
    {
      "cell_type": "code",
      "metadata": {
        "id": "5kIE697K6Nkh"
      },
      "source": [
        "np.random.seed(13517054)"
      ],
      "execution_count": 628,
      "outputs": []
    },
    {
      "cell_type": "markdown",
      "metadata": {
        "id": "kEODomClpuAE"
      },
      "source": [
        "## Load Data"
      ]
    },
    {
      "cell_type": "code",
      "metadata": {
        "id": "s66NZbODBJ09"
      },
      "source": [
        "def replace_with_entity(re_group):\n",
        "    # replace every ENAMEX tag in sentence with the entity itself\n",
        "    entity = re.findall(r'<ENAMEX TYPE=.*?>(.*?)</ENAMEX>', re_group)\n",
        "    return entity[0]\n",
        "\n",
        "\n",
        "def find_index_in_sentence(patterns, sentence):\n",
        "    # find index of start and end of occured entity in sentence\n",
        "    index_in_sentence = []\n",
        "    for pattern in patterns:\n",
        "        # add regex special characters in pattern with backslash\n",
        "        pattern = re.sub('\\(', '\\\\(', pattern)\n",
        "        pattern = re.sub('\\)', '\\\\)', pattern)\n",
        "        pattern = re.sub('\\+', '\\\\+', pattern)\n",
        "        pattern = re.sub('\\$', '\\\\$', pattern)\n",
        "\n",
        "        index_in_sentence.append([(index.start(0), index.end(0)) for index in re.finditer(pattern, sentence)][0])\n",
        "\n",
        "    return index_in_sentence\n",
        "\n",
        "\n",
        "def read_enamex_file(filename):\n",
        "    # open file with enamex XML Entities\n",
        "    # convert it to standard SpaCy training dataset for NER\n",
        "    with open(filename, 'r') as f:\n",
        "        content = f.read()\n",
        "\n",
        "    # remove \\t...\\n from the content data\n",
        "    content_removed_endline = re.sub('\\t.*?\\n', '', content)\n",
        "\n",
        "    # split the content to list of sentences\n",
        "    before_sentences = content_removed_endline.split(\".\")\n",
        "    train_data = []\n",
        "\n",
        "    # converted the splitted content to list of tuple\n",
        "    # showing where the entity occur and what's the entity\n",
        "    for each_sentence in before_sentences:\n",
        "        if each_sentence == \"\":\n",
        "            continue\n",
        "        # find enamex for every sentence\n",
        "        entities = re.findall(r'<ENAMEX TYPE=.*?>(.*?)</ENAMEX>', each_sentence)\n",
        "        types = re.findall(r'<ENAMEX TYPE=\\\"(.*?)\\\">.*?</ENAMEX>', each_sentence)\n",
        "\n",
        "        # replace XML ENAMEX with entity\n",
        "        new_sentence = re.sub(r'<ENAMEX TYPE=.*?>.*?</ENAMEX>', lambda enamex: replace_with_entity(enamex.group()), each_sentence)\n",
        "\n",
        "        index_in_sentence = find_index_in_sentence(entities, new_sentence)\n",
        "\n",
        "        #append to train data with format = (new_sentence, {\"entities\": [(start, end, type)]})\n",
        "        entity_dictionary = {\n",
        "            \"entities\": []\n",
        "        }\n",
        "\n",
        "        for entity_type, entity_index in zip(types, index_in_sentence):\n",
        "            # only append if entities don't overlap\n",
        "            check_overlap = False\n",
        "            for entity in entity_dictionary[\"entities\"]:\n",
        "                if ((entity_index[0] >= entity[0] and entity_index[0] <= entity[1]) or (entity_index[1] <= entity[1] and entity_index[1] >= entity[0])):\n",
        "                    check_overlap = True\n",
        "\n",
        "            if (not check_overlap and entity_type == 'DATETIME'):\n",
        "                entity_dictionary[\"entities\"].append((entity_index[0], entity_index[1], entity_type))\n",
        "        train_data.append((new_sentence, entity_dictionary))\n",
        "\n",
        "    return train_data"
      ],
      "execution_count": 629,
      "outputs": []
    },
    {
      "cell_type": "code",
      "metadata": {
        "id": "jJwZL5-hBPLP",
        "outputId": "18f37c8c-594d-45eb-d20a-e0d6d86bb53c",
        "colab": {
          "base_uri": "https://localhost:8080/"
        }
      },
      "source": [
        "data_read = read_enamex_file('ner_data.txt')\n",
        "data_read[:3]"
      ],
      "execution_count": 630,
      "outputs": [
        {
          "output_type": "execute_result",
          "data": {
            "text/plain": [
              "[('Telkom akan melakukan RUPS pada 30 Juli 2004 yang selain melaporkan kinerja 2003 juga akan meminta persetujuan untuk pemecahan nilai nominal saham atau stock split 1:2',\n",
              "  {'entities': [(32, 44, 'DATETIME')]}),\n",
              " ('Sehubungan dengan hal tersebut, saat ini addendum (perubahan) terhadap perjanjian perpanjangan sewa jaringan PT PSN oleh KPU sedang dalam proses pertimbangan',\n",
              "  {'entities': []}),\n",
              " ('Terutama mengenai langganan bulanan leased line channel untuk ruas Lemah Abang-Slipi (Jakarta-Excelcom) dan Lemah Abang-Imam Bonjol (Jakarta-Telkom) untuk tiga bulan ke depan yang sudah berakhir sejak 30 April 2004',\n",
              "  {'entities': [(201, 214, 'DATETIME')]})]"
            ]
          },
          "metadata": {
            "tags": []
          },
          "execution_count": 630
        }
      ]
    },
    {
      "cell_type": "markdown",
      "metadata": {
        "id": "xHaf7rVMqnq0"
      },
      "source": [
        "## Data Preprocessing"
      ]
    },
    {
      "cell_type": "code",
      "metadata": {
        "id": "a68r8JzeBT2w"
      },
      "source": [
        "def preprocessData(sentence):\n",
        "  result = re.sub(r'[^ a-z A-Z 0-9]', \" \", sentence.lower())\n",
        "  result = nltk.word_tokenize(result)\n",
        "  return result\n",
        "\n",
        "def changeDataFormat(data_read):\n",
        "  x_data = []\n",
        "  y_data = []\n",
        "  # Label 0 = other, 1 = date\n",
        "  for data in data_read:\n",
        "    words = preprocessData(data[0])\n",
        "    label = [0 for i in range(len(words))]\n",
        "    for entities in data[1]['entities']:\n",
        "\n",
        "      ner_words = data[0][entities[0]:entities[1]]\n",
        "      ner_words = preprocessData(ner_words)\n",
        "\n",
        "      ner_count = 0\n",
        "      idx_word = 0\n",
        "      while (ner_count < len(ner_words) and idx_word < len(words)):\n",
        "        if words[idx_word] == ner_words[ner_count]:\n",
        "          label[idx_word] = 1\n",
        "          ner_count += 1\n",
        "        idx_word += 1\n",
        "    x_data.append(words)\n",
        "    y_data.append(label)\n",
        "  return np.array(x_data), np.array(y_data)"
      ],
      "execution_count": 631,
      "outputs": []
    },
    {
      "cell_type": "code",
      "metadata": {
        "id": "1XhvcRTlsLr8",
        "outputId": "1dbf06eb-a3bc-44fe-a1e5-69e91cd796e0",
        "colab": {
          "base_uri": "https://localhost:8080/"
        }
      },
      "source": [
        "cleaned_x, y = changeDataFormat(data_read)\n",
        "cleaned_x[:3]"
      ],
      "execution_count": 632,
      "outputs": [
        {
          "output_type": "execute_result",
          "data": {
            "text/plain": [
              "array([list(['telkom', 'akan', 'melakukan', 'rups', 'pada', '30', 'juli', '2004', 'yang', 'selain', 'melaporkan', 'kinerja', '2003', 'juga', 'akan', 'meminta', 'persetujuan', 'untuk', 'pemecahan', 'nilai', 'nominal', 'saham', 'atau', 'stock', 'split', '1', '2']),\n",
              "       list(['sehubungan', 'dengan', 'hal', 'tersebut', 'saat', 'ini', 'addendum', 'perubahan', 'terhadap', 'perjanjian', 'perpanjangan', 'sewa', 'jaringan', 'pt', 'psn', 'oleh', 'kpu', 'sedang', 'dalam', 'proses', 'pertimbangan']),\n",
              "       list(['terutama', 'mengenai', 'langganan', 'bulanan', 'leased', 'line', 'channel', 'untuk', 'ruas', 'lemah', 'abang', 'slipi', 'jakarta', 'excelcom', 'dan', 'lemah', 'abang', 'imam', 'bonjol', 'jakarta', 'telkom', 'untuk', 'tiga', 'bulan', 'ke', 'depan', 'yang', 'sudah', 'berakhir', 'sejak', '30', 'april', '2004'])],\n",
              "      dtype=object)"
            ]
          },
          "metadata": {
            "tags": []
          },
          "execution_count": 632
        }
      ]
    },
    {
      "cell_type": "code",
      "metadata": {
        "id": "RvGcQAqACJsE"
      },
      "source": [
        "MAX_LEN = 10\n",
        "temp_0 = []\n",
        "temp_1 = []\n",
        "temp_y_0 = []\n",
        "temp_y_1 = []\n",
        "for j, x in enumerate(cleaned_x):\n",
        "  for i in range(math.ceil(len(x)/float(MAX_LEN))):\n",
        "    temp2 = np.array(y[j][MAX_LEN*i:MAX_LEN*(i+1)])\n",
        "    if (np.all(temp2 == 0)):\n",
        "      temp_0.append(x[MAX_LEN*i:MAX_LEN*(i+1)])\n",
        "      temp_y_0.append(temp2)\n",
        "    else:\n",
        "      temp_1.append(x[MAX_LEN*i:MAX_LEN*(i+1)])\n",
        "      temp_y_1.append(temp2)\n",
        "temp_y_0 = np.array(temp_y_0)\n",
        "temp_y_1 = np.array(temp_y_1)\n",
        "temp_0 = np.array(temp_0)\n",
        "temp_1 = np.array(temp_1)"
      ],
      "execution_count": 633,
      "outputs": []
    },
    {
      "cell_type": "code",
      "metadata": {
        "id": "w0Zo39tgJbW8",
        "outputId": "6e7d59e1-a52f-42b7-8480-1cee959b642c",
        "colab": {
          "base_uri": "https://localhost:8080/"
        }
      },
      "source": [
        "print(len(temp_0))\n",
        "print(len(temp_1))\n",
        "print(len(temp_y_0))\n",
        "print(len(temp_y_1))"
      ],
      "execution_count": 634,
      "outputs": [
        {
          "output_type": "stream",
          "text": [
            "4624\n",
            "430\n",
            "4624\n",
            "430\n"
          ],
          "name": "stdout"
        }
      ]
    },
    {
      "cell_type": "code",
      "metadata": {
        "id": "ZMghuRbrITVU"
      },
      "source": [
        "taken = np.random.choice(temp_y_0.shape[0], int(temp_y_0.shape[0]*0.09))"
      ],
      "execution_count": 635,
      "outputs": []
    },
    {
      "cell_type": "code",
      "metadata": {
        "id": "Ul5dHL4QY6nm",
        "outputId": "548f5730-0891-46e5-e726-45a71dc90ca8",
        "colab": {
          "base_uri": "https://localhost:8080/"
        }
      },
      "source": [
        "len(temp_y_1)/len(taken)"
      ],
      "execution_count": 636,
      "outputs": [
        {
          "output_type": "execute_result",
          "data": {
            "text/plain": [
              "1.0336538461538463"
            ]
          },
          "metadata": {
            "tags": []
          },
          "execution_count": 636
        }
      ]
    },
    {
      "cell_type": "code",
      "metadata": {
        "id": "T2lkn5K4IxBc",
        "outputId": "e445a2b1-c1af-48a8-ee0e-671ac03e4fee",
        "colab": {
          "base_uri": "https://localhost:8080/"
        }
      },
      "source": [
        "temp_y_0[taken]"
      ],
      "execution_count": 637,
      "outputs": [
        {
          "output_type": "execute_result",
          "data": {
            "text/plain": [
              "array([array([0, 0, 0, 0, 0, 0]), array([0, 0, 0, 0, 0, 0, 0, 0]),\n",
              "       array([0, 0, 0, 0, 0, 0, 0, 0, 0, 0]),\n",
              "       array([0, 0, 0, 0, 0, 0, 0, 0, 0, 0]),\n",
              "       array([0, 0, 0, 0, 0, 0, 0, 0, 0, 0]), array([0, 0, 0, 0, 0]),\n",
              "       array([0, 0, 0, 0, 0, 0, 0, 0, 0, 0]), array([0, 0, 0]),\n",
              "       array([0, 0, 0, 0, 0, 0, 0, 0, 0, 0]),\n",
              "       array([0, 0, 0, 0, 0, 0, 0, 0, 0, 0]),\n",
              "       array([0, 0, 0, 0, 0, 0, 0, 0, 0, 0]), array([0, 0, 0, 0, 0, 0]),\n",
              "       array([0, 0, 0, 0, 0, 0, 0, 0, 0, 0]), array([0]),\n",
              "       array([0, 0, 0, 0, 0, 0, 0, 0, 0, 0]),\n",
              "       array([0, 0, 0, 0, 0, 0, 0, 0, 0, 0]), array([0, 0, 0, 0, 0, 0]),\n",
              "       array([0, 0, 0, 0]), array([0, 0, 0, 0]),\n",
              "       array([0, 0, 0, 0, 0, 0, 0, 0, 0, 0]),\n",
              "       array([0, 0, 0, 0, 0, 0, 0, 0, 0, 0]),\n",
              "       array([0, 0, 0, 0, 0, 0, 0, 0, 0, 0]),\n",
              "       array([0, 0, 0, 0, 0, 0, 0, 0, 0]), array([0, 0, 0, 0, 0, 0]),\n",
              "       array([0, 0, 0, 0, 0, 0]), array([0, 0, 0, 0]),\n",
              "       array([0, 0, 0, 0, 0, 0, 0, 0, 0, 0]),\n",
              "       array([0, 0, 0, 0, 0, 0, 0, 0, 0, 0]), array([0, 0, 0, 0, 0, 0]),\n",
              "       array([0, 0, 0]), array([0, 0, 0, 0, 0, 0, 0]),\n",
              "       array([0, 0, 0, 0, 0, 0, 0, 0, 0, 0]),\n",
              "       array([0, 0, 0, 0, 0, 0, 0, 0, 0, 0]),\n",
              "       array([0, 0, 0, 0, 0, 0, 0, 0, 0, 0]),\n",
              "       array([0, 0, 0, 0, 0, 0, 0, 0, 0, 0]),\n",
              "       array([0, 0, 0, 0, 0, 0, 0, 0, 0, 0]),\n",
              "       array([0, 0, 0, 0, 0, 0, 0, 0, 0, 0]),\n",
              "       array([0, 0, 0, 0, 0, 0, 0, 0, 0, 0]),\n",
              "       array([0, 0, 0, 0, 0, 0, 0, 0, 0, 0]),\n",
              "       array([0, 0, 0, 0, 0, 0, 0, 0, 0, 0]),\n",
              "       array([0, 0, 0, 0, 0, 0, 0, 0, 0, 0]),\n",
              "       array([0, 0, 0, 0, 0, 0, 0, 0, 0, 0]),\n",
              "       array([0, 0, 0, 0, 0, 0, 0, 0, 0, 0]),\n",
              "       array([0, 0, 0, 0, 0, 0, 0, 0, 0, 0]),\n",
              "       array([0, 0, 0, 0, 0, 0, 0, 0, 0, 0]),\n",
              "       array([0, 0, 0, 0, 0, 0, 0, 0, 0, 0]),\n",
              "       array([0, 0, 0, 0, 0, 0, 0, 0, 0, 0]), array([0, 0, 0, 0]),\n",
              "       array([0, 0, 0, 0, 0, 0, 0, 0, 0, 0]),\n",
              "       array([0, 0, 0, 0, 0, 0, 0, 0, 0, 0]),\n",
              "       array([0, 0, 0, 0, 0, 0, 0, 0, 0, 0]),\n",
              "       array([0, 0, 0, 0, 0, 0, 0, 0, 0, 0]), array([0, 0, 0, 0]),\n",
              "       array([0, 0, 0, 0, 0, 0, 0]),\n",
              "       array([0, 0, 0, 0, 0, 0, 0, 0, 0, 0]), array([0]), array([0, 0]),\n",
              "       array([0, 0, 0, 0, 0, 0, 0, 0, 0, 0]),\n",
              "       array([0, 0, 0, 0, 0, 0, 0, 0, 0, 0]),\n",
              "       array([0, 0, 0, 0, 0, 0, 0, 0, 0, 0]),\n",
              "       array([0, 0, 0, 0, 0, 0, 0, 0, 0, 0]),\n",
              "       array([0, 0, 0, 0, 0, 0, 0, 0, 0, 0]), array([0, 0, 0, 0]),\n",
              "       array([0, 0, 0, 0, 0, 0, 0, 0, 0, 0]),\n",
              "       array([0, 0, 0, 0, 0, 0, 0, 0, 0, 0]),\n",
              "       array([0, 0, 0, 0, 0, 0, 0, 0, 0, 0]),\n",
              "       array([0, 0, 0, 0, 0, 0, 0, 0, 0, 0]),\n",
              "       array([0, 0, 0, 0, 0, 0, 0, 0, 0, 0]),\n",
              "       array([0, 0, 0, 0, 0, 0, 0, 0, 0, 0]),\n",
              "       array([0, 0, 0, 0, 0, 0, 0, 0, 0, 0]),\n",
              "       array([0, 0, 0, 0, 0, 0, 0, 0, 0, 0]), array([0, 0, 0, 0, 0]),\n",
              "       array([0, 0, 0, 0, 0, 0, 0, 0, 0, 0]),\n",
              "       array([0, 0, 0, 0, 0, 0, 0, 0, 0, 0]),\n",
              "       array([0, 0, 0, 0, 0, 0, 0, 0, 0]),\n",
              "       array([0, 0, 0, 0, 0, 0, 0, 0]), array([0, 0, 0, 0, 0, 0, 0, 0]),\n",
              "       array([0, 0, 0, 0, 0, 0, 0, 0, 0, 0]), array([0, 0, 0, 0, 0]),\n",
              "       array([0, 0, 0, 0, 0, 0, 0, 0, 0, 0]), array([0, 0]),\n",
              "       array([0, 0, 0, 0, 0, 0, 0, 0, 0, 0]),\n",
              "       array([0, 0, 0, 0, 0, 0, 0, 0, 0, 0]), array([0]),\n",
              "       array([0, 0, 0, 0, 0, 0, 0, 0, 0, 0]),\n",
              "       array([0, 0, 0, 0, 0, 0, 0, 0, 0, 0]),\n",
              "       array([0, 0, 0, 0, 0, 0, 0, 0]),\n",
              "       array([0, 0, 0, 0, 0, 0, 0, 0, 0, 0]),\n",
              "       array([0, 0, 0, 0, 0, 0, 0, 0, 0, 0]),\n",
              "       array([0, 0, 0, 0, 0, 0, 0, 0, 0, 0]), array([0, 0, 0, 0, 0]),\n",
              "       array([0, 0, 0, 0, 0, 0, 0, 0, 0, 0]),\n",
              "       array([0, 0, 0, 0, 0, 0, 0, 0, 0, 0]),\n",
              "       array([0, 0, 0, 0, 0, 0, 0, 0, 0, 0]),\n",
              "       array([0, 0, 0, 0, 0, 0, 0, 0, 0, 0]),\n",
              "       array([0, 0, 0, 0, 0, 0, 0, 0, 0, 0]),\n",
              "       array([0, 0, 0, 0, 0, 0, 0, 0]),\n",
              "       array([0, 0, 0, 0, 0, 0, 0, 0, 0, 0]),\n",
              "       array([0, 0, 0, 0, 0, 0, 0, 0, 0, 0]),\n",
              "       array([0, 0, 0, 0, 0, 0, 0, 0, 0, 0]),\n",
              "       array([0, 0, 0, 0, 0, 0, 0, 0, 0, 0]),\n",
              "       array([0, 0, 0, 0, 0, 0, 0, 0, 0, 0]),\n",
              "       array([0, 0, 0, 0, 0, 0, 0, 0, 0, 0]),\n",
              "       array([0, 0, 0, 0, 0, 0, 0, 0, 0, 0]),\n",
              "       array([0, 0, 0, 0, 0, 0, 0, 0, 0, 0]),\n",
              "       array([0, 0, 0, 0, 0, 0, 0, 0, 0, 0]),\n",
              "       array([0, 0, 0, 0, 0, 0, 0, 0, 0, 0]), array([0, 0, 0]),\n",
              "       array([0, 0, 0, 0, 0, 0]), array([0, 0, 0, 0, 0, 0, 0, 0, 0, 0]),\n",
              "       array([0, 0, 0, 0, 0, 0, 0, 0, 0, 0]),\n",
              "       array([0, 0, 0, 0, 0, 0, 0, 0, 0, 0]), array([0, 0]),\n",
              "       array([0, 0, 0, 0, 0, 0, 0, 0, 0, 0]),\n",
              "       array([0, 0, 0, 0, 0, 0, 0, 0]), array([0, 0, 0]),\n",
              "       array([0, 0, 0, 0, 0]), array([0, 0, 0, 0, 0]),\n",
              "       array([0, 0, 0, 0, 0, 0, 0, 0, 0, 0]),\n",
              "       array([0, 0, 0, 0, 0, 0, 0, 0, 0, 0]),\n",
              "       array([0, 0, 0, 0, 0, 0, 0, 0, 0, 0]),\n",
              "       array([0, 0, 0, 0, 0, 0, 0, 0, 0, 0]), array([0, 0, 0, 0]),\n",
              "       array([0, 0, 0, 0, 0, 0, 0, 0, 0, 0]),\n",
              "       array([0, 0, 0, 0, 0, 0, 0, 0, 0, 0]),\n",
              "       array([0, 0, 0, 0, 0, 0, 0, 0, 0, 0]),\n",
              "       array([0, 0, 0, 0, 0, 0, 0, 0, 0, 0]),\n",
              "       array([0, 0, 0, 0, 0, 0, 0, 0, 0, 0]),\n",
              "       array([0, 0, 0, 0, 0, 0, 0, 0, 0]),\n",
              "       array([0, 0, 0, 0, 0, 0, 0, 0, 0, 0]),\n",
              "       array([0, 0, 0, 0, 0, 0, 0, 0, 0, 0]), array([0, 0]),\n",
              "       array([0, 0]), array([0, 0, 0, 0, 0, 0, 0, 0, 0, 0]),\n",
              "       array([0, 0, 0, 0, 0, 0, 0, 0, 0, 0]),\n",
              "       array([0, 0, 0, 0, 0, 0, 0, 0, 0, 0]),\n",
              "       array([0, 0, 0, 0, 0, 0, 0, 0, 0, 0]),\n",
              "       array([0, 0, 0, 0, 0, 0, 0, 0, 0, 0]), array([0]),\n",
              "       array([0, 0, 0, 0, 0, 0, 0, 0, 0]),\n",
              "       array([0, 0, 0, 0, 0, 0, 0, 0, 0, 0]), array([0, 0, 0, 0, 0]),\n",
              "       array([0, 0, 0, 0, 0, 0, 0]), array([0, 0, 0, 0, 0]),\n",
              "       array([0, 0, 0, 0, 0, 0, 0, 0, 0, 0]),\n",
              "       array([0, 0, 0, 0, 0, 0, 0, 0, 0, 0]),\n",
              "       array([0, 0, 0, 0, 0, 0, 0, 0, 0, 0]),\n",
              "       array([0, 0, 0, 0, 0, 0, 0, 0, 0, 0]),\n",
              "       array([0, 0, 0, 0, 0, 0, 0, 0, 0, 0]),\n",
              "       array([0, 0, 0, 0, 0, 0, 0, 0, 0, 0]),\n",
              "       array([0, 0, 0, 0, 0, 0, 0, 0, 0, 0]),\n",
              "       array([0, 0, 0, 0, 0, 0, 0]),\n",
              "       array([0, 0, 0, 0, 0, 0, 0, 0, 0, 0]),\n",
              "       array([0, 0, 0, 0, 0, 0, 0, 0, 0, 0]), array([0, 0, 0, 0]),\n",
              "       array([0, 0, 0, 0, 0, 0, 0, 0, 0, 0]),\n",
              "       array([0, 0, 0, 0, 0, 0, 0, 0, 0]),\n",
              "       array([0, 0, 0, 0, 0, 0, 0, 0, 0, 0]), array([0, 0, 0]),\n",
              "       array([0, 0, 0, 0, 0, 0, 0, 0, 0, 0]), array([0, 0, 0]),\n",
              "       array([0, 0, 0, 0, 0, 0, 0, 0, 0, 0]), array([0, 0, 0, 0, 0, 0]),\n",
              "       array([0, 0, 0, 0, 0]), array([0, 0, 0, 0, 0, 0, 0, 0, 0, 0]),\n",
              "       array([0, 0, 0, 0, 0, 0, 0, 0, 0, 0]),\n",
              "       array([0, 0, 0, 0, 0, 0, 0, 0, 0, 0]), array([0, 0, 0, 0]),\n",
              "       array([0, 0, 0, 0, 0, 0, 0, 0, 0, 0]), array([0]),\n",
              "       array([0, 0, 0, 0, 0, 0, 0, 0, 0, 0]),\n",
              "       array([0, 0, 0, 0, 0, 0, 0, 0, 0, 0]), array([0, 0, 0, 0, 0]),\n",
              "       array([0]), array([0, 0]), array([0, 0, 0, 0, 0, 0, 0, 0, 0, 0]),\n",
              "       array([0, 0, 0, 0, 0, 0, 0, 0, 0, 0]),\n",
              "       array([0, 0, 0, 0, 0, 0, 0, 0, 0, 0]),\n",
              "       array([0, 0, 0, 0, 0, 0, 0, 0, 0, 0]),\n",
              "       array([0, 0, 0, 0, 0, 0, 0, 0, 0, 0]),\n",
              "       array([0, 0, 0, 0, 0, 0, 0, 0, 0, 0]), array([0, 0, 0]),\n",
              "       array([0, 0, 0, 0, 0, 0, 0, 0, 0, 0]),\n",
              "       array([0, 0, 0, 0, 0, 0, 0, 0, 0, 0]), array([0, 0, 0, 0, 0]),\n",
              "       array([0, 0, 0, 0, 0, 0, 0, 0, 0, 0]), array([0]),\n",
              "       array([0, 0, 0, 0, 0, 0, 0, 0, 0, 0]),\n",
              "       array([0, 0, 0, 0, 0, 0, 0, 0, 0, 0]),\n",
              "       array([0, 0, 0, 0, 0, 0, 0, 0, 0, 0]),\n",
              "       array([0, 0, 0, 0, 0, 0, 0, 0, 0, 0]),\n",
              "       array([0, 0, 0, 0, 0, 0, 0, 0, 0, 0]),\n",
              "       array([0, 0, 0, 0, 0, 0, 0, 0, 0, 0]),\n",
              "       array([0, 0, 0, 0, 0, 0, 0, 0, 0, 0]),\n",
              "       array([0, 0, 0, 0, 0, 0, 0, 0, 0, 0]),\n",
              "       array([0, 0, 0, 0, 0, 0, 0, 0, 0, 0]),\n",
              "       array([0, 0, 0, 0, 0, 0, 0, 0, 0, 0]),\n",
              "       array([0, 0, 0, 0, 0, 0, 0, 0, 0, 0]), array([0, 0, 0, 0, 0, 0]),\n",
              "       array([0, 0, 0, 0, 0, 0, 0, 0, 0, 0]),\n",
              "       array([0, 0, 0, 0, 0, 0, 0, 0, 0, 0]),\n",
              "       array([0, 0, 0, 0, 0, 0, 0, 0, 0, 0]),\n",
              "       array([0, 0, 0, 0, 0, 0, 0, 0, 0, 0]),\n",
              "       array([0, 0, 0, 0, 0, 0, 0, 0, 0, 0]),\n",
              "       array([0, 0, 0, 0, 0, 0, 0, 0, 0]),\n",
              "       array([0, 0, 0, 0, 0, 0, 0, 0, 0, 0]),\n",
              "       array([0, 0, 0, 0, 0, 0, 0, 0, 0, 0]),\n",
              "       array([0, 0, 0, 0, 0, 0, 0, 0, 0, 0]),\n",
              "       array([0, 0, 0, 0, 0, 0, 0, 0, 0, 0]), array([0, 0, 0, 0, 0]),\n",
              "       array([0]), array([0, 0, 0, 0, 0, 0, 0, 0, 0, 0]),\n",
              "       array([0, 0, 0, 0]), array([0, 0, 0, 0, 0, 0, 0, 0, 0, 0]),\n",
              "       array([0, 0, 0, 0, 0, 0, 0, 0, 0, 0]),\n",
              "       array([0, 0, 0, 0, 0, 0, 0, 0, 0, 0]), array([0, 0, 0]),\n",
              "       array([0, 0]), array([0, 0]), array([0]),\n",
              "       array([0, 0, 0, 0, 0, 0, 0, 0, 0, 0]), array([0, 0, 0]),\n",
              "       array([0, 0, 0, 0, 0, 0, 0, 0, 0, 0]), array([0, 0, 0, 0]),\n",
              "       array([0, 0, 0, 0, 0, 0, 0, 0, 0, 0]),\n",
              "       array([0, 0, 0, 0, 0, 0, 0, 0, 0, 0]),\n",
              "       array([0, 0, 0, 0, 0, 0, 0, 0, 0, 0]),\n",
              "       array([0, 0, 0, 0, 0, 0, 0, 0, 0, 0]),\n",
              "       array([0, 0, 0, 0, 0, 0, 0, 0, 0, 0]), array([0, 0, 0, 0, 0]),\n",
              "       array([0, 0, 0, 0]), array([0, 0, 0, 0, 0, 0, 0, 0, 0, 0]),\n",
              "       array([0, 0, 0, 0, 0, 0, 0, 0, 0, 0]),\n",
              "       array([0, 0, 0, 0, 0, 0, 0, 0, 0, 0]),\n",
              "       array([0, 0, 0, 0, 0, 0, 0, 0, 0, 0]), array([0, 0]),\n",
              "       array([0, 0, 0, 0, 0, 0, 0, 0, 0, 0]),\n",
              "       array([0, 0, 0, 0, 0, 0, 0, 0, 0, 0]),\n",
              "       array([0, 0, 0, 0, 0, 0, 0]), array([0, 0, 0]),\n",
              "       array([0, 0, 0, 0, 0, 0, 0]), array([0, 0, 0]),\n",
              "       array([0, 0, 0, 0, 0, 0, 0, 0, 0]), array([0, 0]),\n",
              "       array([0, 0, 0, 0, 0, 0, 0, 0, 0, 0]),\n",
              "       array([0, 0, 0, 0, 0, 0, 0, 0, 0, 0]),\n",
              "       array([0, 0, 0, 0, 0, 0, 0, 0, 0, 0]),\n",
              "       array([0, 0, 0, 0, 0, 0, 0]),\n",
              "       array([0, 0, 0, 0, 0, 0, 0, 0, 0, 0]), array([0, 0, 0]),\n",
              "       array([0, 0, 0, 0, 0, 0, 0, 0, 0, 0]), array([0, 0, 0]),\n",
              "       array([0, 0, 0, 0, 0, 0, 0, 0, 0, 0]),\n",
              "       array([0, 0, 0, 0, 0, 0, 0]),\n",
              "       array([0, 0, 0, 0, 0, 0, 0, 0, 0, 0]),\n",
              "       array([0, 0, 0, 0, 0, 0, 0, 0, 0, 0]), array([0, 0, 0, 0, 0]),\n",
              "       array([0, 0, 0, 0, 0]), array([0, 0, 0, 0, 0, 0, 0, 0, 0, 0]),\n",
              "       array([0, 0, 0, 0, 0, 0, 0, 0, 0]),\n",
              "       array([0, 0, 0, 0, 0, 0, 0, 0, 0, 0]), array([0, 0, 0, 0]),\n",
              "       array([0, 0, 0, 0, 0]), array([0, 0, 0, 0, 0, 0, 0, 0, 0, 0]),\n",
              "       array([0, 0, 0, 0, 0]), array([0, 0, 0, 0, 0, 0, 0, 0, 0, 0]),\n",
              "       array([0, 0, 0, 0, 0, 0, 0, 0, 0, 0]), array([0]),\n",
              "       array([0, 0, 0, 0, 0, 0, 0, 0, 0, 0]),\n",
              "       array([0, 0, 0, 0, 0, 0, 0, 0]), array([0]),\n",
              "       array([0, 0, 0, 0, 0, 0, 0, 0, 0, 0]), array([0, 0, 0, 0]),\n",
              "       array([0, 0]), array([0, 0, 0, 0, 0, 0, 0, 0, 0, 0]),\n",
              "       array([0, 0, 0, 0, 0, 0, 0, 0, 0, 0]), array([0, 0, 0, 0]),\n",
              "       array([0, 0, 0, 0, 0, 0, 0, 0, 0, 0]), array([0, 0, 0, 0]),\n",
              "       array([0, 0, 0, 0, 0, 0, 0, 0, 0, 0]),\n",
              "       array([0, 0, 0, 0, 0, 0, 0, 0, 0, 0]), array([0, 0, 0, 0, 0]),\n",
              "       array([0, 0, 0, 0, 0, 0, 0, 0, 0, 0]), array([0, 0, 0, 0]),\n",
              "       array([0, 0, 0, 0]), array([0, 0, 0]), array([0, 0, 0, 0, 0, 0]),\n",
              "       array([0, 0, 0, 0, 0, 0, 0, 0, 0, 0]),\n",
              "       array([0, 0, 0, 0, 0, 0, 0, 0, 0, 0]),\n",
              "       array([0, 0, 0, 0, 0, 0, 0, 0, 0, 0]),\n",
              "       array([0, 0, 0, 0, 0, 0, 0, 0, 0, 0]),\n",
              "       array([0, 0, 0, 0, 0, 0, 0, 0, 0, 0]),\n",
              "       array([0, 0, 0, 0, 0, 0, 0, 0, 0, 0]),\n",
              "       array([0, 0, 0, 0, 0, 0, 0, 0, 0, 0]), array([0]),\n",
              "       array([0, 0, 0, 0, 0, 0]), array([0, 0, 0, 0, 0, 0, 0, 0, 0, 0]),\n",
              "       array([0, 0, 0, 0, 0, 0, 0, 0, 0, 0]),\n",
              "       array([0, 0, 0, 0, 0, 0, 0, 0]),\n",
              "       array([0, 0, 0, 0, 0, 0, 0, 0, 0, 0]),\n",
              "       array([0, 0, 0, 0, 0, 0, 0, 0, 0, 0]),\n",
              "       array([0, 0, 0, 0, 0, 0, 0, 0, 0, 0]), array([0, 0, 0, 0, 0, 0]),\n",
              "       array([0, 0]), array([0, 0, 0, 0, 0, 0]),\n",
              "       array([0, 0, 0, 0, 0, 0, 0, 0, 0, 0]),\n",
              "       array([0, 0, 0, 0, 0, 0, 0, 0, 0, 0]),\n",
              "       array([0, 0, 0, 0, 0, 0, 0, 0, 0, 0]), array([0, 0, 0, 0, 0]),\n",
              "       array([0, 0, 0]), array([0, 0, 0, 0, 0, 0, 0, 0, 0, 0]),\n",
              "       array([0, 0, 0, 0, 0, 0, 0, 0]),\n",
              "       array([0, 0, 0, 0, 0, 0, 0, 0, 0, 0]),\n",
              "       array([0, 0, 0, 0, 0, 0, 0, 0, 0, 0]), array([0, 0, 0, 0]),\n",
              "       array([0, 0, 0, 0, 0, 0, 0]), array([0, 0, 0, 0, 0, 0, 0]),\n",
              "       array([0, 0, 0, 0, 0, 0, 0, 0]),\n",
              "       array([0, 0, 0, 0, 0, 0, 0, 0, 0, 0]),\n",
              "       array([0, 0, 0, 0, 0, 0, 0, 0, 0, 0]),\n",
              "       array([0, 0, 0, 0, 0, 0, 0, 0, 0, 0]),\n",
              "       array([0, 0, 0, 0, 0, 0, 0, 0, 0, 0]), array([0]),\n",
              "       array([0, 0, 0, 0, 0, 0, 0, 0, 0, 0]), array([0, 0, 0, 0, 0, 0]),\n",
              "       array([0, 0, 0, 0]), array([0]),\n",
              "       array([0, 0, 0, 0, 0, 0, 0, 0, 0, 0]),\n",
              "       array([0, 0, 0, 0, 0, 0, 0, 0, 0, 0]),\n",
              "       array([0, 0, 0, 0, 0, 0, 0, 0, 0, 0]), array([0]),\n",
              "       array([0, 0, 0, 0, 0, 0, 0, 0, 0, 0]),\n",
              "       array([0, 0, 0, 0, 0, 0, 0, 0, 0, 0]), array([0, 0, 0, 0, 0, 0]),\n",
              "       array([0, 0, 0, 0, 0, 0, 0, 0, 0, 0]),\n",
              "       array([0, 0, 0, 0, 0, 0, 0, 0, 0, 0]),\n",
              "       array([0, 0, 0, 0, 0, 0, 0, 0, 0, 0]), array([0]),\n",
              "       array([0, 0, 0, 0, 0, 0, 0, 0, 0, 0]),\n",
              "       array([0, 0, 0, 0, 0, 0, 0, 0, 0, 0]),\n",
              "       array([0, 0, 0, 0, 0, 0, 0, 0, 0, 0]), array([0, 0, 0]),\n",
              "       array([0, 0, 0, 0, 0, 0, 0, 0, 0, 0]), array([0, 0, 0, 0, 0, 0]),\n",
              "       array([0, 0, 0, 0, 0, 0, 0, 0, 0, 0]), array([0, 0, 0]),\n",
              "       array([0, 0, 0, 0, 0, 0, 0, 0, 0, 0]),\n",
              "       array([0, 0, 0, 0, 0, 0, 0]), array([0, 0, 0, 0, 0, 0, 0, 0, 0]),\n",
              "       array([0, 0, 0, 0, 0, 0, 0, 0, 0, 0]), array([0, 0, 0, 0, 0, 0]),\n",
              "       array([0, 0, 0, 0, 0, 0, 0, 0, 0, 0]),\n",
              "       array([0, 0, 0, 0, 0, 0, 0, 0, 0, 0]), array([0, 0, 0, 0, 0]),\n",
              "       array([0, 0, 0, 0]), array([0, 0, 0, 0, 0, 0, 0, 0, 0, 0]),\n",
              "       array([0, 0, 0, 0, 0, 0, 0, 0, 0, 0]),\n",
              "       array([0, 0, 0, 0, 0, 0, 0, 0, 0, 0]),\n",
              "       array([0, 0, 0, 0, 0, 0, 0, 0, 0, 0]),\n",
              "       array([0, 0, 0, 0, 0, 0, 0, 0, 0, 0]),\n",
              "       array([0, 0, 0, 0, 0, 0, 0, 0, 0, 0]), array([0, 0, 0]),\n",
              "       array([0, 0, 0, 0, 0, 0, 0, 0, 0, 0]),\n",
              "       array([0, 0, 0, 0, 0, 0, 0, 0, 0, 0]),\n",
              "       array([0, 0, 0, 0, 0, 0, 0, 0, 0, 0]),\n",
              "       array([0, 0, 0, 0, 0, 0, 0]),\n",
              "       array([0, 0, 0, 0, 0, 0, 0, 0, 0, 0]), array([0, 0]),\n",
              "       array([0, 0, 0, 0]), array([0, 0, 0, 0, 0, 0, 0, 0, 0, 0]),\n",
              "       array([0, 0, 0, 0, 0, 0, 0, 0, 0, 0]),\n",
              "       array([0, 0, 0, 0, 0, 0, 0, 0, 0, 0]), array([0, 0]),\n",
              "       array([0, 0, 0, 0]), array([0, 0, 0, 0, 0, 0, 0, 0, 0, 0]),\n",
              "       array([0]), array([0, 0, 0]), array([0, 0, 0]),\n",
              "       array([0, 0, 0, 0, 0, 0, 0, 0, 0, 0]),\n",
              "       array([0, 0, 0, 0, 0, 0, 0, 0, 0, 0]),\n",
              "       array([0, 0, 0, 0, 0, 0, 0, 0, 0, 0]), array([0, 0, 0, 0, 0]),\n",
              "       array([0, 0, 0, 0, 0, 0, 0, 0, 0, 0]), array([0, 0, 0, 0, 0, 0]),\n",
              "       array([0, 0, 0, 0, 0, 0, 0, 0]),\n",
              "       array([0, 0, 0, 0, 0, 0, 0, 0, 0, 0]), array([0, 0, 0, 0]),\n",
              "       array([0, 0, 0, 0, 0, 0, 0, 0, 0, 0]),\n",
              "       array([0, 0, 0, 0, 0, 0, 0, 0, 0, 0]),\n",
              "       array([0, 0, 0, 0, 0, 0, 0, 0, 0, 0]),\n",
              "       array([0, 0, 0, 0, 0, 0, 0]),\n",
              "       array([0, 0, 0, 0, 0, 0, 0, 0, 0, 0]),\n",
              "       array([0, 0, 0, 0, 0, 0, 0, 0, 0, 0]),\n",
              "       array([0, 0, 0, 0, 0, 0, 0, 0, 0]),\n",
              "       array([0, 0, 0, 0, 0, 0, 0, 0, 0, 0]), array([0, 0, 0, 0, 0, 0]),\n",
              "       array([0, 0, 0, 0, 0, 0, 0, 0, 0, 0]),\n",
              "       array([0, 0, 0, 0, 0, 0, 0, 0, 0, 0]),\n",
              "       array([0, 0, 0, 0, 0, 0, 0, 0]),\n",
              "       array([0, 0, 0, 0, 0, 0, 0, 0, 0, 0]), array([0, 0]),\n",
              "       array([0, 0, 0, 0, 0, 0, 0, 0, 0, 0]),\n",
              "       array([0, 0, 0, 0, 0, 0, 0, 0, 0, 0]),\n",
              "       array([0, 0, 0, 0, 0, 0, 0, 0, 0, 0]),\n",
              "       array([0, 0, 0, 0, 0, 0, 0, 0]),\n",
              "       array([0, 0, 0, 0, 0, 0, 0, 0, 0, 0]), array([0, 0, 0, 0, 0, 0]),\n",
              "       array([0, 0, 0, 0]), array([0, 0, 0, 0, 0, 0, 0, 0, 0, 0]),\n",
              "       array([0, 0, 0, 0, 0, 0, 0, 0, 0, 0]),\n",
              "       array([0, 0, 0, 0, 0, 0, 0, 0, 0, 0]),\n",
              "       array([0, 0, 0, 0, 0, 0, 0, 0, 0, 0]),\n",
              "       array([0, 0, 0, 0, 0, 0, 0, 0, 0, 0]),\n",
              "       array([0, 0, 0, 0, 0, 0, 0, 0]),\n",
              "       array([0, 0, 0, 0, 0, 0, 0, 0, 0, 0]), array([0])], dtype=object)"
            ]
          },
          "metadata": {
            "tags": []
          },
          "execution_count": 637
        }
      ]
    },
    {
      "cell_type": "code",
      "metadata": {
        "id": "rNtoLqfDJ8jI"
      },
      "source": [
        "temp_x = np.hstack((temp_0[taken], temp_1))"
      ],
      "execution_count": 638,
      "outputs": []
    },
    {
      "cell_type": "code",
      "metadata": {
        "id": "fQFbTi62Kb_3"
      },
      "source": [
        "temp_y = np.hstack((temp_y_0[taken], temp_y_1))"
      ],
      "execution_count": 639,
      "outputs": []
    },
    {
      "cell_type": "code",
      "metadata": {
        "id": "KZ-Piv6lM6PB",
        "outputId": "982663aa-da15-4e42-ed47-0ecc3b4bc934",
        "colab": {
          "base_uri": "https://localhost:8080/"
        }
      },
      "source": [
        "print(temp_x.shape)\n",
        "print(temp_y.shape)"
      ],
      "execution_count": 640,
      "outputs": [
        {
          "output_type": "stream",
          "text": [
            "(846,)\n",
            "(846,)\n"
          ],
          "name": "stdout"
        }
      ]
    },
    {
      "cell_type": "markdown",
      "metadata": {
        "id": "lnXsPtUKqyDS"
      },
      "source": [
        "## Feature Extraction"
      ]
    },
    {
      "cell_type": "code",
      "metadata": {
        "id": "4zmNW7xPrflr"
      },
      "source": [
        "tokenizer = Tokenizer(filters = '!\"#$%&()*+,-./:;<=>?@[\\]^_`{|}~')\n",
        "tokenizer.fit_on_texts(temp_x)"
      ],
      "execution_count": 641,
      "outputs": []
    },
    {
      "cell_type": "code",
      "metadata": {
        "id": "wnlZf3OPs4kG"
      },
      "source": [
        "x_train = tokenizer.texts_to_sequences(temp_x)\n",
        "x_train_pad = pad_sequences(x_train, maxlen=MAX_LEN, padding='post')\n",
        "y_train_pad = pad_sequences(temp_y, maxlen=MAX_LEN, padding='post')"
      ],
      "execution_count": 642,
      "outputs": []
    },
    {
      "cell_type": "code",
      "metadata": {
        "id": "ZAswV55JOBhU"
      },
      "source": [
        "scaler = MinMaxScaler(feature_range=(-1, 1))\n",
        "normalized_x  = scaler.fit_transform(x_train_pad)\n",
        "# normalized_x = np.array(normalized_x)\n",
        "normalized_x = np.reshape(normalized_x, (-1, MAX_LEN, 1))"
      ],
      "execution_count": 643,
      "outputs": []
    },
    {
      "cell_type": "code",
      "metadata": {
        "id": "aQaFSUG0Oexj",
        "outputId": "95c6352a-4cf7-4a4a-faca-0a6681197db6",
        "colab": {
          "base_uri": "https://localhost:8080/"
        }
      },
      "source": [
        "normalized_x[1]"
      ],
      "execution_count": 644,
      "outputs": [
        {
          "output_type": "execute_result",
          "data": {
            "text/plain": [
              "array([[-0.90617743],\n",
              "       [-0.56728972],\n",
              "       [-0.89053803],\n",
              "       [-0.84227718],\n",
              "       [-0.84141791],\n",
              "       [-0.9981352 ],\n",
              "       [-0.69338304],\n",
              "       [-0.69130028],\n",
              "       [-1.        ],\n",
              "       [-1.        ]])"
            ]
          },
          "metadata": {
            "tags": []
          },
          "execution_count": 644
        }
      ]
    },
    {
      "cell_type": "code",
      "metadata": {
        "id": "KHX0AyJ1QByq"
      },
      "source": [
        "stacked_x = []\n",
        "for i in range(len(normalized_x)):\n",
        "  temp = []\n",
        "  for j in range(len(normalized_x[i])):\n",
        "    if (j == 0):\n",
        "        temp.append([np.array([-1]), normalized_x[i][j], normalized_x[i][j+1]])\n",
        "    elif (j == len(normalized_x[i])-1):\n",
        "        temp.append([normalized_x[i][j-1], normalized_x[i][j], np.array([-1])])\n",
        "    else:\n",
        "        temp.append([normalized_x[i][j-1], normalized_x[i][j], normalized_x[i][j+1]])\n",
        "  stacked_x.append(temp)"
      ],
      "execution_count": 645,
      "outputs": []
    },
    {
      "cell_type": "code",
      "metadata": {
        "id": "7BnGXOmo0RWQ"
      },
      "source": [
        "stacked_x = np.array(stacked_x)"
      ],
      "execution_count": 646,
      "outputs": []
    },
    {
      "cell_type": "code",
      "metadata": {
        "id": "IMQTPazdUFzn"
      },
      "source": [
        "stacked_x = stacked_x.reshape((stacked_x.shape[0], stacked_x.shape[1], stacked_x.shape[2]))"
      ],
      "execution_count": 647,
      "outputs": []
    },
    {
      "cell_type": "code",
      "metadata": {
        "id": "H99ajTy1ApOE",
        "outputId": "d38912c7-c7c7-4093-99a8-9cf4cc9244c5",
        "colab": {
          "base_uri": "https://localhost:8080/"
        }
      },
      "source": [
        "stacked_x.shape"
      ],
      "execution_count": 648,
      "outputs": [
        {
          "output_type": "execute_result",
          "data": {
            "text/plain": [
              "(846, 10, 3)"
            ]
          },
          "metadata": {
            "tags": []
          },
          "execution_count": 648
        }
      ]
    },
    {
      "cell_type": "code",
      "metadata": {
        "id": "ZN58Zo0WW29a",
        "outputId": "2d5434e0-db50-45d2-b022-ab0efe8e5e84",
        "colab": {
          "base_uri": "https://localhost:8080/"
        }
      },
      "source": [
        "y_train_pad.shape"
      ],
      "execution_count": 649,
      "outputs": [
        {
          "output_type": "execute_result",
          "data": {
            "text/plain": [
              "(846, 10)"
            ]
          },
          "metadata": {
            "tags": []
          },
          "execution_count": 649
        }
      ]
    },
    {
      "cell_type": "code",
      "metadata": {
        "id": "2wdZ0qo3W_Qb",
        "outputId": "57c59c54-a9a0-4c0d-ad27-5120de2b735d",
        "colab": {
          "base_uri": "https://localhost:8080/"
        }
      },
      "source": [
        "stacked_x[-1]"
      ],
      "execution_count": 650,
      "outputs": [
        {
          "output_type": "execute_result",
          "data": {
            "text/plain": [
              "array([[-1.        , -0.94333488, -0.95794393],\n",
              "       [-0.94333488, -0.95794393, -0.76994434],\n",
              "       [-0.95794393, -0.76994434, -1.        ],\n",
              "       [-0.76994434, -1.        , -1.        ],\n",
              "       [-1.        , -1.        , -1.        ],\n",
              "       [-1.        , -1.        , -1.        ],\n",
              "       [-1.        , -1.        , -1.        ],\n",
              "       [-1.        , -1.        , -1.        ],\n",
              "       [-1.        , -1.        , -1.        ],\n",
              "       [-1.        , -1.        , -1.        ]])"
            ]
          },
          "metadata": {
            "tags": []
          },
          "execution_count": 650
        }
      ]
    },
    {
      "cell_type": "code",
      "metadata": {
        "id": "tmjlk3poW_T1",
        "outputId": "507ac17c-3d6b-44ff-9c38-51c4d0b4b196",
        "colab": {
          "base_uri": "https://localhost:8080/"
        }
      },
      "source": [
        "y_train_pad[-1]"
      ],
      "execution_count": 651,
      "outputs": [
        {
          "output_type": "execute_result",
          "data": {
            "text/plain": [
              "array([1, 1, 1, 0, 0, 0, 0, 0, 0, 0], dtype=int32)"
            ]
          },
          "metadata": {
            "tags": []
          },
          "execution_count": 651
        }
      ]
    },
    {
      "cell_type": "markdown",
      "metadata": {
        "id": "nw-jkqVa3ME0"
      },
      "source": [
        "## Model Training"
      ]
    },
    {
      "cell_type": "code",
      "metadata": {
        "id": "stedn2FLbY-t"
      },
      "source": [
        "x_train_final = x_train_pad\n",
        "y_train_final = y_train_pad"
      ],
      "execution_count": 660,
      "outputs": []
    },
    {
      "cell_type": "code",
      "metadata": {
        "id": "LLTPYnYU3LsS"
      },
      "source": [
        "model = Sequential()\n",
        "model.add(InputLayer(input_shape=(MAX_LEN, )))\n",
        "model.add(Embedding(len(tokenizer.word_index) + 1, 1024))\n",
        "# model.add(Bidirectional(LSTM(256, return_sequences=True)))\n",
        "# model.add(Dropout(0.6))\n",
        "model.add(Bidirectional(LSTM(512, return_sequences=True)))\n",
        "model.add(Dropout(0.6))\n",
        "# model.add(TimeDistributed(Dense(512, activation='relu')))\n",
        "# model.add(TimeDistributed(Dense(256, activation='elu')))\n",
        "model.add(TimeDistributed(Dense(1, activation='sigmoid')))"
      ],
      "execution_count": 661,
      "outputs": []
    },
    {
      "cell_type": "code",
      "metadata": {
        "id": "uvHm461Y5gQq",
        "outputId": "d2d1358e-2897-4969-c21b-a6b8f88ad6ba",
        "colab": {
          "base_uri": "https://localhost:8080/"
        }
      },
      "source": [
        "prec = Precision(name='prec')\n",
        "rec = Recall(name='rec')\n",
        "opt = Adam(learning_rate=0.001)\n",
        "model.compile(optimizer=opt, loss=\"binary_crossentropy\", metrics=[\"accuracy\", prec, rec])\n",
        "model.summary()"
      ],
      "execution_count": 662,
      "outputs": [
        {
          "output_type": "stream",
          "text": [
            "Model: \"sequential_79\"\n",
            "_________________________________________________________________\n",
            "Layer (type)                 Output Shape              Param #   \n",
            "=================================================================\n",
            "embedding_48 (Embedding)     (None, 10, 1024)          2208768   \n",
            "_________________________________________________________________\n",
            "bidirectional_140 (Bidirecti (None, 10, 1024)          6295552   \n",
            "_________________________________________________________________\n",
            "dropout_122 (Dropout)        (None, 10, 1024)          0         \n",
            "_________________________________________________________________\n",
            "time_distributed_98 (TimeDis (None, 10, 1)             1025      \n",
            "=================================================================\n",
            "Total params: 8,505,345\n",
            "Trainable params: 8,505,345\n",
            "Non-trainable params: 0\n",
            "_________________________________________________________________\n"
          ],
          "name": "stdout"
        }
      ]
    },
    {
      "cell_type": "code",
      "metadata": {
        "id": "A-BzW45E5-7Z",
        "outputId": "e476c786-1a70-4def-ae20-2c8af7458753",
        "colab": {
          "base_uri": "https://localhost:8080/"
        }
      },
      "source": [
        "history = model.fit(x_train_final, y_train_final, batch_size=32, validation_split=0.1, epochs=100)"
      ],
      "execution_count": 663,
      "outputs": [
        {
          "output_type": "stream",
          "text": [
            "Epoch 1/100\n",
            "24/24 [==============================] - 1s 62ms/step - loss: 0.3546 - accuracy: 0.8891 - prec: 0.6362 - rec: 0.3138 - val_loss: 0.1081 - val_accuracy: 0.9871 - val_prec: 0.9949 - val_rec: 0.9512\n",
            "Epoch 2/100\n",
            "24/24 [==============================] - 1s 29ms/step - loss: 0.0775 - accuracy: 0.9754 - prec: 0.9330 - rec: 0.8708 - val_loss: 0.1686 - val_accuracy: 0.9153 - val_prec: 0.9926 - val_rec: 0.6537\n",
            "Epoch 3/100\n",
            "24/24 [==============================] - 1s 30ms/step - loss: 0.0206 - accuracy: 0.9949 - prec: 0.9737 - rec: 0.9867 - val_loss: 0.0621 - val_accuracy: 0.9729 - val_prec: 1.0000 - val_rec: 0.8878\n",
            "Epoch 4/100\n",
            "24/24 [==============================] - 1s 31ms/step - loss: 0.0083 - accuracy: 0.9983 - prec: 0.9908 - rec: 0.9959 - val_loss: 0.1334 - val_accuracy: 0.9329 - val_prec: 1.0000 - val_rec: 0.7220\n",
            "Epoch 5/100\n",
            "24/24 [==============================] - 1s 30ms/step - loss: 0.0053 - accuracy: 0.9989 - prec: 0.9959 - rec: 0.9959 - val_loss: 0.0720 - val_accuracy: 0.9635 - val_prec: 1.0000 - val_rec: 0.8488\n",
            "Epoch 6/100\n",
            "24/24 [==============================] - 1s 30ms/step - loss: 0.0038 - accuracy: 0.9992 - prec: 0.9969 - rec: 0.9969 - val_loss: 0.0605 - val_accuracy: 0.9659 - val_prec: 1.0000 - val_rec: 0.8585\n",
            "Epoch 7/100\n",
            "24/24 [==============================] - 1s 29ms/step - loss: 0.0034 - accuracy: 0.9992 - prec: 0.9949 - rec: 0.9990 - val_loss: 0.0448 - val_accuracy: 0.9765 - val_prec: 1.0000 - val_rec: 0.9024\n",
            "Epoch 8/100\n",
            "24/24 [==============================] - 1s 30ms/step - loss: 0.0021 - accuracy: 0.9997 - prec: 0.9990 - rec: 0.9990 - val_loss: 0.0856 - val_accuracy: 0.9529 - val_prec: 1.0000 - val_rec: 0.8049\n",
            "Epoch 9/100\n",
            "24/24 [==============================] - 1s 30ms/step - loss: 0.0019 - accuracy: 0.9997 - prec: 0.9990 - rec: 0.9990 - val_loss: 0.0584 - val_accuracy: 0.9647 - val_prec: 1.0000 - val_rec: 0.8537\n",
            "Epoch 10/100\n",
            "24/24 [==============================] - 1s 31ms/step - loss: 9.9191e-04 - accuracy: 0.9999 - prec: 0.9990 - rec: 1.0000 - val_loss: 0.1007 - val_accuracy: 0.9482 - val_prec: 1.0000 - val_rec: 0.7854\n",
            "Epoch 11/100\n",
            "24/24 [==============================] - 1s 31ms/step - loss: 5.9227e-04 - accuracy: 0.9999 - prec: 0.9990 - rec: 1.0000 - val_loss: 0.1018 - val_accuracy: 0.9482 - val_prec: 1.0000 - val_rec: 0.7854\n",
            "Epoch 12/100\n",
            "24/24 [==============================] - 1s 31ms/step - loss: 4.6472e-04 - accuracy: 1.0000 - prec: 1.0000 - rec: 1.0000 - val_loss: 0.0590 - val_accuracy: 0.9647 - val_prec: 1.0000 - val_rec: 0.8537\n",
            "Epoch 13/100\n",
            "24/24 [==============================] - 1s 31ms/step - loss: 4.0972e-04 - accuracy: 1.0000 - prec: 1.0000 - rec: 1.0000 - val_loss: 0.0900 - val_accuracy: 0.9518 - val_prec: 1.0000 - val_rec: 0.8000\n",
            "Epoch 14/100\n",
            "24/24 [==============================] - 1s 31ms/step - loss: 2.5546e-04 - accuracy: 1.0000 - prec: 1.0000 - rec: 1.0000 - val_loss: 0.1319 - val_accuracy: 0.9388 - val_prec: 1.0000 - val_rec: 0.7463\n",
            "Epoch 15/100\n",
            "24/24 [==============================] - 1s 32ms/step - loss: 2.2171e-04 - accuracy: 1.0000 - prec: 1.0000 - rec: 1.0000 - val_loss: 0.0924 - val_accuracy: 0.9529 - val_prec: 1.0000 - val_rec: 0.8049\n",
            "Epoch 16/100\n",
            "24/24 [==============================] - 1s 31ms/step - loss: 2.1694e-04 - accuracy: 1.0000 - prec: 1.0000 - rec: 1.0000 - val_loss: 0.0559 - val_accuracy: 0.9729 - val_prec: 1.0000 - val_rec: 0.8878\n",
            "Epoch 17/100\n",
            "24/24 [==============================] - 1s 31ms/step - loss: 2.8115e-04 - accuracy: 0.9999 - prec: 0.9990 - rec: 1.0000 - val_loss: 0.2947 - val_accuracy: 0.9188 - val_prec: 1.0000 - val_rec: 0.6634\n",
            "Epoch 18/100\n",
            "24/24 [==============================] - 1s 31ms/step - loss: 3.9144e-04 - accuracy: 1.0000 - prec: 1.0000 - rec: 1.0000 - val_loss: 0.1309 - val_accuracy: 0.9471 - val_prec: 1.0000 - val_rec: 0.7805\n",
            "Epoch 19/100\n",
            "24/24 [==============================] - 1s 31ms/step - loss: 1.9597e-04 - accuracy: 1.0000 - prec: 1.0000 - rec: 1.0000 - val_loss: 0.0778 - val_accuracy: 0.9635 - val_prec: 1.0000 - val_rec: 0.8488\n",
            "Epoch 20/100\n",
            "24/24 [==============================] - 1s 32ms/step - loss: 1.3290e-04 - accuracy: 1.0000 - prec: 1.0000 - rec: 1.0000 - val_loss: 0.1218 - val_accuracy: 0.9471 - val_prec: 1.0000 - val_rec: 0.7805\n",
            "Epoch 21/100\n",
            "24/24 [==============================] - 1s 31ms/step - loss: 1.2997e-04 - accuracy: 1.0000 - prec: 1.0000 - rec: 1.0000 - val_loss: 0.0759 - val_accuracy: 0.9635 - val_prec: 1.0000 - val_rec: 0.8488\n",
            "Epoch 22/100\n",
            "24/24 [==============================] - 1s 31ms/step - loss: 9.4092e-05 - accuracy: 1.0000 - prec: 1.0000 - rec: 1.0000 - val_loss: 0.1175 - val_accuracy: 0.9482 - val_prec: 1.0000 - val_rec: 0.7854\n",
            "Epoch 23/100\n",
            "24/24 [==============================] - 1s 32ms/step - loss: 7.9993e-05 - accuracy: 1.0000 - prec: 1.0000 - rec: 1.0000 - val_loss: 0.1258 - val_accuracy: 0.9447 - val_prec: 1.0000 - val_rec: 0.7707\n",
            "Epoch 24/100\n",
            "24/24 [==============================] - 1s 31ms/step - loss: 6.0249e-05 - accuracy: 1.0000 - prec: 1.0000 - rec: 1.0000 - val_loss: 0.1274 - val_accuracy: 0.9447 - val_prec: 1.0000 - val_rec: 0.7707\n",
            "Epoch 25/100\n",
            "24/24 [==============================] - 1s 32ms/step - loss: 6.6730e-05 - accuracy: 1.0000 - prec: 1.0000 - rec: 1.0000 - val_loss: 0.1190 - val_accuracy: 0.9494 - val_prec: 1.0000 - val_rec: 0.7902\n",
            "Epoch 26/100\n",
            "24/24 [==============================] - 1s 31ms/step - loss: 5.1927e-05 - accuracy: 1.0000 - prec: 1.0000 - rec: 1.0000 - val_loss: 0.1374 - val_accuracy: 0.9435 - val_prec: 1.0000 - val_rec: 0.7659\n",
            "Epoch 27/100\n",
            "24/24 [==============================] - 1s 29ms/step - loss: 4.1131e-05 - accuracy: 1.0000 - prec: 1.0000 - rec: 1.0000 - val_loss: 0.1058 - val_accuracy: 0.9518 - val_prec: 1.0000 - val_rec: 0.8000\n",
            "Epoch 28/100\n",
            "24/24 [==============================] - 1s 30ms/step - loss: 4.0697e-05 - accuracy: 1.0000 - prec: 1.0000 - rec: 1.0000 - val_loss: 0.1285 - val_accuracy: 0.9459 - val_prec: 1.0000 - val_rec: 0.7756\n",
            "Epoch 29/100\n",
            "24/24 [==============================] - 1s 30ms/step - loss: 3.8867e-05 - accuracy: 1.0000 - prec: 1.0000 - rec: 1.0000 - val_loss: 0.1138 - val_accuracy: 0.9506 - val_prec: 1.0000 - val_rec: 0.7951\n",
            "Epoch 30/100\n",
            "24/24 [==============================] - 1s 30ms/step - loss: 3.7198e-05 - accuracy: 1.0000 - prec: 1.0000 - rec: 1.0000 - val_loss: 0.1344 - val_accuracy: 0.9447 - val_prec: 1.0000 - val_rec: 0.7707\n",
            "Epoch 31/100\n",
            "24/24 [==============================] - 1s 30ms/step - loss: 3.4574e-05 - accuracy: 1.0000 - prec: 1.0000 - rec: 1.0000 - val_loss: 0.1304 - val_accuracy: 0.9459 - val_prec: 1.0000 - val_rec: 0.7756\n",
            "Epoch 32/100\n",
            "24/24 [==============================] - 1s 30ms/step - loss: 3.0865e-05 - accuracy: 1.0000 - prec: 1.0000 - rec: 1.0000 - val_loss: 0.1258 - val_accuracy: 0.9459 - val_prec: 1.0000 - val_rec: 0.7756\n",
            "Epoch 33/100\n",
            "24/24 [==============================] - 1s 30ms/step - loss: 3.2640e-05 - accuracy: 1.0000 - prec: 1.0000 - rec: 1.0000 - val_loss: 0.1309 - val_accuracy: 0.9447 - val_prec: 1.0000 - val_rec: 0.7707\n",
            "Epoch 34/100\n",
            "24/24 [==============================] - 1s 30ms/step - loss: 2.8531e-05 - accuracy: 1.0000 - prec: 1.0000 - rec: 1.0000 - val_loss: 0.0986 - val_accuracy: 0.9529 - val_prec: 1.0000 - val_rec: 0.8049\n",
            "Epoch 35/100\n",
            "24/24 [==============================] - 1s 30ms/step - loss: 2.3669e-05 - accuracy: 1.0000 - prec: 1.0000 - rec: 1.0000 - val_loss: 0.1401 - val_accuracy: 0.9435 - val_prec: 1.0000 - val_rec: 0.7659\n",
            "Epoch 36/100\n",
            "24/24 [==============================] - 1s 32ms/step - loss: 2.1858e-05 - accuracy: 1.0000 - prec: 1.0000 - rec: 1.0000 - val_loss: 0.1331 - val_accuracy: 0.9459 - val_prec: 1.0000 - val_rec: 0.7756\n",
            "Epoch 37/100\n",
            "24/24 [==============================] - 1s 30ms/step - loss: 2.2165e-05 - accuracy: 1.0000 - prec: 1.0000 - rec: 1.0000 - val_loss: 0.1547 - val_accuracy: 0.9412 - val_prec: 1.0000 - val_rec: 0.7561\n",
            "Epoch 38/100\n",
            "24/24 [==============================] - 1s 31ms/step - loss: 2.0475e-05 - accuracy: 1.0000 - prec: 1.0000 - rec: 1.0000 - val_loss: 0.1241 - val_accuracy: 0.9471 - val_prec: 1.0000 - val_rec: 0.7805\n",
            "Epoch 39/100\n",
            "24/24 [==============================] - 1s 31ms/step - loss: 2.0056e-05 - accuracy: 1.0000 - prec: 1.0000 - rec: 1.0000 - val_loss: 0.1481 - val_accuracy: 0.9435 - val_prec: 1.0000 - val_rec: 0.7659\n",
            "Epoch 40/100\n",
            "24/24 [==============================] - 1s 29ms/step - loss: 1.6899e-05 - accuracy: 1.0000 - prec: 1.0000 - rec: 1.0000 - val_loss: 0.1437 - val_accuracy: 0.9435 - val_prec: 1.0000 - val_rec: 0.7659\n",
            "Epoch 41/100\n",
            "24/24 [==============================] - 1s 31ms/step - loss: 1.5542e-05 - accuracy: 1.0000 - prec: 1.0000 - rec: 1.0000 - val_loss: 0.1513 - val_accuracy: 0.9435 - val_prec: 1.0000 - val_rec: 0.7659\n",
            "Epoch 42/100\n",
            "24/24 [==============================] - 1s 30ms/step - loss: 1.6663e-05 - accuracy: 1.0000 - prec: 1.0000 - rec: 1.0000 - val_loss: 0.1293 - val_accuracy: 0.9471 - val_prec: 1.0000 - val_rec: 0.7805\n",
            "Epoch 43/100\n",
            "24/24 [==============================] - 1s 31ms/step - loss: 1.5553e-05 - accuracy: 1.0000 - prec: 1.0000 - rec: 1.0000 - val_loss: 0.1588 - val_accuracy: 0.9412 - val_prec: 1.0000 - val_rec: 0.7561\n",
            "Epoch 44/100\n",
            "24/24 [==============================] - 1s 29ms/step - loss: 1.3746e-05 - accuracy: 1.0000 - prec: 1.0000 - rec: 1.0000 - val_loss: 0.1635 - val_accuracy: 0.9412 - val_prec: 1.0000 - val_rec: 0.7561\n",
            "Epoch 45/100\n",
            "24/24 [==============================] - 1s 30ms/step - loss: 1.2706e-05 - accuracy: 1.0000 - prec: 1.0000 - rec: 1.0000 - val_loss: 0.1574 - val_accuracy: 0.9412 - val_prec: 1.0000 - val_rec: 0.7561\n",
            "Epoch 46/100\n",
            "24/24 [==============================] - 1s 30ms/step - loss: 1.4381e-05 - accuracy: 1.0000 - prec: 1.0000 - rec: 1.0000 - val_loss: 0.1656 - val_accuracy: 0.9412 - val_prec: 1.0000 - val_rec: 0.7561\n",
            "Epoch 47/100\n",
            "24/24 [==============================] - 1s 30ms/step - loss: 1.3328e-05 - accuracy: 1.0000 - prec: 1.0000 - rec: 1.0000 - val_loss: 0.1369 - val_accuracy: 0.9447 - val_prec: 1.0000 - val_rec: 0.7707\n",
            "Epoch 48/100\n",
            "24/24 [==============================] - 1s 30ms/step - loss: 1.5190e-05 - accuracy: 1.0000 - prec: 1.0000 - rec: 1.0000 - val_loss: 0.1019 - val_accuracy: 0.9506 - val_prec: 1.0000 - val_rec: 0.7951\n",
            "Epoch 49/100\n",
            "24/24 [==============================] - 1s 31ms/step - loss: 1.6070e-05 - accuracy: 1.0000 - prec: 1.0000 - rec: 1.0000 - val_loss: 0.1656 - val_accuracy: 0.9412 - val_prec: 1.0000 - val_rec: 0.7561\n",
            "Epoch 50/100\n",
            "24/24 [==============================] - 1s 30ms/step - loss: 1.3848e-05 - accuracy: 1.0000 - prec: 1.0000 - rec: 1.0000 - val_loss: 0.1458 - val_accuracy: 0.9435 - val_prec: 1.0000 - val_rec: 0.7659\n",
            "Epoch 51/100\n",
            "24/24 [==============================] - 1s 31ms/step - loss: 1.3363e-05 - accuracy: 1.0000 - prec: 1.0000 - rec: 1.0000 - val_loss: 0.1311 - val_accuracy: 0.9471 - val_prec: 1.0000 - val_rec: 0.7805\n",
            "Epoch 52/100\n",
            "24/24 [==============================] - 1s 30ms/step - loss: 1.2455e-05 - accuracy: 1.0000 - prec: 1.0000 - rec: 1.0000 - val_loss: 0.1681 - val_accuracy: 0.9424 - val_prec: 1.0000 - val_rec: 0.7610\n",
            "Epoch 53/100\n",
            "24/24 [==============================] - 1s 31ms/step - loss: 1.0813e-05 - accuracy: 1.0000 - prec: 1.0000 - rec: 1.0000 - val_loss: 0.1636 - val_accuracy: 0.9424 - val_prec: 1.0000 - val_rec: 0.7610\n",
            "Epoch 54/100\n",
            "24/24 [==============================] - 1s 30ms/step - loss: 1.0266e-05 - accuracy: 1.0000 - prec: 1.0000 - rec: 1.0000 - val_loss: 0.1563 - val_accuracy: 0.9435 - val_prec: 1.0000 - val_rec: 0.7659\n",
            "Epoch 55/100\n",
            "24/24 [==============================] - 1s 30ms/step - loss: 9.6863e-06 - accuracy: 1.0000 - prec: 1.0000 - rec: 1.0000 - val_loss: 0.1559 - val_accuracy: 0.9435 - val_prec: 1.0000 - val_rec: 0.7659\n",
            "Epoch 56/100\n",
            "24/24 [==============================] - 1s 30ms/step - loss: 1.1271e-05 - accuracy: 1.0000 - prec: 1.0000 - rec: 1.0000 - val_loss: 0.1928 - val_accuracy: 0.9400 - val_prec: 1.0000 - val_rec: 0.7512\n",
            "Epoch 57/100\n",
            "24/24 [==============================] - 1s 30ms/step - loss: 1.0810e-05 - accuracy: 1.0000 - prec: 1.0000 - rec: 1.0000 - val_loss: 0.1411 - val_accuracy: 0.9447 - val_prec: 1.0000 - val_rec: 0.7707\n",
            "Epoch 58/100\n",
            "24/24 [==============================] - 1s 31ms/step - loss: 7.7356e-06 - accuracy: 1.0000 - prec: 1.0000 - rec: 1.0000 - val_loss: 0.1798 - val_accuracy: 0.9412 - val_prec: 1.0000 - val_rec: 0.7561\n",
            "Epoch 59/100\n",
            "24/24 [==============================] - 1s 31ms/step - loss: 7.9182e-06 - accuracy: 1.0000 - prec: 1.0000 - rec: 1.0000 - val_loss: 0.1515 - val_accuracy: 0.9435 - val_prec: 1.0000 - val_rec: 0.7659\n",
            "Epoch 60/100\n",
            "24/24 [==============================] - 1s 31ms/step - loss: 7.4790e-06 - accuracy: 1.0000 - prec: 1.0000 - rec: 1.0000 - val_loss: 0.1468 - val_accuracy: 0.9435 - val_prec: 1.0000 - val_rec: 0.7659\n",
            "Epoch 61/100\n",
            "24/24 [==============================] - 1s 30ms/step - loss: 8.9086e-06 - accuracy: 1.0000 - prec: 1.0000 - rec: 1.0000 - val_loss: 0.1470 - val_accuracy: 0.9435 - val_prec: 1.0000 - val_rec: 0.7659\n",
            "Epoch 62/100\n",
            "24/24 [==============================] - 1s 31ms/step - loss: 6.8596e-06 - accuracy: 1.0000 - prec: 1.0000 - rec: 1.0000 - val_loss: 0.1540 - val_accuracy: 0.9435 - val_prec: 1.0000 - val_rec: 0.7659\n",
            "Epoch 63/100\n",
            "24/24 [==============================] - 1s 31ms/step - loss: 6.9499e-06 - accuracy: 1.0000 - prec: 1.0000 - rec: 1.0000 - val_loss: 0.1622 - val_accuracy: 0.9435 - val_prec: 1.0000 - val_rec: 0.7659\n",
            "Epoch 64/100\n",
            "24/24 [==============================] - 1s 31ms/step - loss: 6.5200e-06 - accuracy: 1.0000 - prec: 1.0000 - rec: 1.0000 - val_loss: 0.1659 - val_accuracy: 0.9435 - val_prec: 1.0000 - val_rec: 0.7659\n",
            "Epoch 65/100\n",
            "24/24 [==============================] - 1s 30ms/step - loss: 5.5474e-06 - accuracy: 1.0000 - prec: 1.0000 - rec: 1.0000 - val_loss: 0.1540 - val_accuracy: 0.9435 - val_prec: 1.0000 - val_rec: 0.7659\n",
            "Epoch 66/100\n",
            "24/24 [==============================] - 1s 30ms/step - loss: 6.4131e-06 - accuracy: 1.0000 - prec: 1.0000 - rec: 1.0000 - val_loss: 0.1566 - val_accuracy: 0.9435 - val_prec: 1.0000 - val_rec: 0.7659\n",
            "Epoch 67/100\n",
            "24/24 [==============================] - 1s 30ms/step - loss: 4.9192e-06 - accuracy: 1.0000 - prec: 1.0000 - rec: 1.0000 - val_loss: 0.1759 - val_accuracy: 0.9424 - val_prec: 1.0000 - val_rec: 0.7610\n",
            "Epoch 68/100\n",
            "24/24 [==============================] - 1s 31ms/step - loss: 5.0404e-06 - accuracy: 1.0000 - prec: 1.0000 - rec: 1.0000 - val_loss: 0.1720 - val_accuracy: 0.9424 - val_prec: 1.0000 - val_rec: 0.7610\n",
            "Epoch 69/100\n",
            "24/24 [==============================] - 1s 30ms/step - loss: 5.3913e-06 - accuracy: 1.0000 - prec: 1.0000 - rec: 1.0000 - val_loss: 0.1627 - val_accuracy: 0.9435 - val_prec: 1.0000 - val_rec: 0.7659\n",
            "Epoch 70/100\n",
            "24/24 [==============================] - 1s 31ms/step - loss: 5.8602e-06 - accuracy: 1.0000 - prec: 1.0000 - rec: 1.0000 - val_loss: 0.1241 - val_accuracy: 0.9482 - val_prec: 1.0000 - val_rec: 0.7854\n",
            "Epoch 71/100\n",
            "24/24 [==============================] - 1s 31ms/step - loss: 5.3277e-06 - accuracy: 1.0000 - prec: 1.0000 - rec: 1.0000 - val_loss: 0.1601 - val_accuracy: 0.9435 - val_prec: 1.0000 - val_rec: 0.7659\n",
            "Epoch 72/100\n",
            "24/24 [==============================] - 1s 30ms/step - loss: 4.8554e-06 - accuracy: 1.0000 - prec: 1.0000 - rec: 1.0000 - val_loss: 0.1625 - val_accuracy: 0.9435 - val_prec: 1.0000 - val_rec: 0.7659\n",
            "Epoch 73/100\n",
            "24/24 [==============================] - 1s 31ms/step - loss: 4.0687e-06 - accuracy: 1.0000 - prec: 1.0000 - rec: 1.0000 - val_loss: 0.1665 - val_accuracy: 0.9435 - val_prec: 1.0000 - val_rec: 0.7659\n",
            "Epoch 74/100\n",
            "24/24 [==============================] - 1s 31ms/step - loss: 5.8081e-06 - accuracy: 1.0000 - prec: 1.0000 - rec: 1.0000 - val_loss: 0.1739 - val_accuracy: 0.9435 - val_prec: 1.0000 - val_rec: 0.7659\n",
            "Epoch 75/100\n",
            "24/24 [==============================] - 1s 31ms/step - loss: 4.6906e-06 - accuracy: 1.0000 - prec: 1.0000 - rec: 1.0000 - val_loss: 0.1812 - val_accuracy: 0.9424 - val_prec: 1.0000 - val_rec: 0.7610\n",
            "Epoch 76/100\n",
            "24/24 [==============================] - 1s 31ms/step - loss: 3.7443e-06 - accuracy: 1.0000 - prec: 1.0000 - rec: 1.0000 - val_loss: 0.1783 - val_accuracy: 0.9424 - val_prec: 1.0000 - val_rec: 0.7610\n",
            "Epoch 77/100\n",
            "24/24 [==============================] - 1s 30ms/step - loss: 4.5965e-06 - accuracy: 1.0000 - prec: 1.0000 - rec: 1.0000 - val_loss: 0.1362 - val_accuracy: 0.9459 - val_prec: 1.0000 - val_rec: 0.7756\n",
            "Epoch 78/100\n",
            "24/24 [==============================] - 1s 31ms/step - loss: 4.4407e-06 - accuracy: 1.0000 - prec: 1.0000 - rec: 1.0000 - val_loss: 0.1825 - val_accuracy: 0.9424 - val_prec: 1.0000 - val_rec: 0.7610\n",
            "Epoch 79/100\n",
            "24/24 [==============================] - 1s 31ms/step - loss: 5.7413e-06 - accuracy: 1.0000 - prec: 1.0000 - rec: 1.0000 - val_loss: 0.2448 - val_accuracy: 0.9365 - val_prec: 1.0000 - val_rec: 0.7366\n",
            "Epoch 80/100\n",
            "24/24 [==============================] - 1s 31ms/step - loss: 5.1049e-06 - accuracy: 1.0000 - prec: 1.0000 - rec: 1.0000 - val_loss: 0.1697 - val_accuracy: 0.9435 - val_prec: 1.0000 - val_rec: 0.7659\n",
            "Epoch 81/100\n",
            "24/24 [==============================] - 1s 31ms/step - loss: 3.6269e-06 - accuracy: 1.0000 - prec: 1.0000 - rec: 1.0000 - val_loss: 0.1669 - val_accuracy: 0.9435 - val_prec: 1.0000 - val_rec: 0.7659\n",
            "Epoch 82/100\n",
            "24/24 [==============================] - 1s 30ms/step - loss: 3.4612e-06 - accuracy: 1.0000 - prec: 1.0000 - rec: 1.0000 - val_loss: 0.1768 - val_accuracy: 0.9435 - val_prec: 1.0000 - val_rec: 0.7659\n",
            "Epoch 83/100\n",
            "24/24 [==============================] - 1s 31ms/step - loss: 3.2954e-06 - accuracy: 1.0000 - prec: 1.0000 - rec: 1.0000 - val_loss: 0.1908 - val_accuracy: 0.9412 - val_prec: 1.0000 - val_rec: 0.7561\n",
            "Epoch 84/100\n",
            "24/24 [==============================] - 1s 31ms/step - loss: 3.5964e-06 - accuracy: 1.0000 - prec: 1.0000 - rec: 1.0000 - val_loss: 0.1779 - val_accuracy: 0.9435 - val_prec: 1.0000 - val_rec: 0.7659\n",
            "Epoch 85/100\n",
            "24/24 [==============================] - 1s 30ms/step - loss: 2.7759e-06 - accuracy: 1.0000 - prec: 1.0000 - rec: 1.0000 - val_loss: 0.1926 - val_accuracy: 0.9412 - val_prec: 1.0000 - val_rec: 0.7561\n",
            "Epoch 86/100\n",
            "24/24 [==============================] - 1s 30ms/step - loss: 3.1455e-06 - accuracy: 1.0000 - prec: 1.0000 - rec: 1.0000 - val_loss: 0.1805 - val_accuracy: 0.9435 - val_prec: 1.0000 - val_rec: 0.7659\n",
            "Epoch 87/100\n",
            "24/24 [==============================] - 1s 30ms/step - loss: 3.2464e-06 - accuracy: 1.0000 - prec: 1.0000 - rec: 1.0000 - val_loss: 0.1671 - val_accuracy: 0.9435 - val_prec: 1.0000 - val_rec: 0.7659\n",
            "Epoch 88/100\n",
            "24/24 [==============================] - 1s 30ms/step - loss: 3.6958e-06 - accuracy: 1.0000 - prec: 1.0000 - rec: 1.0000 - val_loss: 0.1719 - val_accuracy: 0.9435 - val_prec: 1.0000 - val_rec: 0.7659\n",
            "Epoch 89/100\n",
            "24/24 [==============================] - 1s 32ms/step - loss: 3.5279e-06 - accuracy: 1.0000 - prec: 1.0000 - rec: 1.0000 - val_loss: 0.1847 - val_accuracy: 0.9424 - val_prec: 1.0000 - val_rec: 0.7610\n",
            "Epoch 90/100\n",
            "24/24 [==============================] - 1s 30ms/step - loss: 2.7187e-06 - accuracy: 1.0000 - prec: 1.0000 - rec: 1.0000 - val_loss: 0.1960 - val_accuracy: 0.9412 - val_prec: 1.0000 - val_rec: 0.7561\n",
            "Epoch 91/100\n",
            "24/24 [==============================] - 1s 31ms/step - loss: 3.0667e-06 - accuracy: 1.0000 - prec: 1.0000 - rec: 1.0000 - val_loss: 0.1808 - val_accuracy: 0.9435 - val_prec: 1.0000 - val_rec: 0.7659\n",
            "Epoch 92/100\n",
            "24/24 [==============================] - 1s 31ms/step - loss: 2.5376e-06 - accuracy: 1.0000 - prec: 1.0000 - rec: 1.0000 - val_loss: 0.1800 - val_accuracy: 0.9435 - val_prec: 1.0000 - val_rec: 0.7659\n",
            "Epoch 93/100\n",
            "24/24 [==============================] - 1s 32ms/step - loss: 2.0103e-06 - accuracy: 1.0000 - prec: 1.0000 - rec: 1.0000 - val_loss: 0.1830 - val_accuracy: 0.9435 - val_prec: 1.0000 - val_rec: 0.7659\n",
            "Epoch 94/100\n",
            "24/24 [==============================] - 1s 30ms/step - loss: 2.4228e-06 - accuracy: 1.0000 - prec: 1.0000 - rec: 1.0000 - val_loss: 0.1803 - val_accuracy: 0.9435 - val_prec: 1.0000 - val_rec: 0.7659\n",
            "Epoch 95/100\n",
            "24/24 [==============================] - 1s 30ms/step - loss: 2.6640e-06 - accuracy: 1.0000 - prec: 1.0000 - rec: 1.0000 - val_loss: 0.1556 - val_accuracy: 0.9435 - val_prec: 1.0000 - val_rec: 0.7659\n",
            "Epoch 96/100\n",
            "24/24 [==============================] - 1s 31ms/step - loss: 2.3892e-06 - accuracy: 1.0000 - prec: 1.0000 - rec: 1.0000 - val_loss: 0.1777 - val_accuracy: 0.9435 - val_prec: 1.0000 - val_rec: 0.7659\n",
            "Epoch 97/100\n",
            "24/24 [==============================] - 1s 30ms/step - loss: 2.4165e-06 - accuracy: 1.0000 - prec: 1.0000 - rec: 1.0000 - val_loss: 0.1779 - val_accuracy: 0.9435 - val_prec: 1.0000 - val_rec: 0.7659\n",
            "Epoch 98/100\n",
            "24/24 [==============================] - 1s 31ms/step - loss: 3.4765e-06 - accuracy: 1.0000 - prec: 1.0000 - rec: 1.0000 - val_loss: 0.1658 - val_accuracy: 0.9435 - val_prec: 1.0000 - val_rec: 0.7659\n",
            "Epoch 99/100\n",
            "24/24 [==============================] - 1s 31ms/step - loss: 2.4114e-06 - accuracy: 1.0000 - prec: 1.0000 - rec: 1.0000 - val_loss: 0.1548 - val_accuracy: 0.9435 - val_prec: 1.0000 - val_rec: 0.7659\n",
            "Epoch 100/100\n",
            "24/24 [==============================] - 1s 31ms/step - loss: 2.4620e-06 - accuracy: 1.0000 - prec: 1.0000 - rec: 1.0000 - val_loss: 0.1923 - val_accuracy: 0.9424 - val_prec: 1.0000 - val_rec: 0.7610\n"
          ],
          "name": "stdout"
        }
      ]
    },
    {
      "cell_type": "code",
      "metadata": {
        "id": "bJxHeKp0aj36",
        "outputId": "40085964-2ae4-41fa-9299-506ef589571e",
        "colab": {
          "base_uri": "https://localhost:8080/",
          "height": 513
        }
      },
      "source": [
        "plt.plot(history.history['accuracy'])\n",
        "plt.plot(history.history['val_accuracy'])\n",
        "plt.legend(['train', 'val'])\n",
        "plt.show()\n",
        "plt.plot(history.history['rec'], history.history['prec'])\n",
        "plt.plot(history.history['val_rec'], history.history['val_prec'])\n",
        "plt.legend(['train', 'val'])\n",
        "plt.show()"
      ],
      "execution_count": 664,
      "outputs": [
        {
          "output_type": "display_data",
          "data": {
            "image/png": "[encoded data removed]",
            "text/plain": [
              "<Figure size 432x288 with 1 Axes>"
            ]
          },
          "metadata": {
            "tags": [],
            "needs_background": "light"
          }
        },
        {
          "output_type": "display_data",
          "data": {
            "image/png": "[encoded data removed]",
            "text/plain": [
              "<Figure size 432x288 with 1 Axes>"
            ]
          },
          "metadata": {
            "tags": [],
            "needs_background": "light"
          }
        }
      ]
    },
    {
      "cell_type": "code",
      "metadata": {
        "id": "3KvDsiIJ3Up1"
      },
      "source": [
        "plt.plot(history.history['accuracy'])\n",
        "plt.plot(history.history['val_accuracy'])\n",
        "plt.legend(['train', 'val'])\n",
        "plt.show()\n",
        "plt.plot(history.history['rec'], history.history['prec'])\n",
        "plt.plot(history.history['val_rec'], history.history['val_prec'])\n",
        "plt.legend(['train', 'val'])\n",
        "plt.show()"
      ],
      "execution_count": null,
      "outputs": []
    },
    {
      "cell_type": "code",
      "metadata": {
        "id": "_fIsJWdC_ai8"
      },
      "source": [
        "plt.plot(history.history['prec'])\n",
        "plt.plot(history.history['rec'])\n",
        "plt.plot(history.history['val_prec'])\n",
        "plt.plot(history.history['val_rec'])"
      ],
      "execution_count": null,
      "outputs": []
    },
    {
      "cell_type": "code",
      "metadata": {
        "id": "rgELBNWa6Jt4"
      },
      "source": [
        "def getIndex(data):\n",
        "  for key in word2index:\n",
        "    if word2index[key] == data:\n",
        "      return key\n",
        "\n",
        "def createStack(data):\n",
        "  print(len(data[0]))\n",
        "  stacked_x = []\n",
        "  for i in range(len(data)):\n",
        "    temp = []\n",
        "    for j in range(len(data[i])):\n",
        "      if (j == 0):\n",
        "          temp.append([data[i][j], 0, data[i][j+1]])\n",
        "      elif (j == len(data[i])-1):\n",
        "          temp.append([data[i][j], data[i][j-1], 0])\n",
        "      else:\n",
        "          temp.append([data[i][j], data[i][j-1], data[i][j+1]])\n",
        "    stacked_x.append(temp)\n",
        "  return np.array(stacked_x)\n",
        "\n",
        "def predict(text):\n",
        "  test_data = preprocessData(text)\n",
        "  test_data = tokenizer.texts_to_sequences(test_data)\n",
        "  oov_handler_data = []\n",
        "  for data in test_data:\n",
        "    if (len(data) == 0):\n",
        "      oov_handler_data.append(0)\n",
        "    else:\n",
        "      oov_handler_data.append(data[0])\n",
        "  padded_data = pad_sequences([oov_handler_data], maxlen=MAX_LEN, padding='post')\n",
        "  # print(padded_data)\n",
        "  pred = model.predict(padded_data[0])\n",
        "  print(pred)\n",
        "  normalized_pred = [1 if a[0] > 0.5 else 0 for a in pred]\n",
        "\n",
        "  labelled_word = []\n",
        "  for token, label in zip(padded_data[0], normalized_pred):\n",
        "    if label == 1:\n",
        "      labelled_word.append(token)\n",
        "  return tokenizer.sequences_to_texts([labelled_word])"
      ],
      "execution_count": 665,
      "outputs": []
    },
    {
      "cell_type": "code",
      "metadata": {
        "id": "FYdVK6GbVgiE",
        "outputId": "e0763488-edbb-43b9-dabc-bf9331bf6fb6",
        "colab": {
          "base_uri": "https://localhost:8080/"
        }
      },
      "source": [
        "text = 'saya izin cuti 1-2 februari dua ribu delapan belas februari asdf asdf asdf februari asdf'\n",
        "predict(text)"
      ],
      "execution_count": 686,
      "outputs": [
        {
          "output_type": "stream",
          "text": [
            "[[[8.4274737e-03]]\n",
            "\n",
            " [[2.2783544e-02]]\n",
            "\n",
            " [[5.8517844e-04]]\n",
            "\n",
            " [[5.8517844e-04]]\n",
            "\n",
            " [[9.9995971e-01]]\n",
            "\n",
            " [[5.8517844e-04]]\n",
            "\n",
            " [[5.8517844e-04]]\n",
            "\n",
            " [[5.8517844e-04]]\n",
            "\n",
            " [[9.9995971e-01]]\n",
            "\n",
            " [[5.8517844e-04]]]\n"
          ],
          "name": "stdout"
        },
        {
          "output_type": "execute_result",
          "data": {
            "text/plain": [
              "['februari februari']"
            ]
          },
          "metadata": {
            "tags": []
          },
          "execution_count": 686
        }
      ]
    },
    {
      "cell_type": "code",
      "metadata": {
        "id": "g36E95yB50RH",
        "outputId": "fe752263-6b84-40aa-d170-153c1d4d4eca",
        "colab": {
          "base_uri": "https://localhost:8080/"
        }
      },
      "source": [
        "model.save('./tes')"
      ],
      "execution_count": 689,
      "outputs": [
        {
          "output_type": "stream",
          "text": [
            "INFO:tensorflow:Assets written to: ./tes/assets\n"
          ],
          "name": "stdout"
        }
      ]
    },
    {
      "cell_type": "code",
      "metadata": {
        "id": "5JasbEltd0wO",
        "outputId": "ba06ee3f-aff5-4cd4-d9cd-62528865ac84",
        "colab": {
          "base_uri": "https://localhost:8080/"
        }
      },
      "source": [
        "!zip -o -r ./tes.zip ./tes"
      ],
      "execution_count": 691,
      "outputs": [
        {
          "output_type": "stream",
          "text": [
            "updating: tes/ (stored 0%)\n",
            "  adding: tes/variables/ (stored 0%)\n",
            "  adding: tes/variables/variables.data-00000-of-00001 (deflated 8%)\n",
            "  adding: tes/variables/variables.index (deflated 67%)\n",
            "  adding: tes/saved_model.pb (deflated 90%)\n",
            "  adding: tes/assets/ (stored 0%)\n"
          ],
          "name": "stdout"
        }
      ]
    },
    {
      "cell_type": "code",
      "metadata": {
        "id": "Fc0LuqvbeUJq",
        "outputId": "bd513823-4252-4d4b-f452-7700a4e96b38",
        "colab": {
          "base_uri": "https://localhost:8080/"
        }
      },
      "source": [
        "text.split(' ')[::10]"
      ],
      "execution_count": 693,
      "outputs": [
        {
          "output_type": "execute_result",
          "data": {
            "text/plain": [
              "['saya', 'asdf']"
            ]
          },
          "metadata": {
            "tags": []
          },
          "execution_count": 693
        }
      ]
    },
    {
      "cell_type": "code",
      "metadata": {
        "id": "CLuO6Vgme5Ik"
      },
      "source": [
        "import pickle"
      ],
      "execution_count": 694,
      "outputs": []
    },
    {
      "cell_type": "code",
      "metadata": {
        "id": "7TaFjl4xnujQ"
      },
      "source": [
        "with open('tokenizer.pickle', 'wb') as handle:\n",
        "    pickle.dump(tokenizer, handle, protocol=pickle.HIGHEST_PROTOCOL)\n"
      ],
      "execution_count": 696,
      "outputs": []
    },
    {
      "cell_type": "code",
      "metadata": {
        "id": "nzPePMfwn8j4"
      },
      "source": [
        ""
      ],
      "execution_count": null,
      "outputs": []
    }
  ]
}