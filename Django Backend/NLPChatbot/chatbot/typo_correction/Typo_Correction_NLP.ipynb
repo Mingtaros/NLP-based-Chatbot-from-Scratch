{
  "nbformat": 4,
  "nbformat_minor": 0,
  "metadata": {
    "colab": {
      "name": "Typo Correction NLP.ipynb",
      "provenance": [],
      "collapsed_sections": [],
      "toc_visible": true
    },
    "kernelspec": {
      "name": "python3",
      "display_name": "Python 3"
    },
    "accelerator": "GPU"
  },
  "cells": [
    {
      "cell_type": "code",
      "metadata": {
        "id": "1CRu5gu_xe8A"
      },
      "source": [
        "import pandas as pd\n",
        "import numpy as np\n",
        "import seaborn as sns\n",
        "import matplotlib.pyplot as plt\n",
        "import re\n",
        "import random"
      ],
      "execution_count": 1,
      "outputs": []
    },
    {
      "cell_type": "markdown",
      "metadata": {
        "id": "IMoy2sUGKb6P"
      },
      "source": [
        "# Dataset Loading"
      ]
    },
    {
      "cell_type": "markdown",
      "metadata": {
        "id": "d5g9rtFXKKz3"
      },
      "source": [
        "Dataset didapatkan dari\n",
        "- https://github.com/ramaprakoso/analisis-sentimen/blob/master/kamus/kbba.txt\n",
        "- https://github.com/okkyibrohim/id-multi-label-hate-speech-and-abusive-language-detection/blob/master/new_kamusalay.csv \n",
        "\n",
        "dan ditambahkan beberapa kata baru"
      ]
    },
    {
      "cell_type": "code",
      "metadata": {
        "id": "U1pEKjaSRC1p"
      },
      "source": [
        "word_slang = pd.read_csv('word-slang.txt', header=None)"
      ],
      "execution_count": null,
      "outputs": []
    },
    {
      "cell_type": "code",
      "metadata": {
        "id": "KMisZvGhjiZX",
        "outputId": "3381302a-a581-47bd-8177-6b608362bb41",
        "colab": {
          "base_uri": "https://localhost:8080/",
          "height": 204
        }
      },
      "source": [
        "word_slang.head()"
      ],
      "execution_count": null,
      "outputs": [
        {
          "output_type": "execute_result",
          "data": {
            "text/html": [
              "<div>\n",
              "<style scoped>\n",
              "    .dataframe tbody tr th:only-of-type {\n",
              "        vertical-align: middle;\n",
              "    }\n",
              "\n",
              "    .dataframe tbody tr th {\n",
              "        vertical-align: top;\n",
              "    }\n",
              "\n",
              "    .dataframe thead th {\n",
              "        text-align: right;\n",
              "    }\n",
              "</style>\n",
              "<table border=\"1\" class=\"dataframe\">\n",
              "  <thead>\n",
              "    <tr style=\"text-align: right;\">\n",
              "      <th></th>\n",
              "      <th>0</th>\n",
              "      <th>1</th>\n",
              "    </tr>\n",
              "  </thead>\n",
              "  <tbody>\n",
              "    <tr>\n",
              "      <th>0</th>\n",
              "      <td>absen</td>\n",
              "      <td>absen</td>\n",
              "    </tr>\n",
              "    <tr>\n",
              "      <th>1</th>\n",
              "      <td>absn</td>\n",
              "      <td>absen</td>\n",
              "    </tr>\n",
              "    <tr>\n",
              "      <th>2</th>\n",
              "      <td>absence</td>\n",
              "      <td>absen</td>\n",
              "    </tr>\n",
              "    <tr>\n",
              "      <th>3</th>\n",
              "      <td>abesence</td>\n",
              "      <td>absen</td>\n",
              "    </tr>\n",
              "    <tr>\n",
              "      <th>4</th>\n",
              "      <td>absnc</td>\n",
              "      <td>absen</td>\n",
              "    </tr>\n",
              "  </tbody>\n",
              "</table>\n",
              "</div>"
            ],
            "text/plain": [
              "          0      1\n",
              "0     absen  absen\n",
              "1      absn  absen\n",
              "2   absence  absen\n",
              "3  abesence  absen\n",
              "4     absnc  absen"
            ]
          },
          "metadata": {
            "tags": []
          },
          "execution_count": 101
        }
      ]
    },
    {
      "cell_type": "markdown",
      "metadata": {
        "id": "SblMQp8_Kd2t"
      },
      "source": [
        "# Dataset Creation"
      ]
    },
    {
      "cell_type": "code",
      "metadata": {
        "id": "LC9m_vrwO8F8"
      },
      "source": [
        "random.seed(13517013)\n",
        "\n",
        "data = []\n",
        "\n",
        "max_typo_len = 0\n",
        "max_real_word_len = 0\n",
        "\n",
        "typo_char = set()\n",
        "real_word_char = set()\n",
        "\n",
        "max_edit = 1\n",
        "max_len = 12\n",
        "min_len = 3\n",
        "\n",
        "real_word_char.add('\\t')\n",
        "real_word_char.add('\\n')"
      ],
      "execution_count": null,
      "outputs": []
    },
    {
      "cell_type": "code",
      "metadata": {
        "id": "EyWQNxetQM3i"
      },
      "source": [
        "for index in range(len(word_slang)):\n",
        "  slang = word_slang.iloc[index, 0].lower()\n",
        "  arti = word_slang.iloc[index, 1].lower()\n",
        "\n",
        "  if(len(slang) <= max_len and len(arti) <= max_len):\n",
        "    max_typo_len = max(len(slang), max_typo_len)\n",
        "    max_real_word_len = max(len(arti)+2, max_real_word_len)\n",
        "\n",
        "    for char in slang:\n",
        "      if char not in typo_char:\n",
        "        typo_char.add(char)\n",
        "    for char in arti:\n",
        "      if char not in real_word_char:\n",
        "        real_word_char.add(char)\n",
        "    \n",
        "    data.append((slang, '\\t' + arti + '\\n'))"
      ],
      "execution_count": null,
      "outputs": []
    },
    {
      "cell_type": "code",
      "metadata": {
        "id": "0RPIUlqGX30R"
      },
      "source": [
        "typo_char = sorted(list(typo_char))\n",
        "real_word_char = sorted(list(real_word_char))\n",
        "\n",
        "typo_char_map = dict((c, i) for i, c in enumerate(typo_char))\n",
        "real_word_char_map = dict((c, i) for i, c in enumerate(real_word_char))\n",
        "\n",
        "num_encoder_tokens = len(typo_char)\n",
        "num_decoder_tokens = len(real_word_char)\n",
        "\n",
        "encoder_seq_lengths = max_typo_len\n",
        "decoder_seq_lengths = max_real_word_len"
      ],
      "execution_count": null,
      "outputs": []
    },
    {
      "cell_type": "code",
      "metadata": {
        "id": "HU1Pwt6_WfvI",
        "outputId": "9325ef7a-a231-411f-d7ea-d9c87478d38a",
        "colab": {
          "base_uri": "https://localhost:8080/"
        }
      },
      "source": [
        "print('num_encoder_tokens: ', num_encoder_tokens)\n",
        "print('num_decoder_tokens: ', num_decoder_tokens)\n",
        "print('encoder_seq_lengths: ', encoder_seq_lengths)\n",
        "print('decoder_seq_lengths: ', decoder_seq_lengths)"
      ],
      "execution_count": null,
      "outputs": [
        {
          "output_type": "stream",
          "text": [
            "num_encoder_tokens:  40\n",
            "num_decoder_tokens:  38\n",
            "encoder_seq_lengths:  12\n",
            "decoder_seq_lengths:  14\n"
          ],
          "name": "stdout"
        }
      ]
    },
    {
      "cell_type": "code",
      "metadata": {
        "id": "8U7Mg6OlqbOy",
        "outputId": "7eba3677-d306-4a10-8017-0c0fe06f8c63",
        "colab": {
          "base_uri": "https://localhost:8080/"
        }
      },
      "source": [
        "typo_char_map"
      ],
      "execution_count": null,
      "outputs": [
        {
          "output_type": "execute_result",
          "data": {
            "text/plain": [
              "{' ': 0,\n",
              " '-': 1,\n",
              " '/': 2,\n",
              " '0': 3,\n",
              " '1': 4,\n",
              " '2': 5,\n",
              " '3': 6,\n",
              " '4': 7,\n",
              " '5': 8,\n",
              " '6': 9,\n",
              " '7': 10,\n",
              " '8': 11,\n",
              " '9': 12,\n",
              " '@': 13,\n",
              " 'a': 14,\n",
              " 'b': 15,\n",
              " 'c': 16,\n",
              " 'd': 17,\n",
              " 'e': 18,\n",
              " 'f': 19,\n",
              " 'g': 20,\n",
              " 'h': 21,\n",
              " 'i': 22,\n",
              " 'j': 23,\n",
              " 'k': 24,\n",
              " 'l': 25,\n",
              " 'm': 26,\n",
              " 'n': 27,\n",
              " 'o': 28,\n",
              " 'p': 29,\n",
              " 'q': 30,\n",
              " 'r': 31,\n",
              " 's': 32,\n",
              " 't': 33,\n",
              " 'u': 34,\n",
              " 'v': 35,\n",
              " 'w': 36,\n",
              " 'x': 37,\n",
              " 'y': 38,\n",
              " 'z': 39}"
            ]
          },
          "metadata": {
            "tags": []
          },
          "execution_count": 106
        }
      ]
    },
    {
      "cell_type": "code",
      "metadata": {
        "id": "1gbdKVzAqfxG",
        "outputId": "6609ce37-8401-4341-e22d-7d28bbb21666",
        "colab": {
          "base_uri": "https://localhost:8080/"
        }
      },
      "source": [
        "real_word_char_map"
      ],
      "execution_count": null,
      "outputs": [
        {
          "output_type": "execute_result",
          "data": {
            "text/plain": [
              "{'\\t': 0,\n",
              " '\\n': 1,\n",
              " ' ': 2,\n",
              " '0': 3,\n",
              " '1': 4,\n",
              " '2': 5,\n",
              " '3': 6,\n",
              " '4': 7,\n",
              " '5': 8,\n",
              " '6': 9,\n",
              " '8': 10,\n",
              " '9': 11,\n",
              " 'a': 12,\n",
              " 'b': 13,\n",
              " 'c': 14,\n",
              " 'd': 15,\n",
              " 'e': 16,\n",
              " 'f': 17,\n",
              " 'g': 18,\n",
              " 'h': 19,\n",
              " 'i': 20,\n",
              " 'j': 21,\n",
              " 'k': 22,\n",
              " 'l': 23,\n",
              " 'm': 24,\n",
              " 'n': 25,\n",
              " 'o': 26,\n",
              " 'p': 27,\n",
              " 'q': 28,\n",
              " 'r': 29,\n",
              " 's': 30,\n",
              " 't': 31,\n",
              " 'u': 32,\n",
              " 'v': 33,\n",
              " 'w': 34,\n",
              " 'x': 35,\n",
              " 'y': 36,\n",
              " 'z': 37}"
            ]
          },
          "metadata": {
            "tags": []
          },
          "execution_count": 107
        }
      ]
    },
    {
      "cell_type": "code",
      "metadata": {
        "id": "B-doi-0KSejZ"
      },
      "source": [
        "df = pd.DataFrame(data, columns=['Typo', 'RealWord']).drop_duplicates(['Typo'], keep='first')"
      ],
      "execution_count": null,
      "outputs": []
    },
    {
      "cell_type": "code",
      "metadata": {
        "id": "ngLuWY8_Sqp0",
        "outputId": "5280985f-2a32-4496-9230-385133d426dc",
        "colab": {
          "base_uri": "https://localhost:8080/"
        }
      },
      "source": [
        "print(df[:20])"
      ],
      "execution_count": null,
      "outputs": [
        {
          "output_type": "stream",
          "text": [
            "        Typo   RealWord\n",
            "0      absen  \\tabsen\\n\n",
            "1       absn  \\tabsen\\n\n",
            "2    absence  \\tabsen\\n\n",
            "3   abesence  \\tabsen\\n\n",
            "4      absnc  \\tabsen\\n\n",
            "5    besence  \\tabsen\\n\n",
            "6     absenc  \\tabsen\\n\n",
            "7     asence  \\tabsen\\n\n",
            "8       lusa   \\tlusa\\n\n",
            "9        usa   \\tlusa\\n\n",
            "10       stu   \\tsatu\\n\n",
            "11       dua    \\tdua\\n\n",
            "12      tiga   \\ttiga\\n\n",
            "13       tga   \\ttiga\\n\n",
            "14     empat  \\tempat\\n\n",
            "15      empt  \\tempat\\n\n",
            "16      lima   \\tlima\\n\n",
            "17       ima   \\tlima\\n\n",
            "18      enam   \\tenam\\n\n",
            "19       nam   \\tenam\\n\n"
          ],
          "name": "stdout"
        }
      ]
    },
    {
      "cell_type": "code",
      "metadata": {
        "id": "pm66GOatTtKa",
        "outputId": "624c3c4c-f988-447d-8fbb-5bc4e81e9dc5",
        "colab": {
          "base_uri": "https://localhost:8080/",
          "height": 173
        }
      },
      "source": [
        "df.describe()"
      ],
      "execution_count": null,
      "outputs": [
        {
          "output_type": "execute_result",
          "data": {
            "text/html": [
              "<div>\n",
              "<style scoped>\n",
              "    .dataframe tbody tr th:only-of-type {\n",
              "        vertical-align: middle;\n",
              "    }\n",
              "\n",
              "    .dataframe tbody tr th {\n",
              "        vertical-align: top;\n",
              "    }\n",
              "\n",
              "    .dataframe thead th {\n",
              "        text-align: right;\n",
              "    }\n",
              "</style>\n",
              "<table border=\"1\" class=\"dataframe\">\n",
              "  <thead>\n",
              "    <tr style=\"text-align: right;\">\n",
              "      <th></th>\n",
              "      <th>Typo</th>\n",
              "      <th>RealWord</th>\n",
              "    </tr>\n",
              "  </thead>\n",
              "  <tbody>\n",
              "    <tr>\n",
              "      <th>count</th>\n",
              "      <td>13355</td>\n",
              "      <td>13355</td>\n",
              "    </tr>\n",
              "    <tr>\n",
              "      <th>unique</th>\n",
              "      <td>13355</td>\n",
              "      <td>6784</td>\n",
              "    </tr>\n",
              "    <tr>\n",
              "      <th>top</th>\n",
              "      <td>kost</td>\n",
              "      <td>\\tbanget\\n</td>\n",
              "    </tr>\n",
              "    <tr>\n",
              "      <th>freq</th>\n",
              "      <td>1</td>\n",
              "      <td>91</td>\n",
              "    </tr>\n",
              "  </tbody>\n",
              "</table>\n",
              "</div>"
            ],
            "text/plain": [
              "         Typo    RealWord\n",
              "count   13355       13355\n",
              "unique  13355        6784\n",
              "top      kost  \\tbanget\\n\n",
              "freq        1          91"
            ]
          },
          "metadata": {
            "tags": []
          },
          "execution_count": 110
        }
      ]
    },
    {
      "cell_type": "code",
      "metadata": {
        "id": "bPku9zu9ZF5i"
      },
      "source": [
        "encoder_input_data = np.zeros((len(df), encoder_seq_lengths, num_encoder_tokens), dtype=\"float32\")\n",
        "decoder_input_data = np.zeros((len(df), decoder_seq_lengths, num_decoder_tokens), dtype=\"float32\")\n",
        "decoder_target_data = np.zeros((len(df), decoder_seq_lengths, num_decoder_tokens), dtype=\"float32\")"
      ],
      "execution_count": null,
      "outputs": []
    },
    {
      "cell_type": "code",
      "metadata": {
        "id": "uDvENb50aO1_",
        "outputId": "b386c716-34f4-4fad-dda8-b07e51e8538b",
        "colab": {
          "base_uri": "https://localhost:8080/"
        }
      },
      "source": [
        "for index in range(len(df)):\n",
        "  if(index % 5000 == 0):\n",
        "    print(index)\n",
        "  for i, char in enumerate(df.iloc[index, 0]):\n",
        "    encoder_input_data[index, i, typo_char_map[char]] = 1.0\n",
        "  # Anggap sisa dari row['Typo'] adalah spasi\n",
        "  encoder_input_data[index, i+1:, typo_char_map[' ']] = 1.0\n",
        "  \n",
        "  for i, char in enumerate(df.iloc[index, 1]):\n",
        "    decoder_input_data[index, i, real_word_char_map[char]] = 1.0\n",
        "    if(i > 0):\n",
        "      decoder_target_data[index, i-1, real_word_char_map[char]] = 1.0\n",
        "  # Anggap sisa dari row['RealWord'] adalah spasi\n",
        "  decoder_input_data[index, i+1:, real_word_char_map[' ']] = 1.0\n",
        "  decoder_target_data[index, i:, real_word_char_map[' ']] = 1.0"
      ],
      "execution_count": null,
      "outputs": [
        {
          "output_type": "stream",
          "text": [
            "0\n",
            "5000\n",
            "10000\n"
          ],
          "name": "stdout"
        }
      ]
    },
    {
      "cell_type": "markdown",
      "metadata": {
        "id": "2HRO3w3fV3GK"
      },
      "source": [
        "\n",
        "# Training"
      ]
    },
    {
      "cell_type": "code",
      "metadata": {
        "id": "T57y9_UiUuMW"
      },
      "source": [
        "from tensorflow.keras.models import Model\n",
        "from tensorflow.keras.layers import Dense, LSTM, Input, Dropout"
      ],
      "execution_count": 11,
      "outputs": []
    },
    {
      "cell_type": "code",
      "metadata": {
        "id": "iqPfv_TgY1y2"
      },
      "source": [
        "encoder_inputs = Input(shape=(None, num_encoder_tokens))\n",
        "encoder_lstm_1 = LSTM(200, return_sequences=True)\n",
        "encoder_dropout_1 = Dropout(0.4)\n",
        "encoder_lstm_2 = LSTM(200, return_state=True)\n",
        "\n",
        "encoder_outputs, state_h, state_c = encoder_lstm_2(encoder_dropout_1(encoder_lstm_1(encoder_inputs)))\n",
        "\n",
        "encoder_states = [state_h, state_c]\n",
        "\n",
        "decoder_inputs = Input(shape=(None, num_decoder_tokens))\n",
        "\n",
        "decoder_lstm = LSTM(200, return_sequences=True, return_state=True)\n",
        "decoder_outputs, _, _ = decoder_lstm(decoder_inputs, initial_state=encoder_states)\n",
        "decoder_dense = Dense(num_decoder_tokens, activation=\"softmax\")\n",
        "decoder_outputs = decoder_dense(decoder_outputs)\n",
        "\n",
        "model = Model([encoder_inputs, decoder_inputs], decoder_outputs)"
      ],
      "execution_count": null,
      "outputs": []
    },
    {
      "cell_type": "code",
      "metadata": {
        "id": "5NhkuO_0BCq6",
        "outputId": "fdb07104-d1eb-4864-edbd-91c14ca57279",
        "colab": {
          "base_uri": "https://localhost:8080/"
        }
      },
      "source": [
        "model.summary()"
      ],
      "execution_count": null,
      "outputs": [
        {
          "output_type": "stream",
          "text": [
            "Model: \"functional_29\"\n",
            "__________________________________________________________________________________________________\n",
            "Layer (type)                    Output Shape         Param #     Connected to                     \n",
            "==================================================================================================\n",
            "input_13 (InputLayer)           [(None, None, 40)]   0                                            \n",
            "__________________________________________________________________________________________________\n",
            "lstm_18 (LSTM)                  (None, None, 200)    192800      input_13[0][0]                   \n",
            "__________________________________________________________________________________________________\n",
            "dropout_6 (Dropout)             (None, None, 200)    0           lstm_18[0][0]                    \n",
            "__________________________________________________________________________________________________\n",
            "input_14 (InputLayer)           [(None, None, 38)]   0                                            \n",
            "__________________________________________________________________________________________________\n",
            "lstm_19 (LSTM)                  [(None, 200), (None, 320800      dropout_6[0][0]                  \n",
            "__________________________________________________________________________________________________\n",
            "lstm_20 (LSTM)                  [(None, None, 200),  191200      input_14[0][0]                   \n",
            "                                                                 lstm_19[0][1]                    \n",
            "                                                                 lstm_19[0][2]                    \n",
            "__________________________________________________________________________________________________\n",
            "dense_6 (Dense)                 (None, None, 38)     7638        lstm_20[0][0]                    \n",
            "==================================================================================================\n",
            "Total params: 712,438\n",
            "Trainable params: 712,438\n",
            "Non-trainable params: 0\n",
            "__________________________________________________________________________________________________\n"
          ],
          "name": "stdout"
        }
      ]
    },
    {
      "cell_type": "code",
      "metadata": {
        "id": "Tz0lKlumBhrM"
      },
      "source": [
        "model.compile(optimizer=\"rmsprop\", loss=\"categorical_crossentropy\", metrics=[\"accuracy\"])"
      ],
      "execution_count": null,
      "outputs": []
    },
    {
      "cell_type": "code",
      "metadata": {
        "id": "gZt__9YjBEUZ",
        "outputId": "a1aa9cd0-a9e9-471c-c5d9-071d57ba37bb",
        "colab": {
          "base_uri": "https://localhost:8080/"
        }
      },
      "source": [
        "history = model.fit(\n",
        "    [encoder_input_data, decoder_input_data],\n",
        "    decoder_target_data,\n",
        "    batch_size=32,\n",
        "    epochs=80,\n",
        ")"
      ],
      "execution_count": null,
      "outputs": [
        {
          "output_type": "stream",
          "text": [
            "Epoch 1/80\n",
            "418/418 [==============================] - 4s 9ms/step - loss: 1.4010 - accuracy: 0.6026\n",
            "Epoch 2/80\n",
            "418/418 [==============================] - 4s 8ms/step - loss: 0.9069 - accuracy: 0.7291\n",
            "Epoch 3/80\n",
            "418/418 [==============================] - 3s 8ms/step - loss: 0.7521 - accuracy: 0.7782\n",
            "Epoch 4/80\n",
            "418/418 [==============================] - 4s 9ms/step - loss: 0.6621 - accuracy: 0.8068\n",
            "Epoch 5/80\n",
            "418/418 [==============================] - 4s 8ms/step - loss: 0.5965 - accuracy: 0.8268\n",
            "Epoch 6/80\n",
            "418/418 [==============================] - 3s 8ms/step - loss: 0.5459 - accuracy: 0.8416\n",
            "Epoch 7/80\n",
            "418/418 [==============================] - 4s 9ms/step - loss: 0.5016 - accuracy: 0.8549\n",
            "Epoch 8/80\n",
            "418/418 [==============================] - 3s 8ms/step - loss: 0.4653 - accuracy: 0.8655\n",
            "Epoch 9/80\n",
            "418/418 [==============================] - 4s 8ms/step - loss: 0.4312 - accuracy: 0.8753\n",
            "Epoch 10/80\n",
            "418/418 [==============================] - 4s 9ms/step - loss: 0.4008 - accuracy: 0.8834\n",
            "Epoch 11/80\n",
            "418/418 [==============================] - 4s 9ms/step - loss: 0.3742 - accuracy: 0.8911\n",
            "Epoch 12/80\n",
            "418/418 [==============================] - 4s 8ms/step - loss: 0.3481 - accuracy: 0.8975\n",
            "Epoch 13/80\n",
            "418/418 [==============================] - 4s 9ms/step - loss: 0.3220 - accuracy: 0.9048\n",
            "Epoch 14/80\n",
            "418/418 [==============================] - 3s 8ms/step - loss: 0.3002 - accuracy: 0.9111\n",
            "Epoch 15/80\n",
            "418/418 [==============================] - 4s 8ms/step - loss: 0.2786 - accuracy: 0.9174\n",
            "Epoch 16/80\n",
            "418/418 [==============================] - 4s 9ms/step - loss: 0.2574 - accuracy: 0.9231\n",
            "Epoch 17/80\n",
            "418/418 [==============================] - 4s 9ms/step - loss: 0.2387 - accuracy: 0.9290\n",
            "Epoch 18/80\n",
            "418/418 [==============================] - 4s 9ms/step - loss: 0.2226 - accuracy: 0.9328\n",
            "Epoch 19/80\n",
            "418/418 [==============================] - 4s 9ms/step - loss: 0.2066 - accuracy: 0.9370\n",
            "Epoch 20/80\n",
            "418/418 [==============================] - 3s 8ms/step - loss: 0.1899 - accuracy: 0.9426\n",
            "Epoch 21/80\n",
            "418/418 [==============================] - 4s 8ms/step - loss: 0.1766 - accuracy: 0.9463\n",
            "Epoch 22/80\n",
            "418/418 [==============================] - 3s 8ms/step - loss: 0.1639 - accuracy: 0.9499\n",
            "Epoch 23/80\n",
            "418/418 [==============================] - 4s 9ms/step - loss: 0.1510 - accuracy: 0.9535\n",
            "Epoch 24/80\n",
            "418/418 [==============================] - 4s 9ms/step - loss: 0.1412 - accuracy: 0.9566\n",
            "Epoch 25/80\n",
            "418/418 [==============================] - 4s 8ms/step - loss: 0.1319 - accuracy: 0.9597\n",
            "Epoch 26/80\n",
            "418/418 [==============================] - 4s 8ms/step - loss: 0.1217 - accuracy: 0.9625\n",
            "Epoch 27/80\n",
            "418/418 [==============================] - 3s 8ms/step - loss: 0.1134 - accuracy: 0.9651\n",
            "Epoch 28/80\n",
            "418/418 [==============================] - 3s 8ms/step - loss: 0.1064 - accuracy: 0.9668\n",
            "Epoch 29/80\n",
            "418/418 [==============================] - 3s 8ms/step - loss: 0.0996 - accuracy: 0.9692\n",
            "Epoch 30/80\n",
            "418/418 [==============================] - 3s 8ms/step - loss: 0.0945 - accuracy: 0.9708\n",
            "Epoch 31/80\n",
            "418/418 [==============================] - 3s 8ms/step - loss: 0.0879 - accuracy: 0.9732\n",
            "Epoch 32/80\n",
            "418/418 [==============================] - 3s 8ms/step - loss: 0.0815 - accuracy: 0.9756\n",
            "Epoch 33/80\n",
            "418/418 [==============================] - 3s 8ms/step - loss: 0.0774 - accuracy: 0.9764\n",
            "Epoch 34/80\n",
            "418/418 [==============================] - 4s 9ms/step - loss: 0.0733 - accuracy: 0.9774\n",
            "Epoch 35/80\n",
            "418/418 [==============================] - 4s 9ms/step - loss: 0.0689 - accuracy: 0.9787\n",
            "Epoch 36/80\n",
            "418/418 [==============================] - 3s 8ms/step - loss: 0.0662 - accuracy: 0.9791\n",
            "Epoch 37/80\n",
            "418/418 [==============================] - 4s 9ms/step - loss: 0.0617 - accuracy: 0.9812\n",
            "Epoch 38/80\n",
            "418/418 [==============================] - 3s 8ms/step - loss: 0.0585 - accuracy: 0.9822\n",
            "Epoch 39/80\n",
            "418/418 [==============================] - 3s 8ms/step - loss: 0.0569 - accuracy: 0.9824\n",
            "Epoch 40/80\n",
            "418/418 [==============================] - 4s 9ms/step - loss: 0.0532 - accuracy: 0.9837\n",
            "Epoch 41/80\n",
            "418/418 [==============================] - 3s 8ms/step - loss: 0.0510 - accuracy: 0.9844\n",
            "Epoch 42/80\n",
            "418/418 [==============================] - 3s 8ms/step - loss: 0.0488 - accuracy: 0.9854\n",
            "Epoch 43/80\n",
            "418/418 [==============================] - 3s 8ms/step - loss: 0.0466 - accuracy: 0.9859\n",
            "Epoch 44/80\n",
            "418/418 [==============================] - 3s 8ms/step - loss: 0.0447 - accuracy: 0.9864\n",
            "Epoch 45/80\n",
            "418/418 [==============================] - 3s 8ms/step - loss: 0.0426 - accuracy: 0.9874\n",
            "Epoch 46/80\n",
            "418/418 [==============================] - 3s 8ms/step - loss: 0.0421 - accuracy: 0.9869\n",
            "Epoch 47/80\n",
            "418/418 [==============================] - 3s 8ms/step - loss: 0.0415 - accuracy: 0.9873\n",
            "Epoch 48/80\n",
            "418/418 [==============================] - 3s 8ms/step - loss: 0.0388 - accuracy: 0.9883\n",
            "Epoch 49/80\n",
            "418/418 [==============================] - 4s 9ms/step - loss: 0.0377 - accuracy: 0.9886\n",
            "Epoch 50/80\n",
            "418/418 [==============================] - 4s 9ms/step - loss: 0.0366 - accuracy: 0.9892\n",
            "Epoch 51/80\n",
            "418/418 [==============================] - 4s 8ms/step - loss: 0.0352 - accuracy: 0.9896\n",
            "Epoch 52/80\n",
            "418/418 [==============================] - 4s 9ms/step - loss: 0.0340 - accuracy: 0.9901\n",
            "Epoch 53/80\n",
            "418/418 [==============================] - 3s 8ms/step - loss: 0.0341 - accuracy: 0.9900\n",
            "Epoch 54/80\n",
            "418/418 [==============================] - 4s 8ms/step - loss: 0.0320 - accuracy: 0.9904\n",
            "Epoch 55/80\n",
            "418/418 [==============================] - 4s 8ms/step - loss: 0.0315 - accuracy: 0.9905\n",
            "Epoch 56/80\n",
            "418/418 [==============================] - 3s 8ms/step - loss: 0.0308 - accuracy: 0.9907\n",
            "Epoch 57/80\n",
            "418/418 [==============================] - 3s 8ms/step - loss: 0.0294 - accuracy: 0.9911\n",
            "Epoch 58/80\n",
            "418/418 [==============================] - 4s 9ms/step - loss: 0.0288 - accuracy: 0.9917\n",
            "Epoch 59/80\n",
            "418/418 [==============================] - 4s 8ms/step - loss: 0.0283 - accuracy: 0.9917\n",
            "Epoch 60/80\n",
            "418/418 [==============================] - 3s 8ms/step - loss: 0.0275 - accuracy: 0.9916\n",
            "Epoch 61/80\n",
            "418/418 [==============================] - 3s 8ms/step - loss: 0.0268 - accuracy: 0.9918\n",
            "Epoch 62/80\n",
            "418/418 [==============================] - 4s 8ms/step - loss: 0.0259 - accuracy: 0.9924\n",
            "Epoch 63/80\n",
            "418/418 [==============================] - 4s 8ms/step - loss: 0.0260 - accuracy: 0.9923\n",
            "Epoch 64/80\n",
            "418/418 [==============================] - 4s 9ms/step - loss: 0.0253 - accuracy: 0.9926\n",
            "Epoch 65/80\n",
            "418/418 [==============================] - 4s 8ms/step - loss: 0.0247 - accuracy: 0.9927\n",
            "Epoch 66/80\n",
            "418/418 [==============================] - 3s 8ms/step - loss: 0.0242 - accuracy: 0.9929\n",
            "Epoch 67/80\n",
            "418/418 [==============================] - 4s 8ms/step - loss: 0.0235 - accuracy: 0.9930\n",
            "Epoch 68/80\n",
            "418/418 [==============================] - 4s 9ms/step - loss: 0.0237 - accuracy: 0.9929\n",
            "Epoch 69/80\n",
            "418/418 [==============================] - 3s 8ms/step - loss: 0.0227 - accuracy: 0.9933\n",
            "Epoch 70/80\n",
            "418/418 [==============================] - 3s 8ms/step - loss: 0.0228 - accuracy: 0.9933\n",
            "Epoch 71/80\n",
            "418/418 [==============================] - 3s 8ms/step - loss: 0.0226 - accuracy: 0.9932\n",
            "Epoch 72/80\n",
            "418/418 [==============================] - 3s 8ms/step - loss: 0.0224 - accuracy: 0.9934\n",
            "Epoch 73/80\n",
            "418/418 [==============================] - 4s 8ms/step - loss: 0.0208 - accuracy: 0.9939\n",
            "Epoch 74/80\n",
            "418/418 [==============================] - 3s 8ms/step - loss: 0.0206 - accuracy: 0.9939\n",
            "Epoch 75/80\n",
            "418/418 [==============================] - 4s 9ms/step - loss: 0.0211 - accuracy: 0.9938\n",
            "Epoch 76/80\n",
            "418/418 [==============================] - 3s 8ms/step - loss: 0.0211 - accuracy: 0.9937\n",
            "Epoch 77/80\n",
            "418/418 [==============================] - 3s 8ms/step - loss: 0.0209 - accuracy: 0.9938\n",
            "Epoch 78/80\n",
            "418/418 [==============================] - 3s 8ms/step - loss: 0.0199 - accuracy: 0.9942\n",
            "Epoch 79/80\n",
            "418/418 [==============================] - 3s 8ms/step - loss: 0.0198 - accuracy: 0.9938\n",
            "Epoch 80/80\n",
            "418/418 [==============================] - 3s 8ms/step - loss: 0.0189 - accuracy: 0.9944\n"
          ],
          "name": "stdout"
        }
      ]
    },
    {
      "cell_type": "code",
      "metadata": {
        "id": "X-_X3GP-cR6h",
        "outputId": "bb46763a-6369-4c95-fcc8-39c097404674",
        "colab": {
          "base_uri": "https://localhost:8080/",
          "height": 265
        }
      },
      "source": [
        "plt.plot(history.history['loss'])\n",
        "plt.plot(history.history['accuracy'])\n",
        "plt.legend(['Loss', 'Acc'])\n",
        "plt.show()"
      ],
      "execution_count": null,
      "outputs": [
        {
          "output_type": "display_data",
          "data": {
            "image/png": "[encoded data removed]",
            "text/plain": [
              "<Figure size 432x288 with 1 Axes>"
            ]
          },
          "metadata": {
            "tags": [],
            "needs_background": "light"
          }
        }
      ]
    },
    {
      "cell_type": "code",
      "metadata": {
        "id": "ytWwI4WDBiZC",
        "outputId": "9947921b-3d48-458a-deaf-4f65b3a524d0",
        "colab": {
          "base_uri": "https://localhost:8080/"
        }
      },
      "source": [
        "model.save('typo-correction')"
      ],
      "execution_count": null,
      "outputs": [
        {
          "output_type": "stream",
          "text": [
            "INFO:tensorflow:Assets written to: typo-correction/assets\n"
          ],
          "name": "stdout"
        }
      ]
    },
    {
      "cell_type": "code",
      "metadata": {
        "id": "FGi-2Pt8s16z",
        "outputId": "1e0cb3ff-6b87-45f5-d8dd-95ebad705ecd",
        "colab": {
          "base_uri": "https://localhost:8080/"
        }
      },
      "source": [
        "!zip -r typo-correction-ver6.zip typo-correction/"
      ],
      "execution_count": null,
      "outputs": [
        {
          "output_type": "stream",
          "text": [
            "  adding: typo-correction/ (stored 0%)\n",
            "  adding: typo-correction/saved_model.pb (deflated 90%)\n",
            "  adding: typo-correction/variables/ (stored 0%)\n",
            "  adding: typo-correction/variables/variables.data-00000-of-00001 (deflated 8%)\n",
            "  adding: typo-correction/variables/variables.index (deflated 66%)\n",
            "  adding: typo-correction/assets/ (stored 0%)\n"
          ],
          "name": "stdout"
        }
      ]
    },
    {
      "cell_type": "code",
      "metadata": {
        "id": "bAcSE5a2YE8l"
      },
      "source": [
        "class SpellCheckModule:\n",
        "  def __init__(self, model, typo_char_map, real_word_char_map, num_encoder_tokens, num_decoder_tokens, encoder_seq_lengths, decoder_seq_lengths):\n",
        "    encoder_inputs = model.input[0]  # input_1\n",
        "    encoder_lstm_1 = model.layers[1] # lstm_encoder_1\n",
        "    encoder_dropout = model.layers[2]\n",
        "    encoder_lstm_2 = model.layers[4] # lstm_encoder_2\n",
        "\n",
        "    encoder_lstm_1_out = encoder_dropout(encoder_lstm_1(encoder_inputs))\n",
        "    encoder_lstm_2_out, state_h_enc, state_c_enc = encoder_lstm_2(encoder_lstm_1_out)\n",
        "    encoder_states = [state_h_enc, state_c_enc]\n",
        "    self.encoder_model = Model(encoder_inputs, encoder_states)\n",
        "\n",
        "    decoder_inputs = model.input[1]  # input_2\n",
        "    decoder_state_input_h = Input(shape=(200,), name=\"input_dec_h\")\n",
        "    decoder_state_input_c = Input(shape=(200,), name=\"input_dec_c\")\n",
        "    decoder_states_inputs = [decoder_state_input_h, decoder_state_input_c]\n",
        "    decoder_lstm = model.layers[5]\n",
        "    decoder_outputs, state_h_dec, state_c_dec = decoder_lstm(\n",
        "        decoder_inputs, initial_state=decoder_states_inputs\n",
        "    )\n",
        "    decoder_states = [state_h_dec, state_c_dec]\n",
        "    decoder_dense = model.layers[6]\n",
        "    decoder_outputs = decoder_dense(decoder_outputs)\n",
        "    self.decoder_model = Model(\n",
        "        [decoder_inputs] + decoder_states_inputs, [decoder_outputs] + decoder_states\n",
        "    )\n",
        "\n",
        "    self.typo_char_map = typo_char_map\n",
        "    self.real_word_char_map = real_word_char_map\n",
        "\n",
        "    self.num_encoder_tokens = num_encoder_tokens\n",
        "    self.encoder_seq_lengths = encoder_seq_lengths\n",
        "    self.num_decoder_tokens = num_decoder_tokens\n",
        "    self.decoder_seq_lengths = decoder_seq_lengths\n",
        "    \n",
        "    self.reverse_input_char_index = dict((i, char) for char, i in typo_char_map.items())\n",
        "    self.reverse_target_char_index = dict((i, char) for char, i in real_word_char_map.items())\n",
        "\n",
        "  def _fix_word(self, word_mat):\n",
        "    states_value = self.encoder_model.predict(word_mat)\n",
        "\n",
        "    target_seq = np.zeros((1, 1, self.num_decoder_tokens))\n",
        "    target_seq[0, 0, self.real_word_char_map[\"\\t\"]] = 1.0\n",
        "\n",
        "    stop_condition = False\n",
        "    decoded_sentence = \"\"\n",
        "    while not stop_condition:\n",
        "      output_tokens, h, c = self.decoder_model.predict([target_seq] + states_value)\n",
        "\n",
        "      sampled_token_index = np.argmax(output_tokens[0, -1, :])\n",
        "      sampled_char = self.reverse_target_char_index[sampled_token_index]\n",
        "      decoded_sentence += sampled_char\n",
        "\n",
        "      if sampled_char == \"\\n\" or len(decoded_sentence) > self.decoder_seq_lengths:\n",
        "        stop_condition = True\n",
        "\n",
        "      target_seq = np.zeros((1, 1, self.num_decoder_tokens))\n",
        "      target_seq[0, 0, sampled_token_index] = 1.0\n",
        "\n",
        "      states_value = [h, c]\n",
        "    return decoded_sentence\n",
        "\n",
        "  def fix_sentence(self, sentence):\n",
        "    s = [w.lower() for w in sentence.split(' ')]\n",
        "    input_seq = np.zeros((len(s), self.encoder_seq_lengths, self.num_encoder_tokens), dtype=\"float32\")\n",
        "    pred = []\n",
        "    for w, word in enumerate(s):\n",
        "      if (word.replace('-','').replace('/','').isdigit()):\n",
        "        pred.append(word)\n",
        "      else:\n",
        "        unknown_char = 0\n",
        "        iter = 0\n",
        "        for i, char in enumerate(word):\n",
        "          if (char in self.typo_char_map):\n",
        "            input_seq[w, iter, self.typo_char_map[char]] = 1.0\n",
        "            iter += 1\n",
        "          else:\n",
        "            unknown_char += 1\n",
        "        input_seq[w, iter+1:, self.typo_char_map[' ']] = 1.0\n",
        "        \n",
        "        if (float(unknown_char)/len(word) > 0.5):\n",
        "          pred.append(word)\n",
        "        else:\n",
        "          pred.append(self._fix_word(input_seq[w:w+1])[:-1])\n",
        "    return ' '.join(pred)"
      ],
      "execution_count": 9,
      "outputs": []
    },
    {
      "cell_type": "code",
      "metadata": {
        "id": "DvqR7L5NbI3n"
      },
      "source": [
        "spellChecker = SpellCheckModule(\n",
        "    model,\n",
        "    typo_char_map, real_word_char_map,\n",
        "    num_encoder_tokens, num_decoder_tokens,\n",
        "    encoder_seq_lengths, decoder_seq_lengths\n",
        ")"
      ],
      "execution_count": null,
      "outputs": []
    },
    {
      "cell_type": "code",
      "metadata": {
        "id": "bI5vsuPRbirB",
        "outputId": "b4a4d646-1571-4c16-ce2e-60a246535dd2",
        "colab": {
          "base_uri": "https://localhost:8080/"
        }
      },
      "source": [
        "print(spellChecker.fix_sentence('ak maw cuti bsk'))\n",
        "print(spellChecker.fix_sentence('absen bsk sampe lusa'))\n",
        "print(spellChecker.fix_sentence('thx y gan'))\n",
        "print(spellChecker.fix_sentence('aku cuti 12-13 des'))\n",
        "print(spellChecker.fix_sentence('urg bsk absen'))\n",
        "print(spellChecker.fix_sentence('urang absen'))\n",
        "print(spellChecker.fix_sentence('absence tgl 11 november'))\n",
        "print(spellChecker.fix_sentence('barbara'))"
      ],
      "execution_count": null,
      "outputs": [
        {
          "output_type": "stream",
          "text": [
            "aku mau cuti besok\n",
            "absen besok sampai lusa\n",
            "terima kasih iya gang\n",
            "aku cuti 12-13 desember\n",
            "saya besok absen\n",
            "saya absen\n",
            "absen tanggal 11 november\n",
            "ikuyo\n"
          ],
          "name": "stdout"
        }
      ]
    },
    {
      "cell_type": "code",
      "metadata": {
        "id": "jBMhMelqRDOG",
        "outputId": "92267b3b-09dd-4ed3-8640-f9b99f1251a2",
        "colab": {
          "base_uri": "https://localhost:8080/"
        }
      },
      "source": [
        "print(spellChecker.fix_sentence('thankyou barbare'))"
      ],
      "execution_count": null,
      "outputs": [
        {
          "output_type": "stream",
          "text": [
            "terima kasih barekar\n"
          ],
          "name": "stdout"
        }
      ]
    },
    {
      "cell_type": "code",
      "metadata": {
        "id": "ryYf9FgoyTQ9"
      },
      "source": [
        "import pickle"
      ],
      "execution_count": 4,
      "outputs": []
    },
    {
      "cell_type": "code",
      "metadata": {
        "id": "soKhQc106Rwk"
      },
      "source": [
        "pickle.dump(\n",
        "    {\n",
        "      'typo_char_map': typo_char_map,\n",
        "      'real_word_char_map': real_word_char_map,\n",
        "      'num_encoder_tokens': num_encoder_tokens,\n",
        "      'num_decoder_tokens': num_decoder_tokens,\n",
        "      'encoder_seq_lengths': encoder_seq_lengths,\n",
        "      'decoder_seq_lengths': decoder_seq_lengths,\n",
        "    }, open('data.json', 'wb')\n",
        ")"
      ],
      "execution_count": null,
      "outputs": []
    },
    {
      "cell_type": "markdown",
      "metadata": {
        "id": "aJUNtmJq7xy3"
      },
      "source": [
        "# Load Saved model and data"
      ]
    },
    {
      "cell_type": "code",
      "metadata": {
        "id": "yxUlabBK3h4B",
        "outputId": "99818dff-2d46-46eb-b4a7-fb680ea0fbfb",
        "colab": {
          "base_uri": "https://localhost:8080/"
        }
      },
      "source": [
        "!unzip typo-correction.zip -d ."
      ],
      "execution_count": 7,
      "outputs": [
        {
          "output_type": "stream",
          "text": [
            "Archive:  typo-correction.zip\n",
            "   creating: ./typo-correction/\n",
            "  inflating: ./typo-correction/saved_model.pb  \n",
            "   creating: ./typo-correction/variables/\n",
            "  inflating: ./typo-correction/variables/variables.data-00000-of-00001  \n",
            "  inflating: ./typo-correction/variables/variables.index  \n",
            "   creating: ./typo-correction/assets/\n"
          ],
          "name": "stdout"
        }
      ]
    },
    {
      "cell_type": "code",
      "metadata": {
        "id": "EjM1845R7-f2"
      },
      "source": [
        "from tensorflow.keras.models import load_model"
      ],
      "execution_count": 2,
      "outputs": []
    },
    {
      "cell_type": "code",
      "metadata": {
        "id": "Ww1hEW5o6_fs"
      },
      "source": [
        "saved_data = pickle.load(open('data.json', 'rb'))"
      ],
      "execution_count": 5,
      "outputs": []
    },
    {
      "cell_type": "code",
      "metadata": {
        "id": "tDI9oI-Q7nMv"
      },
      "source": [
        "saved_model = load_model('typo-correction')"
      ],
      "execution_count": 8,
      "outputs": []
    },
    {
      "cell_type": "code",
      "metadata": {
        "id": "XnnbvDeQ8BUh"
      },
      "source": [
        "loadedSpellChecker = SpellCheckModule(saved_model,\n",
        "                                      saved_data['typo_char_map'], saved_data['real_word_char_map'],\n",
        "                                      saved_data['num_encoder_tokens'], saved_data['num_decoder_tokens'],\n",
        "                                      saved_data['encoder_seq_lengths'], saved_data['decoder_seq_lengths'])"
      ],
      "execution_count": 12,
      "outputs": []
    },
    {
      "cell_type": "code",
      "metadata": {
        "id": "qzyxBP2D8Tup",
        "outputId": "3596d2a1-7342-49aa-ce4a-4699ceedac83",
        "colab": {
          "base_uri": "https://localhost:8080/"
        }
      },
      "source": [
        "print(loadedSpellChecker.fix_sentence('ak maw cuti bsk'))\n",
        "print(loadedSpellChecker.fix_sentence('absen bsk sampe lusa'))\n",
        "print(loadedSpellChecker.fix_sentence('thx y gan'))\n",
        "print(loadedSpellChecker.fix_sentence('aku cuti 12-13 des'))\n",
        "print(loadedSpellChecker.fix_sentence('urg bsk absen'))\n",
        "print(loadedSpellChecker.fix_sentence('urang absen'))\n",
        "print(loadedSpellChecker.fix_sentence('absence tgl 11 november'))"
      ],
      "execution_count": 14,
      "outputs": [
        {
          "output_type": "stream",
          "text": [
            "aku mau cuti besok\n",
            "absen besok sampai lusa\n",
            "terima kasih iya gang\n",
            "aku cuti 12-13 desember\n",
            "saya besok absen\n",
            "saya absen\n",
            "absen tanggal 11 november\n"
          ],
          "name": "stdout"
        }
      ]
    },
    {
      "cell_type": "code",
      "metadata": {
        "id": "Qp73YfZz_Goj"
      },
      "source": [
        ""
      ],
      "execution_count": null,
      "outputs": []
    }
  ]
}