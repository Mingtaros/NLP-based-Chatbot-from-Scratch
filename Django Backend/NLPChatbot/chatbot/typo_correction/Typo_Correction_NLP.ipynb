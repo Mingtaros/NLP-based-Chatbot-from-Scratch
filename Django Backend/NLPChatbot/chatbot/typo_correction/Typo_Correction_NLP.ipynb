{
 "cells": [
  {
   "cell_type": "code",
   "execution_count": 1,
   "metadata": {
    "id": "1CRu5gu_xe8A"
   },
   "outputs": [],
   "source": [
    "import pandas as pd\n",
    "import numpy as np\n",
    "import seaborn as sns\n",
    "import matplotlib.pyplot as plt\n",
    "import re\n",
    "import random"
   ]
  },
  {
   "cell_type": "markdown",
   "metadata": {
    "id": "IMoy2sUGKb6P"
   },
   "source": [
    "# Dataset Loading"
   ]
  },
  {
   "cell_type": "markdown",
   "metadata": {
    "id": "d5g9rtFXKKz3"
   },
   "source": [
    "Dataset didapatkan dari - https://github.com/kirralabs/Indonesian-Word-Tagged & ditambahkan beberapa kata baru"
   ]
  },
  {
   "cell_type": "code",
   "execution_count": 3,
   "metadata": {
    "id": "U1pEKjaSRC1p"
   },
   "outputs": [],
   "source": [
    "word_slang = pd.read_csv('word-slang.txt', header=None)"
   ]
  },
  {
   "cell_type": "code",
   "execution_count": 4,
   "metadata": {
    "colab": {
     "base_uri": "https://localhost:8080/",
     "height": 204
    },
    "id": "KMisZvGhjiZX",
    "outputId": "ece982b9-a393-47ce-823d-f9691a9ba5fc"
   },
   "outputs": [
    {
     "data": {
      "text/html": [
       "<div>\n",
       "<style scoped>\n",
       "    .dataframe tbody tr th:only-of-type {\n",
       "        vertical-align: middle;\n",
       "    }\n",
       "\n",
       "    .dataframe tbody tr th {\n",
       "        vertical-align: top;\n",
       "    }\n",
       "\n",
       "    .dataframe thead th {\n",
       "        text-align: right;\n",
       "    }\n",
       "</style>\n",
       "<table border=\"1\" class=\"dataframe\">\n",
       "  <thead>\n",
       "    <tr style=\"text-align: right;\">\n",
       "      <th></th>\n",
       "      <th>0</th>\n",
       "      <th>1</th>\n",
       "    </tr>\n",
       "  </thead>\n",
       "  <tbody>\n",
       "    <tr>\n",
       "      <th>0</th>\n",
       "      <td>absen</td>\n",
       "      <td>absen</td>\n",
       "    </tr>\n",
       "    <tr>\n",
       "      <th>1</th>\n",
       "      <td>absn</td>\n",
       "      <td>absen</td>\n",
       "    </tr>\n",
       "    <tr>\n",
       "      <th>2</th>\n",
       "      <td>lusa</td>\n",
       "      <td>lusa</td>\n",
       "    </tr>\n",
       "    <tr>\n",
       "      <th>3</th>\n",
       "      <td>usa</td>\n",
       "      <td>lusa</td>\n",
       "    </tr>\n",
       "    <tr>\n",
       "      <th>4</th>\n",
       "      <td>stu</td>\n",
       "      <td>satu</td>\n",
       "    </tr>\n",
       "  </tbody>\n",
       "</table>\n",
       "</div>"
      ],
      "text/plain": [
       "       0      1\n",
       "0  absen  absen\n",
       "1   absn  absen\n",
       "2   lusa   lusa\n",
       "3    usa   lusa\n",
       "4    stu   satu"
      ]
     },
     "execution_count": 4,
     "metadata": {},
     "output_type": "execute_result"
    }
   ],
   "source": [
    "word_slang.head()"
   ]
  },
  {
   "cell_type": "markdown",
   "metadata": {
    "id": "SblMQp8_Kd2t"
   },
   "source": [
    "# Dataset Creation"
   ]
  },
  {
   "cell_type": "code",
   "execution_count": 5,
   "metadata": {
    "id": "LC9m_vrwO8F8"
   },
   "outputs": [],
   "source": [
    "random.seed(13517013)\n",
    "\n",
    "data = []\n",
    "\n",
    "max_typo_len = 0\n",
    "max_real_word_len = 0\n",
    "\n",
    "typo_char = set()\n",
    "real_word_char = set()\n",
    "\n",
    "max_edit = 1\n",
    "max_len = 12\n",
    "min_len = 3\n",
    "\n",
    "real_word_char.add('\\t')\n",
    "real_word_char.add('\\n')"
   ]
  },
  {
   "cell_type": "code",
   "execution_count": 6,
   "metadata": {
    "id": "EyWQNxetQM3i"
   },
   "outputs": [],
   "source": [
    "for index in range(len(word_slang)):\n",
    "  slang = word_slang.iloc[index, 0].lower()\n",
    "  arti = word_slang.iloc[index, 1].lower()\n",
    "\n",
    "  if(len(slang) <= max_len and len(arti) <= max_len):\n",
    "    max_typo_len = max(len(slang), max_typo_len)\n",
    "    max_real_word_len = max(len(arti)+2, max_real_word_len)\n",
    "\n",
    "    for char in slang:\n",
    "      if char not in typo_char:\n",
    "        typo_char.add(char)\n",
    "    for char in arti:\n",
    "      if char not in real_word_char:\n",
    "        real_word_char.add(char)\n",
    "    \n",
    "    data.append((slang, '\\t' + arti + '\\n'))"
   ]
  },
  {
   "cell_type": "code",
   "execution_count": 7,
   "metadata": {
    "id": "0RPIUlqGX30R"
   },
   "outputs": [],
   "source": [
    "typo_char = sorted(list(typo_char))\n",
    "real_word_char = sorted(list(real_word_char))\n",
    "\n",
    "typo_char_map = dict((c, i) for i, c in enumerate(typo_char))\n",
    "real_word_char_map = dict((c, i) for i, c in enumerate(real_word_char))\n",
    "\n",
    "num_encoder_tokens = len(typo_char)\n",
    "num_decoder_tokens = len(real_word_char)\n",
    "\n",
    "encoder_seq_lengths = max_typo_len\n",
    "decoder_seq_lengths = max_real_word_len"
   ]
  },
  {
   "cell_type": "code",
   "execution_count": 8,
   "metadata": {
    "colab": {
     "base_uri": "https://localhost:8080/"
    },
    "id": "HU1Pwt6_WfvI",
    "outputId": "19697490-0dc8-4143-e5a3-6e5ddf14afbb"
   },
   "outputs": [
    {
     "name": "stdout",
     "output_type": "stream",
     "text": [
      "num_encoder_tokens:  40\n",
      "num_decoder_tokens:  38\n",
      "encoder_seq_lengths:  12\n",
      "decoder_seq_lengths:  14\n"
     ]
    }
   ],
   "source": [
    "print('num_encoder_tokens: ', num_encoder_tokens)\n",
    "print('num_decoder_tokens: ', num_decoder_tokens)\n",
    "print('encoder_seq_lengths: ', encoder_seq_lengths)\n",
    "print('decoder_seq_lengths: ', decoder_seq_lengths)"
   ]
  },
  {
   "cell_type": "code",
   "execution_count": 9,
   "metadata": {
    "colab": {
     "base_uri": "https://localhost:8080/"
    },
    "id": "8U7Mg6OlqbOy",
    "outputId": "fa368371-49e3-450f-d002-690285f6c00a"
   },
   "outputs": [
    {
     "data": {
      "text/plain": [
       "{' ': 0,\n",
       " '-': 1,\n",
       " '/': 2,\n",
       " '0': 3,\n",
       " '1': 4,\n",
       " '2': 5,\n",
       " '3': 6,\n",
       " '4': 7,\n",
       " '5': 8,\n",
       " '6': 9,\n",
       " '7': 10,\n",
       " '8': 11,\n",
       " '9': 12,\n",
       " '@': 13,\n",
       " 'a': 14,\n",
       " 'b': 15,\n",
       " 'c': 16,\n",
       " 'd': 17,\n",
       " 'e': 18,\n",
       " 'f': 19,\n",
       " 'g': 20,\n",
       " 'h': 21,\n",
       " 'i': 22,\n",
       " 'j': 23,\n",
       " 'k': 24,\n",
       " 'l': 25,\n",
       " 'm': 26,\n",
       " 'n': 27,\n",
       " 'o': 28,\n",
       " 'p': 29,\n",
       " 'q': 30,\n",
       " 'r': 31,\n",
       " 's': 32,\n",
       " 't': 33,\n",
       " 'u': 34,\n",
       " 'v': 35,\n",
       " 'w': 36,\n",
       " 'x': 37,\n",
       " 'y': 38,\n",
       " 'z': 39}"
      ]
     },
     "execution_count": 9,
     "metadata": {},
     "output_type": "execute_result"
    }
   ],
   "source": [
    "typo_char_map"
   ]
  },
  {
   "cell_type": "code",
   "execution_count": 10,
   "metadata": {
    "colab": {
     "base_uri": "https://localhost:8080/"
    },
    "id": "1gbdKVzAqfxG",
    "outputId": "c108d84a-0018-4d6f-c5da-690db1107660"
   },
   "outputs": [
    {
     "data": {
      "text/plain": [
       "{'\\t': 0,\n",
       " '\\n': 1,\n",
       " ' ': 2,\n",
       " '0': 3,\n",
       " '1': 4,\n",
       " '2': 5,\n",
       " '3': 6,\n",
       " '4': 7,\n",
       " '5': 8,\n",
       " '6': 9,\n",
       " '8': 10,\n",
       " '9': 11,\n",
       " 'a': 12,\n",
       " 'b': 13,\n",
       " 'c': 14,\n",
       " 'd': 15,\n",
       " 'e': 16,\n",
       " 'f': 17,\n",
       " 'g': 18,\n",
       " 'h': 19,\n",
       " 'i': 20,\n",
       " 'j': 21,\n",
       " 'k': 22,\n",
       " 'l': 23,\n",
       " 'm': 24,\n",
       " 'n': 25,\n",
       " 'o': 26,\n",
       " 'p': 27,\n",
       " 'q': 28,\n",
       " 'r': 29,\n",
       " 's': 30,\n",
       " 't': 31,\n",
       " 'u': 32,\n",
       " 'v': 33,\n",
       " 'w': 34,\n",
       " 'x': 35,\n",
       " 'y': 36,\n",
       " 'z': 37}"
      ]
     },
     "execution_count": 10,
     "metadata": {},
     "output_type": "execute_result"
    }
   ],
   "source": [
    "real_word_char_map"
   ]
  },
  {
   "cell_type": "code",
   "execution_count": 11,
   "metadata": {
    "id": "B-doi-0KSejZ"
   },
   "outputs": [],
   "source": [
    "df = pd.DataFrame(data, columns=['Typo', 'RealWord']).drop_duplicates(['Typo'], keep='first')"
   ]
  },
  {
   "cell_type": "code",
   "execution_count": 12,
   "metadata": {
    "colab": {
     "base_uri": "https://localhost:8080/"
    },
    "id": "ngLuWY8_Sqp0",
    "outputId": "66f29a1b-4e9c-4887-baea-c1c0daba5115"
   },
   "outputs": [
    {
     "name": "stdout",
     "output_type": "stream",
     "text": [
      "        Typo      RealWord\n",
      "0      absen     \\tabsen\\n\n",
      "1       absn     \\tabsen\\n\n",
      "2       lusa      \\tlusa\\n\n",
      "3        usa      \\tlusa\\n\n",
      "4        stu      \\tsatu\\n\n",
      "5        dua       \\tdua\\n\n",
      "6       tiga      \\ttiga\\n\n",
      "7        tga      \\ttiga\\n\n",
      "8      empat     \\tempat\\n\n",
      "9       empt     \\tempat\\n\n",
      "10      lima      \\tlima\\n\n",
      "11       ima      \\tlima\\n\n",
      "12      enam      \\tenam\\n\n",
      "13       nam      \\tenam\\n\n",
      "14     tujuh     \\ttujuh\\n\n",
      "15       tjh     \\ttujuh\\n\n",
      "16   delapan   \\tdelapan\\n\n",
      "17      dlpn   \\tdelapan\\n\n",
      "18  sembilan  \\tsembilan\\n\n",
      "19     smbln  \\tsembilan\\n\n"
     ]
    }
   ],
   "source": [
    "print(df[:20])"
   ]
  },
  {
   "cell_type": "code",
   "execution_count": 13,
   "metadata": {
    "colab": {
     "base_uri": "https://localhost:8080/",
     "height": 173
    },
    "id": "pm66GOatTtKa",
    "outputId": "c5e75146-18e5-41f9-8d1e-5694f2179d3b"
   },
   "outputs": [
    {
     "data": {
      "text/html": [
       "<div>\n",
       "<style scoped>\n",
       "    .dataframe tbody tr th:only-of-type {\n",
       "        vertical-align: middle;\n",
       "    }\n",
       "\n",
       "    .dataframe tbody tr th {\n",
       "        vertical-align: top;\n",
       "    }\n",
       "\n",
       "    .dataframe thead th {\n",
       "        text-align: right;\n",
       "    }\n",
       "</style>\n",
       "<table border=\"1\" class=\"dataframe\">\n",
       "  <thead>\n",
       "    <tr style=\"text-align: right;\">\n",
       "      <th></th>\n",
       "      <th>Typo</th>\n",
       "      <th>RealWord</th>\n",
       "    </tr>\n",
       "  </thead>\n",
       "  <tbody>\n",
       "    <tr>\n",
       "      <th>count</th>\n",
       "      <td>13339</td>\n",
       "      <td>13339</td>\n",
       "    </tr>\n",
       "    <tr>\n",
       "      <th>unique</th>\n",
       "      <td>13339</td>\n",
       "      <td>6783</td>\n",
       "    </tr>\n",
       "    <tr>\n",
       "      <th>top</th>\n",
       "      <td>asliserunya</td>\n",
       "      <td>\\tbanget\\n</td>\n",
       "    </tr>\n",
       "    <tr>\n",
       "      <th>freq</th>\n",
       "      <td>1</td>\n",
       "      <td>91</td>\n",
       "    </tr>\n",
       "  </tbody>\n",
       "</table>\n",
       "</div>"
      ],
      "text/plain": [
       "               Typo    RealWord\n",
       "count         13339       13339\n",
       "unique        13339        6783\n",
       "top     asliserunya  \\tbanget\\n\n",
       "freq              1          91"
      ]
     },
     "execution_count": 13,
     "metadata": {},
     "output_type": "execute_result"
    }
   ],
   "source": [
    "df.describe()"
   ]
  },
  {
   "cell_type": "code",
   "execution_count": 14,
   "metadata": {
    "id": "bPku9zu9ZF5i"
   },
   "outputs": [],
   "source": [
    "encoder_input_data = np.zeros((len(df), encoder_seq_lengths, num_encoder_tokens), dtype=\"float32\")\n",
    "decoder_input_data = np.zeros((len(df), decoder_seq_lengths, num_decoder_tokens), dtype=\"float32\")\n",
    "decoder_target_data = np.zeros((len(df), decoder_seq_lengths, num_decoder_tokens), dtype=\"float32\")"
   ]
  },
  {
   "cell_type": "code",
   "execution_count": 15,
   "metadata": {
    "colab": {
     "base_uri": "https://localhost:8080/"
    },
    "id": "uDvENb50aO1_",
    "outputId": "605403f7-ec4a-4ff2-bab3-759c320d125f"
   },
   "outputs": [
    {
     "name": "stdout",
     "output_type": "stream",
     "text": [
      "0\n",
      "5000\n",
      "10000\n"
     ]
    }
   ],
   "source": [
    "for index in range(len(df)):\n",
    "  if(index % 5000 == 0):\n",
    "    print(index)\n",
    "  for i, char in enumerate(df.iloc[index, 0]):\n",
    "    encoder_input_data[index, i, typo_char_map[char]] = 1.0\n",
    "  # Anggap sisa dari row['Typo'] adalah spasi\n",
    "  encoder_input_data[index, i+1:, typo_char_map[' ']] = 1.0\n",
    "  \n",
    "  for i, char in enumerate(df.iloc[index, 1]):\n",
    "    decoder_input_data[index, i, real_word_char_map[char]] = 1.0\n",
    "    if(i > 0):\n",
    "      decoder_target_data[index, i-1, real_word_char_map[char]] = 1.0\n",
    "  # Anggap sisa dari row['RealWord'] adalah spasi\n",
    "  decoder_input_data[index, i+1:, real_word_char_map[' ']] = 1.0\n",
    "  decoder_target_data[index, i:, real_word_char_map[' ']] = 1.0"
   ]
  },
  {
   "cell_type": "markdown",
   "metadata": {
    "id": "2HRO3w3fV3GK"
   },
   "source": [
    "\n",
    "# Training"
   ]
  },
  {
   "cell_type": "code",
   "execution_count": 16,
   "metadata": {
    "id": "T57y9_UiUuMW"
   },
   "outputs": [],
   "source": [
    "from tensorflow.keras.models import Model\n",
    "from tensorflow.keras.layers import Dense, LSTM, Input, Dropout"
   ]
  },
  {
   "cell_type": "code",
   "execution_count": 17,
   "metadata": {
    "id": "iqPfv_TgY1y2"
   },
   "outputs": [],
   "source": [
    "encoder_inputs = Input(shape=(None, num_encoder_tokens))\n",
    "encoder_lstm_1 = LSTM(100, return_sequences=True)\n",
    "encoder_dropout_1 = Dropout(0.4)\n",
    "encoder_lstm_2 = LSTM(100, return_state=True)\n",
    "\n",
    "encoder_outputs, state_h, state_c = encoder_lstm_2(encoder_dropout_1(encoder_lstm_1(encoder_inputs)))\n",
    "\n",
    "encoder_states = [state_h, state_c]\n",
    "\n",
    "decoder_inputs = Input(shape=(None, num_decoder_tokens))\n",
    "\n",
    "decoder_lstm = LSTM(100, return_sequences=True, return_state=True)\n",
    "decoder_outputs, _, _ = decoder_lstm(decoder_inputs, initial_state=encoder_states)\n",
    "decoder_dense = Dense(num_decoder_tokens, activation=\"softmax\")\n",
    "decoder_outputs = decoder_dense(decoder_outputs)\n",
    "\n",
    "model = Model([encoder_inputs, decoder_inputs], decoder_outputs)"
   ]
  },
  {
   "cell_type": "code",
   "execution_count": 18,
   "metadata": {
    "colab": {
     "base_uri": "https://localhost:8080/"
    },
    "id": "5NhkuO_0BCq6",
    "outputId": "6a0219f6-a646-4fb2-d829-5aa2b2ff6fd7"
   },
   "outputs": [
    {
     "name": "stdout",
     "output_type": "stream",
     "text": [
      "Model: \"functional_1\"\n",
      "__________________________________________________________________________________________________\n",
      "Layer (type)                    Output Shape         Param #     Connected to                     \n",
      "==================================================================================================\n",
      "input_1 (InputLayer)            [(None, None, 40)]   0                                            \n",
      "__________________________________________________________________________________________________\n",
      "lstm (LSTM)                     (None, None, 100)    56400       input_1[0][0]                    \n",
      "__________________________________________________________________________________________________\n",
      "dropout (Dropout)               (None, None, 100)    0           lstm[0][0]                       \n",
      "__________________________________________________________________________________________________\n",
      "input_2 (InputLayer)            [(None, None, 38)]   0                                            \n",
      "__________________________________________________________________________________________________\n",
      "lstm_1 (LSTM)                   [(None, 100), (None, 80400       dropout[0][0]                    \n",
      "__________________________________________________________________________________________________\n",
      "lstm_2 (LSTM)                   [(None, None, 100),  55600       input_2[0][0]                    \n",
      "                                                                 lstm_1[0][1]                     \n",
      "                                                                 lstm_1[0][2]                     \n",
      "__________________________________________________________________________________________________\n",
      "dense (Dense)                   (None, None, 38)     3838        lstm_2[0][0]                     \n",
      "==================================================================================================\n",
      "Total params: 196,238\n",
      "Trainable params: 196,238\n",
      "Non-trainable params: 0\n",
      "__________________________________________________________________________________________________\n"
     ]
    }
   ],
   "source": [
    "model.summary()"
   ]
  },
  {
   "cell_type": "code",
   "execution_count": 19,
   "metadata": {
    "id": "Tz0lKlumBhrM"
   },
   "outputs": [],
   "source": [
    "model.compile(optimizer=\"rmsprop\", loss=\"categorical_crossentropy\", metrics=[\"accuracy\"])"
   ]
  },
  {
   "cell_type": "code",
   "execution_count": 20,
   "metadata": {
    "colab": {
     "base_uri": "https://localhost:8080/"
    },
    "id": "gZt__9YjBEUZ",
    "outputId": "6e77cc73-77d2-4ab8-8b89-ee84902facf8"
   },
   "outputs": [
    {
     "name": "stdout",
     "output_type": "stream",
     "text": [
      "Epoch 1/100\n",
      "417/417 [==============================] - 3s 6ms/step - loss: 1.5088 - accuracy: 0.5815\n",
      "Epoch 2/100\n",
      "417/417 [==============================] - 2s 6ms/step - loss: 0.9970 - accuracy: 0.7018\n",
      "Epoch 3/100\n",
      "417/417 [==============================] - 2s 6ms/step - loss: 0.8411 - accuracy: 0.7512\n",
      "Epoch 4/100\n",
      "417/417 [==============================] - 2s 6ms/step - loss: 0.7588 - accuracy: 0.7783\n",
      "Epoch 5/100\n",
      "417/417 [==============================] - 2s 6ms/step - loss: 0.7033 - accuracy: 0.7956\n",
      "Epoch 6/100\n",
      "417/417 [==============================] - 2s 6ms/step - loss: 0.6611 - accuracy: 0.8088\n",
      "Epoch 7/100\n",
      "417/417 [==============================] - 2s 6ms/step - loss: 0.6277 - accuracy: 0.8183\n",
      "Epoch 8/100\n",
      "417/417 [==============================] - 3s 6ms/step - loss: 0.6005 - accuracy: 0.8266\n",
      "Epoch 9/100\n",
      "417/417 [==============================] - 3s 6ms/step - loss: 0.5742 - accuracy: 0.8341\n",
      "Epoch 10/100\n",
      "417/417 [==============================] - 2s 6ms/step - loss: 0.5522 - accuracy: 0.8414\n",
      "Epoch 11/100\n",
      "417/417 [==============================] - 2s 6ms/step - loss: 0.5327 - accuracy: 0.8469\n",
      "Epoch 12/100\n",
      "417/417 [==============================] - 2s 6ms/step - loss: 0.5142 - accuracy: 0.8523\n",
      "Epoch 13/100\n",
      "417/417 [==============================] - 2s 6ms/step - loss: 0.4984 - accuracy: 0.8570\n",
      "Epoch 14/100\n",
      "417/417 [==============================] - 2s 6ms/step - loss: 0.4825 - accuracy: 0.8612\n",
      "Epoch 15/100\n",
      "417/417 [==============================] - 3s 6ms/step - loss: 0.4689 - accuracy: 0.8647\n",
      "Epoch 16/100\n",
      "417/417 [==============================] - 3s 6ms/step - loss: 0.4550 - accuracy: 0.8691\n",
      "Epoch 17/100\n",
      "417/417 [==============================] - 3s 6ms/step - loss: 0.4417 - accuracy: 0.8731\n",
      "Epoch 18/100\n",
      "417/417 [==============================] - 3s 6ms/step - loss: 0.4297 - accuracy: 0.8761\n",
      "Epoch 19/100\n",
      "417/417 [==============================] - 3s 6ms/step - loss: 0.4180 - accuracy: 0.8792\n",
      "Epoch 20/100\n",
      "417/417 [==============================] - 3s 6ms/step - loss: 0.4075 - accuracy: 0.8819\n",
      "Epoch 21/100\n",
      "417/417 [==============================] - 2s 6ms/step - loss: 0.3982 - accuracy: 0.8849\n",
      "Epoch 22/100\n",
      "417/417 [==============================] - 2s 6ms/step - loss: 0.3878 - accuracy: 0.8874\n",
      "Epoch 23/100\n",
      "417/417 [==============================] - 2s 6ms/step - loss: 0.3786 - accuracy: 0.8897\n",
      "Epoch 24/100\n",
      "417/417 [==============================] - 2s 6ms/step - loss: 0.3701 - accuracy: 0.8923\n",
      "Epoch 25/100\n",
      "417/417 [==============================] - 2s 6ms/step - loss: 0.3614 - accuracy: 0.8947\n",
      "Epoch 26/100\n",
      "417/417 [==============================] - 3s 6ms/step - loss: 0.3535 - accuracy: 0.8967\n",
      "Epoch 27/100\n",
      "417/417 [==============================] - 3s 6ms/step - loss: 0.3454 - accuracy: 0.8982\n",
      "Epoch 28/100\n",
      "417/417 [==============================] - 3s 6ms/step - loss: 0.3384 - accuracy: 0.8999\n",
      "Epoch 29/100\n",
      "417/417 [==============================] - 3s 6ms/step - loss: 0.3308 - accuracy: 0.9030\n",
      "Epoch 30/100\n",
      "417/417 [==============================] - 3s 6ms/step - loss: 0.3236 - accuracy: 0.9046\n",
      "Epoch 31/100\n",
      "417/417 [==============================] - 3s 6ms/step - loss: 0.3156 - accuracy: 0.9066\n",
      "Epoch 32/100\n",
      "417/417 [==============================] - 2s 6ms/step - loss: 0.3109 - accuracy: 0.9082\n",
      "Epoch 33/100\n",
      "417/417 [==============================] - 2s 6ms/step - loss: 0.3042 - accuracy: 0.9102\n",
      "Epoch 34/100\n",
      "417/417 [==============================] - 3s 6ms/step - loss: 0.2976 - accuracy: 0.9114\n",
      "Epoch 35/100\n",
      "417/417 [==============================] - 3s 6ms/step - loss: 0.2915 - accuracy: 0.9138\n",
      "Epoch 36/100\n",
      "417/417 [==============================] - 2s 6ms/step - loss: 0.2870 - accuracy: 0.9141\n",
      "Epoch 37/100\n",
      "417/417 [==============================] - 2s 6ms/step - loss: 0.2807 - accuracy: 0.9159\n",
      "Epoch 38/100\n",
      "417/417 [==============================] - 3s 6ms/step - loss: 0.2753 - accuracy: 0.9178\n",
      "Epoch 39/100\n",
      "417/417 [==============================] - 3s 6ms/step - loss: 0.2702 - accuracy: 0.9187\n",
      "Epoch 40/100\n",
      "417/417 [==============================] - 3s 6ms/step - loss: 0.2644 - accuracy: 0.9204\n",
      "Epoch 41/100\n",
      "417/417 [==============================] - 3s 6ms/step - loss: 0.2598 - accuracy: 0.9217\n",
      "Epoch 42/100\n",
      "417/417 [==============================] - 2s 6ms/step - loss: 0.2548 - accuracy: 0.9229\n",
      "Epoch 43/100\n",
      "417/417 [==============================] - 2s 6ms/step - loss: 0.2507 - accuracy: 0.9240\n",
      "Epoch 44/100\n",
      "417/417 [==============================] - 3s 6ms/step - loss: 0.2471 - accuracy: 0.9250\n",
      "Epoch 45/100\n",
      "417/417 [==============================] - 3s 6ms/step - loss: 0.2428 - accuracy: 0.9263\n",
      "Epoch 46/100\n",
      "417/417 [==============================] - 2s 6ms/step - loss: 0.2380 - accuracy: 0.9279\n",
      "Epoch 47/100\n",
      "417/417 [==============================] - 2s 6ms/step - loss: 0.2342 - accuracy: 0.9282\n",
      "Epoch 48/100\n",
      "417/417 [==============================] - 3s 6ms/step - loss: 0.2314 - accuracy: 0.9295\n",
      "Epoch 49/100\n",
      "417/417 [==============================] - 2s 6ms/step - loss: 0.2242 - accuracy: 0.9318\n",
      "Epoch 50/100\n",
      "417/417 [==============================] - 3s 7ms/step - loss: 0.2221 - accuracy: 0.9314\n",
      "Epoch 51/100\n",
      "417/417 [==============================] - 2s 6ms/step - loss: 0.2180 - accuracy: 0.9332\n",
      "Epoch 52/100\n",
      "417/417 [==============================] - 2s 6ms/step - loss: 0.2163 - accuracy: 0.9335\n",
      "Epoch 53/100\n",
      "417/417 [==============================] - 3s 6ms/step - loss: 0.2128 - accuracy: 0.9349\n",
      "Epoch 54/100\n",
      "417/417 [==============================] - 3s 6ms/step - loss: 0.2084 - accuracy: 0.9354\n",
      "Epoch 55/100\n",
      "417/417 [==============================] - 3s 6ms/step - loss: 0.2059 - accuracy: 0.9364\n",
      "Epoch 56/100\n",
      "417/417 [==============================] - 3s 6ms/step - loss: 0.2027 - accuracy: 0.9373\n",
      "Epoch 57/100\n",
      "417/417 [==============================] - 3s 6ms/step - loss: 0.1992 - accuracy: 0.9387\n",
      "Epoch 58/100\n",
      "417/417 [==============================] - 3s 6ms/step - loss: 0.1958 - accuracy: 0.9393\n",
      "Epoch 59/100\n",
      "417/417 [==============================] - 3s 7ms/step - loss: 0.1933 - accuracy: 0.9404\n",
      "Epoch 60/100\n",
      "417/417 [==============================] - 3s 6ms/step - loss: 0.1908 - accuracy: 0.9404\n",
      "Epoch 61/100\n",
      "417/417 [==============================] - 3s 6ms/step - loss: 0.1874 - accuracy: 0.9414\n",
      "Epoch 62/100\n",
      "417/417 [==============================] - 3s 7ms/step - loss: 0.1854 - accuracy: 0.9420\n",
      "Epoch 63/100\n",
      "417/417 [==============================] - 3s 6ms/step - loss: 0.1832 - accuracy: 0.9420\n",
      "Epoch 64/100\n",
      "417/417 [==============================] - 2s 6ms/step - loss: 0.1807 - accuracy: 0.9436\n",
      "Epoch 65/100\n",
      "417/417 [==============================] - 2s 6ms/step - loss: 0.1782 - accuracy: 0.9443\n",
      "Epoch 66/100\n",
      "417/417 [==============================] - 3s 6ms/step - loss: 0.1762 - accuracy: 0.9446\n",
      "Epoch 67/100\n",
      "417/417 [==============================] - 3s 7ms/step - loss: 0.1724 - accuracy: 0.9454\n",
      "Epoch 68/100\n",
      "417/417 [==============================] - 3s 6ms/step - loss: 0.1711 - accuracy: 0.9460\n",
      "Epoch 69/100\n",
      "417/417 [==============================] - 3s 6ms/step - loss: 0.1691 - accuracy: 0.9467\n",
      "Epoch 70/100\n",
      "417/417 [==============================] - 3s 6ms/step - loss: 0.1665 - accuracy: 0.9469\n",
      "Epoch 71/100\n",
      "417/417 [==============================] - 3s 6ms/step - loss: 0.1643 - accuracy: 0.9476\n",
      "Epoch 72/100\n",
      "417/417 [==============================] - 3s 6ms/step - loss: 0.1627 - accuracy: 0.9482\n",
      "Epoch 73/100\n",
      "417/417 [==============================] - 3s 6ms/step - loss: 0.1600 - accuracy: 0.9490\n",
      "Epoch 74/100\n",
      "417/417 [==============================] - 2s 6ms/step - loss: 0.1578 - accuracy: 0.9495\n",
      "Epoch 75/100\n",
      "417/417 [==============================] - 3s 6ms/step - loss: 0.1568 - accuracy: 0.9498\n",
      "Epoch 76/100\n",
      "417/417 [==============================] - 3s 6ms/step - loss: 0.1540 - accuracy: 0.9512\n",
      "Epoch 77/100\n",
      "417/417 [==============================] - 3s 6ms/step - loss: 0.1523 - accuracy: 0.9516\n",
      "Epoch 78/100\n",
      "417/417 [==============================] - 3s 6ms/step - loss: 0.1506 - accuracy: 0.9519\n",
      "Epoch 79/100\n",
      "417/417 [==============================] - 3s 6ms/step - loss: 0.1492 - accuracy: 0.9523\n",
      "Epoch 80/100\n",
      "417/417 [==============================] - 3s 6ms/step - loss: 0.1466 - accuracy: 0.9531\n",
      "Epoch 81/100\n"
     ]
    },
    {
     "name": "stdout",
     "output_type": "stream",
     "text": [
      "417/417 [==============================] - 3s 6ms/step - loss: 0.1448 - accuracy: 0.9534\n",
      "Epoch 82/100\n",
      "417/417 [==============================] - 2s 6ms/step - loss: 0.1450 - accuracy: 0.9539\n",
      "Epoch 83/100\n",
      "417/417 [==============================] - 2s 6ms/step - loss: 0.1421 - accuracy: 0.9542\n",
      "Epoch 84/100\n",
      "417/417 [==============================] - 2s 6ms/step - loss: 0.1408 - accuracy: 0.9548\n",
      "Epoch 85/100\n",
      "417/417 [==============================] - 3s 7ms/step - loss: 0.1385 - accuracy: 0.9558\n",
      "Epoch 86/100\n",
      "417/417 [==============================] - 3s 7ms/step - loss: 0.1384 - accuracy: 0.9552\n",
      "Epoch 87/100\n",
      "417/417 [==============================] - 2s 6ms/step - loss: 0.1359 - accuracy: 0.9567\n",
      "Epoch 88/100\n",
      "417/417 [==============================] - 3s 6ms/step - loss: 0.1366 - accuracy: 0.9561\n",
      "Epoch 89/100\n",
      "417/417 [==============================] - 3s 6ms/step - loss: 0.1325 - accuracy: 0.9571\n",
      "Epoch 90/100\n",
      "417/417 [==============================] - 2s 6ms/step - loss: 0.1328 - accuracy: 0.9573\n",
      "Epoch 91/100\n",
      "417/417 [==============================] - 3s 6ms/step - loss: 0.1305 - accuracy: 0.9576\n",
      "Epoch 92/100\n",
      "417/417 [==============================] - 2s 6ms/step - loss: 0.1293 - accuracy: 0.9582\n",
      "Epoch 93/100\n",
      "417/417 [==============================] - 3s 6ms/step - loss: 0.1288 - accuracy: 0.9581\n",
      "Epoch 94/100\n",
      "417/417 [==============================] - 2s 6ms/step - loss: 0.1261 - accuracy: 0.9591\n",
      "Epoch 95/100\n",
      "417/417 [==============================] - 3s 6ms/step - loss: 0.1267 - accuracy: 0.9586\n",
      "Epoch 96/100\n",
      "417/417 [==============================] - 3s 6ms/step - loss: 0.1232 - accuracy: 0.9598\n",
      "Epoch 97/100\n",
      "417/417 [==============================] - 2s 6ms/step - loss: 0.1224 - accuracy: 0.9602\n",
      "Epoch 98/100\n",
      "417/417 [==============================] - 3s 6ms/step - loss: 0.1220 - accuracy: 0.9601\n",
      "Epoch 99/100\n",
      "417/417 [==============================] - 2s 6ms/step - loss: 0.1219 - accuracy: 0.9606\n",
      "Epoch 100/100\n",
      "417/417 [==============================] - 2s 6ms/step - loss: 0.1199 - accuracy: 0.9609\n"
     ]
    }
   ],
   "source": [
    "history = model.fit(\n",
    "    [encoder_input_data, decoder_input_data],\n",
    "    decoder_target_data,\n",
    "    batch_size=32,\n",
    "    epochs=100,\n",
    ")"
   ]
  },
  {
   "cell_type": "code",
   "execution_count": 21,
   "metadata": {
    "colab": {
     "base_uri": "https://localhost:8080/",
     "height": 265
    },
    "id": "X-_X3GP-cR6h",
    "outputId": "86df5a1b-5df3-4feb-bf4a-9ed13a661eb6"
   },
   "outputs": [
    {
     "data": {
      "image/png": "[encoded data removed]",
      "text/plain": [
       "<Figure size 432x288 with 1 Axes>"
      ]
     },
     "metadata": {
      "needs_background": "light"
     },
     "output_type": "display_data"
    }
   ],
   "source": [
    "plt.plot(history.history['loss'])\n",
    "plt.plot(history.history['accuracy'])\n",
    "plt.legend(['Loss', 'Acc'])\n",
    "plt.show()"
   ]
  },
  {
   "cell_type": "code",
   "execution_count": 22,
   "metadata": {
    "colab": {
     "base_uri": "https://localhost:8080/"
    },
    "id": "ytWwI4WDBiZC",
    "outputId": "2091f670-4518-48cf-bc8a-b094df37fa21"
   },
   "outputs": [
    {
     "name": "stdout",
     "output_type": "stream",
     "text": [
      "WARNING:tensorflow:From c:\\users\\leonardo w\\appdata\\local\\programs\\python\\python36\\lib\\site-packages\\tensorflow\\python\\training\\tracking\\tracking.py:111: Model.state_updates (from tensorflow.python.keras.engine.training) is deprecated and will be removed in a future version.\n",
      "Instructions for updating:\n",
      "This property should not be used in TensorFlow 2.0, as updates are applied automatically.\n",
      "WARNING:tensorflow:From c:\\users\\leonardo w\\appdata\\local\\programs\\python\\python36\\lib\\site-packages\\tensorflow\\python\\training\\tracking\\tracking.py:111: Layer.updates (from tensorflow.python.keras.engine.base_layer) is deprecated and will be removed in a future version.\n",
      "Instructions for updating:\n",
      "This property should not be used in TensorFlow 2.0, as updates are applied automatically.\n",
      "INFO:tensorflow:Assets written to: typo-correction\\assets\n"
     ]
    }
   ],
   "source": [
    "model.save('typo-correction')"
   ]
  },
  {
   "cell_type": "code",
   "execution_count": 23,
   "metadata": {
    "colab": {
     "base_uri": "https://localhost:8080/"
    },
    "id": "FGi-2Pt8s16z",
    "outputId": "5a191589-63ba-4ff7-e47b-dd759db89727"
   },
   "outputs": [
    {
     "name": "stderr",
     "output_type": "stream",
     "text": [
      "'zip' is not recognized as an internal or external command,\n",
      "operable program or batch file.\n"
     ]
    }
   ],
   "source": [
    "!zip -r typo-correction-ver1.zip typo-correction/"
   ]
  },
  {
   "cell_type": "code",
   "execution_count": 24,
   "metadata": {
    "id": "bAcSE5a2YE8l"
   },
   "outputs": [],
   "source": [
    "class SpellCheckModule:\n",
    "  def __init__(self, model, typo_char_map, real_word_char_map, num_encoder_tokens, num_decoder_tokens, encoder_seq_lengths, decoder_seq_lengths):\n",
    "    encoder_inputs = model.input[0]  # input_1\n",
    "    encoder_lstm_1 = model.layers[1] # lstm_encoder_1\n",
    "    encoder_dropout = model.layers[2]\n",
    "    encoder_lstm_2 = model.layers[4] # lstm_encoder_2\n",
    "\n",
    "    encoder_lstm_1_out = encoder_dropout(encoder_lstm_1(encoder_inputs))\n",
    "    encoder_lstm_2_out, state_h_enc, state_c_enc = encoder_lstm_2(encoder_lstm_1_out)\n",
    "    encoder_states = [state_h_enc, state_c_enc]\n",
    "    self.encoder_model = Model(encoder_inputs, encoder_states)\n",
    "\n",
    "    decoder_inputs = model.input[1]  # input_2\n",
    "    decoder_state_input_h = Input(shape=(100,), name=\"input_dec_h\")\n",
    "    decoder_state_input_c = Input(shape=(100,), name=\"input_dec_c\")\n",
    "    decoder_states_inputs = [decoder_state_input_h, decoder_state_input_c]\n",
    "    decoder_lstm = model.layers[5]\n",
    "    decoder_outputs, state_h_dec, state_c_dec = decoder_lstm(\n",
    "        decoder_inputs, initial_state=decoder_states_inputs\n",
    "    )\n",
    "    decoder_states = [state_h_dec, state_c_dec]\n",
    "    decoder_dense = model.layers[6]\n",
    "    decoder_outputs = decoder_dense(decoder_outputs)\n",
    "    self.decoder_model = Model(\n",
    "        [decoder_inputs] + decoder_states_inputs, [decoder_outputs] + decoder_states\n",
    "    )\n",
    "\n",
    "    self.typo_char_map = typo_char_map\n",
    "    self.real_word_char_map = real_word_char_map\n",
    "\n",
    "    self.num_encoder_tokens = num_encoder_tokens\n",
    "    self.encoder_seq_lengths = encoder_seq_lengths\n",
    "    self.num_decoder_tokens = num_decoder_tokens\n",
    "    self.decoder_seq_lengths = decoder_seq_lengths\n",
    "    \n",
    "    self.reverse_input_char_index = dict((i, char) for char, i in typo_char_map.items())\n",
    "    self.reverse_target_char_index = dict((i, char) for char, i in real_word_char_map.items())\n",
    "\n",
    "  def _fix_word(self, word_mat):\n",
    "    states_value = self.encoder_model.predict(word_mat)\n",
    "\n",
    "    target_seq = np.zeros((1, 1, self.num_decoder_tokens))\n",
    "    target_seq[0, 0, self.real_word_char_map[\"\\t\"]] = 1.0\n",
    "\n",
    "    stop_condition = False\n",
    "    decoded_sentence = \"\"\n",
    "    while not stop_condition:\n",
    "      output_tokens, h, c = self.decoder_model.predict([target_seq] + states_value)\n",
    "\n",
    "      sampled_token_index = np.argmax(output_tokens[0, -1, :])\n",
    "      sampled_char = self.reverse_target_char_index[sampled_token_index]\n",
    "      decoded_sentence += sampled_char\n",
    "\n",
    "      if sampled_char == \"\\n\" or len(decoded_sentence) > self.decoder_seq_lengths:\n",
    "        stop_condition = True\n",
    "\n",
    "      target_seq = np.zeros((1, 1, self.num_decoder_tokens))\n",
    "      target_seq[0, 0, sampled_token_index] = 1.0\n",
    "\n",
    "      states_value = [h, c]\n",
    "    return decoded_sentence\n",
    "\n",
    "  def fix_sentence(self, sentence):\n",
    "    s = [w.lower() for w in sentence.split(' ')]\n",
    "    input_seq = np.zeros((len(s), self.encoder_seq_lengths, self.num_encoder_tokens), dtype=\"float32\")\n",
    "    pred = []\n",
    "    for w, word in enumerate(s):\n",
    "      if (word.replace('-','').replace('/','').isdigit()):\n",
    "        pred.append(word)\n",
    "      else:\n",
    "        unknown_char = 0\n",
    "        iter = 0\n",
    "        for i, char in enumerate(word):\n",
    "          if (char in self.typo_char_map):\n",
    "            input_seq[w, iter, self.typo_char_map[char]] = 1.0\n",
    "            iter += 1\n",
    "          else:\n",
    "            unknown_char += 1\n",
    "        input_seq[w, iter+1:, self.typo_char_map[' ']] = 1.0\n",
    "        \n",
    "        if (float(unknown_char)/len(word) > 0.5):\n",
    "          pred.append(word)\n",
    "        else:\n",
    "          pred.append(self._fix_word(input_seq[w:w+1])[:-1])\n",
    "    return ' '.join(pred)"
   ]
  },
  {
   "cell_type": "code",
   "execution_count": 25,
   "metadata": {
    "id": "DvqR7L5NbI3n"
   },
   "outputs": [],
   "source": [
    "spellChecker = SpellCheckModule(\n",
    "    model,\n",
    "    typo_char_map, real_word_char_map,\n",
    "    num_encoder_tokens, num_decoder_tokens,\n",
    "    encoder_seq_lengths, decoder_seq_lengths\n",
    ")"
   ]
  },
  {
   "cell_type": "code",
   "execution_count": 26,
   "metadata": {
    "colab": {
     "base_uri": "https://localhost:8080/",
     "height": 35
    },
    "id": "bI5vsuPRbirB",
    "outputId": "295f8f55-23e3-4d06-bfb1-7a3e2c9f7743"
   },
   "outputs": [
    {
     "data": {
      "text/plain": [
       "'aku mauan cuti besok'"
      ]
     },
     "execution_count": 26,
     "metadata": {},
     "output_type": "execute_result"
    }
   ],
   "source": [
    "spellChecker.fix_sentence('ak maw cuti bsk')"
   ]
  },
  {
   "cell_type": "code",
   "execution_count": 27,
   "metadata": {
    "colab": {
     "base_uri": "https://localhost:8080/",
     "height": 35
    },
    "id": "ssfg1VpqhVJX",
    "outputId": "712f3e7d-0ee7-4f43-9998-e8304a7a6ecb"
   },
   "outputs": [
    {
     "data": {
      "text/plain": [
       "'asabinya besok sampai lusa'"
      ]
     },
     "execution_count": 27,
     "metadata": {},
     "output_type": "execute_result"
    }
   ],
   "source": [
    "spellChecker.fix_sentence('absen bsk sampe lusa')"
   ]
  },
  {
   "cell_type": "code",
   "execution_count": 28,
   "metadata": {
    "colab": {
     "base_uri": "https://localhost:8080/",
     "height": 35
    },
    "id": "fPCRY2Iqhoug",
    "outputId": "0b6962fd-c292-4673-8fba-4aa6810a94b2"
   },
   "outputs": [
    {
     "data": {
      "text/plain": [
       "'terima kasih iya tidak'"
      ]
     },
     "execution_count": 28,
     "metadata": {},
     "output_type": "execute_result"
    }
   ],
   "source": [
    "spellChecker.fix_sentence('thx y gan')"
   ]
  },
  {
   "cell_type": "code",
   "execution_count": 29,
   "metadata": {
    "colab": {
     "base_uri": "https://localhost:8080/",
     "height": 35
    },
    "id": "T02tn4Cqiexj",
    "outputId": "f34c8eb5-f79e-4db0-ca34-9561bb0e0ed0"
   },
   "outputs": [
    {
     "data": {
      "text/plain": [
       "'aku cuti 12-13 november'"
      ]
     },
     "execution_count": 29,
     "metadata": {},
     "output_type": "execute_result"
    }
   ],
   "source": [
    "spellChecker.fix_sentence('aku cuti 12-13 nov')"
   ]
  },
  {
   "cell_type": "code",
   "execution_count": 30,
   "metadata": {
    "id": "ryYf9FgoyTQ9"
   },
   "outputs": [],
   "source": [
    "import pickle"
   ]
  },
  {
   "cell_type": "code",
   "execution_count": 31,
   "metadata": {
    "id": "soKhQc106Rwk"
   },
   "outputs": [],
   "source": [
    "pickle.dump(\n",
    "    {\n",
    "      'typo_char_map': typo_char_map,\n",
    "      'real_word_char_map': real_word_char_map,\n",
    "      'num_encoder_tokens': num_encoder_tokens,\n",
    "      'num_decoder_tokens': num_decoder_tokens,\n",
    "      'encoder_seq_lengths': encoder_seq_lengths,\n",
    "      'decoder_seq_lengths': decoder_seq_lengths,\n",
    "    }, open('data.json', 'wb')\n",
    ")"
   ]
  },
  {
   "cell_type": "markdown",
   "metadata": {
    "id": "aJUNtmJq7xy3"
   },
   "source": [
    "# Load Saved model and data"
   ]
  },
  {
   "cell_type": "code",
   "execution_count": 32,
   "metadata": {
    "id": "EjM1845R7-f2"
   },
   "outputs": [],
   "source": [
    "from tensorflow.keras.models import load_model"
   ]
  },
  {
   "cell_type": "code",
   "execution_count": 33,
   "metadata": {
    "id": "Ww1hEW5o6_fs"
   },
   "outputs": [],
   "source": [
    "saved_data = pickle.load(open('data.json', 'rb'))"
   ]
  },
  {
   "cell_type": "code",
   "execution_count": 34,
   "metadata": {
    "id": "tDI9oI-Q7nMv"
   },
   "outputs": [],
   "source": [
    "saved_model = load_model('typo-correction')"
   ]
  },
  {
   "cell_type": "code",
   "execution_count": 35,
   "metadata": {
    "id": "XnnbvDeQ8BUh"
   },
   "outputs": [],
   "source": [
    "loadedSpellChecker = SpellCheckModule(saved_model,\n",
    "                                      saved_data['typo_char_map'], saved_data['real_word_char_map'],\n",
    "                                      saved_data['num_encoder_tokens'], saved_data['num_decoder_tokens'],\n",
    "                                      saved_data['encoder_seq_lengths'], saved_data['decoder_seq_lengths'])"
   ]
  },
  {
   "cell_type": "code",
   "execution_count": 36,
   "metadata": {
    "colab": {
     "base_uri": "https://localhost:8080/"
    },
    "id": "qzyxBP2D8Tup",
    "outputId": "194f302b-5a92-49b8-927e-b430aaaff9c2"
   },
   "outputs": [
    {
     "name": "stdout",
     "output_type": "stream",
     "text": [
      "aku mauan cuti besok\n"
     ]
    }
   ],
   "source": [
    "print(spellChecker.fix_sentence('ak maw cuti bsk'))"
   ]
  }
 ],
 "metadata": {
  "accelerator": "GPU",
  "colab": {
   "collapsed_sections": [],
   "name": "Typo Correction NLP.ipynb",
   "provenance": [],
   "toc_visible": true
  },
  "kernelspec": {
   "display_name": "Python 3",
   "language": "python",
   "name": "python3"
  },
  "language_info": {
   "codemirror_mode": {
    "name": "ipython",
    "version": 3
   },
   "file_extension": ".py",
   "mimetype": "text/x-python",
   "name": "python",
   "nbconvert_exporter": "python",
   "pygments_lexer": "ipython3",
   "version": "3.6.7"
  }
 },
 "nbformat": 4,
 "nbformat_minor": 1
}
